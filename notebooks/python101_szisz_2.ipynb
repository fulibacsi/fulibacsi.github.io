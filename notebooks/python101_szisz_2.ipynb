{
 "cells": [
  {
   "cell_type": "markdown",
   "metadata": {},
   "source": [
    "# Python 101 @ SzISz II."
   ]
  },
  {
   "cell_type": "markdown",
   "metadata": {},
   "source": [
    "---"
   ]
  },
  {
   "cell_type": "code",
   "execution_count": 1,
   "metadata": {
    "collapsed": false
   },
   "outputs": [],
   "source": [
    "import webbrowser\n",
    "from szisz import *"
   ]
  },
  {
   "cell_type": "markdown",
   "metadata": {},
   "source": [
    "---"
   ]
  },
  {
   "cell_type": "markdown",
   "metadata": {},
   "source": [
    "## I/O"
   ]
  },
  {
   "cell_type": "markdown",
   "metadata": {},
   "source": [
    "Let's have some user input:"
   ]
  },
  {
   "cell_type": "code",
   "execution_count": 2,
   "metadata": {
    "collapsed": false
   },
   "outputs": [
    {
     "name": "stdout",
     "output_type": "stream",
     "text": [
      "What is your name? \"Füli\"\n",
      "Your name is Füli .\n"
     ]
    }
   ],
   "source": [
    "prompt = 'What is your name? '\n",
    "answer = input(prompt)\n",
    "print 'Your name is', answer, '.'"
   ]
  },
  {
   "cell_type": "code",
   "execution_count": 3,
   "metadata": {
    "collapsed": false
   },
   "outputs": [
    {
     "name": "stdout",
     "output_type": "stream",
     "text": [
      "What is your quest? to find the holy grail!\n",
      "<type 'str'>\n"
     ]
    }
   ],
   "source": [
    "prompt = 'What is your quest? '\n",
    "answer = raw_input(prompt)\n",
    "print type(answer)"
   ]
  },
  {
   "cell_type": "code",
   "execution_count": 6,
   "metadata": {
    "collapsed": false
   },
   "outputs": [
    {
     "name": "stdout",
     "output_type": "stream",
     "text": [
      "What is the air-speed velocity of an unladen swallow? 12\n",
      "12 <type 'str'>\n"
     ]
    }
   ],
   "source": [
    "prompt = 'What is the air-speed velocity of an unladen swallow? '\n",
    "answer = raw_input(prompt)\n",
    "print answer, type(answer)"
   ]
  },
  {
   "cell_type": "code",
   "execution_count": 7,
   "metadata": {
    "collapsed": false
   },
   "outputs": [
    {
     "name": "stdout",
     "output_type": "stream",
     "text": [
      "12 <type 'int'>\n"
     ]
    }
   ],
   "source": [
    "print int(answer), type(int(answer))"
   ]
  },
  {
   "cell_type": "code",
   "execution_count": 8,
   "metadata": {
    "collapsed": false
   },
   "outputs": [
    {
     "name": "stdout",
     "output_type": "stream",
     "text": [
      "12.0 <type 'float'>\n"
     ]
    }
   ],
   "source": [
    "print float(answer), type(float(answer))"
   ]
  },
  {
   "cell_type": "code",
   "execution_count": 9,
   "metadata": {
    "collapsed": false
   },
   "outputs": [
    {
     "name": "stdout",
     "output_type": "stream",
     "text": [
      "True <type 'bool'>\n"
     ]
    }
   ],
   "source": [
    "print bool(answer), type(bool(answer))"
   ]
  },
  {
   "cell_type": "markdown",
   "metadata": {},
   "source": [
    "---"
   ]
  },
  {
   "cell_type": "markdown",
   "metadata": {},
   "source": [
    "### About strings"
   ]
  },
  {
   "cell_type": "code",
   "execution_count": 10,
   "metadata": {
    "collapsed": false
   },
   "outputs": [
    {
     "name": "stdout",
     "output_type": "stream",
     "text": [
      "And Saint Atila raised the hand grenade up on high, saying,\n",
      "'Oh, Lord, bless this thy hand grenade that with it thou mayest blow\n",
      "thy enemies to tiny bits, in thy mercy.'  And the Lord did grin, and\n",
      "people did feast upon the lambs, and sloths, and carp, and anchovies,\n",
      "and orangutans, and breakfast cereals, and fruit bats, and large --\n"
     ]
    }
   ],
   "source": [
    "# String formatting:\n",
    "# (use \\ to continue the command in the next line)\n",
    "print 'And Saint Atila raised the hand grenade up on high, saying,\\n' + \\\n",
    "      '\\'Oh, Lord, bless this thy hand grenade that with it thou mayest blow\\n',\\\n",
    "      'thy enemies to tiny bits, in thy mercy.\\'  And the Lord did grin, and\\n{0}\\n{1}'.format(\n",
    "      'people did feast upon the lambs, and sloths, and carp, and anchovies,',\n",
    "      'and orangutans, and breakfast cereals, and fruit bats, and large --')"
   ]
  },
  {
   "cell_type": "code",
   "execution_count": 11,
   "metadata": {
    "collapsed": false
   },
   "outputs": [
    {
     "name": "stdout",
     "output_type": "stream",
     "text": [
      "M\n"
     ]
    }
   ],
   "source": [
    "example_string = 'Monty Python'\n",
    "print example_string[0]"
   ]
  },
  {
   "cell_type": "code",
   "execution_count": 12,
   "metadata": {
    "collapsed": false
   },
   "outputs": [
    {
     "name": "stdout",
     "output_type": "stream",
     "text": [
      "n\n"
     ]
    }
   ],
   "source": [
    "print example_string[-1]"
   ]
  },
  {
   "cell_type": "code",
   "execution_count": 13,
   "metadata": {
    "collapsed": false
   },
   "outputs": [
    {
     "name": "stdout",
     "output_type": "stream",
     "text": [
      "Pyth\n"
     ]
    }
   ],
   "source": [
    "print example_string[6:10]"
   ]
  },
  {
   "cell_type": "code",
   "execution_count": 14,
   "metadata": {
    "collapsed": false
   },
   "outputs": [
    {
     "name": "stdout",
     "output_type": "stream",
     "text": [
      "Monty\n"
     ]
    }
   ],
   "source": [
    "print example_string[-12:-7]"
   ]
  },
  {
   "cell_type": "code",
   "execution_count": 15,
   "metadata": {
    "collapsed": false
   },
   "outputs": [
    {
     "name": "stdout",
     "output_type": "stream",
     "text": [
      " ytno\n"
     ]
    }
   ],
   "source": [
    "print example_string[-7:-12:-1]"
   ]
  },
  {
   "cell_type": "code",
   "execution_count": 16,
   "metadata": {
    "collapsed": false
   },
   "outputs": [
    {
     "name": "stdout",
     "output_type": "stream",
     "text": [
      "nohtyP ytnoM\n"
     ]
    }
   ],
   "source": [
    "print example_string[::-1]"
   ]
  },
  {
   "cell_type": "code",
   "execution_count": 17,
   "metadata": {
    "collapsed": false
   },
   "outputs": [
    {
     "name": "stdout",
     "output_type": "stream",
     "text": [
      "o\n"
     ]
    }
   ],
   "source": [
    "start = 1\n",
    "end = 2\n",
    "step = 1\n",
    "print example_string[start:end:step]"
   ]
  },
  {
   "cell_type": "code",
   "execution_count": 18,
   "metadata": {
    "collapsed": false
   },
   "outputs": [
    {
     "data": {
      "text/plain": [
       "[2, 3, 4, 5, 6]"
      ]
     },
     "execution_count": 18,
     "metadata": {},
     "output_type": "execute_result"
    }
   ],
   "source": [
    "range(10,-1,-1)[8:3:-1]"
   ]
  },
  {
   "cell_type": "code",
   "execution_count": 19,
   "metadata": {
    "collapsed": false
   },
   "outputs": [
    {
     "name": "stdout",
     "output_type": "stream",
     "text": [
      "12\n"
     ]
    }
   ],
   "source": [
    "print len(example_string)"
   ]
  },
  {
   "cell_type": "code",
   "execution_count": 20,
   "metadata": {
    "collapsed": false
   },
   "outputs": [
    {
     "name": "stdout",
     "output_type": "stream",
     "text": [
      "True\n"
     ]
    }
   ],
   "source": [
    "print 'y' in example_string"
   ]
  },
  {
   "cell_type": "markdown",
   "metadata": {},
   "source": [
    "---"
   ]
  },
  {
   "cell_type": "markdown",
   "metadata": {},
   "source": [
    "## Conditional operators"
   ]
  },
  {
   "cell_type": "code",
   "execution_count": 21,
   "metadata": {
    "collapsed": false
   },
   "outputs": [
    {
     "name": "stdout",
     "output_type": "stream",
     "text": [
      "Statement 1\n"
     ]
    }
   ],
   "source": [
    "expression_1 = True\n",
    "expression_2 = False\n",
    "operator = OR # try to change it to AND\n",
    "# expression = expression_1 [operator] [expression_2]\n",
    "expression = operator(expression_1, expression_2)\n",
    "condition_1 = expression\n",
    "condition_2 = not expression\n",
    "statement = 'Statement {0}'\n",
    "\n",
    "if condition_1:\n",
    "    print statement.format('1')\n",
    "elif condition_2:\n",
    "    print statement.format('2')\n",
    "else:\n",
    "    print statement.format('impossible')"
   ]
  },
  {
   "cell_type": "markdown",
   "metadata": {},
   "source": [
    "---"
   ]
  },
  {
   "cell_type": "markdown",
   "metadata": {},
   "source": [
    "## Complex data structures"
   ]
  },
  {
   "cell_type": "markdown",
   "metadata": {},
   "source": [
    "### List"
   ]
  },
  {
   "cell_type": "code",
   "execution_count": 22,
   "metadata": {
    "collapsed": false
   },
   "outputs": [
    {
     "name": "stdout",
     "output_type": "stream",
     "text": [
      "[1, 2, 'spam', 'eggs', 'ham', ['spam', 'and', 'spam', ['more', 'spam']]]\n",
      "[1, 4, 'spam', 'eggs', 'ham', ['spam', 'and', 'spam', ['more', 'spam']]]\n"
     ]
    }
   ],
   "source": [
    "my_list = [1, 2, 'spam', 'eggs', 'ham', ['spam', 'and', 'spam', ['more', 'spam']]]\n",
    "print my_list\n",
    "my_list[1] = 4\n",
    "print my_list"
   ]
  },
  {
   "cell_type": "markdown",
   "metadata": {},
   "source": [
    "### Tuple"
   ]
  },
  {
   "cell_type": "code",
   "execution_count": 23,
   "metadata": {
    "collapsed": false
   },
   "outputs": [
    {
     "name": "stdout",
     "output_type": "stream",
     "text": [
      "('spam', 'eggs', 'bacon')\n"
     ]
    },
    {
     "ename": "TypeError",
     "evalue": "'tuple' object does not support item assignment",
     "output_type": "error",
     "traceback": [
      "\u001b[0;31m---------------------------------------------------------------------------\u001b[0m",
      "\u001b[0;31mTypeError\u001b[0m                                 Traceback (most recent call last)",
      "\u001b[0;32m<ipython-input-23-750a419d532b>\u001b[0m in \u001b[0;36m<module>\u001b[0;34m()\u001b[0m\n\u001b[1;32m      2\u001b[0m \u001b[0;32mprint\u001b[0m \u001b[0mmy_tuple_1\u001b[0m\u001b[0;34m\u001b[0m\u001b[0m\n\u001b[1;32m      3\u001b[0m \u001b[0;31m# the elements of a tuple cannot be changed!\u001b[0m\u001b[0;34m\u001b[0m\u001b[0;34m\u001b[0m\u001b[0m\n\u001b[0;32m----> 4\u001b[0;31m \u001b[0mmy_tuple_1\u001b[0m\u001b[0;34m[\u001b[0m\u001b[0;36m1\u001b[0m\u001b[0;34m]\u001b[0m \u001b[0;34m=\u001b[0m \u001b[0;36m4\u001b[0m\u001b[0;34m\u001b[0m\u001b[0m\n\u001b[0m",
      "\u001b[0;31mTypeError\u001b[0m: 'tuple' object does not support item assignment"
     ]
    }
   ],
   "source": [
    "my_tuple_1 = ('spam', 'eggs', 'bacon')\n",
    "print my_tuple_1\n",
    "# the elements of a tuple cannot be changed!\n",
    "my_tuple_1[1] = 4"
   ]
  },
  {
   "cell_type": "markdown",
   "metadata": {},
   "source": [
    "### Set"
   ]
  },
  {
   "cell_type": "code",
   "execution_count": 24,
   "metadata": {
    "collapsed": false
   },
   "outputs": [
    {
     "data": {
      "text/plain": [
       "{'f', 'i', 'l', 'u'}"
      ]
     },
     "execution_count": 24,
     "metadata": {},
     "output_type": "execute_result"
    }
   ],
   "source": [
    "set('fulifuli')"
   ]
  },
  {
   "cell_type": "code",
   "execution_count": 25,
   "metadata": {
    "collapsed": false
   },
   "outputs": [
    {
     "name": "stdout",
     "output_type": "stream",
     "text": [
      "set(['a', 'c', 'b'])\n",
      "set(['c', 'e', 'd'])\n"
     ]
    }
   ],
   "source": [
    "A = set(['a', 'b', 'c'])\n",
    "B = set(['c', 'c', 'd', 'e'])\n",
    "print A\n",
    "# every item in a set is unique!\n",
    "print B"
   ]
  },
  {
   "cell_type": "markdown",
   "metadata": {},
   "source": [
    "Subset"
   ]
  },
  {
   "cell_type": "code",
   "execution_count": 26,
   "metadata": {
    "collapsed": false
   },
   "outputs": [
    {
     "name": "stdout",
     "output_type": "stream",
     "text": [
      "False\n",
      "False\n",
      "True\n"
     ]
    }
   ],
   "source": [
    "print A.issubset(B)\n",
    "print B.issubset(A)\n",
    "print set(['a']).issubset(A)"
   ]
  },
  {
   "cell_type": "markdown",
   "metadata": {},
   "source": [
    "Superset"
   ]
  },
  {
   "cell_type": "code",
   "execution_count": 27,
   "metadata": {
    "collapsed": false
   },
   "outputs": [
    {
     "name": "stdout",
     "output_type": "stream",
     "text": [
      "False\n",
      "True\n"
     ]
    }
   ],
   "source": [
    "print A.issuperset(B)\n",
    "print A.issuperset(set(['a']))"
   ]
  },
  {
   "cell_type": "markdown",
   "metadata": {},
   "source": [
    "Union"
   ]
  },
  {
   "cell_type": "code",
   "execution_count": 28,
   "metadata": {
    "collapsed": false
   },
   "outputs": [
    {
     "name": "stdout",
     "output_type": "stream",
     "text": [
      "set(['a', 'c', 'b', 'e', 'd'])\n"
     ]
    }
   ],
   "source": [
    "print A.union(B)"
   ]
  },
  {
   "cell_type": "markdown",
   "metadata": {},
   "source": [
    "Intersect"
   ]
  },
  {
   "cell_type": "code",
   "execution_count": 29,
   "metadata": {
    "collapsed": false
   },
   "outputs": [
    {
     "name": "stdout",
     "output_type": "stream",
     "text": [
      "set(['c'])\n"
     ]
    }
   ],
   "source": [
    "print A.intersection(B)"
   ]
  },
  {
   "cell_type": "markdown",
   "metadata": {},
   "source": [
    "Difference"
   ]
  },
  {
   "cell_type": "code",
   "execution_count": 30,
   "metadata": {
    "collapsed": false
   },
   "outputs": [
    {
     "name": "stdout",
     "output_type": "stream",
     "text": [
      "set(['a', 'b'])\n",
      "set(['e', 'd'])\n"
     ]
    }
   ],
   "source": [
    "print A.difference(B)\n",
    "print B.difference(A)"
   ]
  },
  {
   "cell_type": "markdown",
   "metadata": {},
   "source": [
    "Symmetric difference"
   ]
  },
  {
   "cell_type": "code",
   "execution_count": 31,
   "metadata": {
    "collapsed": false
   },
   "outputs": [
    {
     "name": "stdout",
     "output_type": "stream",
     "text": [
      "set(['a', 'b', 'e', 'd'])\n",
      "set(['a', 'b', 'e', 'd'])\n"
     ]
    }
   ],
   "source": [
    "print A.symmetric_difference(B)\n",
    "print B.symmetric_difference(A)"
   ]
  },
  {
   "cell_type": "markdown",
   "metadata": {},
   "source": [
    "### Dictionary"
   ]
  },
  {
   "cell_type": "code",
   "execution_count": 32,
   "metadata": {
    "collapsed": false
   },
   "outputs": [
    {
     "data": {
      "text/plain": [
       "{2: 2, 'key1': 'spam', 'key3': ['s', 'p', 'a', 'm', 3]}"
      ]
     },
     "execution_count": 32,
     "metadata": {},
     "output_type": "execute_result"
    }
   ],
   "source": [
    "my_dict = {'key1': 'spam', 2: 2, 'key3': ['s', 'p', 'a', 'm', 3]}\n",
    "my_dict"
   ]
  },
  {
   "cell_type": "markdown",
   "metadata": {},
   "source": [
    "---"
   ]
  },
  {
   "cell_type": "markdown",
   "metadata": {},
   "source": [
    "## Control structures"
   ]
  },
  {
   "cell_type": "markdown",
   "metadata": {},
   "source": [
    "### For loop"
   ]
  },
  {
   "cell_type": "code",
   "execution_count": 33,
   "metadata": {
    "collapsed": false
   },
   "outputs": [
    {
     "name": "stdout",
     "output_type": "stream",
     "text": [
      "1\n",
      "2\n",
      "3\n",
      "4\n",
      "5\n",
      "6\n",
      "7\n",
      "8\n",
      "9\n",
      "10\n"
     ]
    }
   ],
   "source": [
    "# iterate on numbers\n",
    "start = 1\n",
    "end = 11\n",
    "step = 1\n",
    "for number in range(start, end, step):\n",
    "    print number"
   ]
  },
  {
   "cell_type": "code",
   "execution_count": 34,
   "metadata": {
    "collapsed": false
   },
   "outputs": [
    {
     "name": "stdout",
     "output_type": "stream",
     "text": [
      "a\n",
      "b\n",
      "c\n",
      "d\n",
      "1\n",
      "2\n",
      "3\n",
      "4\n",
      "foo\n",
      "bar\n",
      "baz\n",
      "qux\n"
     ]
    }
   ],
   "source": [
    "# iterate on values\n",
    "my_list_of_things = ['a', 'b', 'c', 'd', \n",
    "                     1, 2, 3, 4, \n",
    "                     'foo', 'bar', 'baz', 'qux']\n",
    "for item in my_list_of_things:\n",
    "    print item"
   ]
  },
  {
   "cell_type": "code",
   "execution_count": 35,
   "metadata": {
    "collapsed": false
   },
   "outputs": [
    {
     "name": "stdout",
     "output_type": "stream",
     "text": [
      "t e t s z o l e g e s szokoz s z t r i n g\n"
     ]
    }
   ],
   "source": [
    "for char in 'tetszoleges sztring':\n",
    "    if char == ' ':\n",
    "        print 'szokoz',\n",
    "    else:\n",
    "        print char,"
   ]
  },
  {
   "cell_type": "markdown",
   "metadata": {},
   "source": [
    "### While loop"
   ]
  },
  {
   "cell_type": "code",
   "execution_count": 36,
   "metadata": {
    "collapsed": false
   },
   "outputs": [
    {
     "name": "stdout",
     "output_type": "stream",
     "text": [
      "1\n",
      "2\n",
      "3\n",
      "4\n",
      "5\n",
      "6\n",
      "7\n",
      "8\n",
      "9\n",
      "10\n"
     ]
    }
   ],
   "source": [
    "condition = True\n",
    "counter = 1\n",
    "while(condition):\n",
    "    print counter\n",
    "    counter += 1\n",
    "    if counter > 10:\n",
    "        condition = False"
   ]
  },
  {
   "cell_type": "code",
   "execution_count": 37,
   "metadata": {
    "collapsed": false
   },
   "outputs": [
    {
     "name": "stdout",
     "output_type": "stream",
     "text": [
      "t e t s z o l e g e s\n"
     ]
    }
   ],
   "source": [
    "i = 0\n",
    "sztring = 'tetszoleges sztring'\n",
    "while(not sztring[i] == ' '):\n",
    "    print sztring[i],\n",
    "    i += 1"
   ]
  },
  {
   "cell_type": "markdown",
   "metadata": {},
   "source": [
    "---"
   ]
  },
  {
   "cell_type": "markdown",
   "metadata": {},
   "source": [
    "## List comprehension"
   ]
  },
  {
   "cell_type": "code",
   "execution_count": 38,
   "metadata": {
    "collapsed": false
   },
   "outputs": [
    {
     "name": "stdout",
     "output_type": "stream",
     "text": [
      "[1, 2, 3, 4]\n",
      "[2, 4, 6, 8]\n"
     ]
    }
   ],
   "source": [
    "sequence = [1, 2, 3, 4]\n",
    "print [item for item in sequence]\n",
    "print [item * 2 for item in sequence]"
   ]
  },
  {
   "cell_type": "code",
   "execution_count": 39,
   "metadata": {
    "collapsed": false
   },
   "outputs": [
    {
     "name": "stdout",
     "output_type": "stream",
     "text": [
      "abc\n",
      "a, b, c\n"
     ]
    }
   ],
   "source": [
    "sequence = ['a', 'b', 'c']\n",
    "separator = ''\n",
    "print separator.join([item for item in sequence])\n",
    "separator = ', '\n",
    "print separator.join([item for item in sequence])"
   ]
  },
  {
   "cell_type": "markdown",
   "metadata": {},
   "source": [
    "---"
   ]
  },
  {
   "cell_type": "markdown",
   "metadata": {},
   "source": [
    "## Functions"
   ]
  },
  {
   "cell_type": "code",
   "execution_count": 40,
   "metadata": {
    "collapsed": false
   },
   "outputs": [
    {
     "name": "stdout",
     "output_type": "stream",
     "text": [
      "Hello World!\n",
      "Hello Füli !\n",
      "Aye-aye Füli !\n",
      "Help on function my_updated_updated_function in module __main__:\n",
      "\n",
      "my_updated_updated_function(greeting, name)\n",
      "    This is my super descriptive docstring \n",
      "    for my super advanced function.\n",
      "    Arguments:\n",
      "        greeting: the greeting word.\n",
      "        name: the name of the greeted one.\n",
      "\n",
      "My docstring:\n",
      "This is my super descriptive docstring \n",
      "    for my super advanced function.\n",
      "    Arguments:\n",
      "        greeting: the greeting word.\n",
      "        name: the name of the greeted one.\n"
     ]
    }
   ],
   "source": [
    "# define a function\n",
    "def my_function():\n",
    "    print 'Hello World!'\n",
    "    \n",
    "# the variables in the brackets are called arguments\n",
    "# you can use them as variables inside the function\n",
    "# but you have to provide them when you call them\n",
    "def my_updated_function(name): \n",
    "    print 'Hello', name, '!'\n",
    "    \n",
    "def my_updated_updated_function(greeting, name):\n",
    "    \"\"\"This is my super descriptive docstring \n",
    "    for my super advanced function.\n",
    "    Arguments:\n",
    "        greeting: the greeting word.\n",
    "        name: the name of the greeted one.\"\"\"\n",
    "    return greeting, name, '!'\n",
    "    \n",
    "name = 'Füli'\n",
    "greeting = 'Aye-aye'\n",
    "\n",
    "# calling a function\n",
    "my_function()\n",
    "my_updated_function(name)\n",
    "my_greeting, my_name, my_punctuation = my_updated_updated_function(greeting, name)\n",
    "print my_greeting, my_name, my_punctuation\n",
    "# getting some help == getting the docstring of a function\n",
    "help(my_updated_updated_function)\n",
    "print 'My docstring:'\n",
    "print my_updated_updated_function.__doc__"
   ]
  },
  {
   "cell_type": "markdown",
   "metadata": {},
   "source": [
    "---"
   ]
  },
  {
   "cell_type": "markdown",
   "metadata": {},
   "source": [
    "## Let's have some fun!"
   ]
  },
  {
   "cell_type": "markdown",
   "metadata": {},
   "source": [
    "Now that we have everything we need, let's use it for a real life example:"
   ]
  },
  {
   "cell_type": "code",
   "execution_count": 41,
   "metadata": {
    "collapsed": false
   },
   "outputs": [
    {
     "name": "stdout",
     "output_type": "stream",
     "text": [
      "[['learn', 'http://docs.python.org/2/'], ['fun', 'http://www.youtube.com/watch?v=gkTb9GP9lVI'], ['learn', 'http://ipython.org/documentation.html'], ['fun', 'http://www.9gag.com'], ['fun', 'http://www.youtube.com/watch?v=6Sc8ZgYe72Y']]\n"
     ]
    }
   ],
   "source": [
    "# import data from the bookmark.csv into this variable \n",
    "# use the import_from_csv function\n",
    "# hint: addition works with strings (make use of the base variable)\n",
    "base = '../data/'\n",
    "url_data = import_from_csv(base+'bookmark.csv')\n",
    "\n",
    "reason = random.choice(['learn', 'fun'])\n",
    "# write a function which will open every link of the given type.\n",
    "# name: opentabs\n",
    "# arguments: reason, url_data\n",
    "# hint: webbrowser.open_new_tab function\n",
    "def opentabs(reason, url_data):\n",
    "    for url_reason, url in url_data:\n",
    "        if url_reason == reason:\n",
    "            webbrowser.open_new_tab(url)\n",
    "\n",
    "print url_data"
   ]
  },
  {
   "cell_type": "code",
   "execution_count": 42,
   "metadata": {
    "collapsed": false
   },
   "outputs": [],
   "source": [
    "opentabs(reason, url_data)"
   ]
  },
  {
   "cell_type": "markdown",
   "metadata": {},
   "source": [
    "We want to know if a file is in the current directory. Write a function which will tell you so."
   ]
  },
  {
   "cell_type": "code",
   "execution_count": 43,
   "metadata": {
    "collapsed": false
   },
   "outputs": [
    {
     "name": "stdout",
     "output_type": "stream",
     "text": [
      "True\n",
      "False\n"
     ]
    }
   ],
   "source": [
    "# hint: use the list_files function to get the files from the working directory.\n",
    "def isin(filename):\n",
    "    return filename in list_files()\n",
    "print isin('szisz.py')\n",
    "print isin('awesome.txt')"
   ]
  },
  {
   "cell_type": "markdown",
   "metadata": {},
   "source": [
    "Our friend recommends us a new series. We downloaded the full series (7 seasons) and we believe that we downloaded all of the subtitles as well - although we're not that sure. Check if we miss some!\n",
    "\n",
    "Write a function which outputs the video filenames without subtitles. The video file extension is .avi, the subtitle file extension is .srt. We only accept a subtitle if it's name is perfectly matches the video's name."
   ]
  },
  {
   "cell_type": "code",
   "execution_count": 53,
   "metadata": {
    "collapsed": false
   },
   "outputs": [
    {
     "data": {
      "text/plain": [
       "'Creation successful.'"
      ]
     },
     "execution_count": 53,
     "metadata": {},
     "output_type": "execute_result"
    }
   ],
   "source": [
    "# \"Download\" the series with the download function\n",
    "# hint: use the help function!\n",
    "download(_mismatch=True)"
   ]
  },
  {
   "cell_type": "code",
   "execution_count": 54,
   "metadata": {
    "collapsed": true
   },
   "outputs": [],
   "source": [
    "def missing_subtitle(directory):\n",
    "    files = list_files(target_dir=directory)\n",
    "    avis = [filename[:-4] for filename in files if filename[-4:] == '.avi']\n",
    "    srts = [filename[:-4] for filename in files if filename[-4:] == '.srt']\n",
    "    for avi in avis:\n",
    "        if not avi in srts:\n",
    "            print avi + '.avi'"
   ]
  },
  {
   "cell_type": "code",
   "execution_count": 55,
   "metadata": {
    "collapsed": false
   },
   "outputs": [
    {
     "name": "stdout",
     "output_type": "stream",
     "text": [
      "super_series - s01e02_x264.eng.avi\n",
      "super_series - s01e08_720p-avg.avi\n",
      "super_series - s01e09 - bdrip.avi\n",
      "super_series - s01e15 hdtv.xvid.avi\n",
      "super_series - S01E16-720p-avg.avi\n",
      "super_series - s03e02.x264.eng.avi\n",
      "super_series - s03e08 - hdtv.xvid.avi\n",
      "super_series - S03E14 - x264.eng.avi\n",
      "super_series - s03e19_hdtv.xvid.avi\n",
      "super_series - s04e01-hdtv.fov.avi\n",
      "super_series - s04e05-bdrip.avi\n",
      "super_series - s04e07-hdtv.fov.avi\n",
      "super_series - s05e01_hdtv.fov.avi\n",
      "super_series - s05e04_bdrip.avi\n",
      "super_series - s05e06 720p-avg.avi\n",
      "super_series - s05e14_x264.eng.avi\n",
      "super_series - S06E17_hdtv.fov.avi\n",
      "super_series - s07e12_x264.eng.avi\n",
      "super_series s01e06.x264.eng.avi\n",
      "super_series s01e11.x264.eng.avi\n",
      "super_series s01e13.hdtv.fov.avi\n",
      "super_series S01E20_hdtv.xvid.avi\n",
      "super_series S01E23 x264.eng.avi\n",
      "super_series s02e12_720p-avg.avi\n",
      "super_series s02e16_hdtv.xvid.avi\n",
      "super_series S02E17 hdtv.fov.avi\n",
      "super_series s02e18 hdtv.xvid.avi\n",
      "super_series s02e19 bdrip.avi\n",
      "super_series s02e21-bdrip.avi\n",
      "super_series s02e24_x264.eng.avi\n",
      "super_series S03E09 - hdtv.fov.avi\n",
      "super_series s03e10_hdtv.xvid.avi\n",
      "super_series s04e02_720p-avg.avi\n",
      "super_series s04e03 - hdtv.xvid.avi\n",
      "super_series s04e21.bdrip.avi\n",
      "super_series s04e22-hdtv.xvid.avi\n",
      "super_series S04E23_x264.eng.avi\n",
      "super_series S05E05 - 720p-avg.avi\n",
      "super_series S05E19.720p-avg.avi\n",
      "super_series s05e22-hdtv.fov.avi\n",
      "super_series S05E24 - hdtv.xvid.avi\n",
      "super_series s06e02.x264.eng.avi\n",
      "super_series s06e05 hdtv.xvid.avi\n",
      "super_series s06e07 - 720p-avg.avi\n",
      "super_series s06e12 - bdrip.avi\n",
      "super_series s06e23.bdrip.avi\n",
      "super_series s07e01-x264.eng.avi\n",
      "super_series S07E11-720p-avg.avi\n",
      "super_series s07e18-720p-avg.avi\n",
      "super_series S07E22 hdtv.fov.avi\n",
      "super_series-s01e04_720p-avg.avi\n",
      "super_series-s01e12_hdtv.xvid.avi\n",
      "super_series-s01e18_hdtv.xvid.avi\n",
      "super_series-S01E22.hdtv.fov.avi\n",
      "super_series-s02e04 - hdtv.fov.avi\n",
      "super_series-s02e06_hdtv.xvid.avi\n",
      "super_series-S03E01_hdtv.xvid.avi\n",
      "super_series-s03e04-bdrip.avi\n",
      "super_series-s03e11_x264.eng.avi\n",
      "super_series-S03E18-hdtv.fov.avi\n",
      "super_series-s04e08-hdtv.fov.avi\n",
      "super_series-s04e14 - bdrip.avi\n",
      "super_series-S04E15.hdtv.fov.avi\n",
      "super_series-s04e16_hdtv.xvid.avi\n",
      "super_series-s04e20.hdtv.fov.avi\n",
      "super_series-S05E16-x264.eng.avi\n",
      "super_series-S05E21 - hdtv.fov.avi\n",
      "super_series-S06E04-x264.eng.avi\n",
      "super_series-S06E06_hdtv.xvid.avi\n",
      "super_series-s06e08_x264.eng.avi\n",
      "super_series-s06e21_bdrip.avi\n",
      "super_series-s07e14_720p-avg.avi\n",
      "super_series-S07E16_hdtv.fov.avi\n",
      "super_series-s07e20 bdrip.avi\n",
      "super_series.S01E05_x264.eng.avi\n",
      "super_series.S01E07_hdtv.fov.avi\n",
      "super_series.S01E17_BDRip.avi\n",
      "super_series.S01E24 - BDRip.avi\n",
      "super_series.s02e02 - hdtv.xvid.avi\n",
      "super_series.s02e11 hdtv.xvid.avi\n",
      "super_series.s02e13 - hdtv.fov.avi\n",
      "super_series.s02e22.hdtv.xvid.avi\n",
      "super_series.s03e07-720p-avg.avi\n",
      "super_series.S03E23_hdtv.xvid.avi\n",
      "super_series.S04E06 720p-avg.avi\n",
      "super_series.s04e19 x264.eng.avi\n",
      "super_series.S05E03.hdtv.fov.avi\n",
      "super_series.S05E12 - 720p-avg.avi\n",
      "super_series.s06e10 - hdtv.fov.avi\n",
      "super_series.s06e11 hdtv.fov.avi\n",
      "super_series.s06e13-bdrip.avi\n",
      "super_series.s06e14 - hdtv.xvid.avi\n",
      "super_series.s06e18 x264.eng.avi\n",
      "super_series.S06E19_hdtv.fov.avi\n",
      "super_series.S06E20_BDRip.avi\n",
      "super_series.s07e03.hdtv.xvid.avi\n",
      "super_series.S07E06 - 720p-avg.avi\n",
      "super_series.S07E19.hdtv.xvid.avi\n",
      "super_series_s01e01 - x264.eng.avi\n",
      "super_series_S01E03_hdtv.xvid.avi\n",
      "super_series_s01e10-bdrip.avi\n",
      "super_series_S01E19 - x264.eng.avi\n",
      "super_series_s02e01 - 720p-avg.avi\n",
      "super_series_s02e03-bdrip.avi\n",
      "super_series_s02e08.x264.eng.avi\n",
      "super_series_s02e14_hdtv.fov.avi\n",
      "super_series_s03e17-hdtv.fov.avi\n",
      "super_series_s03e24_720p-avg.avi\n",
      "super_series_S04E09_x264.eng.avi\n",
      "super_series_s04e12_720p-avg.avi\n",
      "super_series_S04E13 - x264.eng.avi\n",
      "super_series_S04E17.x264.eng.avi\n",
      "super_series_S05E07_x264.eng.avi\n",
      "super_series_s05e09-720p-avg.avi\n",
      "super_series_s05e11-bdrip.avi\n",
      "super_series_S05E17-x264.eng.avi\n",
      "super_series_S05E18-x264.eng.avi\n",
      "super_series_s06e09 hdtv.fov.avi\n",
      "super_series_s06e16_hdtv.xvid.avi\n",
      "super_series_s06e24 - hdtv.fov.avi\n",
      "super_series_s07e02 720p-avg.avi\n",
      "super_series_S07E07 hdtv.xvid.avi\n",
      "super_series_S07E17.x264.eng.avi\n",
      "super_series_s07e23 - hdtv.fov.avi\n"
     ]
    }
   ],
   "source": [
    "missing_subtitle('super_series')"
   ]
  },
  {
   "cell_type": "markdown",
   "metadata": {},
   "source": [
    "Display every image from the current directory!"
   ]
  },
  {
   "cell_type": "code",
   "execution_count": 59,
   "metadata": {
    "collapsed": false
   },
   "outputs": [],
   "source": [
    "def images():\n",
    "    for filename in list_files():\n",
    "        if filename[-4:] in ('png', 'jpg', 'jpeg'):\n",
    "            print_image(filename)"
   ]
  },
  {
   "cell_type": "code",
   "execution_count": 60,
   "metadata": {
    "collapsed": true
   },
   "outputs": [],
   "source": [
    "images()"
   ]
  },
  {
   "cell_type": "markdown",
   "metadata": {},
   "source": [
    "Create a csv file with picture urls. Display every picture from the CSV."
   ]
  },
  {
   "cell_type": "code",
   "execution_count": 64,
   "metadata": {
    "collapsed": false
   },
   "outputs": [
    {
     "data": {
      "text/html": [
       "<img src=\"http://upload.wikimedia.org/wikipedia/en/c/cb/Flyingcircus_2.jpg\" width=\"200\" height=\"200\"/>"
      ],
      "text/plain": [
       "<IPython.core.display.Image object>"
      ]
     },
     "metadata": {},
     "output_type": "display_data"
    },
    {
     "data": {
      "text/html": [
       "<img src=\"http://people.inf.elte.hu/lottabi/webfejl/images/pic_2.jpg\" width=\"200\" height=\"200\"/>"
      ],
      "text/plain": [
       "<IPython.core.display.Image object>"
      ]
     },
     "metadata": {},
     "output_type": "display_data"
    },
    {
     "data": {
      "text/html": [
       "<img src=\"https://d12vb6dvkz909q.cloudfront.net/uploads/galleries/342/monty-python-image-1.jpg\" width=\"200\" height=\"200\"/>"
      ],
      "text/plain": [
       "<IPython.core.display.Image object>"
      ]
     },
     "metadata": {},
     "output_type": "display_data"
    },
    {
     "data": {
      "text/html": [
       "<img src=\"https://pmcvariety.files.wordpress.com/2014/04/monty-python.jpg\" width=\"200\" height=\"200\"/>"
      ],
      "text/plain": [
       "<IPython.core.display.Image object>"
      ]
     },
     "metadata": {},
     "output_type": "display_data"
    },
    {
     "data": {
      "text/html": [
       "<img src=\"http://images6.fanpop.com/image/photos/33000000/Monty-Python-old-school-comedy-33036168-1280-800.jpg\" width=\"200\" height=\"200\"/>"
      ],
      "text/plain": [
       "<IPython.core.display.Image object>"
      ]
     },
     "metadata": {},
     "output_type": "display_data"
    }
   ],
   "source": [
    "image_links = import_from_csv(base + 'pictures.csv')\n",
    "for image in image_links:\n",
    "    image = image[0] # import_for_csv returns rows as lists\n",
    "    print_image(image, _type='net', width=200, height=200)"
   ]
  },
  {
   "cell_type": "markdown",
   "metadata": {},
   "source": [
    "Create a csv file with cursewords. Write a function which substitutes these words in an input text."
   ]
  },
  {
   "cell_type": "code",
   "execution_count": 92,
   "metadata": {
    "collapsed": false
   },
   "outputs": [],
   "source": [
    "# hint(s):\n",
    "# - string.split(splitchar) splits the string\n",
    "# - string.lower() will lower every char in the string\n",
    "# - string.strip(char_to_strip)\n",
    "# - string.join(iterable) will join the iterable elements together,\n",
    "#   the string will be the separator \n",
    "# - commas will be part of the words\n",
    "def clean(text, substitution='*#%=!'):\n",
    "    cursewords = import_from_csv(base + 'cursewords.csv')[0]\n",
    "    return ' '.join([word if word.strip().lower() not in cursewords else substitution\n",
    "                    for word in text.split()])"
   ]
  },
  {
   "cell_type": "code",
   "execution_count": 93,
   "metadata": {
    "collapsed": false
   },
   "outputs": [
    {
     "name": "stdout",
     "output_type": "stream",
     "text": [
      "A *#%=! and a *#%=! went to visit *#%=! .\n"
     ]
    }
   ],
   "source": [
    "print clean('A monkey and a donkey went to visit Boby .')"
   ]
  }
 ],
 "metadata": {
  "kernelspec": {
   "display_name": "Python 2",
   "language": "python",
   "name": "python2"
  },
  "language_info": {
   "codemirror_mode": {
    "name": "ipython",
    "version": 2
   },
   "file_extension": ".py",
   "mimetype": "text/x-python",
   "name": "python",
   "nbconvert_exporter": "python",
   "pygments_lexer": "ipython2",
   "version": "2.7.6"
  }
 },
 "nbformat": 4,
 "nbformat_minor": 0
}
