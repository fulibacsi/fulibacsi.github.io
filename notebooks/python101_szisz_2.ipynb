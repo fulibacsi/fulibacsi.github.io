{
 "metadata": {
  "name": "",
  "signature": "sha256:6ab054fa69c12069bda283fc7da52468a63440595f4dc884c1f0d62b571b9c0d"
 },
 "nbformat": 3,
 "nbformat_minor": 0,
 "worksheets": [
  {
   "cells": [
    {
     "cell_type": "heading",
     "level": 1,
     "metadata": {},
     "source": [
      "Python 101 @ SzISz II."
     ]
    },
    {
     "cell_type": "markdown",
     "metadata": {},
     "source": [
      "---"
     ]
    },
    {
     "cell_type": "code",
     "collapsed": false,
     "input": [
      "import webbrowser\n",
      "from szisz import *"
     ],
     "language": "python",
     "metadata": {},
     "outputs": []
    },
    {
     "cell_type": "markdown",
     "metadata": {},
     "source": [
      "---"
     ]
    },
    {
     "cell_type": "heading",
     "level": 2,
     "metadata": {},
     "source": [
      "I/O"
     ]
    },
    {
     "cell_type": "markdown",
     "metadata": {},
     "source": [
      "Let's have some user input:"
     ]
    },
    {
     "cell_type": "code",
     "collapsed": false,
     "input": [
      "prompt = 'What is your name? '\n",
      "answer = input(prompt)\n",
      "print 'Your name is', answer, '.'"
     ],
     "language": "python",
     "metadata": {},
     "outputs": []
    },
    {
     "cell_type": "code",
     "collapsed": false,
     "input": [
      "prompt = 'What is your quest? '\n",
      "answer = raw_input(prompt)\n",
      "print type(answer)"
     ],
     "language": "python",
     "metadata": {},
     "outputs": []
    },
    {
     "cell_type": "code",
     "collapsed": false,
     "input": [
      "prompt = 'What is the air-speed velocity of an unladen swallow? '\n",
      "answer = raw_input(prompt)\n",
      "print answer, type(answer)"
     ],
     "language": "python",
     "metadata": {},
     "outputs": []
    },
    {
     "cell_type": "code",
     "collapsed": false,
     "input": [
      "print int(answer), type(int(answer))"
     ],
     "language": "python",
     "metadata": {},
     "outputs": []
    },
    {
     "cell_type": "code",
     "collapsed": false,
     "input": [
      "print float(answer), type(float(answer))"
     ],
     "language": "python",
     "metadata": {},
     "outputs": []
    },
    {
     "cell_type": "code",
     "collapsed": false,
     "input": [
      "print bool(answer), type(bool(answer))"
     ],
     "language": "python",
     "metadata": {},
     "outputs": []
    },
    {
     "cell_type": "markdown",
     "metadata": {},
     "source": [
      "---"
     ]
    },
    {
     "cell_type": "heading",
     "level": 3,
     "metadata": {},
     "source": [
      "About strings"
     ]
    },
    {
     "cell_type": "code",
     "collapsed": false,
     "input": [
      "# String formatting:\n",
      "# (use \\ to continue the command in the next line)\n",
      "print 'And Saint Atila raised the hand grenade up on high, saying,\\n' +\\\n",
      "      '\\'Oh, Lord, bless this thy hand grenade that with it thou mayest blow\\n',\\\n",
      "      'thy enemies to tiny bits, in thy mercy.\\'  And the Lord did grin, and\\n{0}\\n{1}'.format(\n",
      "      'people did feast upon the lambs, and sloths, and carp, and anchovies,',\n",
      "      'and orangutans, and breakfast cereals, and fruit bats, and large --')"
     ],
     "language": "python",
     "metadata": {},
     "outputs": []
    },
    {
     "cell_type": "code",
     "collapsed": false,
     "input": [
      "example_string = 'Monty Python'\n",
      "print example_string[0]"
     ],
     "language": "python",
     "metadata": {},
     "outputs": []
    },
    {
     "cell_type": "code",
     "collapsed": false,
     "input": [
      "print example_string[-1]"
     ],
     "language": "python",
     "metadata": {},
     "outputs": []
    },
    {
     "cell_type": "code",
     "collapsed": false,
     "input": [
      "print example_string[6:10]"
     ],
     "language": "python",
     "metadata": {},
     "outputs": []
    },
    {
     "cell_type": "code",
     "collapsed": false,
     "input": [
      "print example_string[-12:-7]"
     ],
     "language": "python",
     "metadata": {},
     "outputs": []
    },
    {
     "cell_type": "code",
     "collapsed": false,
     "input": [
      "print example_string[-7:-12:-1]"
     ],
     "language": "python",
     "metadata": {},
     "outputs": []
    },
    {
     "cell_type": "code",
     "collapsed": false,
     "input": [
      "print example_string[::-1]"
     ],
     "language": "python",
     "metadata": {},
     "outputs": []
    },
    {
     "cell_type": "code",
     "collapsed": false,
     "input": [
      "start = 1\n",
      "end = 2\n",
      "step = 1\n",
      "print example_string[start:end:step]"
     ],
     "language": "python",
     "metadata": {},
     "outputs": []
    },
    {
     "cell_type": "code",
     "collapsed": false,
     "input": [
      "print len(example_string)"
     ],
     "language": "python",
     "metadata": {},
     "outputs": []
    },
    {
     "cell_type": "code",
     "collapsed": false,
     "input": [
      "print 'y' in example_string"
     ],
     "language": "python",
     "metadata": {},
     "outputs": []
    },
    {
     "cell_type": "markdown",
     "metadata": {},
     "source": [
      "---"
     ]
    },
    {
     "cell_type": "heading",
     "level": 2,
     "metadata": {},
     "source": [
      "Conditional operators"
     ]
    },
    {
     "cell_type": "code",
     "collapsed": false,
     "input": [
      "expression_1 = True\n",
      "expression_2 = False\n",
      "operator = OR # try to change it to AND\n",
      "# expression = expression_1 [operator] [expression_2]\n",
      "expression = operator(expression_1, expression_2)\n",
      "condition_1 = expression\n",
      "condition_2 = not expression\n",
      "statement = 'Statement {0}'\n",
      "\n",
      "if condition_1:\n",
      "    print statement.format('1')\n",
      "elif condition_2:\n",
      "    print statement.format('2')\n",
      "else:\n",
      "    print statement.format('impossible')"
     ],
     "language": "python",
     "metadata": {},
     "outputs": []
    },
    {
     "cell_type": "markdown",
     "metadata": {},
     "source": [
      "---"
     ]
    },
    {
     "cell_type": "heading",
     "level": 2,
     "metadata": {},
     "source": [
      "Complex data structures"
     ]
    },
    {
     "cell_type": "heading",
     "level": 3,
     "metadata": {},
     "source": [
      "List"
     ]
    },
    {
     "cell_type": "code",
     "collapsed": false,
     "input": [
      "my_list = [1, 2, 'spam', 'eggs', 'ham', ['spam', 'and', 'spam', ['more', 'spam']]]\n",
      "print my_list"
     ],
     "language": "python",
     "metadata": {},
     "outputs": []
    },
    {
     "cell_type": "heading",
     "level": 3,
     "metadata": {},
     "source": [
      "Tuple"
     ]
    },
    {
     "cell_type": "code",
     "collapsed": false,
     "input": [
      "my_tuple_1 = ('spam', 'eggs', 'bacon')\n",
      "print my_tuple_1\n",
      "# the elements of a tuple cannot be changed!\n",
      "my_tuple_1[1] = 4"
     ],
     "language": "python",
     "metadata": {},
     "outputs": []
    },
    {
     "cell_type": "heading",
     "level": 3,
     "metadata": {},
     "source": [
      "Set"
     ]
    },
    {
     "cell_type": "code",
     "collapsed": false,
     "input": [
      "A = set(['a', 'b', 'c'])\n",
      "B = set(['c', 'c', 'd', 'e'])\n",
      "print A\n",
      "# every item in a set is unique!\n",
      "print B"
     ],
     "language": "python",
     "metadata": {},
     "outputs": []
    },
    {
     "cell_type": "markdown",
     "metadata": {},
     "source": [
      "Subset"
     ]
    },
    {
     "cell_type": "code",
     "collapsed": false,
     "input": [
      "print A.issubset(B)\n",
      "print B.issubset(A)\n",
      "print set(['a']).issubset(A)"
     ],
     "language": "python",
     "metadata": {},
     "outputs": []
    },
    {
     "cell_type": "markdown",
     "metadata": {},
     "source": [
      "Superset"
     ]
    },
    {
     "cell_type": "code",
     "collapsed": false,
     "input": [
      "print A.issuperset(B)\n",
      "print A.issuperset(set(['a']))"
     ],
     "language": "python",
     "metadata": {},
     "outputs": []
    },
    {
     "cell_type": "markdown",
     "metadata": {},
     "source": [
      "Union"
     ]
    },
    {
     "cell_type": "code",
     "collapsed": false,
     "input": [
      "print A.union(B)"
     ],
     "language": "python",
     "metadata": {},
     "outputs": []
    },
    {
     "cell_type": "markdown",
     "metadata": {},
     "source": [
      "Intersect"
     ]
    },
    {
     "cell_type": "code",
     "collapsed": false,
     "input": [
      "print A.intersection(B)"
     ],
     "language": "python",
     "metadata": {},
     "outputs": []
    },
    {
     "cell_type": "markdown",
     "metadata": {},
     "source": [
      "Difference"
     ]
    },
    {
     "cell_type": "code",
     "collapsed": false,
     "input": [
      "print A.difference(B)\n",
      "print B.difference(A)"
     ],
     "language": "python",
     "metadata": {},
     "outputs": []
    },
    {
     "cell_type": "markdown",
     "metadata": {},
     "source": [
      "Symmetric difference"
     ]
    },
    {
     "cell_type": "code",
     "collapsed": false,
     "input": [
      "print A.symmetric_difference(B)\n",
      "print B.symmetric_difference(A)"
     ],
     "language": "python",
     "metadata": {},
     "outputs": []
    },
    {
     "cell_type": "heading",
     "level": 3,
     "metadata": {},
     "source": [
      "Dictionary"
     ]
    },
    {
     "cell_type": "code",
     "collapsed": false,
     "input": [
      "my_dict = {'key1': 'spam', 2: 2, 'key3': ['s', 'p', 'a', 'm', 3]}\n",
      "my_dict"
     ],
     "language": "python",
     "metadata": {},
     "outputs": []
    },
    {
     "cell_type": "markdown",
     "metadata": {},
     "source": [
      "---"
     ]
    },
    {
     "cell_type": "heading",
     "level": 2,
     "metadata": {},
     "source": [
      "Control structures"
     ]
    },
    {
     "cell_type": "heading",
     "level": 3,
     "metadata": {},
     "source": [
      "For loop"
     ]
    },
    {
     "cell_type": "code",
     "collapsed": false,
     "input": [
      "# iterate on numbers\n",
      "start = 1\n",
      "end = 11\n",
      "step = 1\n",
      "for number in range(start, end, step):\n",
      "    print number"
     ],
     "language": "python",
     "metadata": {},
     "outputs": []
    },
    {
     "cell_type": "code",
     "collapsed": false,
     "input": [
      "# iterate on values\n",
      "my_list_of_things = ['a', 'b', 'c', 'd', \n",
      "                     1, 2, 3, 4, \n",
      "                     'foo', 'bar', 'baz', 'qux']\n",
      "for item in my_list_of_things:\n",
      "    print item"
     ],
     "language": "python",
     "metadata": {},
     "outputs": []
    },
    {
     "cell_type": "heading",
     "level": 3,
     "metadata": {},
     "source": [
      "While loop"
     ]
    },
    {
     "cell_type": "code",
     "collapsed": false,
     "input": [
      "condition = True\n",
      "counter = 1\n",
      "while(condition):\n",
      "    print counter\n",
      "    counter += 1\n",
      "    if counter > 10:\n",
      "        condition = False"
     ],
     "language": "python",
     "metadata": {},
     "outputs": []
    },
    {
     "cell_type": "markdown",
     "metadata": {},
     "source": [
      "---"
     ]
    },
    {
     "cell_type": "heading",
     "level": 2,
     "metadata": {},
     "source": [
      "List comprehension"
     ]
    },
    {
     "cell_type": "code",
     "collapsed": false,
     "input": [
      "sequence = [1, 2, 3, 4]\n",
      "print [item for item in sequence]\n",
      "print [item * 2 for item in sequence]"
     ],
     "language": "python",
     "metadata": {},
     "outputs": []
    },
    {
     "cell_type": "code",
     "collapsed": false,
     "input": [
      "sequence = ['a', 'b', 'c']\n",
      "separator = ''\n",
      "print separator.join([item for item in sequence])\n",
      "separator = ', '\n",
      "print separator.join([item for item in sequence])"
     ],
     "language": "python",
     "metadata": {},
     "outputs": []
    },
    {
     "cell_type": "markdown",
     "metadata": {},
     "source": [
      "---"
     ]
    },
    {
     "cell_type": "heading",
     "level": 2,
     "metadata": {},
     "source": [
      "Functions"
     ]
    },
    {
     "cell_type": "code",
     "collapsed": false,
     "input": [
      "# define a function\n",
      "def my_function():\n",
      "    print 'Hello World!'\n",
      "    \n",
      "# the variables in the brackets are called arguments\n",
      "# you can use them as variables inside the function\n",
      "# but you have to provide them when you call them\n",
      "def my_updated_function(name): \n",
      "    print 'Hello', name, '!'\n",
      "    \n",
      "def my_updated_updated_function(greeting, name):\n",
      "    \"\"\"This is my super descriptive docstring \n",
      "    for my super advanced function.\n",
      "    Arguments:\n",
      "        greeting: the greeting word.\n",
      "        name: the name of the greeted one.\"\"\"\n",
      "    print greeting, name+'!'\n",
      "    \n",
      "name = 'F\u00fcli'\n",
      "greeting = 'Aye-aye'\n",
      "\n",
      "# calling a function\n",
      "my_function()\n",
      "my_updated_function(name)\n",
      "my_updated_updated_function(greeting, name)\n",
      "# getting some help == getting the docstring of a function\n",
      "help(my_updated_updated_function)\n",
      "print 'My docstring:'\n",
      "print my_updated_updated_function.__doc__"
     ],
     "language": "python",
     "metadata": {},
     "outputs": []
    },
    {
     "cell_type": "markdown",
     "metadata": {},
     "source": [
      "---"
     ]
    },
    {
     "cell_type": "heading",
     "level": 2,
     "metadata": {},
     "source": [
      "Let's have some fun!"
     ]
    },
    {
     "cell_type": "markdown",
     "metadata": {},
     "source": [
      "Now that we have everything we need, let's use it for a real life example:"
     ]
    },
    {
     "cell_type": "code",
     "collapsed": false,
     "input": [
      "# import data from the bookmark.csv into this variable \n",
      "# use the import_from_csv function\n",
      "# hint: addition works with strings (make use of the base variable)\n",
      "base = '../data/'\n",
      "url_data = \n",
      "\n",
      "reason = random.choice(['learn', 'fun'])\n",
      "# write a function which will open every link of the given type.\n",
      "# name: opentabs\n",
      "# arguments: reason, url_data\n",
      "# hint: webbrowser.open_new_tab function"
     ],
     "language": "python",
     "metadata": {},
     "outputs": []
    },
    {
     "cell_type": "code",
     "collapsed": false,
     "input": [
      "opentabs(reason, url_data)"
     ],
     "language": "python",
     "metadata": {},
     "outputs": []
    },
    {
     "cell_type": "markdown",
     "metadata": {},
     "source": [
      "We want to know if a file is in the current directory. Write a function which will tell you so."
     ]
    },
    {
     "cell_type": "code",
     "collapsed": false,
     "input": [
      "# hint: use the list_files function to get the files from the working directory.\n",
      "list_files()"
     ],
     "language": "python",
     "metadata": {},
     "outputs": []
    },
    {
     "cell_type": "markdown",
     "metadata": {},
     "source": [
      "Our friend recommends us a new series. We downloaded the full series (7 seasons) and we believe that we downloaded all of the subtitles as well - although we're not that sure. Check if we miss some!\n",
      "\n",
      "Write a function which outputs the video filenames without subtitles. The video file extension is .avi, the subtitle file extension is .srt. We only accept a subtitle if it's name is perfectly matches the video's name."
     ]
    },
    {
     "cell_type": "code",
     "collapsed": false,
     "input": [
      "# \"Download\" the series with the download function\n",
      "# hint: use the help function!\n"
     ],
     "language": "python",
     "metadata": {},
     "outputs": []
    },
    {
     "cell_type": "markdown",
     "metadata": {},
     "source": [
      "Display every image from the current directory!"
     ]
    },
    {
     "cell_type": "code",
     "collapsed": false,
     "input": [],
     "language": "python",
     "metadata": {},
     "outputs": []
    },
    {
     "cell_type": "markdown",
     "metadata": {},
     "source": [
      "Create a csv file with picture urls. Display every picture from the CSV."
     ]
    },
    {
     "cell_type": "code",
     "collapsed": false,
     "input": [],
     "language": "python",
     "metadata": {},
     "outputs": []
    },
    {
     "cell_type": "markdown",
     "metadata": {},
     "source": [
      "Create a csv file with cursewords. Write a function which substitutes these words in an input text."
     ]
    },
    {
     "cell_type": "code",
     "collapsed": false,
     "input": [
      "# hint(s):\n",
      "# - string.split(splitchar) splits the string\n",
      "# - string.lower() will lower every char in the string\n",
      "# - string.strip(char_to_strip)\n",
      "# - string.join(iterable) will join the iterable elements together,\n",
      "#   the string will be the separator \n",
      "# - commas will be part of the words"
     ],
     "language": "python",
     "metadata": {},
     "outputs": []
    }
   ],
   "metadata": {}
  }
 ]
}