{
 "cells": [
  {
   "cell_type": "markdown",
   "metadata": {},
   "source": [
    "# Intro to Data Science @ SzISz Part II.\n",
    "## Data discovery\n",
    "\n",
    "### Table of contents\n",
    "- <a href=\"#What-is-Data-Discovery?\">Theory</a>\n",
    "- <a href=\"#Let's-do-it-then!\">Action I.</a>\n",
    "- <a href=\"#What-about-this-dataset?\">Action II.</a>\n",
    "- <a href=\"#More-data!\">Action III.</a>\n",
    "\n",
    "\n",
    "### What is Data Discovery?\n",
    "Data discovery is the process in which one looks into data and tries to:\n",
    "- figure out what is interesting in the data\n",
    "- what (s)he can do with it\n",
    "- if it needs extensive preprocessing\n",
    "\n",
    "From <a href=\"https://en.wikipedia.org/wiki/Data_discovery#Definition\">Wikipedia</a>:\n",
    "> Data Discovery is a user-driven process of searching for patterns or specific items in a data set.\n",
    "> Data Discovery applications use visual tools such as geographical maps, pivot-tables, and heat-maps\n",
    "> to make the process of finding patterns or specific items rapid and intuitive. Data Discovery may \n",
    "> leverage statistical and data mining techniques to accomplish these goals.\n",
    "\n",
    "### Why is it important?\n",
    "To speed up the whole process by giving you insights about:\n",
    "- if the data can be used at all\n",
    "- the necessary preprocessing steps\n",
    "- the possible algorithms\n",
    "- the interesting data points\n",
    "\n",
    "### Tools\n",
    "Everything. Two important factor:\n",
    "- speed __->__ base statistics\n",
    "- ease of understanding __->__ PLOTS-PLOTS-PLOTS!\n",
    "\n",
    "### Let's do it then!\n",
    "Given the data in `'../data/misterious.csv'`. Read it with `pandas.read_csv`, and then plot it, using the `pandas.DataFrame`'s `plot` method (hint: use shift-tab inside the brackets). You can try `pandas.DataFrame`'s `describe` as well.\n",
    "\n",
    "#### Answer the following questions:\n",
    "- What question should we ask?\n",
    "- What can be the task to solve?\n",
    "- How?\n",
    "- Is anything interesting showed up?\n",
    "- What should we do as the first step of preprocessing?"
   ]
  },
  {
   "cell_type": "code",
   "execution_count": 1,
   "metadata": {
    "collapsed": true
   },
   "outputs": [],
   "source": [
    "import numpy as np\n",
    "import pandas as pd"
   ]
  },
  {
   "cell_type": "code",
   "execution_count": 2,
   "metadata": {
    "collapsed": false
   },
   "outputs": [],
   "source": [
    "%matplotlib inline\n",
    "import matplotlib.pyplot as plt\n",
    "import seaborn as sns"
   ]
  },
  {
   "cell_type": "code",
   "execution_count": 6,
   "metadata": {
    "collapsed": false
   },
   "outputs": [
    {
     "data": {
      "text/html": [
       "<div>\n",
       "<table border=\"1\" class=\"dataframe\">\n",
       "  <thead>\n",
       "    <tr style=\"text-align: right;\">\n",
       "      <th></th>\n",
       "      <th>0</th>\n",
       "      <th>1</th>\n",
       "      <th>2</th>\n",
       "      <th>3</th>\n",
       "      <th>4</th>\n",
       "    </tr>\n",
       "  </thead>\n",
       "  <tbody>\n",
       "    <tr>\n",
       "      <th>0</th>\n",
       "      <td>5.1</td>\n",
       "      <td>3.5</td>\n",
       "      <td>1.4</td>\n",
       "      <td>0.2</td>\n",
       "      <td>0</td>\n",
       "    </tr>\n",
       "    <tr>\n",
       "      <th>1</th>\n",
       "      <td>4.9</td>\n",
       "      <td>3.0</td>\n",
       "      <td>1.4</td>\n",
       "      <td>0.2</td>\n",
       "      <td>0</td>\n",
       "    </tr>\n",
       "    <tr>\n",
       "      <th>2</th>\n",
       "      <td>4.7</td>\n",
       "      <td>3.2</td>\n",
       "      <td>1.3</td>\n",
       "      <td>0.2</td>\n",
       "      <td>0</td>\n",
       "    </tr>\n",
       "    <tr>\n",
       "      <th>3</th>\n",
       "      <td>4.6</td>\n",
       "      <td>3.1</td>\n",
       "      <td>1.5</td>\n",
       "      <td>0.2</td>\n",
       "      <td>0</td>\n",
       "    </tr>\n",
       "    <tr>\n",
       "      <th>4</th>\n",
       "      <td>5.0</td>\n",
       "      <td>3.6</td>\n",
       "      <td>1.4</td>\n",
       "      <td>0.2</td>\n",
       "      <td>0</td>\n",
       "    </tr>\n",
       "  </tbody>\n",
       "</table>\n",
       "</div>"
      ],
      "text/plain": [
       "     0    1    2    3  4\n",
       "0  5.1  3.5  1.4  0.2  0\n",
       "1  4.9  3.0  1.4  0.2  0\n",
       "2  4.7  3.2  1.3  0.2  0\n",
       "3  4.6  3.1  1.5  0.2  0\n",
       "4  5.0  3.6  1.4  0.2  0"
      ]
     },
     "execution_count": 6,
     "metadata": {},
     "output_type": "execute_result"
    }
   ],
   "source": [
    "df = pd.read_csv('../data/misterious.csv', header=None)\n",
    "df.head()"
   ]
  },
  {
   "cell_type": "code",
   "execution_count": 7,
   "metadata": {
    "collapsed": false
   },
   "outputs": [
    {
     "data": {
      "text/html": [
       "<div>\n",
       "<table border=\"1\" class=\"dataframe\">\n",
       "  <thead>\n",
       "    <tr style=\"text-align: right;\">\n",
       "      <th></th>\n",
       "      <th>0</th>\n",
       "      <th>1</th>\n",
       "      <th>2</th>\n",
       "      <th>3</th>\n",
       "      <th>4</th>\n",
       "    </tr>\n",
       "  </thead>\n",
       "  <tbody>\n",
       "    <tr>\n",
       "      <th>count</th>\n",
       "      <td>150.000000</td>\n",
       "      <td>150.000000</td>\n",
       "      <td>150.000000</td>\n",
       "      <td>150.000000</td>\n",
       "      <td>150.000000</td>\n",
       "    </tr>\n",
       "    <tr>\n",
       "      <th>mean</th>\n",
       "      <td>5.843333</td>\n",
       "      <td>3.054000</td>\n",
       "      <td>3.758667</td>\n",
       "      <td>1.198667</td>\n",
       "      <td>1.000000</td>\n",
       "    </tr>\n",
       "    <tr>\n",
       "      <th>std</th>\n",
       "      <td>0.828066</td>\n",
       "      <td>0.433594</td>\n",
       "      <td>1.764420</td>\n",
       "      <td>0.763161</td>\n",
       "      <td>0.819232</td>\n",
       "    </tr>\n",
       "    <tr>\n",
       "      <th>min</th>\n",
       "      <td>4.300000</td>\n",
       "      <td>2.000000</td>\n",
       "      <td>1.000000</td>\n",
       "      <td>0.100000</td>\n",
       "      <td>0.000000</td>\n",
       "    </tr>\n",
       "    <tr>\n",
       "      <th>25%</th>\n",
       "      <td>5.100000</td>\n",
       "      <td>2.800000</td>\n",
       "      <td>1.600000</td>\n",
       "      <td>0.300000</td>\n",
       "      <td>0.000000</td>\n",
       "    </tr>\n",
       "    <tr>\n",
       "      <th>50%</th>\n",
       "      <td>5.800000</td>\n",
       "      <td>3.000000</td>\n",
       "      <td>4.350000</td>\n",
       "      <td>1.300000</td>\n",
       "      <td>1.000000</td>\n",
       "    </tr>\n",
       "    <tr>\n",
       "      <th>75%</th>\n",
       "      <td>6.400000</td>\n",
       "      <td>3.300000</td>\n",
       "      <td>5.100000</td>\n",
       "      <td>1.800000</td>\n",
       "      <td>2.000000</td>\n",
       "    </tr>\n",
       "    <tr>\n",
       "      <th>max</th>\n",
       "      <td>7.900000</td>\n",
       "      <td>4.400000</td>\n",
       "      <td>6.900000</td>\n",
       "      <td>2.500000</td>\n",
       "      <td>2.000000</td>\n",
       "    </tr>\n",
       "  </tbody>\n",
       "</table>\n",
       "</div>"
      ],
      "text/plain": [
       "                0           1           2           3           4\n",
       "count  150.000000  150.000000  150.000000  150.000000  150.000000\n",
       "mean     5.843333    3.054000    3.758667    1.198667    1.000000\n",
       "std      0.828066    0.433594    1.764420    0.763161    0.819232\n",
       "min      4.300000    2.000000    1.000000    0.100000    0.000000\n",
       "25%      5.100000    2.800000    1.600000    0.300000    0.000000\n",
       "50%      5.800000    3.000000    4.350000    1.300000    1.000000\n",
       "75%      6.400000    3.300000    5.100000    1.800000    2.000000\n",
       "max      7.900000    4.400000    6.900000    2.500000    2.000000"
      ]
     },
     "execution_count": 7,
     "metadata": {},
     "output_type": "execute_result"
    }
   ],
   "source": [
    "df.describe()"
   ]
  },
  {
   "cell_type": "code",
   "execution_count": null,
   "metadata": {
    "collapsed": true
   },
   "outputs": [],
   "source": [
    "plt.c"
   ]
  },
  {
   "cell_type": "code",
   "execution_count": 20,
   "metadata": {
    "collapsed": false
   },
   "outputs": [
    {
     "data": {
      "text/plain": [
       "<matplotlib.axes._subplots.AxesSubplot at 0x7fcdfaf50550>"
      ]
     },
     "execution_count": 20,
     "metadata": {},
     "output_type": "execute_result"
    },
    {
     "data": {
      "image/png": "[encoded data removed]",
      "text/plain": [
       "<matplotlib.figure.Figure at 0x7fce000c8ed0>"
      ]
     },
     "metadata": {},
     "output_type": "display_data"
    }
   ],
   "source": [
    "df.plot(1, 3, kind='scatter', c=4, colormap='magma')"
   ]
  },
  {
   "cell_type": "markdown",
   "metadata": {},
   "source": [
    "### Plot every feature against each other!\n",
    "hints: \n",
    "- <a href=\"http://matplotlib.org/examples/pylab_examples/subplots_demo.html\">`subplots`</a>\n",
    "- <a href=\"http://matplotlib.org/examples/shapes_and_collections/scatter_demo.html\">`scatterplots`</a>"
   ]
  },
  {
   "cell_type": "code",
   "execution_count": 33,
   "metadata": {
    "collapsed": false
   },
   "outputs": [
    {
     "data": {
      "image/png": "[encoded data removed]",
      "text/plain": [
       "<matplotlib.figure.Figure at 0x7fcdf83249d0>"
      ]
     },
     "metadata": {},
     "output_type": "display_data"
    }
   ],
   "source": [
    "fig, ax = plt.subplots(nrows=4, ncols=4, sharex=\"col\", sharey=\"row\", figsize=(12,12))\n",
    "\n",
    "for i, row in enumerate(ax):\n",
    "    for j, col in enumerate(row):\n",
    "        col.scatter(df[i], df[j], c=df[4], cmap='hot')\n",
    "\n",
    "fig.show()"
   ]
  },
  {
   "cell_type": "markdown",
   "metadata": {},
   "source": [
    "### What was the data about?\n",
    "Let's <a href=\"https://en.wikipedia.org/wiki/Iris_flower_data_set\" style=\"color: black; text-decoration: none; cursor: default;\">find out</a>! This time use the data file `'../data/i.csv'`.<a href=\"http://scikit-learn.org/stable/modules/generated/sklearn.datasets.load_iris.html\" style=\"color: white; text-decoration: none; cursor: default;\">.. or just use this :D</a>\n",
    "- use `sklearn`'s <a href=\"http://scikit-learn.org/stable/modules/generated/sklearn.tree.DecisionTreeClassifier.html\">`DecisionTree`</a> on it:\n",
    "   - import sklearn's DecisionTree model!\n",
    "   - read the data\n",
    "   - init the model\n",
    "   - fit the model\n",
    "   - transform data\n",
    "   - display the resulting tree (see: <a href=\"http://scikit-learn.org/stable/modules/generated/sklearn.tree.export_graphviz.html\">export_graphviz</a> then <a href=\"http://www.webgraphviz.com/\">this tool</a>, result should be similar to <a href=\"http://scikit-learn.org/stable/_images/iris.svg\">this</a>)"
   ]
  },
  {
   "cell_type": "code",
   "execution_count": 36,
   "metadata": {
    "collapsed": true
   },
   "outputs": [],
   "source": [
    "from sklearn.datasets import load_iris"
   ]
  },
  {
   "cell_type": "code",
   "execution_count": 39,
   "metadata": {
    "collapsed": false
   },
   "outputs": [],
   "source": [
    "data = load_iris()"
   ]
  },
  {
   "cell_type": "markdown",
   "metadata": {},
   "source": [
    "#### Story time: scikit-learn's interface\n",
    "\n",
    "The `fit`-`transform`-`predict` principle:\n",
    "\n",
    "Every sklearn object has a `fit` method, and depending on the object's function  \n",
    "a __`transform`__ (+`fit_transform`)  \n",
    "or a __`predict`__ (+`fit_predict`) method.\n",
    "\n",
    "For example:\n",
    "```python\n",
    "clf = DecisionTreeClassifier()\n",
    "clf.fit(X, y)\n",
    "y_hat = clf.predict(X)\n",
    "```\n",
    "Where:\n",
    "- `X` is always the input data  \n",
    "- `y` is the target data"
   ]
  },
  {
   "cell_type": "code",
   "execution_count": 59,
   "metadata": {
    "collapsed": true
   },
   "outputs": [],
   "source": [
    "from sklearn.tree import DecisionTreeClassifier\n",
    "from sklearn.tree import export_graphviz"
   ]
  },
  {
   "cell_type": "code",
   "execution_count": 46,
   "metadata": {
    "collapsed": true
   },
   "outputs": [],
   "source": [
    "clf = DecisionTreeClassifier(random_state=42)"
   ]
  },
  {
   "cell_type": "code",
   "execution_count": 47,
   "metadata": {
    "collapsed": false
   },
   "outputs": [
    {
     "data": {
      "text/plain": [
       "DecisionTreeClassifier(class_weight=None, criterion='gini', max_depth=None,\n",
       "            max_features=None, max_leaf_nodes=None, min_samples_leaf=1,\n",
       "            min_samples_split=2, min_weight_fraction_leaf=0.0,\n",
       "            presort=False, random_state=42, splitter='best')"
      ]
     },
     "execution_count": 47,
     "metadata": {},
     "output_type": "execute_result"
    }
   ],
   "source": [
    "clf.fit(df[[0, 1, 2, 3]], df[4])"
   ]
  },
  {
   "cell_type": "code",
   "execution_count": 49,
   "metadata": {
    "collapsed": false
   },
   "outputs": [],
   "source": [
    "y_hat = clf.predict(df[[0, 1, 2, 3]])"
   ]
  },
  {
   "cell_type": "code",
   "execution_count": 57,
   "metadata": {
    "collapsed": false
   },
   "outputs": [],
   "source": [
    "from sklearn.externals.six import StringIO  \n",
    "import pydot \n",
    "dot_data = StringIO() "
   ]
  },
  {
   "cell_type": "code",
   "execution_count": 63,
   "metadata": {
    "collapsed": false
   },
   "outputs": [
    {
     "name": "stdout",
     "output_type": "stream",
     "text": [
      "digraph Tree {\n",
      "node [shape=box, style=\"filled, rounded\", color=\"black\", fontname=helvetica] ;\n",
      "edge [fontname=helvetica] ;\n",
      "0 [label=<petal length (cm) &le; 2.45<br/>gini = 0.6667<br/>samples = 150<br/>value = [50, 50, 50]<br/>class = setosa>, fillcolor=\"#e5813900\"] ;\n",
      "1 [label=<gini = 0.0<br/>samples = 50<br/>value = [50, 0, 0]<br/>class = setosa>, fillcolor=\"#e58139ff\"] ;\n",
      "0 -> 1 [labeldistance=2.5, labelangle=45, headlabel=\"True\"] ;\n",
      "2 [label=<petal width (cm) &le; 1.75<br/>gini = 0.5<br/>samples = 100<br/>value = [0, 50, 50]<br/>class = versicolor>, fillcolor=\"#39e58100\"] ;\n",
      "0 -> 2 [labeldistance=2.5, labelangle=-45, headlabel=\"False\"] ;\n",
      "3 [label=<petal length (cm) &le; 4.95<br/>gini = 0.168<br/>samples = 54<br/>value = [0, 49, 5]<br/>class = versicolor>, fillcolor=\"#39e581e5\"] ;\n",
      "2 -> 3 ;\n",
      "4 [label=<petal width (cm) &le; 1.65<br/>gini = 0.0408<br/>samples = 48<br/>value = [0, 47, 1]<br/>class = versicolor>, fillcolor=\"#39e581fa\"] ;\n",
      "3 -> 4 ;\n",
      "5 [label=<gini = 0.0<br/>samples = 47<br/>value = [0, 47, 0]<br/>class = versicolor>, fillcolor=\"#39e581ff\"] ;\n",
      "4 -> 5 ;\n",
      "6 [label=<gini = 0.0<br/>samples = 1<br/>value = [0, 0, 1]<br/>class = virginica>, fillcolor=\"#8139e5ff\"] ;\n",
      "4 -> 6 ;\n",
      "7 [label=<petal width (cm) &le; 1.55<br/>gini = 0.4444<br/>samples = 6<br/>value = [0, 2, 4]<br/>class = virginica>, fillcolor=\"#8139e57f\"] ;\n",
      "3 -> 7 ;\n",
      "8 [label=<gini = 0.0<br/>samples = 3<br/>value = [0, 0, 3]<br/>class = virginica>, fillcolor=\"#8139e5ff\"] ;\n",
      "7 -> 8 ;\n",
      "9 [label=<petal length (cm) &le; 5.45<br/>gini = 0.4444<br/>samples = 3<br/>value = [0, 2, 1]<br/>class = versicolor>, fillcolor=\"#39e5817f\"] ;\n",
      "7 -> 9 ;\n",
      "10 [label=<gini = 0.0<br/>samples = 2<br/>value = [0, 2, 0]<br/>class = versicolor>, fillcolor=\"#39e581ff\"] ;\n",
      "9 -> 10 ;\n",
      "11 [label=<gini = 0.0<br/>samples = 1<br/>value = [0, 0, 1]<br/>class = virginica>, fillcolor=\"#8139e5ff\"] ;\n",
      "9 -> 11 ;\n",
      "12 [label=<petal length (cm) &le; 4.85<br/>gini = 0.0425<br/>samples = 46<br/>value = [0, 1, 45]<br/>class = virginica>, fillcolor=\"#8139e5f9\"] ;\n",
      "2 -> 12 ;\n",
      "13 [label=<sepal length (cm) &le; 5.95<br/>gini = 0.4444<br/>samples = 3<br/>value = [0, 1, 2]<br/>class = virginica>, fillcolor=\"#8139e57f\"] ;\n",
      "12 -> 13 ;\n",
      "14 [label=<gini = 0.0<br/>samples = 1<br/>value = [0, 1, 0]<br/>class = versicolor>, fillcolor=\"#39e581ff\"] ;\n",
      "13 -> 14 ;\n",
      "15 [label=<gini = 0.0<br/>samples = 2<br/>value = [0, 0, 2]<br/>class = virginica>, fillcolor=\"#8139e5ff\"] ;\n",
      "13 -> 15 ;\n",
      "16 [label=<gini = 0.0<br/>samples = 43<br/>value = [0, 0, 43]<br/>class = virginica>, fillcolor=\"#8139e5ff\"] ;\n",
      "12 -> 16 ;\n",
      "}\n"
     ]
    }
   ],
   "source": [
    "from IPython.display import Image  \n",
    "dot_data = StringIO()  \n",
    "export_graphviz(clf, out_file=dot_data,\n",
    "                     feature_names=data.feature_names,  \n",
    "                     class_names=data.target_names,  \n",
    "                     filled=True, rounded=True,  \n",
    "                     special_characters=True)  \n",
    "print dot_data.getvalue()"
   ]
  },
  {
   "cell_type": "markdown",
   "metadata": {},
   "source": [
    "---\n",
    "\n",
    "### What about this dataset?\n",
    "No misteries this time. Let's use the <a href=\"http://scikit-learn.org/stable/modules/generated/sklearn.datasets.fetch_20newsgroups.html\">20 news groups</a> dataset!\n",
    "\n",
    "#### Questions:\n",
    "- What can we see from the raw data?\n",
    "- What should we do with it?\n",
    "- How can we visualize the data?\n",
    "- What question should we answer from this?"
   ]
  },
  {
   "cell_type": "code",
   "execution_count": 84,
   "metadata": {
    "collapsed": true
   },
   "outputs": [],
   "source": [
    "from collections import Counter\n",
    "from sklearn.datasets import fetch_20newsgroups"
   ]
  },
  {
   "cell_type": "code",
   "execution_count": 66,
   "metadata": {
    "collapsed": false
   },
   "outputs": [
    {
     "name": "stderr",
     "output_type": "stream",
     "text": [
      "WARNING:sklearn.datasets.twenty_newsgroups:Downloading dataset from http://people.csail.mit.edu/jrennie/20Newsgroups/20news-bydate.tar.gz (14 MB)\n"
     ]
    }
   ],
   "source": [
    "newsgroups_train = fetch_20newsgroups(\n",
    "    subset='train', \n",
    "    categories=['sci.space', 'talk.politics.guns',\n",
    "                'rec.motorcycles', 'misc.forsale'])"
   ]
  },
  {
   "cell_type": "code",
   "execution_count": 106,
   "metadata": {
    "collapsed": false
   },
   "outputs": [],
   "source": [
    "to_strip = ' .,:;><!?-#&'\n",
    "\n",
    "def strip(word):\n",
    "    for char in to_strip:\n",
    "        word = word.replace(char, '')\n",
    "    return word\n",
    "\n",
    "def extract(text):\n",
    "    text = [strip(word.lower()) for word in text.split()]\n",
    "    text = Counter([word for word in text if len(word) > 3])\n",
    "    text = [tuple(wordcnt) for wordcnt in text.iteritems()]\n",
    "    text = sorted(text, key=lambda (word, count): count, reverse=True)\n",
    "    text = text[:10]\n",
    "    return [word for (word, count) in text]"
   ]
  },
  {
   "cell_type": "code",
   "execution_count": 107,
   "metadata": {
    "collapsed": false
   },
   "outputs": [
    {
     "name": "stdout",
     "output_type": "stream",
     "text": [
      "From: msb@sq.sq.com (Mark Brader)\n",
      "Subject: Re: Comet in Temporary Orbit Around Jupiter?\n",
      "Organization: SoftQuad Inc., Toronto, Canada\n",
      "Lines: 34\n",
      "\n",
      "> > Can these questions be answered for a previous\n",
      "> > instance, such as the Gehrels 3 that was mentioned in an earlier posting?\n",
      "\n",
      "> Orbital Elements of Comet 1977VII (from Dance files)\n",
      "> p(au)          3.424346\n",
      "> e              0.151899\n",
      "> i              1.0988\n",
      "> cap_omega(0) 243.5652\n",
      "> W(0)         231.1607\n",
      "> epoch       1977.04110\n",
      "\n",
      "Thanks for the information!\n",
      "\n",
      "I assume p is the semi-major axis and e the eccentricity.  The peri-\n",
      "helion and aphelion are then given by p(1-e) and p(1+e), i.e., about\n",
      "2.90 and 3.95 AU respectively.  For Jupiter, they are 4.95 and 5.45 AU.\n",
      "If 1977 was after the temporary capture, this means that the comet\n",
      "ended up in an orbit that comes no closer than 1 AU to Jupiter's --\n",
      "which I take to be a rough indication of how far from Jupiter it could\n",
      "get under Jupiter's influence.\n",
      "\n",
      "> Also, perihelions of Gehrels3 were:\n",
      "> \n",
      "> April  1973     83 jupiter radii\n",
      "> August 1970     ~3 jupiter radii\n",
      "\n",
      "Where 1 Jupiter radius = 71,000 km = 44,000 mi = 0.0005 AU.  So the\n",
      "1970 figure seems unlikely to actually be anything but a perijove.\n",
      "Is that the case for the 1973 figure as well?\n",
      "-- \n",
      "Mark Brader, SoftQuad Inc., Toronto\t\t\"Remember the Golgafrinchans\"\n",
      "utzoo!sq!msb, msb@sq.com\t\t\t\t\t-- Pete Granger\n",
      "\n",
      "This article is in the public domain.\n",
      "\n"
     ]
    }
   ],
   "source": [
    "print newsgroups_train.data[0]"
   ]
  },
  {
   "cell_type": "code",
   "execution_count": 111,
   "metadata": {
    "collapsed": false
   },
   "outputs": [],
   "source": [
    "X = [extract(text) for text in newsgroups_train.data]\n",
    "y = newsgroups_train.target"
   ]
  },
  {
   "cell_type": "code",
   "execution_count": 113,
   "metadata": {
    "collapsed": false
   },
   "outputs": [
    {
     "data": {
      "text/plain": [
       "[([u'jupiter',\n",
       "   u'that',\n",
       "   u'comet',\n",
       "   u'radii',\n",
       "   u'softquad',\n",
       "   u\"jupiter's\",\n",
       "   u'from',\n",
       "   u'toronto',\n",
       "   u'this',\n",
       "   u'figure'],\n",
       "  2),\n",
       " ([u'defense',\n",
       "   u'army',\n",
       "   u'there',\n",
       "   u'that',\n",
       "   u'comm',\n",
       "   u'they',\n",
       "   u'space',\n",
       "   u'organization',\n",
       "   u'accessdigexnet',\n",
       "   u'agency'],\n",
       "  2),\n",
       " ([u'tire',\n",
       "   u'only',\n",
       "   u'should',\n",
       "   u'mitre',\n",
       "   u'dean',\n",
       "   u'corp',\n",
       "   u'about',\n",
       "   u'getting',\n",
       "   u'road',\n",
       "   u'tread'],\n",
       "  1),\n",
       " ([u'appears)',\n",
       "   u'art)',\n",
       "   u'(1st',\n",
       "   u'appear)',\n",
       "   u'liefeld',\n",
       "   u'annual',\n",
       "   u'(wolverine',\n",
       "   u'(rob',\n",
       "   u'(punisher',\n",
       "   u'(keown'],\n",
       "  0),\n",
       " ([u'that',\n",
       "   u'tcdd3',\n",
       "   u'with',\n",
       "   u'have',\n",
       "   u'been',\n",
       "   u'machine',\n",
       "   u'someone',\n",
       "   u'sony',\n",
       "   u'some',\n",
       "   u'what'],\n",
       "  0),\n",
       " ([u'vinyl',\n",
       "   u'from',\n",
       "   u'list',\n",
       "   u'thank',\n",
       "   u'arthur_noguerola@vosstratuscom',\n",
       "   u'metal',\n",
       "   u'records',\n",
       "   u'sale',\n",
       "   u'heavy',\n",
       "   u'usa)'],\n",
       "  0),\n",
       " ([u'murli',\n",
       "   u'386/25',\n",
       "   u'ohio',\n",
       "   u'486/25',\n",
       "   u'daughterboard)',\n",
       "   u'zeos',\n",
       "   u'university',\n",
       "   u'(zeos',\n",
       "   u'murli@bobcatentohiouedu',\n",
       "   u'________________________________________________________________'],\n",
       "  0),\n",
       " ([u'version',\n",
       "   u'quicken',\n",
       "   u'writes',\n",
       "   u'**********************************************************************',\n",
       "   u'brook',\n",
       "   u'state',\n",
       "   u'pchang@icsunysbedu',\n",
       "   u'york',\n",
       "   u'article',\n",
       "   u'like'],\n",
       "  0),\n",
       " ([u'would',\n",
       "   u'have',\n",
       "   u'that',\n",
       "   u'base',\n",
       "   u'soviets',\n",
       "   u'sydney',\n",
       "   u'world',\n",
       "   u'whether',\n",
       "   u'moon',\n",
       "   u'lunar'],\n",
       "  2),\n",
       " ([u'hard',\n",
       "   u'memory',\n",
       "   u'simms',\n",
       "   u'friend',\n",
       "   u'$250',\n",
       "   u'drive',\n",
       "   u'just',\n",
       "   u\"don't\",\n",
       "   u'awesome',\n",
       "   u'some'],\n",
       "  0)]"
      ]
     },
     "execution_count": 113,
     "metadata": {},
     "output_type": "execute_result"
    }
   ],
   "source": [
    "zip(X[:10], y[:10])"
   ]
  },
  {
   "cell_type": "markdown",
   "metadata": {},
   "source": [
    "# HOME WORK:\n",
    "\n",
    "1. Get the top words of the top words in the different categories. \n",
    "2. Get the overall top words in the different categories.\n",
    "3. Get the overall top words of the top words.\n",
    "4. Get the overal top words."
   ]
  },
  {
   "cell_type": "code",
   "execution_count": null,
   "metadata": {
    "collapsed": true
   },
   "outputs": [],
   "source": [
    "# TODO!"
   ]
  },
  {
   "cell_type": "markdown",
   "metadata": {},
   "source": [
    "### How should we represent texts? aka. Basics of Text Mining\n",
    "\n",
    "#### Create document vectors!\n",
    "- Split the documents into words\n",
    "- Count the occurences\n",
    "- Each word is a feature -> We've got a vector!\n",
    "\n",
    "#### Write a function which returns the document as a list of words!"
   ]
  },
  {
   "cell_type": "code",
   "execution_count": null,
   "metadata": {
    "collapsed": true
   },
   "outputs": [],
   "source": []
  },
  {
   "cell_type": "markdown",
   "metadata": {},
   "source": [
    "### There must be a better way of doing this!\n",
    "\n",
    "`Scikit-learn` is here to save the day again (this won't be the last time!):  \n",
    "Let's use <a href=\"http://scikit-learn.org/stable/modules/generated/sklearn.feature_extraction.text.CountVectorizer.html\">`sklearn.feature_extraction.text.CountVectorizer`</a>"
   ]
  },
  {
   "cell_type": "code",
   "execution_count": null,
   "metadata": {
    "collapsed": true
   },
   "outputs": [],
   "source": []
  },
  {
   "cell_type": "markdown",
   "metadata": {},
   "source": [
    "### Let's try to analyze/visualize the documents this time!\n",
    "\n",
    "But before, check that matrix's shape!  \n",
    "What should we do? (hint: docstring!)"
   ]
  },
  {
   "cell_type": "code",
   "execution_count": null,
   "metadata": {
    "collapsed": true
   },
   "outputs": [],
   "source": []
  },
  {
   "cell_type": "markdown",
   "metadata": {},
   "source": [
    "To visualize, use the <a href=\"http://scikit-learn.org/stable/modules/generated/sklearn.manifold.TSNE.html\">`t-SNE`</a> method!"
   ]
  },
  {
   "cell_type": "code",
   "execution_count": null,
   "metadata": {
    "collapsed": true
   },
   "outputs": [],
   "source": []
  },
  {
   "cell_type": "markdown",
   "metadata": {},
   "source": [
    "---\n",
    "\n",
    "### More data!\n",
    "\n",
    "Let's look into our first <a href=\"https://www.kaggle.com/c/job-salary-prediction\">kaggle dataset</a> and find out as much as we can!"
   ]
  },
  {
   "cell_type": "code",
   "execution_count": null,
   "metadata": {
    "collapsed": true
   },
   "outputs": [],
   "source": []
  }
 ],
 "metadata": {
  "kernelspec": {
   "display_name": "Python 2",
   "language": "python",
   "name": "python2"
  },
  "language_info": {
   "codemirror_mode": {
    "name": "ipython",
    "version": 2
   },
   "file_extension": ".py",
   "mimetype": "text/x-python",
   "name": "python",
   "nbconvert_exporter": "python",
   "pygments_lexer": "ipython2",
   "version": "2.7.6"
  }
 },
 "nbformat": 4,
 "nbformat_minor": 0
}
