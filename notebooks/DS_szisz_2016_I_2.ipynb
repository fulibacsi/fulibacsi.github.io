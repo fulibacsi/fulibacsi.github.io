{
 "cells": [
  {
   "cell_type": "markdown",
   "metadata": {},
   "source": [
    "# Intro to Data Science @ SzISz Part II.\n",
    "## Data discovery\n",
    "\n",
    "### Table of contents\n",
    "- <a href=\"#What-is-Data-Discovery?\">Theory</a>\n",
    "- <a href=\"#Let's-do-it-then!\">Action I.</a>\n",
    "- <a href=\"#What-about-this-dataset?\">Action II.</a>\n",
    "- <a href=\"#More-data!\">Action III.</a>\n",
    "\n",
    "\n",
    "### What is Data Discovery?\n",
    "Data discovery is the process in which one looks into data and tries to:\n",
    "- figure out what is interesting in the data\n",
    "- what (s)he can do with it\n",
    "- if it needs extensive preprocessing\n",
    "\n",
    "From <a href=\"https://en.wikipedia.org/wiki/Data_discovery#Definition\">Wikipedia</a>:\n",
    "> Data Discovery is a user-driven process of searching for patterns or specific items in a data set.\n",
    "> Data Discovery applications use visual tools such as geographical maps, pivot-tables, and heat-maps\n",
    "> to make the process of finding patterns or specific items rapid and intuitive. Data Discovery may \n",
    "> leverage statistical and data mining techniques to accomplish these goals.\n",
    "\n",
    "### Why is it important?\n",
    "To speed up the whole process by giving you insights about:\n",
    "- if the data can be used at all\n",
    "- the necessary preprocessing steps\n",
    "- the possible algorithms\n",
    "- the interesting data points\n",
    "\n",
    "### Tools\n",
    "Everything. Two important factor:\n",
    "- speed __->__ base statistics\n",
    "- ease of understanding __->__ PLOTS-PLOTS-PLOTS!\n",
    "\n",
    "### Let's do it then!\n",
    "Given the data in `'../data/misterious.csv'`. Read it with `pandas.read_csv`, and then plot it, using the `pandas.DataFrame`'s `plot` method (hint: use shift-tab inside the brackets). You can try `pandas.DataFrame`'s `describe` as well.\n",
    "\n",
    "#### Answer the following questions:\n",
    "- What question should we ask?\n",
    "- What can be the task to solve?\n",
    "- How?\n",
    "- Is anything interesting showed up?\n",
    "- What should we do as the first step of preprocessing?"
   ]
  },
  {
   "cell_type": "code",
   "execution_count": null,
   "metadata": {
    "collapsed": true
   },
   "outputs": [],
   "source": [
    "import numpy as np\n",
    "import pandas as pd"
   ]
  },
  {
   "cell_type": "code",
   "execution_count": null,
   "metadata": {
    "collapsed": false
   },
   "outputs": [],
   "source": [
    "%matplotlib inline\n",
    "import matplotlib.pyplot as plt\n",
    "import seaborn as sns"
   ]
  },
  {
   "cell_type": "code",
   "execution_count": null,
   "metadata": {
    "collapsed": true
   },
   "outputs": [],
   "source": []
  },
  {
   "cell_type": "markdown",
   "metadata": {},
   "source": [
    "### Plot every feature against each other!\n",
    "hints: \n",
    "- <a href=\"http://matplotlib.org/examples/pylab_examples/subplots_demo.html\">`subplots`</a>\n",
    "- <a href=\"http://matplotlib.org/examples/shapes_and_collections/scatter_demo.html\">`scatterplots`</a>"
   ]
  },
  {
   "cell_type": "code",
   "execution_count": null,
   "metadata": {
    "collapsed": false
   },
   "outputs": [],
   "source": []
  },
  {
   "cell_type": "markdown",
   "metadata": {},
   "source": [
    "### What was the data about?\n",
    "Let's <a href=\"https://en.wikipedia.org/wiki/Iris_flower_data_set\" style=\"color: black; text-decoration: none; cursor: default;\">find out</a>! This time use the data file `'../data/i.csv'`.<a href=\"http://scikit-learn.org/stable/modules/generated/sklearn.datasets.load_iris.html\" style=\"color: white; text-decoration: none; cursor: default;\">.. or just use this :D</a>\n",
    "- use `sklearn`'s <a href=\"http://scikit-learn.org/stable/modules/generated/sklearn.tree.DecisionTreeClassifier.html\">`DecisionTree`</a> on it:\n",
    "   - import sklearn's DecisionTree model!\n",
    "   - read the data\n",
    "   - init the model\n",
    "   - fit the model\n",
    "   - transform data\n",
    "   - display the resulting tree (see: <a href=\"http://scikit-learn.org/stable/modules/generated/sklearn.tree.export_graphviz.html\">export_graphviz</a> then <a href=\"http://www.webgraphviz.com/\">this tool</a>, result should be similar to <a href=\"http://scikit-learn.org/stable/_images/iris.svg\">this</a>)"
   ]
  },
  {
   "cell_type": "code",
   "execution_count": null,
   "metadata": {
    "collapsed": true
   },
   "outputs": [],
   "source": []
  },
  {
   "cell_type": "markdown",
   "metadata": {},
   "source": [
    "#### Story time: scikit-learn's interface\n",
    "\n",
    "The `fit`-`transform`-`predict` principle:\n",
    "\n",
    "Every sklearn object has a `fit` method, and depending on the object's function  \n",
    "a __`transform`__ (+`fit_transform`)  \n",
    "or a __`predict`__ (+`fit_predict`) method.\n",
    "\n",
    "For example:\n",
    "```python\n",
    "clf = DecisionTreeClassifier()\n",
    "clf.fit(X, y)\n",
    "y_hat = clf.predict(X)\n",
    "```\n",
    "Where:\n",
    "- `X` is always the input data  \n",
    "- `y` is the target data"
   ]
  },
  {
   "cell_type": "code",
   "execution_count": null,
   "metadata": {
    "collapsed": true
   },
   "outputs": [],
   "source": []
  },
  {
   "cell_type": "markdown",
   "metadata": {},
   "source": [
    "---\n",
    "\n",
    "### What about this dataset?\n",
    "No misteries this time. Let's use the <a href=\"http://scikit-learn.org/stable/modules/generated/sklearn.datasets.fetch_20newsgroups.html\">20 news groups</a> dataset!\n",
    "\n",
    "#### Questions:\n",
    "- What can we see from the raw data?\n",
    "- What should we do with it?\n",
    "- How can we visualize the data?\n",
    "- What question should we answer from this?"
   ]
  },
  {
   "cell_type": "code",
   "execution_count": null,
   "metadata": {
    "collapsed": true
   },
   "outputs": [],
   "source": []
  },
  {
   "cell_type": "markdown",
   "metadata": {},
   "source": [
    "### How should we represent texts? aka. Basics of Text Mining\n",
    "\n",
    "#### Create document vectors!\n",
    "- Split the documents into words\n",
    "- Count the occurences\n",
    "- Each word is a feature -> We've got a vector!\n",
    "\n",
    "#### Write a function which returns the document as a list of words!"
   ]
  },
  {
   "cell_type": "code",
   "execution_count": null,
   "metadata": {
    "collapsed": true
   },
   "outputs": [],
   "source": []
  },
  {
   "cell_type": "markdown",
   "metadata": {},
   "source": [
    "### There must be a better way of doing this!\n",
    "\n",
    "`Scikit-learn` is here to save the day again (this won't be the last time!):  \n",
    "Let's use <a href=\"http://scikit-learn.org/stable/modules/generated/sklearn.feature_extraction.text.CountVectorizer.html\">`sklearn.feature_extraction.text.CountVectorizer`</a>"
   ]
  },
  {
   "cell_type": "code",
   "execution_count": null,
   "metadata": {
    "collapsed": true
   },
   "outputs": [],
   "source": []
  },
  {
   "cell_type": "markdown",
   "metadata": {},
   "source": [
    "### Let's try to analyze/visualize the documents this time!\n",
    "\n",
    "But before, check that matrix's shape!  \n",
    "What should we do? (hint: docstring!)"
   ]
  },
  {
   "cell_type": "code",
   "execution_count": null,
   "metadata": {
    "collapsed": true
   },
   "outputs": [],
   "source": []
  },
  {
   "cell_type": "markdown",
   "metadata": {},
   "source": [
    "To visualize, use the <a href=\"http://scikit-learn.org/stable/modules/generated/sklearn.manifold.TSNE.html\">`t-SNE`</a> method!"
   ]
  },
  {
   "cell_type": "code",
   "execution_count": null,
   "metadata": {
    "collapsed": true
   },
   "outputs": [],
   "source": []
  },
  {
   "cell_type": "markdown",
   "metadata": {},
   "source": [
    "---\n",
    "\n",
    "### More data!\n",
    "\n",
    "Let's look into our first <a href=\"https://www.kaggle.com/c/job-salary-prediction\">kaggle dataset</a> and find out as much as we can!"
   ]
  },
  {
   "cell_type": "code",
   "execution_count": null,
   "metadata": {
    "collapsed": true
   },
   "outputs": [],
   "source": []
  }
 ],
 "metadata": {
  "kernelspec": {
   "display_name": "Python 2",
   "language": "python",
   "name": "python2"
  },
  "language_info": {
   "codemirror_mode": {
    "name": "ipython",
    "version": 2
   },
   "file_extension": ".py",
   "mimetype": "text/x-python",
   "name": "python",
   "nbconvert_exporter": "python",
   "pygments_lexer": "ipython2",
   "version": "2.7.10"
  }
 },
 "nbformat": 4,
 "nbformat_minor": 0
}
