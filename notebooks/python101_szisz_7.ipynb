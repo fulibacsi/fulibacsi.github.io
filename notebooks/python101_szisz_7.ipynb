{
 "metadata": {
  "kernelspec": {
   "display_name": "Python 2",
   "language": "python",
   "name": "python2"
  },
  "language_info": {
   "codemirror_mode": {
    "name": "ipython",
    "version": 2
   },
   "file_extension": ".py",
   "mimetype": "text/x-python",
   "name": "python",
   "nbconvert_exporter": "python",
   "pygments_lexer": "ipython2",
   "version": "2.7.6"
  },
  "name": ""
 },
 "nbformat": 3,
 "nbformat_minor": 0,
 "worksheets": [
  {
   "cells": [
    {
     "cell_type": "heading",
     "level": 1,
     "metadata": {},
     "source": [
      "Python 101 @ SzISz VII."
     ]
    },
    {
     "cell_type": "markdown",
     "metadata": {},
     "source": [
      "---"
     ]
    },
    {
     "cell_type": "heading",
     "level": 2,
     "metadata": {},
     "source": [
      "Today: Web Scraping II."
     ]
    },
    {
     "cell_type": "heading",
     "level": 3,
     "metadata": {},
     "source": [
      "Act I: scrape the hungarian tenders"
     ]
    },
    {
     "cell_type": "code",
     "collapsed": false,
     "input": [
      "# import the necessary libraries\n",
      "import requests\n",
      "from bs4 import BeautifulSoup"
     ],
     "language": "python",
     "metadata": {},
     "outputs": [],
     "prompt_number": null
    },
    {
     "cell_type": "markdown",
     "metadata": {},
     "source": [
      "Let's get some nasty data!"
     ]
    },
    {
     "cell_type": "code",
     "collapsed": false,
     "input": [
      "# store some general data\n",
      "BASE_URL = 'http://kozbeszerzes.ceu.hu'\n",
      "kozgep_suburl = '/entity/t/10950676.xml'"
     ],
     "language": "python",
     "metadata": {},
     "outputs": [],
     "prompt_number": null
    },
    {
     "cell_type": "code",
     "collapsed": false,
     "input": [
      "# download raw data\n",
      "kozgep_response = requests.get(BASE_URL + kozgep_suburl)\n",
      "print kozgep_response.status_code"
     ],
     "language": "python",
     "metadata": {},
     "outputs": [],
     "prompt_number": null
    },
    {
     "cell_type": "code",
     "collapsed": true,
     "input": [
      "# print what did we get\n",
      "soup = BeautifulSoup(kozgep_response.content)\n",
      "print soup.prettify()"
     ],
     "language": "python",
     "metadata": {},
     "outputs": [],
     "prompt_number": null
    },
    {
     "cell_type": "code",
     "collapsed": true,
     "input": [
      "# iterate through the tenders\n",
      "# beautifulsoup can parse xmls too\n",
      "for tender in soup.find('all_tenders_won').findAll('tender'):\n",
      "    print BASE_URL + tender['url']"
     ],
     "language": "python",
     "metadata": {},
     "outputs": [],
     "prompt_number": null
    },
    {
     "cell_type": "code",
     "collapsed": true,
     "input": [
      "# parse the first tender\n",
      "tender_response = requests.get(\n",
      "    BASE_URL + soup.find('all_tenders_won').find('tender')['url']\n",
      ")\n",
      "if not tender_response.status_code == 200:\n",
      "    print 'Tender download failed!'\n",
      "else:\n",
      "    tender_soup = BeautifulSoup(tender_response.content)\n",
      "    print tender_soup.prettify()"
     ],
     "language": "python",
     "metadata": {},
     "outputs": [],
     "prompt_number": null
    },
    {
     "cell_type": "code",
     "collapsed": false,
     "input": [
      "# create a function, and get the needed information out of the xml\n",
      "def get_tenders(base_url, sub_url):\n",
      "    response = requests.get(base_url + sub_url)\n",
      "    if not response.status_code == 200:\n",
      "        print 'Download failed!'\n",
      "    else:\n",
      "        won_tenders = [['Year', 'Value', 'Desc']] # init with headers\n",
      "        soup = BeautifulSoup(response.content)\n",
      "        for tender in soup.find('all_tenders_won').findAll('tender'):\n",
      "            tender_response = requests.get(base_url + tender['url'])\n",
      "            if not tender_response.status_code == 200:\n",
      "                print 'Tender download failed!'\n",
      "            else:\n",
      "                tender_soup = BeautifulSoup(tender_response.content)\n",
      "                won_tenders.append([\n",
      "                    tender_soup.find('tender')['year'],\n",
      "                    tender_soup.find('tender')['estimated_value'],\n",
      "                    '\"' + tender_soup.find('tender')['subject'] + '\"' # we use \" to make sure that the data is wrapped\n",
      "                ])\n",
      "        return won_tenders"
     ],
     "language": "python",
     "metadata": {},
     "outputs": [],
     "prompt_number": null
    },
    {
     "cell_type": "code",
     "collapsed": false,
     "input": [
      "# write a save function\n",
      "# since we have hungarian text, we need to encode our characters in UTF-8\n",
      "# and unfortunately csv module does not support that\n",
      "import codecs\n",
      "def save_results(filename, tenders):\n",
      "    with codecs.open(filename, 'w', 'utf-8') as output:\n",
      "        for tender in tenders:\n",
      "            output.write(u';'.join(tender) + u'\\n')"
     ],
     "language": "python",
     "metadata": {},
     "outputs": [],
     "prompt_number": null
    },
    {
     "cell_type": "code",
     "collapsed": false,
     "input": [
      "# write a main function\n",
      "def main():\n",
      "    save_results('kozgep.csv', get_tenders(BASE_URL, kozgep_suburl))"
     ],
     "language": "python",
     "metadata": {},
     "outputs": [],
     "prompt_number": null
    },
    {
     "cell_type": "code",
     "collapsed": false,
     "input": [
      "# execute\n",
      "main()"
     ],
     "language": "python",
     "metadata": {},
     "outputs": [],
     "prompt_number": null
    },
    {
     "cell_type": "markdown",
     "metadata": {},
     "source": [
      "---"
     ]
    },
    {
     "cell_type": "heading",
     "level": 3,
     "metadata": {},
     "source": [
      "Intermission: Creating a standalone script"
     ]
    },
    {
     "cell_type": "code",
     "collapsed": false,
     "input": [
      "# Intermission\n",
      "from IPython.display import YouTubeVideo\n",
      "YouTubeVideo(\"O0wOD9TWynM\", autoplay=1)"
     ],
     "language": "python",
     "metadata": {},
     "outputs": [],
     "prompt_number": null
    },
    {
     "cell_type": "markdown",
     "metadata": {},
     "source": [
      "Create a new text file with .py extension! You can specify the filename.\n",
      "Start it with:  \n",
      "    `# encoding: utf-8`  \n",
      "then copy-paste:\n",
      "    - the imports, \n",
      "    - the global variables \n",
      "    - the three functions\n",
      "and insert the following two lines into the end of the file:  \n",
      "`if __name__ == '__main__':  \n",
      "     main()`  \n",
      "Save it, and now you can execute this script by invoking:  \n",
      "    `python your_specified_filename.py`"
     ]
    },
    {
     "cell_type": "code",
     "collapsed": false,
     "input": [
      "# You can even import your newly created script:\n",
      "import myscript # use your filename"
     ],
     "language": "python",
     "metadata": {},
     "outputs": [],
     "prompt_number": null
    },
    {
     "cell_type": "code",
     "collapsed": false,
     "input": [
      "# get it's contents\n",
      "dir(myscript)"
     ],
     "language": "python",
     "metadata": {},
     "outputs": [],
     "prompt_number": null
    },
    {
     "cell_type": "code",
     "collapsed": false,
     "input": [
      "# print its variables\n",
      "print myscript.BASE_URL"
     ],
     "language": "python",
     "metadata": {},
     "outputs": [],
     "prompt_number": null
    },
    {
     "cell_type": "code",
     "collapsed": false,
     "input": [
      "# use its functions\n",
      "tenders = myscript.get_tenders(myscript.BASE_URL, myscript.kozgep_suburl)"
     ],
     "language": "python",
     "metadata": {},
     "outputs": [],
     "prompt_number": null
    },
    {
     "cell_type": "code",
     "collapsed": false,
     "input": [
      "myscript.save_results('kozgep1.csv', tenders)"
     ],
     "language": "python",
     "metadata": {},
     "outputs": [],
     "prompt_number": null
    },
    {
     "cell_type": "markdown",
     "metadata": {},
     "source": [
      "---"
     ]
    },
    {
     "cell_type": "markdown",
     "metadata": {},
     "source": [
      "### Act II: Disguise yourself!\n",
      "\n",
      "Let's pretend to be a browser instead of a script"
     ]
    },
    {
     "cell_type": "code",
     "collapsed": false,
     "input": [
      "USER_AGENTS = [\n",
      "    # Chrome\n",
      "    'Mozilla/5.0 (Windows NT 6.2; Win64; x64) AppleWebKit/537.36 (KHTML, like Gecko) Chrome/32.0.1667.0 Safari/537.36',\n",
      "    # Firefox\n",
      "    'Mozilla/5.0 (Windows NT 6.1; Win64; x64; rv:25.0) Gecko/20100101 Firefox/25.0',\n",
      "    # Opera\n",
      "    'Opera/9.80 (Windows NT 6.0) Presto/2.12.388 Version/12.14',\n",
      "    # Safari\n",
      "    'Mozilla/5.0 (iPad; CPU OS 6_0 like Mac OS X) AppleWebKit/536.26 (KHTML, like Gecko) Version/6.0 Mobile/10A5355d Safari/8536.25',\n",
      "    # Internet Explorer, probably a good idea to leave this one out...\n",
      "    'Mozilla/5.0 (compatible; MSIE 10.6; Windows NT 6.1; Trident/5.0; InfoPath.2; SLCC1; .NET CLR 3.0.4506.2152; .NET CLR 3.5.30729; .NET CLR 2.0.50727) 3gpp-gba UNTRUSTED/1.0',\n",
      "]"
     ],
     "language": "python",
     "metadata": {},
     "outputs": [],
     "prompt_number": null
    },
    {
     "cell_type": "code",
     "collapsed": false,
     "input": [
      "# write a wrapper function to handle the user-agent string\n",
      "import random\n",
      "def get_header(agents):\n",
      "    return {'User-agent': random.choice(agents)}"
     ],
     "language": "python",
     "metadata": {},
     "outputs": [],
     "prompt_number": null
    },
    {
     "cell_type": "markdown",
     "metadata": {},
     "source": [
      "Get the main articles from index.hu"
     ]
    },
    {
     "cell_type": "code",
     "collapsed": false,
     "input": [
      "url = 'http://index.hu'\n",
      "index_response = requests.get(url, headers=get_header(USER_AGENTS))"
     ],
     "language": "python",
     "metadata": {},
     "outputs": [],
     "prompt_number": null
    },
    {
     "cell_type": "code",
     "collapsed": true,
     "input": [
      "# study the skeleton of the site\n",
      "soup = BeautifulSoup(index_response.content)\n",
      "print soup.prettify()"
     ],
     "language": "python",
     "metadata": {},
     "outputs": [],
     "prompt_number": null
    },
    {
     "cell_type": "code",
     "collapsed": false,
     "input": [
      "# get the \"front page\"\n",
      "index_main = soup.find('section', {'class': 'blokk hajtas-felett normal-vezeto-blokk normal-vezeto cimlap-blokk-index saved'})"
     ],
     "language": "python",
     "metadata": {},
     "outputs": [],
     "prompt_number": null
    },
    {
     "cell_type": "code",
     "collapsed": true,
     "input": [
      "# print the basics about the main articles\n",
      "for article in index_main.findAll('article'):\n",
      "    print ''\n",
      "    # article image if exists\n",
      "    if article.find('img'):\n",
      "        print '[', article.find('img').get('src'), ']'\n",
      "    # title\n",
      "    print article.find('h1', {'class': 'cikkcim'}).getText()\n",
      "    # link\n",
      "    print '<', article.find('h1', {'class': 'cikkcim'}).find('a').get('href'), '>'\n",
      "    # promo text if exists\n",
      "    if article.find('p', {'class': 'ajanlo'}):\n",
      "        print article.find('p', {'class': 'ajanlo'}).getText()\n",
      "    print '-' * 79"
     ],
     "language": "python",
     "metadata": {},
     "outputs": [],
     "prompt_number": null
    },
    {
     "cell_type": "markdown",
     "metadata": {},
     "source": [
      "Let's get the article texts, and the list of images for each \"main\" article!"
     ]
    },
    {
     "cell_type": "code",
     "collapsed": false,
     "input": [
      "articles = []\n",
      "for article in index_main.findAll('article'):\n",
      "    article_response = requests.get(\n",
      "        article.find('h1', {'class': 'cikkcim'}).find('a').get('href'),\n",
      "        headers=get_header(USER_AGENTS)\n",
      "    )\n",
      "    soup = BeautifulSoup(article_response.content)\n",
      "    article_container = soup.find('div', {'class':'cikk-torzs-container'})\n",
      "    if article_container:\n",
      "        title = article.find('h1', {'class': 'cikkcim'}).getText()\n",
      "        text = u'\\n'.join([p.getText() for p in article_container.findAll('p')])\n",
      "        images = [url.get('src') for url in article_container.findAll('img')]\n",
      "        articles.append([title, text, images])"
     ],
     "language": "python",
     "metadata": {},
     "outputs": [],
     "prompt_number": null
    },
    {
     "cell_type": "code",
     "collapsed": false,
     "input": [
      "for article in articles:\n",
      "    print ''\n",
      "    print 'Title:', article[0]\n",
      "    print 'Text:', article[1]\n",
      "    print 'Images:'\n",
      "    for img in article[2]:\n",
      "        print img\n",
      "    print '-' * 79"
     ],
     "language": "python",
     "metadata": {},
     "outputs": [],
     "prompt_number": null
    },
    {
     "cell_type": "heading",
     "level": 3,
     "metadata": {},
     "source": [
      "Final Act: Your turn!"
     ]
    },
    {
     "cell_type": "markdown",
     "metadata": {},
     "source": [
      "Write a script called `youtube.py`, in which you create an object called RelatedTube.\n",
      "It has an attribute: `base_url` (youtube's base url)\n",
      "It has three functions: `init`, `get`, and `set`\n",
      "\n",
      "Init:\n",
      "    - Arguments: (`self` and) `youtube_video_id`\n",
      "    - Output: -\n",
      "    - Workflow: set the `self.video` to `youtube_video_id`\n",
      "Get:\n",
      "    - Arguments: `self`\n",
      "    - Output: the links to the related videos\n",
      "    - Workflow: \n",
      "        * get the `self.video` page\n",
      "        * parse it for the related links\n",
      "        * return them in a list\n",
      "Set:\n",
      "    - Arguments: (`self` and) `youtube_video_id`\n",
      "    - Output: -\n",
      "    - Workflow: set the `self.video` to `youtube_video_id`\n",
      "Don't forget to hide your a**!!!"
     ]
    },
    {
     "cell_type": "code",
     "collapsed": false,
     "input": [
      "# test the script\n",
      "import youtube"
     ],
     "language": "python",
     "metadata": {},
     "outputs": [],
     "prompt_number": null
    },
    {
     "cell_type": "code",
     "collapsed": false,
     "input": [
      "related = youtube.RelatedTube('PIxZmbHzPeM')"
     ],
     "language": "python",
     "metadata": {},
     "outputs": [],
     "prompt_number": null
    },
    {
     "cell_type": "code",
     "collapsed": false,
     "input": [
      "# in case we have to restart the kernel... :D\n",
      "from IPython.display import YouTubeVideo"
     ],
     "language": "python",
     "metadata": {},
     "outputs": [],
     "prompt_number": null
    },
    {
     "cell_type": "code",
     "collapsed": false,
     "input": [
      "for video in related.get():\n",
      "    print video"
     ],
     "language": "python",
     "metadata": {},
     "outputs": [],
     "prompt_number": null
    }
   ],
   "metadata": {}
  }
 ]
}