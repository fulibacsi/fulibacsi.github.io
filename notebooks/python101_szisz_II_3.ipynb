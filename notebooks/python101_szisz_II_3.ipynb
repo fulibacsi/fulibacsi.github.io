{
 "cells": [
  {
   "cell_type": "markdown",
   "metadata": {},
   "source": [
    "# Python 101 @ SzISz III.\n",
    "\n",
    "---"
   ]
  },
  {
   "cell_type": "code",
   "execution_count": null,
   "metadata": {
    "collapsed": false
   },
   "outputs": [],
   "source": [
    "from szisz import *\n",
    "BASE = '../data/'"
   ]
  },
  {
   "cell_type": "markdown",
   "metadata": {},
   "source": [
    "---\n",
    "\n",
    "## Deus ex Python\n",
    "\n",
    "You've downloaded a series complete with subtitles but the video and  \n",
    "subtitle filenames don't match! Write a function which renames the  \n",
    "mismatching subtitles!\n",
    "\n",
    "hint(s) - useful functions:\n",
    "\n",
    "- `download(_name, _season, _episodes, _mismatch)`\n",
    "- `string.lower()` (built-in)\n",
    "- `find_episode_number(filename)`\n",
    "- `rename_subtitle(original, new, target_dir)`\n"
   ]
  },
  {
   "cell_type": "code",
   "execution_count": null,
   "metadata": {
    "collapsed": false
   },
   "outputs": [],
   "source": []
  },
  {
   "cell_type": "markdown",
   "metadata": {},
   "source": [
    "---\n",
    "\n",
    "## File I/O\n",
    "\n",
    "Reading from a file is really easy:"
   ]
  },
  {
   "cell_type": "code",
   "execution_count": null,
   "metadata": {
    "collapsed": false
   },
   "outputs": [],
   "source": [
    "# we need a filename and a mode\n",
    "filename = BASE + 'text.txt'"
   ]
  },
  {
   "cell_type": "code",
   "execution_count": null,
   "metadata": {
    "collapsed": false
   },
   "outputs": [],
   "source": [
    "# and a mode\n",
    "mode = 'r' # r stands for reading\n",
    "# and we have to open the file for reading\n",
    "my_file = open(filename, mode) \n",
    "# we can iterate over on it's lines directly:\n",
    "for line in my_file:\n",
    "    print line"
   ]
  },
  {
   "cell_type": "code",
   "execution_count": null,
   "metadata": {
    "collapsed": false
   },
   "outputs": [],
   "source": [
    "my_file.seek(0, 0) # help(file.seek)\n",
    "# or read every line into a list:\n",
    "lines_as_list = my_file.readlines()\n",
    "print lines_as_list"
   ]
  },
  {
   "cell_type": "code",
   "execution_count": null,
   "metadata": {
    "collapsed": false
   },
   "outputs": [],
   "source": [
    "my_file.seek(0, 0)\n",
    "# or read the whole file as string:\n",
    "lines_as_string = my_file.read()\n",
    "print lines_as_string"
   ]
  },
  {
   "cell_type": "code",
   "execution_count": null,
   "metadata": {
    "collapsed": false
   },
   "outputs": [],
   "source": [
    "# we can do it either way... BUT!\n",
    "# DO NOT FORGET TO CLOSE IT once you finished working with it!\n",
    "my_file.close()"
   ]
  },
  {
   "cell_type": "markdown",
   "metadata": {},
   "source": [
    "Pretty easy, huh? What about writing into a file?"
   ]
  },
  {
   "cell_type": "code",
   "execution_count": null,
   "metadata": {
    "collapsed": false
   },
   "outputs": [],
   "source": [
    "mode = 'w' # as you can guess, w stands for writing ;)\n",
    "my_file = open(filename, mode) \n",
    "# we can write into it directly:\n",
    "my_file.write('You take the red pill, you stay in Wonderland, '\n",
    "              'and I show you how deep the rabbit hole goes...')\n",
    "# again, don't forget to close the file\n",
    "my_file.close()"
   ]
  },
  {
   "cell_type": "markdown",
   "metadata": {},
   "source": [
    "There is more! Do you feel cumbersome to open and close the file?  \n",
    "Good news: You do not have to worry about at all!  "
   ]
  },
  {
   "cell_type": "code",
   "execution_count": null,
   "metadata": {
    "collapsed": false
   },
   "outputs": [],
   "source": [
    "mode = 'r' \n",
    "with open(filename, mode) as my_file: \n",
    "    for line in my_file.readlines(): \n",
    "        print line \n",
    "# aaaaand it's closed ;)"
   ]
  },
  {
   "cell_type": "markdown",
   "metadata": {},
   "source": [
    "Can we add content to existing files?"
   ]
  },
  {
   "cell_type": "code",
   "execution_count": null,
   "metadata": {
    "collapsed": false
   },
   "outputs": [],
   "source": [
    "# Yes, we can!\n",
    "mode = 'a' # a stands for append\n",
    "with open(filename, mode) as my_file:\n",
    "    my_file.write('Remember, all I\\'m offering is the truth, nothing more...')"
   ]
  },
  {
   "cell_type": "markdown",
   "metadata": {},
   "source": [
    "---\n",
    "\n",
    "## CSV files\n",
    "\n",
    "But... We want to read in some CSV files. Do we really need to do all  \n",
    "the hassle with the commas, quotations and all that bs?"
   ]
  },
  {
   "cell_type": "code",
   "execution_count": null,
   "metadata": {
    "collapsed": true
   },
   "outputs": [],
   "source": [
    "# ofc not! someone already wrote that for us!\n",
    "import csv\n",
    "filename = BASE + 'text.csv'"
   ]
  },
  {
   "cell_type": "markdown",
   "metadata": {},
   "source": [
    "Read it!"
   ]
  },
  {
   "cell_type": "code",
   "execution_count": null,
   "metadata": {
    "collapsed": true
   },
   "outputs": [],
   "source": [
    "mode = 'r'\n",
    "with open(filename, mode) as my_file:\n",
    "    # we have to create a csv reader in order to read\n",
    "    # and we have to specify the delimeter, and the quotecharacter\n",
    "    # or the dialect.\n",
    "    my_csv = csv.reader(my_file, delimiter=';', quotechar='\"')\n",
    "    # we can read out the rows easily from the file\n",
    "    for row in my_csv:\n",
    "        # you get each row as a list\n",
    "        print row"
   ]
  },
  {
   "cell_type": "markdown",
   "metadata": {},
   "source": [
    "Write it!"
   ]
  },
  {
   "cell_type": "code",
   "execution_count": null,
   "metadata": {
    "collapsed": false
   },
   "outputs": [],
   "source": [
    "mode = 'w'\n",
    "with open(filename, mode) as my_file:\n",
    "    # we'll need a writer\n",
    "    # the arguments are the same as before\n",
    "    my_csv = csv.writer(my_file, delimiter=';', quotechar='\"')\n",
    "    # we need some data to save:\n",
    "    data = [['Smith', 'Smith', 'Smith', 'Smith'],\n",
    "            ['Smith', 'Smith', 'Smith', 'Smith']]\n",
    "    # then write each row into the file,\n",
    "    # one-by-one\n",
    "    for row in data:\n",
    "        my_csv.writerow(row)"
   ]
  },
  {
   "cell_type": "markdown",
   "metadata": {},
   "source": [
    "---\n",
    "\n",
    "## Unicode madness\n",
    "\n",
    "Writing in exotic languages can cause problems, and we need to handle them.  \n",
    "Originally we could only select from 128 characters to work with."
   ]
  },
  {
   "cell_type": "code",
   "execution_count": null,
   "metadata": {
    "collapsed": false
   },
   "outputs": [],
   "source": [
    "print_image('http://www.asciitable.com/index/asciifull.gif', 'net')"
   ]
  },
  {
   "cell_type": "markdown",
   "metadata": {},
   "source": [
    "But then the problem was addressed with the unicode character set.  \n",
    "It currently contains more than 100k characters - including the   \n",
    "complete kanji set, the klingon and the elf alphabet as well. Long  \n",
    "story short, we should use utf-8 character encoding when working with  \n",
    "text files."
   ]
  },
  {
   "cell_type": "code",
   "execution_count": null,
   "metadata": {
    "collapsed": false
   },
   "outputs": [],
   "source": [
    "# We need a built-in python module\n",
    "import codecs"
   ]
  },
  {
   "cell_type": "code",
   "execution_count": null,
   "metadata": {
    "collapsed": false
   },
   "outputs": [],
   "source": [
    "filename = BASE + 'unicodetext.txt'\n",
    "mode = 'r'\n",
    "encoding = 'utf-8'\n",
    "# and use it's functions to work with files:\n",
    "with codecs.open(filename, mode, encoding) as my_unicode_file:\n",
    "    content = u'\\n'.join(my_unicode_file.readlines())\n",
    "print content\n",
    "print repr(content)\n",
    "print type(content)"
   ]
  },
  {
   "cell_type": "code",
   "execution_count": null,
   "metadata": {
    "collapsed": false
   },
   "outputs": [],
   "source": [
    "mode = 'w'\n",
    "with codecs.open(filename, mode, encoding) as my_unicode_file:\n",
    "    my_unicode_file.write(u'Árvíztűrő tükörfúrógép')"
   ]
  },
  {
   "cell_type": "code",
   "execution_count": null,
   "metadata": {
    "collapsed": false
   },
   "outputs": [],
   "source": [
    "# Represent a unicode sting in ascii\n",
    "ascii_content = content.encode('utf-8')\n",
    "print ascii_content\n",
    "print repr(ascii_content)\n",
    "print type(ascii_content)"
   ]
  },
  {
   "cell_type": "code",
   "execution_count": null,
   "metadata": {
    "collapsed": false
   },
   "outputs": [],
   "source": [
    "# Represent an ascii sting in unicode\n",
    "unicode_content = ascii_content.decode('utf-8')\n",
    "print unicode_content\n",
    "print repr(unicode_content)\n",
    "print type(unicode_content)"
   ]
  },
  {
   "cell_type": "markdown",
   "metadata": {},
   "source": [
    "---"
   ]
  },
  {
   "cell_type": "markdown",
   "metadata": {},
   "source": [
    "## Let's see how how deep the rabbit hole goes!"
   ]
  },
  {
   "cell_type": "markdown",
   "metadata": {},
   "source": [
    "Write our fake \"download\" function"
   ]
  },
  {
   "cell_type": "code",
   "execution_count": null,
   "metadata": {
    "collapsed": false
   },
   "outputs": [],
   "source": []
  },
  {
   "cell_type": "markdown",
   "metadata": {},
   "source": [
    "---\n",
    "\n",
    "Merge the matching rows.  \n",
    "\n",
    "- Read the data from the \"matching.csv\"\n",
    "- Add the numerical values together in the rows with matching ID values\n",
    "- Concatenate the string values and separate them with  `' & '`"
   ]
  },
  {
   "cell_type": "code",
   "execution_count": null,
   "metadata": {
    "collapsed": false
   },
   "outputs": [],
   "source": []
  }
 ],
 "metadata": {
  "kernelspec": {
   "display_name": "Python 2",
   "language": "python",
   "name": "python2"
  },
  "language_info": {
   "codemirror_mode": {
    "name": "ipython",
    "version": 2
   },
   "file_extension": ".py",
   "mimetype": "text/x-python",
   "name": "python",
   "nbconvert_exporter": "python",
   "pygments_lexer": "ipython2",
   "version": "2.7.10"
  }
 },
 "nbformat": 4,
 "nbformat_minor": 0
}
