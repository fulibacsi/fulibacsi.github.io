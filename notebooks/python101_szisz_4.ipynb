{
 "metadata": {
  "name": ""
 },
 "nbformat": 3,
 "nbformat_minor": 0,
 "worksheets": [
  {
   "cells": [
    {
     "cell_type": "heading",
     "level": 1,
     "metadata": {},
     "source": [
      "Python 101 @ SzISz IV."
     ]
    },
    {
     "cell_type": "markdown",
     "metadata": {},
     "source": [
      "---"
     ]
    },
    {
     "cell_type": "heading",
     "level": 2,
     "metadata": {},
     "source": [
      "Previously on Python101:\n",
      "File I/O"
     ]
    },
    {
     "cell_type": "raw",
     "metadata": {},
     "source": [
      "Write to a file:"
     ]
    },
    {
     "cell_type": "code",
     "collapsed": false,
     "input": [
      "import string\n",
      "filename = 'myfile.txt'\n",
      "mode = 'w' # as [W]riting\n",
      "with open(filename, mode) as my_file:\n",
      "    for letter in string.ascii_letters:\n",
      "        my_file.write(letter)"
     ],
     "language": "python",
     "metadata": {},
     "outputs": []
    },
    {
     "cell_type": "code",
     "collapsed": false,
     "input": [
      "import string\n",
      "filename = 'myfile.txt'\n",
      "mode = 'a' # as [A]ppending\n",
      "with open(filename, mode) as my_file:\n",
      "    for letter in string.ascii_letters[::-1]:\n",
      "        my_file.write(letter)"
     ],
     "language": "python",
     "metadata": {},
     "outputs": []
    },
    {
     "cell_type": "raw",
     "metadata": {},
     "source": [
      "Read from a file:"
     ]
    },
    {
     "cell_type": "code",
     "collapsed": false,
     "input": [
      "filename = 'myfile.txt'\n",
      "mode = 'r' # as [R]eading\n",
      "with open(filename, mode) as my_file:\n",
      "    for line in my_file:\n",
      "        print line"
     ],
     "language": "python",
     "metadata": {},
     "outputs": []
    },
    {
     "cell_type": "raw",
     "metadata": {},
     "source": [
      "UNICODE ALERT!"
     ]
    },
    {
     "cell_type": "code",
     "collapsed": false,
     "input": [
      "my_unicode_string = u'\u00c1rv\u00edzt\u0171r\u0151 t\u00fck\u00f6rf\u00far\u00f3g\u00e9p'\n",
      "import codecs\n",
      "filename = 'myunicodefile.txt'\n",
      "mode = 'w'\n",
      "encoding = 'utf-8'\n",
      "with codecs.open(filename, mode, encoding) as my_file:\n",
      "    my_file.write(my_unicode_string)"
     ],
     "language": "python",
     "metadata": {},
     "outputs": []
    },
    {
     "cell_type": "code",
     "collapsed": false,
     "input": [
      "my_unicode_string = u'\u00c1rv\u00edzt\u0171r\u0151 t\u00fck\u00f6rf\u00far\u00f3g\u00e9p'\n",
      "import codecs\n",
      "filename = 'myunicodefile.txt'\n",
      "mode = 'r'\n",
      "encoding = 'utf-8'\n",
      "with codecs.open(filename, mode, encoding) as my_file:\n",
      "    for line in my_file:\n",
      "        print line"
     ],
     "language": "python",
     "metadata": {},
     "outputs": []
    },
    {
     "cell_type": "heading",
     "level": 2,
     "metadata": {},
     "source": [
      "Today on Python101: Classes"
     ]
    },
    {
     "cell_type": "heading",
     "level": 3,
     "metadata": {},
     "source": [
      "Class basics"
     ]
    },
    {
     "cell_type": "raw",
     "metadata": {},
     "source": [
      "In Python, everything is an object. So when you create a variable, you actually created an object. The object you created stores values. You can even create your own objects, by defining a class. A class describes the object you will create."
     ]
    },
    {
     "cell_type": "code",
     "collapsed": false,
     "input": [
      "# create the class\n",
      "class Myclass:\n",
      "    foo = 1\n",
      "    def bar(self):\n",
      "        print 'Hello World!'\n",
      "# create the object\n",
      "myobject = Myclass()\n",
      "# you can reference to the values you set in the class definition by\n",
      "# using object_name.attribute_name\n",
      "print myobject.foo\n",
      "# you can also execute the functions from your class definition in the same way:\n",
      "myobject.bar()"
     ],
     "language": "python",
     "metadata": {},
     "outputs": []
    },
    {
     "cell_type": "raw",
     "metadata": {},
     "source": [
      "OO believers sais that the universe was created by calling its constructor:"
     ]
    },
    {
     "cell_type": "code",
     "collapsed": false,
     "input": [
      "# Universe class\n",
      "# Use the class keyword to create a class\n",
      "# The naming convention is to start the class' name with capital letter\n",
      "class Universe:\n",
      "    \"\"\"\n",
      "    This is a docstring for the Universe class.\n",
      "    If the user needs help, he/she can read this string.\n",
      "    \"\"\"\n",
      "    \n",
      "    # a class can have attributes and methods\n",
      "    # this is the 'creator' attribute\n",
      "    # the class attributes will be the same in every instance\n",
      "    creator = 'God'\n",
      "    \n",
      "    # this is the constructor method.\n",
      "    # the first argument is always the 'self', as a reference to the class itself\n",
      "    def __init__(self, planets):\n",
      "        \"\"\"\n",
      "        Constructor function. When an object created, \n",
      "        this function will be executed.\n",
      "        \"\"\"\n",
      "        # object attribute. it's value will be set during init,\n",
      "        # so it can be different in every instance\n",
      "        self.planets = planets\n",
      "    \n",
      "    def print_planets(self):\n",
      "        \"\"\"\n",
      "        Print the planet's name from the universe.\n",
      "        \"\"\"\n",
      "        # you can access the object's attributes/methods inside the class\n",
      "        # by using the 'self' keyword\n",
      "        for planet in self.planets:\n",
      "            print planet\n",
      "            \n",
      "    def add_planet(self, planetname):\n",
      "        \"\"\"\n",
      "        Add a planet to the universe.\n",
      "        \"\"\"\n",
      "        self.planets.append(planetname)\n",
      "        \n",
      "    def remove_planet(self, planetname):\n",
      "        \"\"\"\n",
      "        Remove a planet from the universe.\n",
      "        \"\"\"\n",
      "        if planetname in self.planets:\n",
      "            self.planets.remove(planetname)"
     ],
     "language": "python",
     "metadata": {},
     "outputs": []
    },
    {
     "cell_type": "code",
     "collapsed": false,
     "input": [
      "# list of planet names in the solar system\n",
      "planets_in_solar_system = [\n",
      "    'Sun', \n",
      "    'Mercury', \n",
      "    'Venus', \n",
      "    'Earth', \n",
      "    'Mars', \n",
      "    'Jupiter', \n",
      "    'Saturn', \n",
      "    'Uranus', \n",
      "    'Neptune', \n",
      "    'Pluto'\n",
      "]            \n",
      "\n",
      "# this line will create a Universe type object\n",
      "solar_system = Universe(planets_in_solar_system)\n",
      "# these are method calls \n",
      "solar_system.print_planets()\n",
      "solar_system.remove_planet('Pluto')\n",
      "solar_system.print_planets()\n",
      "solar_system.add_planet('Pluto')\n",
      "solar_system.print_planets()\n",
      "# this is a reference to the class' attribute\n",
      "print solar_system.creator"
     ],
     "language": "python",
     "metadata": {},
     "outputs": []
    },
    {
     "cell_type": "raw",
     "metadata": {},
     "source": [
      "Now it's your turn! Create an object for storing 2d mathematical points."
     ]
    },
    {
     "cell_type": "code",
     "collapsed": false,
     "input": [
      "# use the class keyword to define the 'Point' class\n",
      "# don't forget to add a docstring!\n",
      "\n",
      "\n",
      "# define the constructor, with two arguments: x, y\n",
      "\n",
      "\n",
      "# define a method (distance) which tells the distance between the point\n",
      "# and an another point (given as an argument).\n",
      "\n"
     ],
     "language": "python",
     "metadata": {},
     "outputs": []
    },
    {
     "cell_type": "heading",
     "level": 3,
     "metadata": {},
     "source": [
      "Inheritence"
     ]
    },
    {
     "cell_type": "raw",
     "metadata": {},
     "source": [
      "Let's start with creating a creature class!"
     ]
    },
    {
     "cell_type": "code",
     "collapsed": false,
     "input": [
      "class Creature:\n",
      "    \"\"\"\n",
      "    Defines creatures.\n",
      "    \"\"\"\n",
      "    def __init__(self, name, age):\n",
      "        self.name = name\n",
      "        self.age = age\n",
      "        \n",
      "    def define(self):\n",
      "        print 'It is a', self.age, 'year old', self.name, '.'"
     ],
     "language": "python",
     "metadata": {},
     "outputs": []
    },
    {
     "cell_type": "raw",
     "metadata": {},
     "source": [
      "Let's say that we also want to create a human class. Humans are also creatures, so they naturally has some common attributes with the creatures. Let's inherit the human class from the creature class."
     ]
    },
    {
     "cell_type": "code",
     "collapsed": false,
     "input": [
      "class Human(Creature):\n",
      "    \"\"\"\n",
      "    Defines a human.\n",
      "    \"\"\"\n",
      "    def __init__(self, name, age, nationality):\n",
      "        Creature.__init__(self, name, age)\n",
      "        self.nationality = nationality\n",
      "        \n",
      "    def define2(self):\n",
      "        print 'It\\'s', self.name, '. He/she is a', self.age, 'year old', self.nationality, 'person.'\n"
     ],
     "language": "python",
     "metadata": {},
     "outputs": []
    },
    {
     "cell_type": "code",
     "collapsed": false,
     "input": [
      "# creature\n",
      "dog = Creature('dog', 7)\n",
      "dog.define()\n",
      "\n",
      "# human\n",
      "szilvi = Human('Szilvi', 25, 'hungarian')\n",
      "szilvi.define()\n",
      "szilvi.define2()"
     ],
     "language": "python",
     "metadata": {},
     "outputs": []
    },
    {
     "cell_type": "raw",
     "metadata": {},
     "source": [
      "Your turn! Create a 3d point class which is inherited from the 2d point class!"
     ]
    },
    {
     "cell_type": "code",
     "collapsed": false,
     "input": [
      "# Inherit the new class from the Point class! Let's call it 'Point3d'!\n",
      "\n",
      "\n",
      "# in the __init__ function we'll have a 'z' attribute as well!\n",
      "# don't forget to call the 2d point's constructor method!\n",
      "\n",
      "\n",
      "# define a new distance function (distance3d) to compute 3d distance\n",
      "\n"
     ],
     "language": "python",
     "metadata": {},
     "outputs": []
    },
    {
     "cell_type": "heading",
     "level": 3,
     "metadata": {},
     "source": [
      "Challenge time!"
     ]
    },
    {
     "cell_type": "code",
     "collapsed": false,
     "input": [
      "import random\n",
      "# create the RPS class\n",
      "class :\n",
      "# it should have a class attribute: a list of possible moves\n",
      "\n",
      "# the constructor shouldn't have any arguments => you don't have to define it at all\n",
      "\n",
      "# the move method should randomly return a move\n",
      "\n",
      "# the play method should play the game:\n",
      "# - ask for a move\n",
      "# - generate a move\n",
      "# - decide who won\n",
      "\n",
      "\n",
      "# create a cheater RPS:\n",
      "class\n",
      "# it should have a history object-attribute, so an __init__ method is a must\n",
      "\n",
      "# the move method should use the history to pick it's move\n",
      "\n",
      "# the play method should store the player's decisions into the history attribute"
     ],
     "language": "python",
     "metadata": {},
     "outputs": []
    },
    {
     "cell_type": "raw",
     "metadata": {},
     "source": [
      "Write a product class. It should have a name and a price. \n",
      "Write a store class! It should have a stock of products. It should be able to restock, and sell."
     ]
    },
    {
     "cell_type": "code",
     "collapsed": false,
     "input": [
      "# product class\n",
      "\n",
      "# store class\n",
      "\n",
      "# restock method should have 2 arguments: product and amount\n",
      "\n",
      "# sell method should have 1 argument: the list of products.\n",
      "# it should print what was sold, and if it is out of stock."
     ],
     "language": "python",
     "metadata": {},
     "outputs": []
    },
    {
     "cell_type": "heading",
     "level": 3,
     "metadata": {},
     "source": [
      "Homework"
     ]
    },
    {
     "cell_type": "raw",
     "metadata": {},
     "source": [
      "Write a 2d point class. Using the point class, create a square class which will store the 4 cornerpoints. Make it able to compute it's area!\n",
      "Inherit a rectangle class from the square class!"
     ]
    },
    {
     "cell_type": "code",
     "collapsed": false,
     "input": [
      "# Point class\n",
      "\n",
      "\n",
      "# Square class\n",
      "\n",
      "\n",
      "# Rectangle class"
     ],
     "language": "python",
     "metadata": {},
     "outputs": []
    }
   ],
   "metadata": {}
  }
 ]
}