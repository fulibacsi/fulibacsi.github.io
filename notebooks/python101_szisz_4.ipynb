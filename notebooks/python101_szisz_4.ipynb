{
 "cells": [
  {
   "cell_type": "markdown",
   "metadata": {},
   "source": [
    "# Python 101 @ SzISz IV."
   ]
  },
  {
   "cell_type": "markdown",
   "metadata": {},
   "source": [
    "---"
   ]
  },
  {
   "cell_type": "markdown",
   "metadata": {},
   "source": [
    "## Previously on Python101: File I/O"
   ]
  },
  {
   "cell_type": "markdown",
   "metadata": {},
   "source": [
    "Write to a file:"
   ]
  },
  {
   "cell_type": "code",
   "execution_count": 1,
   "metadata": {
    "collapsed": true
   },
   "outputs": [],
   "source": [
    "BASE_URI = '../data/'"
   ]
  },
  {
   "cell_type": "code",
   "execution_count": 2,
   "metadata": {
    "collapsed": false
   },
   "outputs": [],
   "source": [
    "import string\n",
    "filename = 'myfile.txt'\n",
    "mode = 'w' # as [W]riting\n",
    "with open(BASE_URI + filename, mode) as my_file:\n",
    "    for letter in string.ascii_letters:\n",
    "        my_file.write(letter)"
   ]
  },
  {
   "cell_type": "code",
   "execution_count": 3,
   "metadata": {
    "collapsed": false
   },
   "outputs": [],
   "source": [
    "import string\n",
    "filename = 'myfile.txt'\n",
    "mode = 'a' # as [A]ppending\n",
    "with open(BASE_URI + filename, mode) as my_file:\n",
    "    for letter in string.ascii_letters[::-1]:\n",
    "        my_file.write(letter)"
   ]
  },
  {
   "cell_type": "markdown",
   "metadata": {},
   "source": [
    "Read from a file:"
   ]
  },
  {
   "cell_type": "code",
   "execution_count": 4,
   "metadata": {
    "collapsed": false
   },
   "outputs": [
    {
     "name": "stdout",
     "output_type": "stream",
     "text": [
      "abcdefghijklmnopqrstuvwxyzABCDEFGHIJKLMNOPQRSTUVWXYZZYXWVUTSRQPONMLKJIHGFEDCBAzyxwvutsrqponmlkjihgfedcba\n"
     ]
    }
   ],
   "source": [
    "filename = 'myfile.txt'\n",
    "mode = 'r' # as [R]eading\n",
    "with open(BASE_URI + filename, mode) as my_file:\n",
    "    for line in my_file:\n",
    "        print line"
   ]
  },
  {
   "cell_type": "markdown",
   "metadata": {},
   "source": [
    "UNICODE ALERT!"
   ]
  },
  {
   "cell_type": "code",
   "execution_count": 5,
   "metadata": {
    "collapsed": false
   },
   "outputs": [],
   "source": [
    "my_unicode_string = u'Árvíztűrő tükörfúrógép'\n",
    "import codecs\n",
    "filename = 'myunicodefile.txt'\n",
    "mode = 'w'\n",
    "encoding = 'utf-8'\n",
    "with codecs.open(BASE_URI + filename, mode, encoding) as my_file:\n",
    "    my_file.write(my_unicode_string)"
   ]
  },
  {
   "cell_type": "code",
   "execution_count": 6,
   "metadata": {
    "collapsed": false
   },
   "outputs": [
    {
     "name": "stdout",
     "output_type": "stream",
     "text": [
      "Árvíztűrő tükörfúrógép\n"
     ]
    }
   ],
   "source": [
    "my_unicode_string = u'Árvíztűrő tükörfúrógép'\n",
    "import codecs\n",
    "filename = 'myunicodefile.txt'\n",
    "mode = 'r'\n",
    "encoding = 'utf-8'\n",
    "with codecs.open(BASE_URI + filename, mode, encoding) as my_file:\n",
    "    for line in my_file:\n",
    "        print line"
   ]
  },
  {
   "cell_type": "markdown",
   "metadata": {},
   "source": [
    "## Today on Python101: Classes"
   ]
  },
  {
   "cell_type": "markdown",
   "metadata": {},
   "source": [
    "### Class basics"
   ]
  },
  {
   "cell_type": "markdown",
   "metadata": {},
   "source": [
    "In Python, everything is an object. So when you create a variable, you actually created an object. The object you created stores values. You can even create your own objects, by defining a class. A class describes the object you will create."
   ]
  },
  {
   "cell_type": "code",
   "execution_count": 7,
   "metadata": {
    "collapsed": false
   },
   "outputs": [
    {
     "name": "stdout",
     "output_type": "stream",
     "text": [
      "1\n",
      "Hello World!\n"
     ]
    }
   ],
   "source": [
    "# create the class\n",
    "class Myclass:\n",
    "    foo = 1\n",
    "    def bar(self):\n",
    "        print 'Hello World!'\n",
    "# create the object\n",
    "myobject = Myclass()\n",
    "# you can reference to the values you set in the class definition by\n",
    "# using object_name.attribute_name\n",
    "print myobject.foo\n",
    "# you can also execute the functions from your class definition in the same way:\n",
    "myobject.bar()"
   ]
  },
  {
   "cell_type": "markdown",
   "metadata": {},
   "source": [
    "OO believers sais that the universe was created by calling its constructor:"
   ]
  },
  {
   "cell_type": "code",
   "execution_count": 8,
   "metadata": {
    "collapsed": false
   },
   "outputs": [],
   "source": [
    "# Universe class\n",
    "# Use the class keyword to create a class\n",
    "# The naming convention is to start the class' name with capital letter\n",
    "class Universe:\n",
    "    \"\"\"\n",
    "    This is a docstring for the Universe class.\n",
    "    If the user needs help, he/she can read this string.\n",
    "    \"\"\"\n",
    "    \n",
    "    # a class can have attributes and methods\n",
    "    # this is the 'creator' attribute\n",
    "    # the class attributes will be the same in every instance\n",
    "    creator = 'God'\n",
    "    \n",
    "    # this is the constructor method.\n",
    "    # the first argument is always the 'self', as a reference to the class itself\n",
    "    def __init__(self, planets):\n",
    "        \"\"\"\n",
    "        Constructor function. When an object created, \n",
    "        this function will be executed.\n",
    "        \"\"\"\n",
    "        # object attribute. it's value will be set during init,\n",
    "        # so it can be different in every instance\n",
    "        self.planets = planets\n",
    "    \n",
    "    def print_planets(self):\n",
    "        \"\"\"\n",
    "        Print the planet's name from the universe.\n",
    "        \"\"\"\n",
    "        # you can access the object's attributes/methods inside the class\n",
    "        # by using the 'self' keyword\n",
    "        for planet in self.planets:\n",
    "            print planet\n",
    "            \n",
    "    def add_planet(self, planetname):\n",
    "        \"\"\"\n",
    "        Add a planet to the universe.\n",
    "        \"\"\"\n",
    "        self.planets.append(planetname)\n",
    "        \n",
    "    def remove_planet(self, planetname):\n",
    "        \"\"\"\n",
    "        Remove a planet from the universe.\n",
    "        \"\"\"\n",
    "        if planetname in self.planets:\n",
    "            self.planets.remove(planetname)"
   ]
  },
  {
   "cell_type": "code",
   "execution_count": 9,
   "metadata": {
    "collapsed": false
   },
   "outputs": [
    {
     "name": "stdout",
     "output_type": "stream",
     "text": [
      "Sun\n",
      "Mercury\n",
      "Venus\n",
      "Earth\n",
      "Mars\n",
      "Jupiter\n",
      "Saturn\n",
      "Uranus\n",
      "Neptune\n",
      "Pluto\n",
      "Sun\n",
      "Mercury\n",
      "Venus\n",
      "Earth\n",
      "Mars\n",
      "Jupiter\n",
      "Saturn\n",
      "Uranus\n",
      "Neptune\n",
      "Sun\n",
      "Mercury\n",
      "Venus\n",
      "Earth\n",
      "Mars\n",
      "Jupiter\n",
      "Saturn\n",
      "Uranus\n",
      "Neptune\n",
      "Pluto\n",
      "God\n"
     ]
    }
   ],
   "source": [
    "# list of planet names in the solar system\n",
    "planets_in_solar_system = [\n",
    "    'Sun', \n",
    "    'Mercury', \n",
    "    'Venus', \n",
    "    'Earth', \n",
    "    'Mars', \n",
    "    'Jupiter', \n",
    "    'Saturn', \n",
    "    'Uranus', \n",
    "    'Neptune', \n",
    "    'Pluto'\n",
    "]            \n",
    "\n",
    "# this line will create a Universe type object\n",
    "solar_system = Universe(planets_in_solar_system)\n",
    "# these are method calls \n",
    "solar_system.print_planets()\n",
    "solar_system.remove_planet('Pluto')\n",
    "solar_system.print_planets()\n",
    "solar_system.add_planet('Pluto')\n",
    "solar_system.print_planets()\n",
    "# this is a reference to the class' attribute\n",
    "print solar_system.creator"
   ]
  },
  {
   "cell_type": "markdown",
   "metadata": {},
   "source": [
    "Now it's your turn! Create an object for storing 2d mathematical points."
   ]
  },
  {
   "cell_type": "code",
   "execution_count": 10,
   "metadata": {
    "collapsed": false
   },
   "outputs": [],
   "source": [
    "# use the class keyword to define the 'Point' class\n",
    "# don't forget to add a docstring!\n",
    "class Point:\n",
    "    \"\"\"Defines a mathematical point.\"\"\"\n",
    "    \n",
    "    # define the constructor, with two arguments: x, y\n",
    "    def __init__(self, x, y):\n",
    "        self.x = x\n",
    "        self.y = y\n",
    "\n",
    "    # define a method (distance) which tells the distance between the point\n",
    "    # and an another point (given as an argument).\n",
    "    def distance(self, other):\n",
    "        return ((self.x - other.x)**2+(self.y - other.y)**2)**0.5"
   ]
  },
  {
   "cell_type": "markdown",
   "metadata": {},
   "source": [
    "### Inheritence"
   ]
  },
  {
   "cell_type": "markdown",
   "metadata": {},
   "source": [
    "Let's start with creating a creature class!"
   ]
  },
  {
   "cell_type": "code",
   "execution_count": 11,
   "metadata": {
    "collapsed": false
   },
   "outputs": [],
   "source": [
    "class Creature:\n",
    "    \"\"\"\n",
    "    Defines creatures.\n",
    "    \"\"\"\n",
    "    def __init__(self, name, age):\n",
    "        self.name = name\n",
    "        self.age = age\n",
    "        \n",
    "    def define(self):\n",
    "        print 'It is a', self.age, 'year old', self.name, '.'"
   ]
  },
  {
   "cell_type": "code",
   "execution_count": 12,
   "metadata": {
    "collapsed": false
   },
   "outputs": [
    {
     "name": "stdout",
     "output_type": "stream",
     "text": [
      "<__main__.Creature instance at 0x1029610e0>\n",
      "It is a 3 year old cat .\n"
     ]
    }
   ],
   "source": [
    "cat = Creature('cat', 3)\n",
    "print cat\n",
    "cat.define()"
   ]
  },
  {
   "cell_type": "markdown",
   "metadata": {},
   "source": [
    "Let's say that we also want to create a human class. Humans are also creatures, so they naturally has some common attributes with the creatures. Let's inherit the human class from the creature class."
   ]
  },
  {
   "cell_type": "code",
   "execution_count": 13,
   "metadata": {
    "collapsed": false
   },
   "outputs": [],
   "source": [
    "class Human(Creature):\n",
    "    \"\"\"\n",
    "    Defines a human.\n",
    "    \"\"\"\n",
    "    def __init__(self, name, age, nationality):\n",
    "        Creature.__init__(self, name, age)\n",
    "        self.nationality = nationality\n",
    "        \n",
    "    def define2(self):\n",
    "        print 'It\\'s', self.name, '. He/she is a', self.age, 'year old', self.nationality, 'person.'\n"
   ]
  },
  {
   "cell_type": "code",
   "execution_count": 14,
   "metadata": {
    "collapsed": false
   },
   "outputs": [
    {
     "name": "stdout",
     "output_type": "stream",
     "text": [
      "It is a 7 year old dog .\n",
      "It is a 25 year old Szilvi .\n",
      "It's Szilvi . He/she is a 25 year old hungarian person.\n"
     ]
    }
   ],
   "source": [
    "# creature\n",
    "dog = Creature('dog', 7)\n",
    "dog.define()\n",
    "\n",
    "# human\n",
    "szilvi = Human('Szilvi', 25, 'hungarian')\n",
    "szilvi.define()\n",
    "szilvi.define2()"
   ]
  },
  {
   "cell_type": "markdown",
   "metadata": {},
   "source": [
    "Your turn! Create a 3d point class which is inherited from the 2d point class!"
   ]
  },
  {
   "cell_type": "code",
   "execution_count": 15,
   "metadata": {
    "collapsed": false
   },
   "outputs": [],
   "source": [
    "# Inherit the new class from the Point class! Let's call it 'Point3d'!\n",
    "class Point3D(Point):\n",
    "\n",
    "    # in the __init__ function we'll have a 'z' attribute as well!\n",
    "    # don't forget to call the 2d point's constructor method!\n",
    "    def __init__(self, x, y, z):\n",
    "        Point.__init__(self, x, y)\n",
    "        self.z = z\n",
    "\n",
    "    # define a new distance function (distance3d) to compute 3d distance\n",
    "    def distance3d(self, other):\n",
    "        return ((self.x - other.x)**2 + (self.y - other.y)**2 + (self.z - other.z))**0.5\n"
   ]
  },
  {
   "cell_type": "code",
   "execution_count": 16,
   "metadata": {
    "collapsed": false
   },
   "outputs": [
    {
     "name": "stdout",
     "output_type": "stream",
     "text": [
      "1.73205080757\n",
      "1.41421356237\n"
     ]
    }
   ],
   "source": [
    "a = Point3D(1,1,1)\n",
    "b = Point3D(0,0,0)\n",
    "print a.distance3d(b)\n",
    "print a.distance(b)"
   ]
  },
  {
   "cell_type": "markdown",
   "metadata": {},
   "source": [
    "### Challenge time!"
   ]
  },
  {
   "cell_type": "code",
   "execution_count": 17,
   "metadata": {
    "collapsed": false
   },
   "outputs": [],
   "source": [
    "import random\n",
    "# create the RPS class\n",
    "class RPS:\n",
    "    # it should have a class attribute: a list of possible moves\n",
    "    moves = 'rps'\n",
    "    # the constructor shouldn't have any arguments => you don't have to define it at all\n",
    "\n",
    "    # the move method should randomly return a move\n",
    "    def move(self):\n",
    "        return random.choice(self.moves)\n",
    "    # the play method should play the game:\n",
    "    # - ask for a move\n",
    "    # - generate a move\n",
    "    # - decide who won\n",
    "    def play(self, human):\n",
    "        if human not in self.moves:\n",
    "            print 'Wrong move buddy!'\n",
    "        computer = self.move()\n",
    "        print human, 'vs', computer\n",
    "        if human == computer:\n",
    "            return 'Draw!'\n",
    "        elif (human == 'r' and computer == 'p'\n",
    "             or human == 'p' and computer == 's'\n",
    "             or human == 's' and computer == 'r'):\n",
    "            print 'You\\'ve lost!'\n",
    "        else:\n",
    "            print 'You\\'ve won!'\n",
    "        \n",
    "# create a cheater RPS:\n",
    "class cheaterRPS(RPS):\n",
    "    # it should have a history object-attribute, so an __init__ method is a must\n",
    "    def __init__(self):\n",
    "        self.history = ['r', 'p', 's']\n",
    "    \n",
    "    # the move method should use the history to pick it's move\n",
    "    def move(self):\n",
    "        return random.choice(self.history)\n",
    "    # the play method should store the player's decisions into the history attribute\n",
    "    def play(self, pc):\n",
    "        if pc == 'r':\n",
    "            self.history.append('p')\n",
    "        elif pc == 'p':\n",
    "            self.history.append('s')\n",
    "        else:\n",
    "            self.history.append('r')\n",
    "        return RPS.play(self, pc)"
   ]
  },
  {
   "cell_type": "code",
   "execution_count": 18,
   "metadata": {
    "collapsed": false
   },
   "outputs": [
    {
     "name": "stdout",
     "output_type": "stream",
     "text": [
      "r vs s\n",
      "You've won!\n",
      "p vs s\n",
      "You've lost!\n",
      "s vs p\n",
      "You've won!\n",
      "r vs p\n",
      "You've lost!\n",
      "p vs s\n",
      "You've lost!\n",
      "s vs s\n",
      "['r', 'p', 's', 'p', 's', 'r', 'p', 's', 'r']\n"
     ]
    }
   ],
   "source": [
    "game = cheaterRPS()\n",
    "game.play('r')\n",
    "game.play('p')\n",
    "game.play('s')\n",
    "game.play('r')\n",
    "game.play('p')\n",
    "game.play('s')\n",
    "print game.history"
   ]
  },
  {
   "cell_type": "markdown",
   "metadata": {},
   "source": [
    "Write a product class. It should have a name and a price.  \n",
    "Write a store class! It should have a stock of products. It should be able to restock, and sell."
   ]
  },
  {
   "cell_type": "code",
   "execution_count": 33,
   "metadata": {
    "collapsed": false
   },
   "outputs": [],
   "source": [
    "# product class\n",
    "class Product(object):\n",
    "    def __init__(self, name, price):\n",
    "        self.name = name\n",
    "        self.price = price\n",
    "\n",
    "# store class\n",
    "class Store(object):\n",
    "    def __init__(self, stock):\n",
    "        self.stock = stock or {}\n",
    "        \n",
    "    # restock method should have 1 arguments: the list of the products\n",
    "    def restock(self, products):\n",
    "        for product in products:\n",
    "            if product in self.stock.keys():\n",
    "                self.stock[product] += 1\n",
    "            else:\n",
    "                self.stock[product] = 1\n",
    "\n",
    "    # sell method should have 1 argument: the list of products.\n",
    "    # it should print what was sold, and if it is out of stock.\n",
    "    def sell(self, products):\n",
    "        for product in products:\n",
    "            if product not in self.stock.keys():\n",
    "                print 'Not available.'\n",
    "            elif self.stock[product] == 0:\n",
    "                print '{p.name} Sold out!'.format(p=product_map[product])\n",
    "            else:\n",
    "                self.stock[product] -= 1\n",
    "                print ('One {p.name} sold for {p.price}! '\n",
    "                       'Remaining: {stock}').format(p=product_map[product], \n",
    "                                                    stock=self.stock[product])"
   ]
  },
  {
   "cell_type": "code",
   "execution_count": 34,
   "metadata": {
    "collapsed": false
   },
   "outputs": [
    {
     "name": "stdout",
     "output_type": "stream",
     "text": [
      "Not available.\n",
      "One ni sold for 5! Remaining: 0\n",
      "One pidgeon sold for 100! Remaining: 1\n",
      "One ham sold for 20! Remaining: 4\n",
      "One ham sold for 20! Remaining: 3\n",
      "One ham sold for 20! Remaining: 2\n",
      "One ham sold for 20! Remaining: 1\n",
      "One ham sold for 20! Remaining: 0\n",
      "ham Sold out!\n",
      "One knight sold for 50! Remaining: 2\n",
      "One ham sold for 20! Remaining: 9\n"
     ]
    }
   ],
   "source": [
    "product_map = {\n",
    "    'ham': Product('ham', 20),\n",
    "    'spam': Product('spam', 10),\n",
    "    'ni': Product('ni', 5),\n",
    "    'pidgeon': Product('pidgeon', 100),\n",
    "    'knight': Product('knight', 50)\n",
    "}\n",
    "\n",
    "init_stock = {\n",
    "    'ham': 5, \n",
    "    'spam': 10,\n",
    "    'ni': 1,\n",
    "    'pidgeon': 2\n",
    "}\n",
    "\n",
    "buy_list_1 = ['hame', 'ni', 'pidgeon']\n",
    "buy_list_1.extend(['ham']*6)\n",
    "restock = ['knight', 'knight', 'knight']\n",
    "restock.extend(['ham']*10)\n",
    "buy_list_2 = ['knight', 'ham']\n",
    "\n",
    "store = Store(init_stock)\n",
    "store.sell(buy_list_1)\n",
    "store.restock(restock)\n",
    "store.sell(buy_list_2)"
   ]
  },
  {
   "cell_type": "markdown",
   "metadata": {},
   "source": [
    "### Homework"
   ]
  },
  {
   "cell_type": "markdown",
   "metadata": {},
   "source": [
    "Write a 2d point class. Using the point class, create a square class which will store the 4 cornerpoints. Make it able to compute it's area!   \n",
    "Inherit a rectangle class from the square class!"
   ]
  },
  {
   "cell_type": "code",
   "execution_count": 37,
   "metadata": {
    "collapsed": false
   },
   "outputs": [],
   "source": [
    "# Point class\n",
    "class Point(object):\n",
    "    def __init__(self, x, y):\n",
    "        self.x = x\n",
    "        self.y = y\n",
    "    def dist(self, other):\n",
    "        return ((self.x - other.x)**2 + (self.y - other.y)**2)**0.5\n",
    "\n",
    "# Square class\n",
    "class Square(object):\n",
    "    def __init__(self, a, b, c, d):\n",
    "        \"\"\"Cornerpoints a, b, c, d:\n",
    "        a--b\n",
    "        |  |\n",
    "        |  |\n",
    "        c--d\n",
    "        \"\"\"\n",
    "        self.a = a\n",
    "        self.b = b\n",
    "        self.c = c\n",
    "        self.d = d\n",
    "    \n",
    "    def area(self):\n",
    "        return self.a.dist(self.c)**2\n",
    "        \n",
    "# Rectangle class\n",
    "class Rectangle(Square):\n",
    "    def area(self):\n",
    "        return self.a.dist(self.c) * self.c.dist(self.d)"
   ]
  },
  {
   "cell_type": "code",
   "execution_count": 39,
   "metadata": {
    "collapsed": false
   },
   "outputs": [
    {
     "name": "stdout",
     "output_type": "stream",
     "text": [
      "1.0\n",
      "2.0\n"
     ]
    }
   ],
   "source": [
    "square = Square(Point(0,1), Point(1,1), Point(0,0), Point(1,0))\n",
    "print square.area()\n",
    "rect = Rectangle(Point(0,1), Point(2,1), Point(0,0), Point(2,0))\n",
    "print rect.area()"
   ]
  }
 ],
 "metadata": {
  "kernelspec": {
   "display_name": "Python 2",
   "language": "python",
   "name": "python2"
  },
  "language_info": {
   "codemirror_mode": {
    "name": "ipython",
    "version": 2
   },
   "file_extension": ".py",
   "mimetype": "text/x-python",
   "name": "python",
   "nbconvert_exporter": "python",
   "pygments_lexer": "ipython2",
   "version": "2.7.6"
  }
 },
 "nbformat": 4,
 "nbformat_minor": 0
}
