{
 "cells": [
  {
   "cell_type": "markdown",
   "metadata": {},
   "source": [
    "# Python 101 @ SzISz IV.\n",
    "\n",
    "---\n",
    "\n",
    "## Previously on Python101: File I/O\n",
    "\n",
    "Write to a file:"
   ]
  },
  {
   "cell_type": "code",
   "execution_count": null,
   "metadata": {
    "collapsed": false
   },
   "outputs": [],
   "source": [
    "import string\n",
    "filename = 'myfile.txt'\n",
    "mode = 'w' # as [W]riting\n",
    "with open(filename, mode) as my_file:\n",
    "    for letter in string.ascii_letters:\n",
    "        my_file.write(letter)"
   ]
  },
  {
   "cell_type": "code",
   "execution_count": null,
   "metadata": {
    "collapsed": false
   },
   "outputs": [],
   "source": [
    "import string\n",
    "filename = 'myfile.txt'\n",
    "mode = 'a' # as [A]ppending\n",
    "with open(filename, mode) as my_file:\n",
    "    for letter in string.ascii_letters[::-1]:\n",
    "        my_file.write(letter)"
   ]
  },
  {
   "cell_type": "markdown",
   "metadata": {},
   "source": [
    "Read from a file:"
   ]
  },
  {
   "cell_type": "code",
   "execution_count": null,
   "metadata": {
    "collapsed": false
   },
   "outputs": [],
   "source": [
    "filename = 'myfile.txt'\n",
    "mode = 'r' # as [R]eading\n",
    "with open(filename, mode) as my_file:\n",
    "    for line in my_file:\n",
    "        print line"
   ]
  },
  {
   "cell_type": "markdown",
   "metadata": {},
   "source": [
    "__UNICODE ALERT!__"
   ]
  },
  {
   "cell_type": "code",
   "execution_count": null,
   "metadata": {
    "collapsed": false
   },
   "outputs": [],
   "source": [
    "my_unicode_string = u'Árvíztűrő tükörfúrógép'\n",
    "import codecs\n",
    "filename = 'myunicodefile.txt'\n",
    "mode = 'w'\n",
    "encoding = 'utf-8'\n",
    "with codecs.open(filename, mode, encoding) as my_file:\n",
    "    my_file.write(my_unicode_string)"
   ]
  },
  {
   "cell_type": "code",
   "execution_count": null,
   "metadata": {
    "collapsed": false
   },
   "outputs": [],
   "source": [
    "my_unicode_string = u'Árvíztűrő tükörfúrógép'\n",
    "import codecs\n",
    "filename = 'myunicodefile.txt'\n",
    "mode = 'r'\n",
    "encoding = 'utf-8'\n",
    "with codecs.open(filename, mode, encoding) as my_file:\n",
    "    for line in my_file:\n",
    "        print line"
   ]
  },
  {
   "cell_type": "markdown",
   "metadata": {},
   "source": [
    "## Today on Python101: Classes\n",
    "\n",
    "### Class basics\n",
    "\n",
    "In Python, everything is an object. So when you create a variable, you actually created an object. The object you creates stores values.  \n",
    "You can even create your own objects, by defining a class. A class describes the object you will create."
   ]
  },
  {
   "cell_type": "code",
   "execution_count": null,
   "metadata": {
    "collapsed": false
   },
   "outputs": [],
   "source": [
    "# create the class\n",
    "class Myclass:\n",
    "    foo = 1\n",
    "    def bar(self):\n",
    "        print 'Hello World!'\n",
    "# create the object\n",
    "myobject = Myclass()\n",
    "# you can reference to the values you set in the class definition by\n",
    "# using object_name.attribute_name\n",
    "print myobject.foo\n",
    "# you can also execute the functions from your class definition in the same way:\n",
    "myobject.bar()"
   ]
  },
  {
   "cell_type": "markdown",
   "metadata": {},
   "source": [
    "OO believers sais that the universe was created by calling its constructor:"
   ]
  },
  {
   "cell_type": "code",
   "execution_count": null,
   "metadata": {
    "collapsed": false
   },
   "outputs": [],
   "source": [
    "# Universe class\n",
    "# Use the class keyword to create a class\n",
    "# The naming convention is to start the class' name with capital letter\n",
    "class Universe:\n",
    "    \"\"\"\n",
    "    This is a docstring for the Universe class.\n",
    "    If the user needs help, he/she can read this string.\n",
    "    \"\"\"\n",
    "    \n",
    "    # a class can have attributes and methods\n",
    "    # this is the 'creator' attribute\n",
    "    # the class attributes will be the same in every instance\n",
    "    creator = 'God'\n",
    "    \n",
    "    # this is the constructor method.\n",
    "    # the first argument is always the 'self', as a reference to the class itself\n",
    "    def __init__(self, planets):\n",
    "        \"\"\"\n",
    "        Constructor function. When an object created, \n",
    "        this function will be executed.\n",
    "        \"\"\"\n",
    "        # object attribute. it's value will be set during init,\n",
    "        # so it can be different in every instance\n",
    "        self.planets = planets\n",
    "    \n",
    "    def print_planets(self):\n",
    "        \"\"\"\n",
    "        Print the planet's name from the universe.\n",
    "        \"\"\"\n",
    "        # you can access the object's attributes/methods inside the class\n",
    "        # by using the 'self' keyword\n",
    "        for planet in self.planets:\n",
    "            print planet\n",
    "            \n",
    "    def add_planet(self, planetname):\n",
    "        \"\"\"\n",
    "        Add a planet to the universe.\n",
    "        \"\"\"\n",
    "        self.planets.append(planetname)\n",
    "        \n",
    "    def remove_planet(self, planetname):\n",
    "        \"\"\"\n",
    "        Remove a planet from the universe.\n",
    "        \"\"\"\n",
    "        if planetname in self.planets:\n",
    "            self.planets.remove(planetname)"
   ]
  },
  {
   "cell_type": "code",
   "execution_count": null,
   "metadata": {
    "collapsed": false
   },
   "outputs": [],
   "source": [
    "# list of planet names in the solar system\n",
    "planets_in_solar_system = [\n",
    "    'Sun', \n",
    "    'Mercury', \n",
    "    'Venus', \n",
    "    'Earth', \n",
    "    'Mars', \n",
    "    'Jupiter', \n",
    "    'Saturn', \n",
    "    'Uranus', \n",
    "    'Neptune', \n",
    "    'Pluto'\n",
    "]            \n",
    "\n",
    "# this line will create a Universe type object\n",
    "solar_system = Universe(planets_in_solar_system)\n",
    "# these are method calls \n",
    "solar_system.print_planets()\n",
    "solar_system.remove_planet('Pluto')\n",
    "solar_system.print_planets()\n",
    "solar_system.add_planet('Pluto')\n",
    "solar_system.print_planets()\n",
    "# this is a reference to the class' attribute\n",
    "print solar_system.creator"
   ]
  },
  {
   "cell_type": "markdown",
   "metadata": {},
   "source": [
    "### Now it's your turn! \n",
    "\n",
    "Create an object for storing 2d mathematical points.\n",
    "\n",
    "- Use the class keyword to define the 'Point' class, and don't forget to add a docstring!\n",
    "- Define the constructor, with two arguments: x, y\n",
    "- Define a method (distance) which tells the distance between the point and an another point (given as an argument).\n",
    "\n",
    "\n"
   ]
  },
  {
   "cell_type": "code",
   "execution_count": null,
   "metadata": {
    "collapsed": false
   },
   "outputs": [],
   "source": []
  },
  {
   "cell_type": "markdown",
   "metadata": {},
   "source": [
    "### Inheritence\n",
    "\n",
    "Let's start with creating a creature class!"
   ]
  },
  {
   "cell_type": "code",
   "execution_count": null,
   "metadata": {
    "collapsed": false
   },
   "outputs": [],
   "source": [
    "class Creature(object):\n",
    "    \"\"\"\n",
    "    Defines creatures.\n",
    "    \"\"\"\n",
    "    def __init__(self, name, age):\n",
    "        self.name = name\n",
    "        self.age = age\n",
    "        \n",
    "    def define(self):\n",
    "        print 'It is a', self.age, 'year old', self.name, '.'"
   ]
  },
  {
   "cell_type": "markdown",
   "metadata": {},
   "source": [
    "Let's say that we also want to create a human class. Humans are also creatures, so they naturally has some common attributes with the creatures. Let's inherit the human class from the creature class."
   ]
  },
  {
   "cell_type": "code",
   "execution_count": null,
   "metadata": {
    "collapsed": false
   },
   "outputs": [],
   "source": [
    "class Human(Creature):\n",
    "    \"\"\"\n",
    "    Defines a human.\n",
    "    \"\"\"\n",
    "    def __init__(self, name, age, nationality):\n",
    "        Creature.__init__(self, name, age)\n",
    "        self.nationality = nationality\n",
    "        \n",
    "    def define2(self):\n",
    "        print 'It\\'s', self.name, '. He/she is a', self.age, 'year old', self.nationality, 'person.'\n"
   ]
  },
  {
   "cell_type": "code",
   "execution_count": null,
   "metadata": {
    "collapsed": false
   },
   "outputs": [],
   "source": [
    "# creature\n",
    "dog = Creature('dog', 7)\n",
    "dog.define()\n",
    "\n",
    "# human\n",
    "szilvi = Human('Szilvi', 25, 'hungarian')\n",
    "szilvi.define()\n",
    "szilvi.define2()"
   ]
  },
  {
   "cell_type": "markdown",
   "metadata": {},
   "source": [
    "### Your turn! \n",
    "\n",
    "Create a 3d point class which is inherited from the 2d point class!\n",
    "\n",
    "- Inherit the new class from the Point class! Let's call it 'Point3d'!\n",
    "- In the `__init__` function we'll now have a third attribute called `'z'` as well!\n",
    "- Don't forget to call the 2d point's constructor method!\n",
    "- Define a new distance function (distance3d) to compute 3d distance\n"
   ]
  },
  {
   "cell_type": "code",
   "execution_count": null,
   "metadata": {
    "collapsed": false
   },
   "outputs": [],
   "source": []
  },
  {
   "cell_type": "markdown",
   "metadata": {},
   "source": [
    "From now on, every top level class should inherit from the `object` class. It is the \"new type\" object introduced in Python 2.3, and now it is the standard. It is recommended to inherit your classes from `object` for compatibility reasons. If you don't it's up to you. _You've been warned!_\n",
    "\n",
    "### Challenge time!\n",
    "\n",
    "__Create the RPS game as a class!__\n",
    "\n",
    "- The object should have a class attribute: a list of possible moves\n",
    "- The constructor shouldn't have any arguments => you don't have to define it at all\n",
    "- There should be a move method which should randomly return a move\n",
    "- Finally, there should be a play method, which should play the game:\n",
    "    - ask for a move\n",
    "    - generate a move\n",
    "    - decide who won"
   ]
  },
  {
   "cell_type": "code",
   "execution_count": null,
   "metadata": {
    "collapsed": false
   },
   "outputs": [],
   "source": [
    "import random\n"
   ]
  },
  {
   "cell_type": "markdown",
   "metadata": {},
   "source": [
    "__Create a cheater RPS:__\n",
    "\n",
    "- It should have a history object-attribute, so an `__init__` method is a must\n",
    "- The move method should use the history to pick it's move\n",
    "- The play method should store the player's decisions into the history attribute"
   ]
  },
  {
   "cell_type": "code",
   "execution_count": null,
   "metadata": {
    "collapsed": true
   },
   "outputs": [],
   "source": []
  },
  {
   "cell_type": "markdown",
   "metadata": {},
   "source": [
    "__Write a stock system!__\n",
    "\n",
    "- Write a product class.\n",
    "    - It should have a name and a price. \n",
    "- Write a store class! \n",
    "    - It should have a stock of products. \n",
    "    - It should be able to restock, and sell.\n",
    "    - The restock method should have 2 arguments: product and amount\n",
    "    - The sell method should have 1 argument: the list of products.\n",
    "    - The sell method shoud print what was sold, and if it is out of stock."
   ]
  },
  {
   "cell_type": "code",
   "execution_count": null,
   "metadata": {
    "collapsed": false
   },
   "outputs": [],
   "source": []
  },
  {
   "cell_type": "markdown",
   "metadata": {},
   "source": [
    "### Homework\n",
    "\n",
    "Write a 2d point class. Using the point class, create a square class which will store the 4 cornerpoints. Make it able to compute it's area!  \n",
    "Inherit a rectangle class from the square class!\n",
    "\n",
    "What classes should you write?\n",
    "\n",
    "- Point class\n",
    "- Square class\n",
    "- Rectangle class"
   ]
  },
  {
   "cell_type": "code",
   "execution_count": null,
   "metadata": {
    "collapsed": false
   },
   "outputs": [],
   "source": []
  }
 ],
 "metadata": {
  "kernelspec": {
   "display_name": "Python 2",
   "language": "python",
   "name": "python2"
  },
  "language_info": {
   "codemirror_mode": {
    "name": "ipython",
    "version": 2
   },
   "file_extension": ".py",
   "mimetype": "text/x-python",
   "name": "python",
   "nbconvert_exporter": "python",
   "pygments_lexer": "ipython2",
   "version": "2.7.10"
  }
 },
 "nbformat": 4,
 "nbformat_minor": 0
}
