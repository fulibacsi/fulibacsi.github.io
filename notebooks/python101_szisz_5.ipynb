{
 "cells": [
  {
   "cell_type": "markdown",
   "metadata": {},
   "source": [
    "# Python 101 @ SzISz IV."
   ]
  },
  {
   "cell_type": "markdown",
   "metadata": {},
   "source": [
    "---"
   ]
  },
  {
   "cell_type": "markdown",
   "metadata": {},
   "source": [
    "## Previously on Python 101"
   ]
  },
  {
   "cell_type": "code",
   "execution_count": 1,
   "metadata": {
    "collapsed": false
   },
   "outputs": [
    {
     "name": "stdout",
     "output_type": "stream",
     "text": [
      "my attribute\n",
      "new value\n",
      "new value\n"
     ]
    }
   ],
   "source": [
    "class MyClass:\n",
    "    def __init__(self, attribute):\n",
    "        self.attribute = attribute\n",
    "        \n",
    "    def get(self):\n",
    "        return self.attribute\n",
    "    \n",
    "    def set(self, attribute):\n",
    "        self.attribute = attribute\n",
    "        \n",
    "myclass = MyClass('my attribute')\n",
    "print myclass.get()\n",
    "myclass.set('new value')\n",
    "print myclass.attribute\n",
    "print myclass.get()"
   ]
  },
  {
   "cell_type": "markdown",
   "metadata": {},
   "source": [
    "## Today on Python 101: Exceptions"
   ]
  },
  {
   "cell_type": "markdown",
   "metadata": {},
   "source": [
    "### Errors"
   ]
  },
  {
   "cell_type": "markdown",
   "metadata": {},
   "source": [
    "If the code is syntactically incorrect the interpreter won't be able to execute it. -> You'll get a syntax error."
   ]
  },
  {
   "cell_type": "code",
   "execution_count": 2,
   "metadata": {
    "collapsed": false
   },
   "outputs": [
    {
     "ename": "SyntaxError",
     "evalue": "invalid syntax (<ipython-input-2-f4b9dbd125c8>, line 1)",
     "output_type": "error",
     "traceback": [
      "\u001b[0;36m  File \u001b[0;32m\"<ipython-input-2-f4b9dbd125c8>\"\u001b[0;36m, line \u001b[0;32m1\u001b[0m\n\u001b[0;31m    while True print 'Hello world'\u001b[0m\n\u001b[0m                   ^\u001b[0m\n\u001b[0;31mSyntaxError\u001b[0m\u001b[0;31m:\u001b[0m invalid syntax\n"
     ]
    }
   ],
   "source": [
    "while True print 'Hello world'"
   ]
  },
  {
   "cell_type": "markdown",
   "metadata": {},
   "source": [
    "### Exceptions"
   ]
  },
  {
   "cell_type": "markdown",
   "metadata": {},
   "source": [
    "If the code is syntactically correct unexpected events can still happen during execution, and the program will terminate like this:"
   ]
  },
  {
   "cell_type": "code",
   "execution_count": 3,
   "metadata": {
    "collapsed": false
   },
   "outputs": [
    {
     "name": "stdout",
     "output_type": "stream",
     "text": [
      "2\n"
     ]
    },
    {
     "ename": "ZeroDivisionError",
     "evalue": "integer division or modulo by zero",
     "output_type": "error",
     "traceback": [
      "\u001b[0;31m---------------------------------------------------------------------------\u001b[0m",
      "\u001b[0;31mZeroDivisionError\u001b[0m                         Traceback (most recent call last)",
      "\u001b[0;32m<ipython-input-3-eccbee06b0e1>\u001b[0m in \u001b[0;36m<module>\u001b[0;34m()\u001b[0m\n\u001b[1;32m      6\u001b[0m \u001b[0mdivide\u001b[0m \u001b[0;34m=\u001b[0m \u001b[0mDivider\u001b[0m\u001b[0;34m(\u001b[0m\u001b[0;34m)\u001b[0m\u001b[0;34m\u001b[0m\u001b[0m\n\u001b[1;32m      7\u001b[0m \u001b[0;32mprint\u001b[0m \u001b[0mdivide\u001b[0m\u001b[0;34m(\u001b[0m\u001b[0;36m2\u001b[0m\u001b[0;34m,\u001b[0m \u001b[0;36m1\u001b[0m\u001b[0;34m)\u001b[0m\u001b[0;34m\u001b[0m\u001b[0m\n\u001b[0;32m----> 8\u001b[0;31m \u001b[0;32mprint\u001b[0m \u001b[0mdivide\u001b[0m\u001b[0;34m(\u001b[0m\u001b[0;36m1\u001b[0m\u001b[0;34m,\u001b[0m \u001b[0;36m0\u001b[0m\u001b[0;34m)\u001b[0m\u001b[0;34m\u001b[0m\u001b[0m\n\u001b[0m\u001b[1;32m      9\u001b[0m \u001b[0;32mprint\u001b[0m \u001b[0mdivide\u001b[0m\u001b[0;34m(\u001b[0m\u001b[0;36m3\u001b[0m\u001b[0;34m,\u001b[0m \u001b[0;36m2\u001b[0m\u001b[0;34m)\u001b[0m\u001b[0;34m\u001b[0m\u001b[0m\n",
      "\u001b[0;32m<ipython-input-3-eccbee06b0e1>\u001b[0m in \u001b[0;36m__call__\u001b[0;34m(self, num1, num2)\u001b[0m\n\u001b[1;32m      2\u001b[0m     \u001b[0;31m# the call method is called, if we call the object itself\u001b[0m\u001b[0;34m\u001b[0m\u001b[0;34m\u001b[0m\u001b[0m\n\u001b[1;32m      3\u001b[0m     \u001b[0;32mdef\u001b[0m \u001b[0m__call__\u001b[0m\u001b[0;34m(\u001b[0m\u001b[0mself\u001b[0m\u001b[0;34m,\u001b[0m \u001b[0mnum1\u001b[0m\u001b[0;34m,\u001b[0m \u001b[0mnum2\u001b[0m\u001b[0;34m)\u001b[0m\u001b[0;34m:\u001b[0m\u001b[0;34m\u001b[0m\u001b[0m\n\u001b[0;32m----> 4\u001b[0;31m         \u001b[0;32mreturn\u001b[0m \u001b[0mnum1\u001b[0m\u001b[0;34m/\u001b[0m\u001b[0mnum2\u001b[0m\u001b[0;34m\u001b[0m\u001b[0m\n\u001b[0m\u001b[1;32m      5\u001b[0m \u001b[0;34m\u001b[0m\u001b[0m\n\u001b[1;32m      6\u001b[0m \u001b[0mdivide\u001b[0m \u001b[0;34m=\u001b[0m \u001b[0mDivider\u001b[0m\u001b[0;34m(\u001b[0m\u001b[0;34m)\u001b[0m\u001b[0;34m\u001b[0m\u001b[0m\n",
      "\u001b[0;31mZeroDivisionError\u001b[0m: integer division or modulo by zero"
     ]
    }
   ],
   "source": [
    "class Divider:\n",
    "    # the call method is called, if we call the object itself\n",
    "    def __call__(self, num1, num2):\n",
    "        return num1/num2\n",
    "    \n",
    "divide = Divider()\n",
    "print divide(2, 1)\n",
    "print divide(1, 0)\n",
    "print divide(3, 2)"
   ]
  },
  {
   "cell_type": "markdown",
   "metadata": {},
   "source": [
    "As we can see, dividing by zero is not possible, so a ZeroDivisionError emerged and our program stopped. Our program shouldn't stop running, so we have to handle these cases! -> Let's use Exceptions!"
   ]
  },
  {
   "cell_type": "code",
   "execution_count": 5,
   "metadata": {
    "collapsed": false
   },
   "outputs": [
    {
     "name": "stdout",
     "output_type": "stream",
     "text": [
      "2\n",
      "Dividing by zero is not possible!\n",
      "0\n",
      "1\n"
     ]
    }
   ],
   "source": [
    "class Divider:\n",
    "    def __call__(self, num1, num2):\n",
    "        # in order to catch the errors, we need to use the try except structure:\n",
    "        try:\n",
    "            # we try to do something\n",
    "            return num1/num2\n",
    "        # in case an exception happened, handle it!\n",
    "        except ZeroDivisionError:\n",
    "            print 'Dividing by zero is not possible!'\n",
    "            return 0\n",
    "            \n",
    "divide = Divider()\n",
    "print divide(2, 1)\n",
    "print divide(1, 0)\n",
    "print divide(3, 2)"
   ]
  },
  {
   "cell_type": "markdown",
   "metadata": {},
   "source": [
    "ZeroDivisionError is a subclass of the Exception class. There are many different type of Exceptions."
   ]
  },
  {
   "cell_type": "code",
   "execution_count": 6,
   "metadata": {
    "collapsed": false
   },
   "outputs": [
    {
     "name": "stdout",
     "output_type": "stream",
     "text": [
      "Dividing by zero is not possible!\n",
      "0\n"
     ]
    },
    {
     "ename": "TypeError",
     "evalue": "unsupported operand type(s) for /: 'int' and 'str'",
     "output_type": "error",
     "traceback": [
      "\u001b[0;31m---------------------------------------------------------------------------\u001b[0m",
      "\u001b[0;31mTypeError\u001b[0m                                 Traceback (most recent call last)",
      "\u001b[0;32m<ipython-input-6-e4dbdd164161>\u001b[0m in \u001b[0;36m<module>\u001b[0;34m()\u001b[0m\n\u001b[1;32m     10\u001b[0m \u001b[0;32mprint\u001b[0m \u001b[0mdivide\u001b[0m\u001b[0;34m(\u001b[0m\u001b[0;36m1\u001b[0m\u001b[0;34m,\u001b[0m \u001b[0;36m0\u001b[0m\u001b[0;34m)\u001b[0m\u001b[0;34m\u001b[0m\u001b[0m\n\u001b[1;32m     11\u001b[0m \u001b[0;31m# for example this will cause a different type of exception:\u001b[0m\u001b[0;34m\u001b[0m\u001b[0;34m\u001b[0m\u001b[0m\n\u001b[0;32m---> 12\u001b[0;31m \u001b[0;32mprint\u001b[0m \u001b[0mdivide\u001b[0m\u001b[0;34m(\u001b[0m\u001b[0;36m3\u001b[0m\u001b[0;34m,\u001b[0m \u001b[0;34m'2'\u001b[0m\u001b[0;34m)\u001b[0m\u001b[0;34m\u001b[0m\u001b[0m\n\u001b[0m",
      "\u001b[0;32m<ipython-input-6-e4dbdd164161>\u001b[0m in \u001b[0;36m__call__\u001b[0;34m(self, num1, num2)\u001b[0m\n\u001b[1;32m      2\u001b[0m     \u001b[0;32mdef\u001b[0m \u001b[0m__call__\u001b[0m\u001b[0;34m(\u001b[0m\u001b[0mself\u001b[0m\u001b[0;34m,\u001b[0m \u001b[0mnum1\u001b[0m\u001b[0;34m,\u001b[0m \u001b[0mnum2\u001b[0m\u001b[0;34m)\u001b[0m\u001b[0;34m:\u001b[0m\u001b[0;34m\u001b[0m\u001b[0m\n\u001b[1;32m      3\u001b[0m         \u001b[0;32mtry\u001b[0m\u001b[0;34m:\u001b[0m\u001b[0;34m\u001b[0m\u001b[0m\n\u001b[0;32m----> 4\u001b[0;31m             \u001b[0;32mreturn\u001b[0m \u001b[0mnum1\u001b[0m\u001b[0;34m/\u001b[0m\u001b[0mnum2\u001b[0m\u001b[0;34m\u001b[0m\u001b[0m\n\u001b[0m\u001b[1;32m      5\u001b[0m         \u001b[0;32mexcept\u001b[0m \u001b[0mZeroDivisionError\u001b[0m\u001b[0;34m:\u001b[0m\u001b[0;34m\u001b[0m\u001b[0m\n\u001b[1;32m      6\u001b[0m             \u001b[0;32mprint\u001b[0m \u001b[0;34m'Dividing by zero is not possible!'\u001b[0m\u001b[0;34m\u001b[0m\u001b[0m\n",
      "\u001b[0;31mTypeError\u001b[0m: unsupported operand type(s) for /: 'int' and 'str'"
     ]
    }
   ],
   "source": [
    "class Divider:\n",
    "    def __call__(self, num1, num2):\n",
    "        try:\n",
    "            return num1/num2\n",
    "        except ZeroDivisionError:\n",
    "            print 'Dividing by zero is not possible!'\n",
    "            return 0\n",
    "            \n",
    "divide = Divider()\n",
    "print divide(1, 0)\n",
    "# for example this will cause a different type of exception:\n",
    "print divide(3, '2')"
   ]
  },
  {
   "cell_type": "markdown",
   "metadata": {},
   "source": [
    "Like the TypeError. We cannot divide a number with a string. Let's fix it!"
   ]
  },
  {
   "cell_type": "code",
   "execution_count": 7,
   "metadata": {
    "collapsed": false
   },
   "outputs": [
    {
     "name": "stdout",
     "output_type": "stream",
     "text": [
      "Dividing by zero is not possible!\n",
      "0\n",
      "Numbers can only be divided by numbers!\n",
      "0\n"
     ]
    }
   ],
   "source": [
    "class Divider:\n",
    "    def __call__(self, num1, num2):\n",
    "        try:\n",
    "            return num1/num2\n",
    "        except ZeroDivisionError:\n",
    "            print 'Dividing by zero is not possible!'\n",
    "            return 0\n",
    "        # we can have as many except branch as many we want!\n",
    "        except TypeError:\n",
    "            print 'Numbers can only be divided by numbers!'\n",
    "            return 0\n",
    "            \n",
    "divide = Divider()\n",
    "print divide(1, 0)\n",
    "print divide(3, '2')"
   ]
  },
  {
   "cell_type": "markdown",
   "metadata": {},
   "source": [
    "We can also merge multiple exceptions into one:"
   ]
  },
  {
   "cell_type": "code",
   "execution_count": 8,
   "metadata": {
    "collapsed": false
   },
   "outputs": [
    {
     "name": "stdout",
     "output_type": "stream",
     "text": [
      "ERROR!\n",
      "0\n",
      "ERROR!\n",
      "0\n"
     ]
    }
   ],
   "source": [
    "class Divider:\n",
    "    def __call__(self, num1, num2):\n",
    "        try:\n",
    "            return num1/num2\n",
    "        except (ZeroDivisionError, TypeError):\n",
    "            print 'ERROR!'\n",
    "            return 0\n",
    "            \n",
    "divide = Divider()\n",
    "print divide(1, 0)\n",
    "print divide(3, '2')"
   ]
  },
  {
   "cell_type": "markdown",
   "metadata": {},
   "source": [
    "Other exception types:"
   ]
  },
  {
   "cell_type": "code",
   "execution_count": 9,
   "metadata": {
    "collapsed": false
   },
   "outputs": [
    {
     "name": "stdout",
     "output_type": "stream",
     "text": [
      "This string is not a number!\n",
      "There is no such thing as 'spam'!\n",
      "Index is larger then the length of the list!\n",
      "Key not exists!\n",
      "The specified file does not exist!\n"
     ]
    }
   ],
   "source": [
    "# we don't need classes to handle errors.\n",
    "\n",
    "# ValueError\n",
    "try:\n",
    "    print int('string')\n",
    "except ValueError:\n",
    "    print 'This string is not a number!'\n",
    "    \n",
    "# NameError    \n",
    "try:\n",
    "    print spam\n",
    "except NameError:\n",
    "    print 'There is no such thing as \\'spam\\'!'\n",
    "    \n",
    "# IndexError\n",
    "try:\n",
    "    mylist = [1, 2, 3]\n",
    "    print mylist[len(mylist)]\n",
    "except IndexError:\n",
    "    print 'Index is larger then the length of the list!'\n",
    "    \n",
    "# KeyError\n",
    "try:\n",
    "    mydict = {'a': 1, 'b': 2}\n",
    "    print mydict['c']\n",
    "except KeyError:\n",
    "    print 'Key not exists!'\n",
    "    \n",
    "# IOError\n",
    "try:\n",
    "    not_existing_filename = 'a_file_that_is_not_exists.txt'\n",
    "    myfile = open(not_existing_filename, 'r')\n",
    "    myfile.readlines()\n",
    "except IOError:\n",
    "    print 'The specified file does not exist!'"
   ]
  },
  {
   "cell_type": "markdown",
   "metadata": {},
   "source": [
    "BAD PRACTICE: we can catch every exception, if we're not specifically tell the program which one we want to handle:"
   ]
  },
  {
   "cell_type": "code",
   "execution_count": 10,
   "metadata": {
    "collapsed": false
   },
   "outputs": [
    {
     "name": "stdout",
     "output_type": "stream",
     "text": [
      "ERROR!\n",
      "0\n",
      "ERROR!\n",
      "0\n"
     ]
    }
   ],
   "source": [
    "class Divider:\n",
    "    def __call__(self, num1, num2):\n",
    "        try:\n",
    "            return num1/num2\n",
    "        except:\n",
    "            print 'ERROR!'\n",
    "            return 0\n",
    "            \n",
    "divide = Divider()\n",
    "print divide(1, 0)\n",
    "print divide(3, '2')"
   ]
  },
  {
   "cell_type": "markdown",
   "metadata": {},
   "source": [
    "It's really bad, because we don't know what caused the problem. But at least we can get the details:"
   ]
  },
  {
   "cell_type": "code",
   "execution_count": 11,
   "metadata": {
    "collapsed": false
   },
   "outputs": [
    {
     "name": "stdout",
     "output_type": "stream",
     "text": [
      "ERROR! <type 'exceptions.ZeroDivisionError'>\n",
      "0\n",
      "ERROR! <type 'exceptions.TypeError'>\n",
      "0\n"
     ]
    }
   ],
   "source": [
    "class Divider:\n",
    "    def __call__(self, num1, num2):\n",
    "        try:\n",
    "            return num1/num2\n",
    "        except Exception as e:\n",
    "            print 'ERROR!', type(e)\n",
    "            return 0\n",
    "            \n",
    "divide = Divider()\n",
    "print divide(1, 0)\n",
    "print divide(3, '2')"
   ]
  },
  {
   "cell_type": "markdown",
   "metadata": {},
   "source": [
    "We can even invoke Exceptions:"
   ]
  },
  {
   "cell_type": "code",
   "execution_count": 12,
   "metadata": {
    "collapsed": false
   },
   "outputs": [
    {
     "name": "stdout",
     "output_type": "stream",
     "text": [
      "This method is not yet implemented!\n",
      "<type 'exceptions.Exception'>\n",
      "('This number is not 2!',)\n",
      "This number is not 2!\n",
      "('This number is not 2!',)\n"
     ]
    }
   ],
   "source": [
    "class MyClass:\n",
    "    def awesome_method(self):\n",
    "        # you can invoke an Exception with the raise keyword\n",
    "        # use this Exception if you havent implemented a function/method yet\n",
    "        raise NotImplementedError(\"You've got to wait buddy!\")\n",
    "    \n",
    "    def method(self, number):\n",
    "        if number != 2:\n",
    "            # general exception\n",
    "            raise Exception('This number is not 2!')\n",
    "            \n",
    "        \n",
    "myclass = MyClass()\n",
    "try:\n",
    "    myclass.awesome_method()\n",
    "except NotImplementedError:\n",
    "    print 'This method is not yet implemented!'\n",
    "    \n",
    "try:\n",
    "    myclass.method(3)\n",
    "except Exception as e:\n",
    "    # print the \n",
    "    # - type of the Exception\n",
    "    print type(e)\n",
    "    # - arguments of the Exception\n",
    "    print e.args\n",
    "    # - arguments of the Exception as string\n",
    "    print e\n",
    "    arg = e.args\n",
    "    # - arguments of the Exception saved in a variable\n",
    "    print arg"
   ]
  },
  {
   "cell_type": "markdown",
   "metadata": {},
   "source": [
    "If we want to execute something only if no Exceptions were raised, we can use the else statement."
   ]
  },
  {
   "cell_type": "code",
   "execution_count": 13,
   "metadata": {
    "collapsed": false
   },
   "outputs": [
    {
     "name": "stdout",
     "output_type": "stream",
     "text": [
      "Cannot divide by Zero!\n",
      "2 / 1 = 2\n"
     ]
    }
   ],
   "source": [
    "class Divider:\n",
    "    def __call__(self, num1, num2):\n",
    "        try:\n",
    "            result = num1 / num2\n",
    "        except ZeroDivisionError:\n",
    "            print 'Cannot divide by Zero!'\n",
    "        else:\n",
    "            print num1, '/', num2, '=' , result\n",
    "            \n",
    "divide = Divider()\n",
    "divide(2, 0)\n",
    "divide(2, 1)"
   ]
  },
  {
   "cell_type": "markdown",
   "metadata": {},
   "source": [
    "We can also add a cleanup method as well:"
   ]
  },
  {
   "cell_type": "code",
   "execution_count": 14,
   "metadata": {
    "collapsed": false
   },
   "outputs": [
    {
     "name": "stdout",
     "output_type": "stream",
     "text": [
      "Cannot divide by Zero!\n",
      "finished running\n",
      "2 / 1 = 2\n",
      "finished running\n"
     ]
    }
   ],
   "source": [
    "class Divider:\n",
    "    def __call__(self, num1, num2):\n",
    "        try:\n",
    "            result = num1 / num2\n",
    "        except ZeroDivisionError:\n",
    "            print 'Cannot divide by Zero!'\n",
    "        else:\n",
    "            print num1, '/', num2, '=' , result\n",
    "        finally:\n",
    "            print 'finished running'\n",
    "            \n",
    "divide = Divider()\n",
    "divide(2, 0)\n",
    "divide(2, 1)"
   ]
  },
  {
   "cell_type": "markdown",
   "metadata": {},
   "source": [
    "We can define our own Exceptions!"
   ]
  },
  {
   "cell_type": "code",
   "execution_count": 15,
   "metadata": {
    "collapsed": false
   },
   "outputs": [
    {
     "name": "stdout",
     "output_type": "stream",
     "text": [
      "My exception occurred, value: 4\n"
     ]
    }
   ],
   "source": [
    "class MyError(Exception):\n",
    "    def __init__(self, value):\n",
    "        self.value = value\n",
    "    \n",
    "    def __str__(self):\n",
    "        # repr returns the string representation of the object.\n",
    "        return repr(self.value)\n",
    "\n",
    "try:\n",
    "    raise MyError(2*2)\n",
    "except MyError as e:\n",
    "    print 'My exception occurred, value:', e.value"
   ]
  },
  {
   "cell_type": "markdown",
   "metadata": {},
   "source": [
    "In the previous example, the default __init__() of Exception has been overridden. Instead of args, this new Exception has value attribute.   \n",
    "When creating a module that can raise several distinct errors, a common practice is to create a base class for exceptions defined by that module, and subclass that to create specific exception classes for different error conditions."
   ]
  },
  {
   "cell_type": "code",
   "execution_count": 16,
   "metadata": {
    "collapsed": false
   },
   "outputs": [],
   "source": [
    "class FuliError(Exception):\n",
    "    \"\"\"Base class for our exceptions.\"\"\"\n",
    "    pass\n",
    "\n",
    "\n",
    "class NumberError(FuliError):\n",
    "    \"\"\"Exception raised when a not wanted number entered.\"\"\"\n",
    "\n",
    "    def __init__(self, number, explanation):\n",
    "        self.number = number\n",
    "        self.exp = explanation\n",
    "\n",
    "        \n",
    "class CharacterError(FuliError):\n",
    "    \"\"\"Exception raised when a not wanted character entered.\"\"\"\n",
    "\n",
    "    def __init__(self, character):\n",
    "        self.character = character\n",
    "        self.exp = \"You messed with the wrong character, buddy!\""
   ]
  },
  {
   "cell_type": "markdown",
   "metadata": {},
   "source": [
    "### Your turn:"
   ]
  },
  {
   "cell_type": "markdown",
   "metadata": {},
   "source": [
    "Write a \"Guess the number\" game class which handle erroneous inputs!"
   ]
  },
  {
   "cell_type": "code",
   "execution_count": 37,
   "metadata": {
    "collapsed": false
   },
   "outputs": [],
   "source": [
    "# import random module\n",
    "import random\n",
    "\n",
    "# create a class\n",
    "class GuessANumber(object):\n",
    "\n",
    "    # init with a random number\n",
    "    def __init__(self, limit=10):\n",
    "        try:\n",
    "            self.limit = int(limit)\n",
    "        except ValueError as error:\n",
    "            print 'Wrong limit parameter, fallback to default.'\n",
    "            self.limit = 10\n",
    "        self.number = random.randint(0, self.limit)\n",
    "\n",
    "    # write a respond method, which returns 'Win', 'Lower', 'Higher' words as response to it's argument.\n",
    "    # in case of errors, inform the user.\n",
    "    def guess(self, guess):\n",
    "        try:\n",
    "            guess = int(guess)\n",
    "            if guess > self.number:\n",
    "                print 'Lower!'\n",
    "            elif guess < self.number:\n",
    "                print 'Higher!'\n",
    "            else:\n",
    "                print 'Win!'\n",
    "                self.number = random.randint(0, self.limit)\n",
    "        except ValueError as error:\n",
    "            print 'Input a number!'\n",
    "            "
   ]
  },
  {
   "cell_type": "code",
   "execution_count": 38,
   "metadata": {
    "collapsed": false
   },
   "outputs": [
    {
     "name": "stdout",
     "output_type": "stream",
     "text": [
      "game init... Wrong limit parameter, fallback to default.\n",
      "done. Target: 4\n",
      "- guess: valami\n",
      "Input a number!\n",
      "- guess: 0.3\n",
      "Higher!\n",
      "- guess: 5\n",
      "Lower!\n",
      "- guess: a\n",
      "Input a number!\n",
      "------------------------------\n",
      "game init... done. Target: 0\n",
      "- guess: valami\n",
      "Input a number!\n",
      "- guess: 0.3\n",
      "Win!\n",
      "- guess: 5\n",
      "Lower!\n",
      "- guess: a\n",
      "Input a number!\n",
      "------------------------------\n",
      "game init... done. Target: 1\n",
      "- guess: valami\n",
      "Input a number!\n",
      "- guess: 0.3\n",
      "Higher!\n",
      "- guess: 5\n",
      "Lower!\n",
      "- guess: a\n",
      "Input a number!\n",
      "------------------------------\n",
      "game init... Wrong limit parameter, fallback to default.\n",
      "done. Target: 3\n",
      "- guess: valami\n",
      "Input a number!\n",
      "- guess: 0.3\n",
      "Higher!\n",
      "- guess: 5\n",
      "Lower!\n",
      "- guess: a\n",
      "Input a number!\n",
      "------------------------------\n"
     ]
    }
   ],
   "source": [
    "inputs = ['valami', 0.3, 5, 'a']\n",
    "for inp in inputs:\n",
    "    print 'game init...',\n",
    "    game = GuessANumber(inp)\n",
    "    print 'done. Target:', game.number\n",
    "    for guess in inputs:\n",
    "        print '- guess:', guess\n",
    "        game.guess(guess)\n",
    "    print '-'*30"
   ]
  }
 ],
 "metadata": {
  "kernelspec": {
   "display_name": "Python 2",
   "language": "python",
   "name": "python2"
  },
  "language_info": {
   "codemirror_mode": {
    "name": "ipython",
    "version": 2
   },
   "file_extension": ".py",
   "mimetype": "text/x-python",
   "name": "python",
   "nbconvert_exporter": "python",
   "pygments_lexer": "ipython2",
   "version": "2.7.6"
  }
 },
 "nbformat": 4,
 "nbformat_minor": 0
}
