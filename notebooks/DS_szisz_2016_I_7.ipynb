{
 "cells": [
  {
   "cell_type": "markdown",
   "metadata": {},
   "source": [
    "# Intro to Data Science @ SzISz Part VII.\n",
    "## Grand Finale:<br> Model Selection, Pipeline building, and Custom Sklearn Nodes \n",
    "\n",
    "### Table of contents\n",
    "- <a href=\"#What-is-Model-Selection?\">Model Selection Theory</a>\n",
    "- <a href=\"#Cross-Validation\">Cross Validation</a>\n",
    "    - <a href=\"#Grid-Search-Cross-Validation\">Randomized Search Cross Validation</a>\n",
    "    - <a href=\"#Randomized-Search-Cross-Validation\">Randomized Search Cross Validation</a>\n",
    "- <a href=\"#Building-Pipelines\">Building Pipelines</a>\n",
    "- <a href=\"#Building-a-Custom-Sklearn-Node\">Building a Custom Scikit-learn Node</a>\n",
    "    \n",
    "\n",
    "## What is Model Selection?\n",
    "_\"Model selection is the task of selecting a statistical model from a set of candidate models, given data. In the simplest cases, a pre-existing set of data is considered.\"_ from: <a href=\"https://en.wikipedia.org/wiki/Model_selection\">Wiki</a>  \n",
    "In this context we also include the process of finding the optimal hyperparameters.\n",
    "\n",
    "## Why is it important?\n",
    "To find the optimal solution to a given problem, one must train several models with similar predictive/exploratory power and select the simplest one. This process includes selecting models and finding optimal hyperparameters which is a time consuming and tedious work when done by hand. We use automatized solutions to overcome this problem, save time, and yield better results.\n",
    "\n",
    "## Tools\n",
    "- Grid Search\n",
    "- Randomized search\n",
    "- etc."
   ]
  },
  {
   "cell_type": "code",
   "execution_count": 2,
   "metadata": {
    "collapsed": false
   },
   "outputs": [],
   "source": [
    "%matplotlib inline\n",
    "import numpy as np\n",
    "import scipy.sparse as sp\n",
    "import pandas as pd\n",
    "\n",
    "import matplotlib.pyplot as plt\n",
    "import seaborn as sns\n",
    "\n",
    "from sklearn.datasets import load_digits, fetch_20newsgroups\n",
    "from sklearn.feature_extraction.text import CountVectorizer, TfidfTransformer\n",
    "from sklearn.decomposition import RandomizedPCA, TruncatedSVD\n",
    "from sklearn.linear_model import SGDClassifier, LogisticRegression\n",
    "from sklearn.svm import SVC\n",
    "\n",
    "np.random.seed = 42"
   ]
  },
  {
   "cell_type": "code",
   "execution_count": 3,
   "metadata": {
    "collapsed": false
   },
   "outputs": [],
   "source": [
    "digits = load_digits()\n",
    "X_dig, y_dig = digits.data, digits.target"
   ]
  },
  {
   "cell_type": "code",
   "execution_count": 4,
   "metadata": {
    "collapsed": true
   },
   "outputs": [],
   "source": [
    "categories = [\n",
    "    'alt.atheism',\n",
    "    'talk.religion.misc',\n",
    "]\n",
    "twentynews = fetch_20newsgroups(subset='train', categories=categories)\n",
    "X_20, y_20 = twentynews.data, twentynews.target"
   ]
  },
  {
   "cell_type": "markdown",
   "metadata": {},
   "source": [
    "## <a href=\"http://scikit-learn.org/stable/modules/cross_validation.html#cross-validation\">Cross Validation</a>\n",
    "\n",
    "In order to select an optimal model, first one must be able to measure a model's/pipe's accuracy.  \n",
    "\n",
    "First, one must select a valid metric for the model. In sklearn, the basic validation metric is accuracy score in case of classification, and $r^{2}$ for regression. Altough, several other metrics can be selected from <a href=\"http://scikit-learn.org/stable/modules/model_evaluation.html#the-scoring-parameter-defining-model-evaluation-rules\">this</a> list.\n",
    "\n",
    "_\"Learning the parameters of a prediction function and testing it on the same data is a methodological mistake: a model that would just repeat the labels of the samples that it has just seen would have a perfect score but would fail to predict anything useful on yet-unseen data. This situation is called overfitting.\"_ [1]. To overcome this problem, one must split the data to __training__ and __test__ dataset; train the model on the train dataset, then measure the precision on the test dataset.\n",
    "\n",
    "However different splits can produce different outcomes, so this process must be repeated several times to give a good approximation to the examined model's accuracy. This process is called __Cross Validation__ and there are <a href=\"http://scikit-learn.org/stable/modules/cross_validation.html#cross-validation-iterators\">different strategies</a> to make these splits.\n",
    "\n",
    "A simple model can yield different solutions to the same data based on its hyperparameters so multiple models must be trained to select the ideal hyperparamter settings. Cross Validation gives a good approximation to a trained model's accuracy, but additional methods are required to select the ideal hyperparameters. \n",
    "\n",
    "[1] <a href=\"http://scikit-learn.org/stable/modules/cross_validation.html#cross-validation-evaluating-estimator-performance\">Scikit-learn 0.17.1 documentation</a>\n",
    "\n",
    "\n",
    "### Grid Search Cross Validation\n",
    "Grid search is a method which generates a parameter grid from a list of settings, and measure the input model's accuracy in every setting using cross validation."
   ]
  },
  {
   "cell_type": "code",
   "execution_count": 7,
   "metadata": {
    "collapsed": true
   },
   "outputs": [],
   "source": [
    "from sklearn.grid_search import GridSearchCV"
   ]
  },
  {
   "cell_type": "markdown",
   "metadata": {},
   "source": [
    "---\n",
    "## Intermission:\n",
    "## Building Pipelines\n",
    "A Quick reminder how to build sklearn pipes and how to access their parameters."
   ]
  },
  {
   "cell_type": "code",
   "execution_count": 5,
   "metadata": {
    "collapsed": true
   },
   "outputs": [],
   "source": [
    "from sklearn.pipeline import Pipeline, FeatureUnion"
   ]
  },
  {
   "cell_type": "code",
   "execution_count": 6,
   "metadata": {
    "collapsed": true
   },
   "outputs": [],
   "source": [
    "steps = [\n",
    "    ('vect', CountVectorizer()),\n",
    "    ('tfidf', TfidfTransformer()),\n",
    "    ('clf', SGDClassifier())\n",
    "]\n",
    "pipe_20 = Pipeline(steps=steps)"
   ]
  },
  {
   "cell_type": "code",
   "execution_count": 7,
   "metadata": {
    "collapsed": false
   },
   "outputs": [
    {
     "data": {
      "text/plain": [
       "[('vect',\n",
       "  CountVectorizer(analyzer=u'word', binary=False, decode_error=u'strict',\n",
       "          dtype=<type 'numpy.int64'>, encoding=u'utf-8', input=u'content',\n",
       "          lowercase=True, max_df=1.0, max_features=None, min_df=1,\n",
       "          ngram_range=(1, 1), preprocessor=None, stop_words=None,\n",
       "          strip_accents=None, token_pattern=u'(?u)\\\\b\\\\w\\\\w+\\\\b',\n",
       "          tokenizer=None, vocabulary=None)),\n",
       " ('tfidf', TfidfTransformer(norm=u'l2', smooth_idf=True, sublinear_tf=False,\n",
       "           use_idf=True)),\n",
       " ('clf',\n",
       "  SGDClassifier(alpha=0.0001, average=False, class_weight=None, epsilon=0.1,\n",
       "         eta0=0.0, fit_intercept=True, l1_ratio=0.15,\n",
       "         learning_rate='optimal', loss='hinge', n_iter=5, n_jobs=1,\n",
       "         penalty='l2', power_t=0.5, random_state=None, shuffle=True,\n",
       "         verbose=0, warm_start=False))]"
      ]
     },
     "execution_count": 7,
     "metadata": {},
     "output_type": "execute_result"
    }
   ],
   "source": [
    "pipe_20.steps"
   ]
  },
  {
   "cell_type": "code",
   "execution_count": 8,
   "metadata": {
    "collapsed": false
   },
   "outputs": [
    {
     "data": {
      "text/plain": [
       "{'clf': SGDClassifier(alpha=0.0001, average=False, class_weight=None, epsilon=0.1,\n",
       "        eta0=0.0, fit_intercept=True, l1_ratio=0.15,\n",
       "        learning_rate='optimal', loss='hinge', n_iter=5, n_jobs=1,\n",
       "        penalty='l2', power_t=0.5, random_state=None, shuffle=True,\n",
       "        verbose=0, warm_start=False),\n",
       " 'clf__alpha': 0.0001,\n",
       " 'clf__average': False,\n",
       " 'clf__class_weight': None,\n",
       " 'clf__epsilon': 0.1,\n",
       " 'clf__eta0': 0.0,\n",
       " 'clf__fit_intercept': True,\n",
       " 'clf__l1_ratio': 0.15,\n",
       " 'clf__learning_rate': 'optimal',\n",
       " 'clf__loss': 'hinge',\n",
       " 'clf__n_iter': 5,\n",
       " 'clf__n_jobs': 1,\n",
       " 'clf__penalty': 'l2',\n",
       " 'clf__power_t': 0.5,\n",
       " 'clf__random_state': None,\n",
       " 'clf__shuffle': True,\n",
       " 'clf__verbose': 0,\n",
       " 'clf__warm_start': False,\n",
       " 'steps': [('vect',\n",
       "   CountVectorizer(analyzer=u'word', binary=False, decode_error=u'strict',\n",
       "           dtype=<type 'numpy.int64'>, encoding=u'utf-8', input=u'content',\n",
       "           lowercase=True, max_df=1.0, max_features=None, min_df=1,\n",
       "           ngram_range=(1, 1), preprocessor=None, stop_words=None,\n",
       "           strip_accents=None, token_pattern=u'(?u)\\\\b\\\\w\\\\w+\\\\b',\n",
       "           tokenizer=None, vocabulary=None)),\n",
       "  ('tfidf', TfidfTransformer(norm=u'l2', smooth_idf=True, sublinear_tf=False,\n",
       "            use_idf=True)),\n",
       "  ('clf',\n",
       "   SGDClassifier(alpha=0.0001, average=False, class_weight=None, epsilon=0.1,\n",
       "          eta0=0.0, fit_intercept=True, l1_ratio=0.15,\n",
       "          learning_rate='optimal', loss='hinge', n_iter=5, n_jobs=1,\n",
       "          penalty='l2', power_t=0.5, random_state=None, shuffle=True,\n",
       "          verbose=0, warm_start=False))],\n",
       " 'tfidf': TfidfTransformer(norm=u'l2', smooth_idf=True, sublinear_tf=False,\n",
       "          use_idf=True),\n",
       " 'tfidf__norm': u'l2',\n",
       " 'tfidf__smooth_idf': True,\n",
       " 'tfidf__sublinear_tf': False,\n",
       " 'tfidf__use_idf': True,\n",
       " 'vect': CountVectorizer(analyzer=u'word', binary=False, decode_error=u'strict',\n",
       "         dtype=<type 'numpy.int64'>, encoding=u'utf-8', input=u'content',\n",
       "         lowercase=True, max_df=1.0, max_features=None, min_df=1,\n",
       "         ngram_range=(1, 1), preprocessor=None, stop_words=None,\n",
       "         strip_accents=None, token_pattern=u'(?u)\\\\b\\\\w\\\\w+\\\\b',\n",
       "         tokenizer=None, vocabulary=None),\n",
       " 'vect__analyzer': u'word',\n",
       " 'vect__binary': False,\n",
       " 'vect__decode_error': u'strict',\n",
       " 'vect__dtype': numpy.int64,\n",
       " 'vect__encoding': u'utf-8',\n",
       " 'vect__input': u'content',\n",
       " 'vect__lowercase': True,\n",
       " 'vect__max_df': 1.0,\n",
       " 'vect__max_features': None,\n",
       " 'vect__min_df': 1,\n",
       " 'vect__ngram_range': (1, 1),\n",
       " 'vect__preprocessor': None,\n",
       " 'vect__stop_words': None,\n",
       " 'vect__strip_accents': None,\n",
       " 'vect__token_pattern': u'(?u)\\\\b\\\\w\\\\w+\\\\b',\n",
       " 'vect__tokenizer': None,\n",
       " 'vect__vocabulary': None}"
      ]
     },
     "execution_count": 8,
     "metadata": {},
     "output_type": "execute_result"
    }
   ],
   "source": [
    "pipe_20.get_params()"
   ]
  },
  {
   "cell_type": "code",
   "execution_count": 9,
   "metadata": {
    "collapsed": false
   },
   "outputs": [
    {
     "data": {
      "text/plain": [
       "Pipeline(steps=[('vect', CountVectorizer(analyzer=u'word', binary=False, decode_error=u'strict',\n",
       "        dtype=<type 'numpy.int64'>, encoding=u'utf-8', input=u'content',\n",
       "        lowercase=True, max_df=1.0, max_features=None, min_df=1,\n",
       "        ngram_range=(1, 1), preprocessor=None, stop_words=None,\n",
       "        st...   penalty='l2', power_t=0.5, random_state=None, shuffle=True,\n",
       "       verbose=0, warm_start=False))])"
      ]
     },
     "execution_count": 9,
     "metadata": {},
     "output_type": "execute_result"
    }
   ],
   "source": [
    "pipe_20.set_params(tfidf__norm='l1')"
   ]
  },
  {
   "cell_type": "code",
   "execution_count": 10,
   "metadata": {
    "collapsed": false
   },
   "outputs": [
    {
     "data": {
      "text/plain": [
       "{'clf': SGDClassifier(alpha=0.0001, average=False, class_weight=None, epsilon=0.1,\n",
       "        eta0=0.0, fit_intercept=True, l1_ratio=0.15,\n",
       "        learning_rate='optimal', loss='hinge', n_iter=5, n_jobs=1,\n",
       "        penalty='l2', power_t=0.5, random_state=None, shuffle=True,\n",
       "        verbose=0, warm_start=False),\n",
       " 'clf__alpha': 0.0001,\n",
       " 'clf__average': False,\n",
       " 'clf__class_weight': None,\n",
       " 'clf__epsilon': 0.1,\n",
       " 'clf__eta0': 0.0,\n",
       " 'clf__fit_intercept': True,\n",
       " 'clf__l1_ratio': 0.15,\n",
       " 'clf__learning_rate': 'optimal',\n",
       " 'clf__loss': 'hinge',\n",
       " 'clf__n_iter': 5,\n",
       " 'clf__n_jobs': 1,\n",
       " 'clf__penalty': 'l2',\n",
       " 'clf__power_t': 0.5,\n",
       " 'clf__random_state': None,\n",
       " 'clf__shuffle': True,\n",
       " 'clf__verbose': 0,\n",
       " 'clf__warm_start': False,\n",
       " 'steps': [('vect',\n",
       "   CountVectorizer(analyzer=u'word', binary=False, decode_error=u'strict',\n",
       "           dtype=<type 'numpy.int64'>, encoding=u'utf-8', input=u'content',\n",
       "           lowercase=True, max_df=1.0, max_features=None, min_df=1,\n",
       "           ngram_range=(1, 1), preprocessor=None, stop_words=None,\n",
       "           strip_accents=None, token_pattern=u'(?u)\\\\b\\\\w\\\\w+\\\\b',\n",
       "           tokenizer=None, vocabulary=None)),\n",
       "  ('tfidf',\n",
       "   TfidfTransformer(norm='l1', smooth_idf=True, sublinear_tf=False, use_idf=True)),\n",
       "  ('clf',\n",
       "   SGDClassifier(alpha=0.0001, average=False, class_weight=None, epsilon=0.1,\n",
       "          eta0=0.0, fit_intercept=True, l1_ratio=0.15,\n",
       "          learning_rate='optimal', loss='hinge', n_iter=5, n_jobs=1,\n",
       "          penalty='l2', power_t=0.5, random_state=None, shuffle=True,\n",
       "          verbose=0, warm_start=False))],\n",
       " 'tfidf': TfidfTransformer(norm='l1', smooth_idf=True, sublinear_tf=False, use_idf=True),\n",
       " 'tfidf__norm': 'l1',\n",
       " 'tfidf__smooth_idf': True,\n",
       " 'tfidf__sublinear_tf': False,\n",
       " 'tfidf__use_idf': True,\n",
       " 'vect': CountVectorizer(analyzer=u'word', binary=False, decode_error=u'strict',\n",
       "         dtype=<type 'numpy.int64'>, encoding=u'utf-8', input=u'content',\n",
       "         lowercase=True, max_df=1.0, max_features=None, min_df=1,\n",
       "         ngram_range=(1, 1), preprocessor=None, stop_words=None,\n",
       "         strip_accents=None, token_pattern=u'(?u)\\\\b\\\\w\\\\w+\\\\b',\n",
       "         tokenizer=None, vocabulary=None),\n",
       " 'vect__analyzer': u'word',\n",
       " 'vect__binary': False,\n",
       " 'vect__decode_error': u'strict',\n",
       " 'vect__dtype': numpy.int64,\n",
       " 'vect__encoding': u'utf-8',\n",
       " 'vect__input': u'content',\n",
       " 'vect__lowercase': True,\n",
       " 'vect__max_df': 1.0,\n",
       " 'vect__max_features': None,\n",
       " 'vect__min_df': 1,\n",
       " 'vect__ngram_range': (1, 1),\n",
       " 'vect__preprocessor': None,\n",
       " 'vect__stop_words': None,\n",
       " 'vect__strip_accents': None,\n",
       " 'vect__token_pattern': u'(?u)\\\\b\\\\w\\\\w+\\\\b',\n",
       " 'vect__tokenizer': None,\n",
       " 'vect__vocabulary': None}"
      ]
     },
     "execution_count": 10,
     "metadata": {},
     "output_type": "execute_result"
    }
   ],
   "source": [
    "pipe_20.get_params()"
   ]
  },
  {
   "cell_type": "markdown",
   "metadata": {},
   "source": [
    "__end of intermission__\n",
    "\n",
    "---"
   ]
  },
  {
   "cell_type": "code",
   "execution_count": 11,
   "metadata": {
    "collapsed": false
   },
   "outputs": [],
   "source": [
    "pipe_digit = Pipeline(steps=[('pca', RandomizedPCA()), ('logistic', LogisticRegression())])"
   ]
  },
  {
   "cell_type": "code",
   "execution_count": 12,
   "metadata": {
    "collapsed": true
   },
   "outputs": [],
   "source": [
    "param_grid = [\n",
    "    {'pca__n_components': [20, 40, 64], 'logistic__C': np.logspace(-4, 4, 3)},\n",
    "]"
   ]
  },
  {
   "cell_type": "code",
   "execution_count": 13,
   "metadata": {
    "collapsed": false
   },
   "outputs": [
    {
     "data": {
      "text/plain": [
       "GridSearchCV(cv=None, error_score='raise',\n",
       "       estimator=Pipeline(steps=[('pca', RandomizedPCA(copy=True, iterated_power=3, n_components=None,\n",
       "       random_state=None, whiten=False)), ('logistic', LogisticRegression(C=1.0, class_weight=None, dual=False, fit_intercept=True,\n",
       "          intercept_scaling=1, max_iter=100, multi_class='ovr', n_jobs=1,\n",
       "          penalty='l2', random_state=None, solver='liblinear', tol=0.0001,\n",
       "          verbose=0, warm_start=False))]),\n",
       "       fit_params={}, iid=True, n_jobs=1,\n",
       "       param_grid=[{'logistic__C': array([  1.00000e-04,   1.00000e+00,   1.00000e+04]), 'pca__n_components': [20, 40, 64]}],\n",
       "       pre_dispatch='2*n_jobs', refit=True, scoring=None, verbose=1)"
      ]
     },
     "execution_count": 13,
     "metadata": {},
     "output_type": "execute_result"
    }
   ],
   "source": [
    "grid_search = GridSearchCV(estimator=pipe_digit, param_grid=param_grid, verbose=1)\n",
    "grid_search"
   ]
  },
  {
   "cell_type": "code",
   "execution_count": 14,
   "metadata": {
    "collapsed": false
   },
   "outputs": [
    {
     "name": "stdout",
     "output_type": "stream",
     "text": [
      "Fitting 3 folds for each of 9 candidates, totalling 27 fits\n"
     ]
    },
    {
     "name": "stderr",
     "output_type": "stream",
     "text": [
      "[Parallel(n_jobs=1)]: Done  27 out of  27 | elapsed:    8.3s finished\n"
     ]
    },
    {
     "data": {
      "text/plain": [
       "GridSearchCV(cv=None, error_score='raise',\n",
       "       estimator=Pipeline(steps=[('pca', RandomizedPCA(copy=True, iterated_power=3, n_components=None,\n",
       "       random_state=None, whiten=False)), ('logistic', LogisticRegression(C=1.0, class_weight=None, dual=False, fit_intercept=True,\n",
       "          intercept_scaling=1, max_iter=100, multi_class='ovr', n_jobs=1,\n",
       "          penalty='l2', random_state=None, solver='liblinear', tol=0.0001,\n",
       "          verbose=0, warm_start=False))]),\n",
       "       fit_params={}, iid=True, n_jobs=1,\n",
       "       param_grid=[{'logistic__C': array([  1.00000e-04,   1.00000e+00,   1.00000e+04]), 'pca__n_components': [20, 40, 64]}],\n",
       "       pre_dispatch='2*n_jobs', refit=True, scoring=None, verbose=1)"
      ]
     },
     "execution_count": 14,
     "metadata": {},
     "output_type": "execute_result"
    }
   ],
   "source": [
    "grid_search.fit(X_dig, y_dig)"
   ]
  },
  {
   "cell_type": "code",
   "execution_count": 15,
   "metadata": {
    "collapsed": false
   },
   "outputs": [
    {
     "data": {
      "text/plain": [
       "{'steps': [('pca',\n",
       "   RandomizedPCA(copy=True, iterated_power=3, n_components=40, random_state=None,\n",
       "          whiten=False)),\n",
       "  ('logistic',\n",
       "   LogisticRegression(C=1.0, class_weight=None, dual=False, fit_intercept=True,\n",
       "             intercept_scaling=1, max_iter=100, multi_class='ovr', n_jobs=1,\n",
       "             penalty='l2', random_state=None, solver='liblinear', tol=0.0001,\n",
       "             verbose=0, warm_start=False))]}"
      ]
     },
     "execution_count": 15,
     "metadata": {},
     "output_type": "execute_result"
    }
   ],
   "source": [
    "grid_search.best_estimator_.get_params(deep=False)"
   ]
  },
  {
   "cell_type": "code",
   "execution_count": 16,
   "metadata": {
    "collapsed": false
   },
   "outputs": [
    {
     "data": {
      "text/plain": [
       "({'logistic__C': 1.0, 'pca__n_components': 40}, 0.92264885920979411)"
      ]
     },
     "execution_count": 16,
     "metadata": {},
     "output_type": "execute_result"
    }
   ],
   "source": [
    "grid_search.best_params_, grid_search.best_score_"
   ]
  },
  {
   "cell_type": "code",
   "execution_count": 64,
   "metadata": {
    "collapsed": false
   },
   "outputs": [],
   "source": [
    "hmap = pd.DataFrame([{\n",
    "            'mean': mean,\n",
    "            'C': param['logistic__C'],\n",
    "            'n': param['pca__n_components']\n",
    "        } for param, mean, _ in grid_search.grid_scores_])"
   ]
  },
  {
   "cell_type": "code",
   "execution_count": 65,
   "metadata": {
    "collapsed": false
   },
   "outputs": [
    {
     "data": {
      "text/html": [
       "<div>\n",
       "<table border=\"1\" class=\"dataframe\">\n",
       "  <thead>\n",
       "    <tr style=\"text-align: right;\">\n",
       "      <th></th>\n",
       "      <th>C</th>\n",
       "      <th>mean</th>\n",
       "      <th>n</th>\n",
       "    </tr>\n",
       "  </thead>\n",
       "  <tbody>\n",
       "    <tr>\n",
       "      <th>0</th>\n",
       "      <td>0.0001</td>\n",
       "      <td>0.875348</td>\n",
       "      <td>20</td>\n",
       "    </tr>\n",
       "    <tr>\n",
       "      <th>1</th>\n",
       "      <td>0.0001</td>\n",
       "      <td>0.887590</td>\n",
       "      <td>40</td>\n",
       "    </tr>\n",
       "    <tr>\n",
       "      <th>2</th>\n",
       "      <td>0.0001</td>\n",
       "      <td>0.887034</td>\n",
       "      <td>64</td>\n",
       "    </tr>\n",
       "    <tr>\n",
       "      <th>3</th>\n",
       "      <td>1.0000</td>\n",
       "      <td>0.917641</td>\n",
       "      <td>20</td>\n",
       "    </tr>\n",
       "    <tr>\n",
       "      <th>4</th>\n",
       "      <td>1.0000</td>\n",
       "      <td>0.922649</td>\n",
       "      <td>40</td>\n",
       "    </tr>\n",
       "    <tr>\n",
       "      <th>5</th>\n",
       "      <td>1.0000</td>\n",
       "      <td>0.917641</td>\n",
       "      <td>64</td>\n",
       "    </tr>\n",
       "    <tr>\n",
       "      <th>6</th>\n",
       "      <td>10000.0000</td>\n",
       "      <td>0.907624</td>\n",
       "      <td>20</td>\n",
       "    </tr>\n",
       "    <tr>\n",
       "      <th>7</th>\n",
       "      <td>10000.0000</td>\n",
       "      <td>0.901503</td>\n",
       "      <td>40</td>\n",
       "    </tr>\n",
       "    <tr>\n",
       "      <th>8</th>\n",
       "      <td>10000.0000</td>\n",
       "      <td>0.895381</td>\n",
       "      <td>64</td>\n",
       "    </tr>\n",
       "  </tbody>\n",
       "</table>\n",
       "</div>"
      ],
      "text/plain": [
       "            C      mean   n\n",
       "0      0.0001  0.875348  20\n",
       "1      0.0001  0.887590  40\n",
       "2      0.0001  0.887034  64\n",
       "3      1.0000  0.917641  20\n",
       "4      1.0000  0.922649  40\n",
       "5      1.0000  0.917641  64\n",
       "6  10000.0000  0.907624  20\n",
       "7  10000.0000  0.901503  40\n",
       "8  10000.0000  0.895381  64"
      ]
     },
     "execution_count": 65,
     "metadata": {},
     "output_type": "execute_result"
    }
   ],
   "source": [
    "hmap"
   ]
  },
  {
   "cell_type": "code",
   "execution_count": 63,
   "metadata": {
    "collapsed": false
   },
   "outputs": [
    {
     "data": {
      "text/plain": [
       "<matplotlib.axes._subplots.AxesSubplot at 0x7feb83cfefd0>"
      ]
     },
     "execution_count": 63,
     "metadata": {},
     "output_type": "execute_result"
    },
    {
     "data": {
      "image/png": "[encoded data removed]",
      "text/plain": [
       "<matplotlib.figure.Figure at 0x7feb83ea5dd0>"
      ]
     },
     "metadata": {},
     "output_type": "display_data"
    }
   ],
   "source": [
    "sns.heatmap(hmap.pivot(index='C', columns='n', values='mean'), annot=True)"
   ]
  },
  {
   "cell_type": "markdown",
   "metadata": {},
   "source": [
    "### Randomized Search Cross Validation\n",
    "Randomized search randomly generate a fixed number of hyperparameter setups. It selects the parameters from the provided parameter parameter ranges and then measures them with cross validation."
   ]
  },
  {
   "cell_type": "code",
   "execution_count": 17,
   "metadata": {
    "collapsed": true
   },
   "outputs": [],
   "source": [
    "from sklearn.grid_search import RandomizedSearchCV"
   ]
  },
  {
   "cell_type": "code",
   "execution_count": 18,
   "metadata": {
    "collapsed": true
   },
   "outputs": [],
   "source": [
    "param_dist = {\n",
    "    'vect__max_df': (0.5, 0.75, 1.0),\n",
    "    'vect__max_features': (None, 5000, 10000, 50000),\n",
    "    'vect__ngram_range': ((1, 1), (1, 2)),  # unigrams or bigrams\n",
    "    'tfidf__use_idf': (True, False),\n",
    "    'tfidf__norm': ('l1', 'l2'),\n",
    "    'clf__alpha': (0.00001, 0.000001),\n",
    "    'clf__penalty': ('l2', 'elasticnet'),\n",
    "    'clf__n_iter': (10, 50, 80),\n",
    "}\n",
    "n_iter_search = 30"
   ]
  },
  {
   "cell_type": "code",
   "execution_count": 20,
   "metadata": {
    "collapsed": false
   },
   "outputs": [
    {
     "data": {
      "text/plain": [
       "RandomizedSearchCV(cv=None, error_score='raise',\n",
       "          estimator=Pipeline(steps=[('vect', CountVectorizer(analyzer=u'word', binary=False, decode_error=u'strict',\n",
       "        dtype=<type 'numpy.int64'>, encoding=u'utf-8', input=u'content',\n",
       "        lowercase=True, max_df=1.0, max_features=None, min_df=1,\n",
       "        ngram_range=(1, 1), preprocessor=None, stop_words=None,\n",
       "        st...   penalty='l2', power_t=0.5, random_state=None, shuffle=True,\n",
       "       verbose=0, warm_start=False))]),\n",
       "          fit_params={}, iid=True, n_iter=10, n_jobs=1,\n",
       "          param_distributions={'vect__ngram_range': ((1, 1), (1, 2)), 'tfidf__use_idf': (True, False), 'tfidf__norm': ('l1', 'l2'), 'vect__max_df': (0.5, 0.75, 1.0), 'clf__penalty': ('l2', 'elasticnet'), 'clf__n_iter': (10, 50, 80), 'vect__max_features': (None, 5000, 10000, 50000), 'clf__alpha': (1e-05, 1e-06)},\n",
       "          pre_dispatch='2*n_jobs', random_state=42, refit=True,\n",
       "          scoring=None, verbose=2)"
      ]
     },
     "execution_count": 20,
     "metadata": {},
     "output_type": "execute_result"
    }
   ],
   "source": [
    "random_search = RandomizedSearchCV(\n",
    "    estimator=pipe_20,\n",
    "    param_distributions=param_dist,\n",
    "    verbose=2,\n",
    "    random_state=42\n",
    ")\n",
    "random_search"
   ]
  },
  {
   "cell_type": "code",
   "execution_count": 21,
   "metadata": {
    "collapsed": true
   },
   "outputs": [
    {
     "name": "stdout",
     "output_type": "stream",
     "text": [
      "Fitting 3 folds for each of 10 candidates, totalling 30 fits\n",
      "[CV] vect__ngram_range=(1, 1), vect__max_df=1.0, clf__n_iter=80, tfidf__use_idf=True, tfidf__norm=l2, clf__penalty=elasticnet, vect__max_features=50000, clf__alpha=1e-06 \n",
      "[CV]  vect__ngram_range=(1, 1), vect__max_df=1.0, clf__n_iter=80, tfidf__use_idf=True, tfidf__norm=l2, clf__penalty=elasticnet, vect__max_features=50000, clf__alpha=1e-06 -   0.4s\n",
      "[CV] vect__ngram_range=(1, 1), vect__max_df=1.0, clf__n_iter=80, tfidf__use_idf=True, tfidf__norm=l2, clf__penalty=elasticnet, vect__max_features=50000, clf__alpha=1e-06 \n",
      "[CV]  vect__ngram_range=(1, 1), vect__max_df=1.0, clf__n_iter=80, tfidf__use_idf=True, tfidf__norm=l2, clf__penalty=elasticnet, vect__max_features=50000, clf__alpha=1e-06 -   0.4s\n",
      "[CV] vect__ngram_range=(1, 1), vect__max_df=1.0, clf__n_iter=80, tfidf__use_idf=True, tfidf__norm=l2, clf__penalty=elasticnet, vect__max_features=50000, clf__alpha=1e-06 \n",
      "[CV]  vect__ngram_range=(1, 1), vect__max_df=1.0, clf__n_iter=80, tfidf__use_idf=True, tfidf__norm=l2, clf__penalty=elasticnet, vect__max_features=50000, clf__alpha=1e-06 -   0.5s\n",
      "[CV] vect__ngram_range=(1, 1), vect__max_df=1.0, clf__n_iter=50, tfidf__use_idf=False, tfidf__norm=l2, clf__penalty=l2, vect__max_features=10000, clf__alpha=1e-06 \n",
      "[CV]  vect__ngram_range=(1, 1), vect__max_df=1.0, clf__n_iter=50, tfidf__use_idf=False, tfidf__norm=l2, clf__penalty=l2, vect__max_features=10000, clf__alpha=1e-06 -   0.3s\n",
      "[CV] vect__ngram_range=(1, 1), vect__max_df=1.0, clf__n_iter=50, tfidf__use_idf=False, tfidf__norm=l2, clf__penalty=l2, vect__max_features=10000, clf__alpha=1e-06 \n",
      "[CV]  vect__ngram_range=(1, 1), vect__max_df=1.0, clf__n_iter=50, tfidf__use_idf=False, tfidf__norm=l2, clf__penalty=l2, vect__max_features=10000, clf__alpha=1e-06 -   0.3s\n",
      "[CV] vect__ngram_range=(1, 1), vect__max_df=1.0, clf__n_iter=50, tfidf__use_idf=False, tfidf__norm=l2, clf__penalty=l2, vect__max_features=10000, clf__alpha=1e-06 \n",
      "[CV]  vect__ngram_range=(1, 1), vect__max_df=1.0, clf__n_iter=50, tfidf__use_idf=False, tfidf__norm=l2, clf__penalty=l2, vect__max_features=10000, clf__alpha=1e-06 -   0.3s\n",
      "[CV] vect__ngram_range=(1, 1), vect__max_df=0.5, clf__n_iter=80, tfidf__use_idf=False, tfidf__norm=l2, clf__penalty=elasticnet, vect__max_features=5000, clf__alpha=1e-06 \n",
      "[CV]  vect__ngram_range=(1, 1), vect__max_df=0.5, clf__n_iter=80, tfidf__use_idf=False, tfidf__norm=l2, clf__penalty=elasticnet, vect__max_features=5000, clf__alpha=1e-06 -   0.4s\n",
      "[CV] vect__ngram_range=(1, 1), vect__max_df=0.5, clf__n_iter=80, tfidf__use_idf=False, tfidf__norm=l2, clf__penalty=elasticnet, vect__max_features=5000, clf__alpha=1e-06 \n",
      "[CV]  vect__ngram_range=(1, 1), vect__max_df=0.5, clf__n_iter=80, tfidf__use_idf=False, tfidf__norm=l2, clf__penalty=elasticnet, vect__max_features=5000, clf__alpha=1e-06 -   0.4s\n",
      "[CV] vect__ngram_range=(1, 1), vect__max_df=0.5, clf__n_iter=80, tfidf__use_idf=False, tfidf__norm=l2, clf__penalty=elasticnet, vect__max_features=5000, clf__alpha=1e-06 \n",
      "[CV]  vect__ngram_range=(1, 1), vect__max_df=0.5, clf__n_iter=80, tfidf__use_idf=False, tfidf__norm=l2, clf__penalty=elasticnet, vect__max_features=5000, clf__alpha=1e-06 -   0.4s\n",
      "[CV] vect__ngram_range=(1, 2), vect__max_df=0.75, clf__n_iter=80, tfidf__use_idf=False, tfidf__norm=l1, clf__penalty=elasticnet, vect__max_features=50000, clf__alpha=1e-06 \n",
      "[CV]  vect__ngram_range=(1, 2), vect__max_df=0.75, clf__n_iter=80, tfidf__use_idf=False, tfidf__norm=l1, clf__penalty=elasticnet, vect__max_features=50000, clf__alpha=1e-06 -   1.7s\n",
      "[CV] vect__ngram_range=(1, 2), vect__max_df=0.75, clf__n_iter=80, tfidf__use_idf=False, tfidf__norm=l1, clf__penalty=elasticnet, vect__max_features=50000, clf__alpha=1e-06 \n",
      "[CV]  vect__ngram_range=(1, 2), vect__max_df=0.75, clf__n_iter=80, tfidf__use_idf=False, tfidf__norm=l1, clf__penalty=elasticnet, vect__max_features=50000, clf__alpha=1e-06 -   1.5s\n",
      "[CV] vect__ngram_range=(1, 2), vect__max_df=0.75, clf__n_iter=80, tfidf__use_idf=False, tfidf__norm=l1, clf__penalty=elasticnet, vect__max_features=50000, clf__alpha=1e-06 \n",
      "[CV]  vect__ngram_range=(1, 2), vect__max_df=0.75, clf__n_iter=80, tfidf__use_idf=False, tfidf__norm=l1, clf__penalty=elasticnet, vect__max_features=50000, clf__alpha=1e-06 -   1.3s\n",
      "[CV] vect__ngram_range=(1, 1), vect__max_df=0.75, clf__n_iter=80, tfidf__use_idf=False, tfidf__norm=l2, clf__penalty=l2, vect__max_features=10000, clf__alpha=1e-06 \n",
      "[CV]  vect__ngram_range=(1, 1), vect__max_df=0.75, clf__n_iter=80, tfidf__use_idf=False, tfidf__norm=l2, clf__penalty=l2, vect__max_features=10000, clf__alpha=1e-06 -   0.3s\n",
      "[CV] vect__ngram_range=(1, 1), vect__max_df=0.75, clf__n_iter=80, tfidf__use_idf=False, tfidf__norm=l2, clf__penalty=l2, vect__max_features=10000, clf__alpha=1e-06 \n",
      "[CV]  vect__ngram_range=(1, 1), vect__max_df=0.75, clf__n_iter=80, tfidf__use_idf=False, tfidf__norm=l2, clf__penalty=l2, vect__max_features=10000, clf__alpha=1e-06 -   0.3s\n",
      "[CV] vect__ngram_range=(1, 1), vect__max_df=0.75, clf__n_iter=80, tfidf__use_idf=False, tfidf__norm=l2, clf__penalty=l2, vect__max_features=10000, clf__alpha=1e-06 \n",
      "[CV]  vect__ngram_range=(1, 1), vect__max_df=0.75, clf__n_iter=80, tfidf__use_idf=False, tfidf__norm=l2, clf__penalty=l2, vect__max_features=10000, clf__alpha=1e-06 -   0.3s\n",
      "[CV] vect__ngram_range=(1, 2), vect__max_df=0.5, clf__n_iter=10, tfidf__use_idf=False, tfidf__norm=l1, clf__penalty=elasticnet, vect__max_features=None, clf__alpha=1e-05 \n",
      "[CV]  vect__ngram_range=(1, 2), vect__max_df=0.5, clf__n_iter=10, tfidf__use_idf=False, tfidf__norm=l1, clf__penalty=elasticnet, vect__max_features=None, clf__alpha=1e-05 -   1.2s\n",
      "[CV] vect__ngram_range=(1, 2), vect__max_df=0.5, clf__n_iter=10, tfidf__use_idf=False, tfidf__norm=l1, clf__penalty=elasticnet, vect__max_features=None, clf__alpha=1e-05 \n",
      "[CV]  vect__ngram_range=(1, 2), vect__max_df=0.5, clf__n_iter=10, tfidf__use_idf=False, tfidf__norm=l1, clf__penalty=elasticnet, vect__max_features=None, clf__alpha=1e-05 -   1.1s\n",
      "[CV] vect__ngram_range=(1, 2), vect__max_df=0.5, clf__n_iter=10, tfidf__use_idf=False, tfidf__norm=l1, clf__penalty=elasticnet, vect__max_features=None, clf__alpha=1e-05 \n",
      "[CV]  vect__ngram_range=(1, 2), vect__max_df=0.5, clf__n_iter=10, tfidf__use_idf=False, tfidf__norm=l1, clf__penalty=elasticnet, vect__max_features=None, clf__alpha=1e-05 -   1.1s\n",
      "[CV] vect__ngram_range=(1, 1), vect__max_df=0.75, clf__n_iter=80, tfidf__use_idf=False, tfidf__norm=l2, clf__penalty=l2, vect__max_features=5000, clf__alpha=1e-05 \n",
      "[CV]  vect__ngram_range=(1, 1), vect__max_df=0.75, clf__n_iter=80, tfidf__use_idf=False, tfidf__norm=l2, clf__penalty=l2, vect__max_features=5000, clf__alpha=1e-05 -   0.3s\n",
      "[CV] vect__ngram_range=(1, 1), vect__max_df=0.75, clf__n_iter=80, tfidf__use_idf=False, tfidf__norm=l2, clf__penalty=l2, vect__max_features=5000, clf__alpha=1e-05 \n",
      "[CV]  vect__ngram_range=(1, 1), vect__max_df=0.75, clf__n_iter=80, tfidf__use_idf=False, tfidf__norm=l2, clf__penalty=l2, vect__max_features=5000, clf__alpha=1e-05 -   0.3s\n",
      "[CV] vect__ngram_range=(1, 1), vect__max_df=0.75, clf__n_iter=80, tfidf__use_idf=False, tfidf__norm=l2, clf__penalty=l2, vect__max_features=5000, clf__alpha=1e-05 \n",
      "[CV]  vect__ngram_range=(1, 1), vect__max_df=0.75, clf__n_iter=80, tfidf__use_idf=False, tfidf__norm=l2, clf__penalty=l2, vect__max_features=5000, clf__alpha=1e-05 -   0.3s\n",
      "[CV] vect__ngram_range=(1, 1), vect__max_df=1.0, clf__n_iter=50, tfidf__use_idf=False, tfidf__norm=l1, clf__penalty=elasticnet, vect__max_features=5000, clf__alpha=1e-05 \n",
      "[CV]  vect__ngram_range=(1, 1), vect__max_df=1.0, clf__n_iter=50, tfidf__use_idf=False, tfidf__norm=l1, clf__penalty=elasticnet, vect__max_features=5000, clf__alpha=1e-05 -   0.3s\n",
      "[CV] vect__ngram_range=(1, 1), vect__max_df=1.0, clf__n_iter=50, tfidf__use_idf=False, tfidf__norm=l1, clf__penalty=elasticnet, vect__max_features=5000, clf__alpha=1e-05 \n",
      "[CV]  vect__ngram_range=(1, 1), vect__max_df=1.0, clf__n_iter=50, tfidf__use_idf=False, tfidf__norm=l1, clf__penalty=elasticnet, vect__max_features=5000, clf__alpha=1e-05 -   0.3s\n",
      "[CV] vect__ngram_range=(1, 1), vect__max_df=1.0, clf__n_iter=50, tfidf__use_idf=False, tfidf__norm=l1, clf__penalty=elasticnet, vect__max_features=5000, clf__alpha=1e-05 \n",
      "[CV]  vect__ngram_range=(1, 1), vect__max_df=1.0, clf__n_iter=50, tfidf__use_idf=False, tfidf__norm=l1, clf__penalty=elasticnet, vect__max_features=5000, clf__alpha=1e-05 -   0.3s\n",
      "[CV] vect__ngram_range=(1, 2), vect__max_df=0.75, clf__n_iter=10, tfidf__use_idf=False, tfidf__norm=l2, clf__penalty=l2, vect__max_features=50000, clf__alpha=1e-05 \n",
      "[CV]  vect__ngram_range=(1, 2), vect__max_df=0.75, clf__n_iter=10, tfidf__use_idf=False, tfidf__norm=l2, clf__penalty=l2, vect__max_features=50000, clf__alpha=1e-05 -   1.5s\n",
      "[CV] vect__ngram_range=(1, 2), vect__max_df=0.75, clf__n_iter=10, tfidf__use_idf=False, tfidf__norm=l2, clf__penalty=l2, vect__max_features=50000, clf__alpha=1e-05 \n",
      "[CV]  vect__ngram_range=(1, 2), vect__max_df=0.75, clf__n_iter=10, tfidf__use_idf=False, tfidf__norm=l2, clf__penalty=l2, vect__max_features=50000, clf__alpha=1e-05 -   1.3s\n",
      "[CV] vect__ngram_range=(1, 2), vect__max_df=0.75, clf__n_iter=10, tfidf__use_idf=False, tfidf__norm=l2, clf__penalty=l2, vect__max_features=50000, clf__alpha=1e-05 \n",
      "[CV]  vect__ngram_range=(1, 2), vect__max_df=0.75, clf__n_iter=10, tfidf__use_idf=False, tfidf__norm=l2, clf__penalty=l2, vect__max_features=50000, clf__alpha=1e-05 -   1.2s\n",
      "[CV] vect__ngram_range=(1, 2), vect__max_df=1.0, clf__n_iter=80, tfidf__use_idf=True, tfidf__norm=l2, clf__penalty=elasticnet, vect__max_features=5000, clf__alpha=1e-06 \n",
      "[CV]  vect__ngram_range=(1, 2), vect__max_df=1.0, clf__n_iter=80, tfidf__use_idf=True, tfidf__norm=l2, clf__penalty=elasticnet, vect__max_features=5000, clf__alpha=1e-06 -   1.2s\n",
      "[CV] vect__ngram_range=(1, 2), vect__max_df=1.0, clf__n_iter=80, tfidf__use_idf=True, tfidf__norm=l2, clf__penalty=elasticnet, vect__max_features=5000, clf__alpha=1e-06 \n",
      "[CV]  vect__ngram_range=(1, 2), vect__max_df=1.0, clf__n_iter=80, tfidf__use_idf=True, tfidf__norm=l2, clf__penalty=elasticnet, vect__max_features=5000, clf__alpha=1e-06 -   1.4s\n",
      "[CV] vect__ngram_range=(1, 2), vect__max_df=1.0, clf__n_iter=80, tfidf__use_idf=True, tfidf__norm=l2, clf__penalty=elasticnet, vect__max_features=5000, clf__alpha=1e-06 \n",
      "[CV]  vect__ngram_range=(1, 2), vect__max_df=1.0, clf__n_iter=80, tfidf__use_idf=True, tfidf__norm=l2, clf__penalty=elasticnet, vect__max_features=5000, clf__alpha=1e-06 -   1.5s\n"
     ]
    },
    {
     "name": "stderr",
     "output_type": "stream",
     "text": [
      "[Parallel(n_jobs=1)]: Done  30 out of  30 | elapsed:   22.6s finished\n"
     ]
    },
    {
     "data": {
      "text/plain": [
       "RandomizedSearchCV(cv=None, error_score='raise',\n",
       "          estimator=Pipeline(steps=[('vect', CountVectorizer(analyzer=u'word', binary=False, decode_error=u'strict',\n",
       "        dtype=<type 'numpy.int64'>, encoding=u'utf-8', input=u'content',\n",
       "        lowercase=True, max_df=1.0, max_features=None, min_df=1,\n",
       "        ngram_range=(1, 1), preprocessor=None, stop_words=None,\n",
       "        st...   penalty='l2', power_t=0.5, random_state=None, shuffle=True,\n",
       "       verbose=0, warm_start=False))]),\n",
       "          fit_params={}, iid=True, n_iter=10, n_jobs=1,\n",
       "          param_distributions={'vect__ngram_range': ((1, 1), (1, 2)), 'tfidf__use_idf': (True, False), 'tfidf__norm': ('l1', 'l2'), 'vect__max_df': (0.5, 0.75, 1.0), 'clf__penalty': ('l2', 'elasticnet'), 'clf__n_iter': (10, 50, 80), 'vect__max_features': (None, 5000, 10000, 50000), 'clf__alpha': (1e-05, 1e-06)},\n",
       "          pre_dispatch='2*n_jobs', random_state=42, refit=True,\n",
       "          scoring=None, verbose=2)"
      ]
     },
     "execution_count": 21,
     "metadata": {},
     "output_type": "execute_result"
    }
   ],
   "source": [
    "random_search.fit(X_20, y_20)"
   ]
  },
  {
   "cell_type": "code",
   "execution_count": 22,
   "metadata": {
    "collapsed": false
   },
   "outputs": [
    {
     "data": {
      "text/plain": [
       "{'steps': [('vect',\n",
       "   CountVectorizer(analyzer=u'word', binary=False, decode_error=u'strict',\n",
       "           dtype=<type 'numpy.int64'>, encoding=u'utf-8', input=u'content',\n",
       "           lowercase=True, max_df=0.75, max_features=50000, min_df=1,\n",
       "           ngram_range=(1, 2), preprocessor=None, stop_words=None,\n",
       "           strip_accents=None, token_pattern=u'(?u)\\\\b\\\\w\\\\w+\\\\b',\n",
       "           tokenizer=None, vocabulary=None)),\n",
       "  ('tfidf', TfidfTransformer(norm='l1', smooth_idf=True, sublinear_tf=False,\n",
       "            use_idf=False)),\n",
       "  ('clf',\n",
       "   SGDClassifier(alpha=1e-06, average=False, class_weight=None, epsilon=0.1,\n",
       "          eta0=0.0, fit_intercept=True, l1_ratio=0.15,\n",
       "          learning_rate='optimal', loss='hinge', n_iter=80, n_jobs=1,\n",
       "          penalty='elasticnet', power_t=0.5, random_state=None, shuffle=True,\n",
       "          verbose=0, warm_start=False))]}"
      ]
     },
     "execution_count": 22,
     "metadata": {},
     "output_type": "execute_result"
    }
   ],
   "source": [
    "random_search.best_estimator_.get_params(deep=False)"
   ]
  },
  {
   "cell_type": "code",
   "execution_count": 23,
   "metadata": {
    "collapsed": false
   },
   "outputs": [
    {
     "data": {
      "text/plain": [
       "({'clf__alpha': 1e-06,\n",
       "  'clf__n_iter': 80,\n",
       "  'clf__penalty': 'elasticnet',\n",
       "  'tfidf__norm': 'l1',\n",
       "  'tfidf__use_idf': False,\n",
       "  'vect__max_df': 0.75,\n",
       "  'vect__max_features': 50000,\n",
       "  'vect__ngram_range': (1, 2)},\n",
       " 0.92998833138856474)"
      ]
     },
     "execution_count": 23,
     "metadata": {},
     "output_type": "execute_result"
    }
   ],
   "source": [
    "random_search.best_params_, random_search.best_score_"
   ]
  },
  {
   "cell_type": "code",
   "execution_count": 37,
   "metadata": {
    "collapsed": false
   },
   "outputs": [
    {
     "data": {
      "text/plain": [
       "mean: 0.92882, std: 0.01089, params: {'vect__ngram_range': (1, 1), 'vect__max_df': 1.0, 'clf__n_iter': 80, 'tfidf__use_idf': True, 'tfidf__norm': 'l2', 'clf__penalty': 'elasticnet', 'vect__max_features': 50000, 'clf__alpha': 1e-06}"
      ]
     },
     "execution_count": 37,
     "metadata": {},
     "output_type": "execute_result"
    }
   ],
   "source": [
    "random_search.grid_scores_[0]"
   ]
  },
  {
   "cell_type": "code",
   "execution_count": 79,
   "metadata": {
    "collapsed": true
   },
   "outputs": [],
   "source": [
    "random_search_digit = RandomizedSearchCV(\n",
    "    pipe_digit,\n",
    "    {\n",
    "        'pca__n_components': np.linspace(10, 100, 91),\n",
    "        'logistic__C': np.logspace(-4, 4, 30),\n",
    "    },\n",
    "    n_iter=30)"
   ]
  },
  {
   "cell_type": "code",
   "execution_count": null,
   "metadata": {
    "collapsed": false
   },
   "outputs": [],
   "source": [
    "random_search_digit.fit(X_dig, y_dig)"
   ]
  },
  {
   "cell_type": "code",
   "execution_count": 81,
   "metadata": {
    "collapsed": false
   },
   "outputs": [],
   "source": [
    "hmap_r = pd.DataFrame([{\n",
    "            'mean': mean,\n",
    "            'C': param['logistic__C'],\n",
    "            'n': param['pca__n_components']\n",
    "        } for param, mean, _ in random_search_digit.grid_scores_])"
   ]
  },
  {
   "cell_type": "code",
   "execution_count": 82,
   "metadata": {
    "collapsed": false
   },
   "outputs": [
    {
     "data": {
      "text/plain": [
       "<matplotlib.axes._subplots.AxesSubplot at 0x7feb8380f3d0>"
      ]
     },
     "execution_count": 82,
     "metadata": {},
     "output_type": "execute_result"
    },
    {
     "data": {
      "image/png": "[encoded data removed]",
      "text/plain": [
       "<matplotlib.figure.Figure at 0x7feb83cfbb90>"
      ]
     },
     "metadata": {},
     "output_type": "display_data"
    }
   ],
   "source": [
    "sns.heatmap(hmap_r.pivot(index='C', columns='n', values='mean'), annot=True)"
   ]
  },
  {
   "cell_type": "markdown",
   "metadata": {},
   "source": [
    "## Building a Custom Sklearn Node"
   ]
  },
  {
   "cell_type": "code",
   "execution_count": 6,
   "metadata": {
    "collapsed": true
   },
   "outputs": [],
   "source": [
    "from sklearn.base import BaseEstimator, TransformerMixin, ClassifierMixin, ClusterMixin"
   ]
  },
  {
   "cell_type": "code",
   "execution_count": 2,
   "metadata": {
    "collapsed": true
   },
   "outputs": [],
   "source": [
    "class OptimusPrime(BaseEstimator, TransformerMixin):\n",
    "    def __init__(self, divisor):\n",
    "        self.divisor = np.float(divisor)\n",
    "        \n",
    "    def fit(self, X, y=None):\n",
    "        return self\n",
    "\n",
    "    def transform(self, X, y=None):\n",
    "        return np.round([x/self.divisor for x in X])"
   ]
  },
  {
   "cell_type": "code",
   "execution_count": 9,
   "metadata": {
    "collapsed": false
   },
   "outputs": [
    {
     "data": {
      "text/plain": [
       "array([[  0.,   0.,   0.,   0.,   0.,   0.,   0.,   0.,   0.,   0.,   0.],\n",
       "       [  0.,   3.,   0.,   0.,   0.,   0.,   0.,   0.,   0.,   0.,   0.],\n",
       "       [  0.,   0.,   6.,   0.,   0.,   0.,   0.,   0.,   0.,   0.,   0.],\n",
       "       [  0.,   0.,   0.,   9.,   0.,   0.,   0.,   0.,   0.,   0.,   0.],\n",
       "       [  0.,   0.,   0.,   0.,  12.,   0.,   0.,   0.,   0.,   0.,   0.],\n",
       "       [  0.,   0.,   0.,   0.,   0.,  14.,   0.,   0.,   0.,   0.,   0.],\n",
       "       [  0.,   0.,   0.,   0.,   0.,   0.,  17.,   0.,   0.,   0.,   0.],\n",
       "       [  0.,   0.,   0.,   0.,   0.,   0.,   0.,  20.,   0.,   0.,   0.],\n",
       "       [  0.,   0.,   0.,   0.,   0.,   0.,   0.,   0.,  23.,   0.,   0.],\n",
       "       [  0.,   0.,   0.,   0.,   0.,   0.,   0.,   0.,   0.,  26.,   0.],\n",
       "       [  0.,   0.,   0.,   0.,   0.,   0.,   0.,   0.,   0.,   0.,  29.]])"
      ]
     },
     "execution_count": 9,
     "metadata": {},
     "output_type": "execute_result"
    }
   ],
   "source": [
    "optimus = OptimusPrime(3.5)\n",
    "X = np.diag(np.linspace(1,100, 11)) \n",
    "optimus.fit_transform(X)"
   ]
  },
  {
   "cell_type": "code",
   "execution_count": 12,
   "metadata": {
    "collapsed": true
   },
   "outputs": [],
   "source": [
    "from sklearn.neighbors import KNeighborsClassifier"
   ]
  },
  {
   "cell_type": "code",
   "execution_count": 11,
   "metadata": {
    "collapsed": false
   },
   "outputs": [
    {
     "name": "stdout",
     "output_type": "stream",
     "text": [
      "(1, 2, 'a', 'b') {}\n",
      "() {'a': 1, 'c': 9, 'b': 8}\n",
      "(1, 2) {'a': 'a'}\n"
     ]
    }
   ],
   "source": [
    "def foo(*args, **kwargs):\n",
    "    print args, kwargs\n",
    "\n",
    "foo(1, 2, 'a', 'b')\n",
    "foo(a=1, b=8, c=9)\n",
    "foo(1, 2, a=\"a\")"
   ]
  },
  {
   "cell_type": "code",
   "execution_count": 13,
   "metadata": {
    "collapsed": false
   },
   "outputs": [],
   "source": [
    "class MyClassifier(BaseEstimator, ClassifierMixin):\n",
    "    \n",
    "    def __init__(self, mode='knn', n_neighbors=5, n_iter=5, alpha=0.0001):\n",
    "        self.mode = mode\n",
    "        self.n_neighbors = n_neighbors\n",
    "        self.n_iter = n_iter\n",
    "        self.alpha = alpha        \n",
    "        self.estimator = None\n",
    "            \n",
    "    def _init_estimator(self):\n",
    "        if self.mode == 'knn':\n",
    "            return KNeighborsClassifier(n_neighbors=self.n_neighbors)\n",
    "        elif self.mode == 'sgd':\n",
    "            return SGDClassifier(n_iter=self.n_iter, alpha=self.alpha)\n",
    "        else:\n",
    "            raise NotImplementedError('Only knn and sgd mode supported.')\n",
    "    \n",
    "    def fit(self, X, y=None):\n",
    "        if not self.estimator:\n",
    "            self.estimator = self._init_estimator()\n",
    "        self.estimator = self.estimator.fit(X, y)\n",
    "        return self\n",
    "    \n",
    "    def predict(self, X, y=None):\n",
    "        return self.estimator.predict(X)\n",
    "    \n",
    "    def fit_predict(self, X, y=None):\n",
    "        return self.estimator.fit(X, y).predict(X)"
   ]
  },
  {
   "cell_type": "code",
   "execution_count": 14,
   "metadata": {
    "collapsed": false
   },
   "outputs": [],
   "source": [
    "pipe_20_comma = Pipeline([\n",
    "        ('vect', CountVectorizer()),\n",
    "        ('tfidf', TfidfTransformer()),\n",
    "        ('clf', MyClassifier())\n",
    "    ])"
   ]
  },
  {
   "cell_type": "code",
   "execution_count": 17,
   "metadata": {
    "collapsed": true
   },
   "outputs": [],
   "source": [
    "comma_params = [\n",
    "    {'clf__mode': ['knn', 'sgd']},\n",
    "    {'clf__mode': ['knn'], 'clf__n_neighbors': [3, 7, 10]},\n",
    "    {'clf__mode': ['sgd'],'clf__alpha': (0.00001, 0.000001), 'clf__n_iter': (10, 50, 80)}\n",
    "]\n",
    "grid_comma = GridSearchCV(pipe_20_comma, comma_params, verbose=2)"
   ]
  },
  {
   "cell_type": "code",
   "execution_count": 18,
   "metadata": {
    "collapsed": false
   },
   "outputs": [
    {
     "name": "stdout",
     "output_type": "stream",
     "text": [
      "Fitting 3 folds for each of 11 candidates, totalling 33 fits\n",
      "[CV] clf__mode=knn ...................................................\n",
      "[CV] .......................................... clf__mode=knn -   0.4s\n",
      "[CV] clf__mode=knn ...................................................\n",
      "[CV] .......................................... clf__mode=knn -   0.3s\n",
      "[CV] clf__mode=knn ...................................................\n",
      "[CV] .......................................... clf__mode=knn -   0.3s\n",
      "[CV] clf__mode=sgd ...................................................\n",
      "[CV] .......................................... clf__mode=sgd -   0.3s\n",
      "[CV] clf__mode=sgd ...................................................\n",
      "[CV] .......................................... clf__mode=sgd -   0.3s\n",
      "[CV] clf__mode=sgd ...................................................\n",
      "[CV] .......................................... clf__mode=sgd -   0.3s\n",
      "[CV] clf__mode=knn, clf__n_neighbors=3 ...............................\n",
      "[CV] ...................... clf__mode=knn, clf__n_neighbors=3 -   0.3s\n",
      "[CV] clf__mode=knn, clf__n_neighbors=3 ...............................\n",
      "[CV] ...................... clf__mode=knn, clf__n_neighbors=3 -   0.3s\n",
      "[CV] clf__mode=knn, clf__n_neighbors=3 ...............................\n",
      "[CV] ...................... clf__mode=knn, clf__n_neighbors=3 -   0.3s\n",
      "[CV] clf__mode=knn, clf__n_neighbors=7 ...............................\n",
      "[CV] ...................... clf__mode=knn, clf__n_neighbors=7 -   0.3s\n",
      "[CV] clf__mode=knn, clf__n_neighbors=7 ...............................\n",
      "[CV] ...................... clf__mode=knn, clf__n_neighbors=7 -   0.3s\n",
      "[CV] clf__mode=knn, clf__n_neighbors=7 ...............................\n",
      "[CV] ...................... clf__mode=knn, clf__n_neighbors=7 -   0.3s\n",
      "[CV] clf__mode=knn, clf__n_neighbors=10 ..............................\n",
      "[CV] ..................... clf__mode=knn, clf__n_neighbors=10 -   0.4s\n",
      "[CV] clf__mode=knn, clf__n_neighbors=10 ..............................\n",
      "[CV] ..................... clf__mode=knn, clf__n_neighbors=10 -   0.4s\n",
      "[CV] clf__mode=knn, clf__n_neighbors=10 ..............................\n",
      "[CV] ..................... clf__mode=knn, clf__n_neighbors=10 -   0.3s\n",
      "[CV] clf__n_iter=10, clf__mode=sgd, clf__alpha=1e-05 .................\n",
      "[CV] ........ clf__n_iter=10, clf__mode=sgd, clf__alpha=1e-05 -   0.3s\n",
      "[CV] clf__n_iter=10, clf__mode=sgd, clf__alpha=1e-05 .................\n",
      "[CV] ........ clf__n_iter=10, clf__mode=sgd, clf__alpha=1e-05 -   0.3s\n",
      "[CV] clf__n_iter=10, clf__mode=sgd, clf__alpha=1e-05 .................\n",
      "[CV] ........ clf__n_iter=10, clf__mode=sgd, clf__alpha=1e-05 -   0.3s\n",
      "[CV] clf__n_iter=50, clf__mode=sgd, clf__alpha=1e-05 .................\n",
      "[CV] ........ clf__n_iter=50, clf__mode=sgd, clf__alpha=1e-05 -   0.3s\n",
      "[CV] clf__n_iter=50, clf__mode=sgd, clf__alpha=1e-05 .................\n",
      "[CV] ........ clf__n_iter=50, clf__mode=sgd, clf__alpha=1e-05 -   0.3s\n",
      "[CV] clf__n_iter=50, clf__mode=sgd, clf__alpha=1e-05 .................\n",
      "[CV] ........ clf__n_iter=50, clf__mode=sgd, clf__alpha=1e-05 -   0.3s\n",
      "[CV] clf__n_iter=80, clf__mode=sgd, clf__alpha=1e-05 .................\n",
      "[CV] ........ clf__n_iter=80, clf__mode=sgd, clf__alpha=1e-05 -   0.4s\n",
      "[CV] clf__n_iter=80, clf__mode=sgd, clf__alpha=1e-05 .................\n",
      "[CV] ........ clf__n_iter=80, clf__mode=sgd, clf__alpha=1e-05 -   0.4s\n",
      "[CV] clf__n_iter=80, clf__mode=sgd, clf__alpha=1e-05 .................\n",
      "[CV] ........ clf__n_iter=80, clf__mode=sgd, clf__alpha=1e-05 -   0.4s\n",
      "[CV] clf__n_iter=10, clf__mode=sgd, clf__alpha=1e-06 .................\n",
      "[CV] ........ clf__n_iter=10, clf__mode=sgd, clf__alpha=1e-06 -   0.3s\n",
      "[CV] clf__n_iter=10, clf__mode=sgd, clf__alpha=1e-06 .................\n",
      "[CV] ........ clf__n_iter=10, clf__mode=sgd, clf__alpha=1e-06 -   0.3s\n",
      "[CV] clf__n_iter=10, clf__mode=sgd, clf__alpha=1e-06 .................\n",
      "[CV] ........ clf__n_iter=10, clf__mode=sgd, clf__alpha=1e-06 -   0.3s\n",
      "[CV] clf__n_iter=50, clf__mode=sgd, clf__alpha=1e-06 .................\n",
      "[CV] ........ clf__n_iter=50, clf__mode=sgd, clf__alpha=1e-06 -   0.4s\n",
      "[CV] clf__n_iter=50, clf__mode=sgd, clf__alpha=1e-06 .................\n",
      "[CV] ........ clf__n_iter=50, clf__mode=sgd, clf__alpha=1e-06 -   0.3s\n",
      "[CV] clf__n_iter=50, clf__mode=sgd, clf__alpha=1e-06 .................\n",
      "[CV] ........ clf__n_iter=50, clf__mode=sgd, clf__alpha=1e-06 -   0.4s\n",
      "[CV] clf__n_iter=80, clf__mode=sgd, clf__alpha=1e-06 .................\n",
      "[CV] ........ clf__n_iter=80, clf__mode=sgd, clf__alpha=1e-06 -   0.3s\n",
      "[CV] clf__n_iter=80, clf__mode=sgd, clf__alpha=1e-06 .................\n",
      "[CV] ........ clf__n_iter=80, clf__mode=sgd, clf__alpha=1e-06 -   0.3s\n",
      "[CV] clf__n_iter=80, clf__mode=sgd, clf__alpha=1e-06 .................\n",
      "[CV] ........ clf__n_iter=80, clf__mode=sgd, clf__alpha=1e-06 -   0.4s\n"
     ]
    },
    {
     "name": "stderr",
     "output_type": "stream",
     "text": [
      "[Parallel(n_jobs=1)]: Done  33 out of  33 | elapsed:   11.3s finished\n"
     ]
    },
    {
     "data": {
      "text/plain": [
       "GridSearchCV(cv=None, error_score='raise',\n",
       "       estimator=Pipeline(steps=[('vect', CountVectorizer(analyzer=u'word', binary=False, decode_error=u'strict',\n",
       "        dtype=<type 'numpy.int64'>, encoding=u'utf-8', input=u'content',\n",
       "        lowercase=True, max_df=1.0, max_features=None, min_df=1,\n",
       "        ngram_range=(1, 1), preprocessor=None, stop_words=None,\n",
       "        st...,\n",
       "         use_idf=True)), ('clf', MyClassifier(alpha=0.0001, mode='knn', n_iter=5, n_neighbors=5))]),\n",
       "       fit_params={}, iid=True, n_jobs=1,\n",
       "       param_grid=[{'clf__mode': ['knn', 'sgd']}, {'clf__mode': ['knn'], 'clf__n_neighbors': [3, 7, 10]}, {'clf__n_iter': (10, 50, 80), 'clf__mode': ['sgd'], 'clf__alpha': (1e-05, 1e-06)}],\n",
       "       pre_dispatch='2*n_jobs', refit=True, scoring=None, verbose=2)"
      ]
     },
     "execution_count": 18,
     "metadata": {},
     "output_type": "execute_result"
    }
   ],
   "source": [
    "grid_comma.fit(X_20, y_20)"
   ]
  },
  {
   "cell_type": "code",
   "execution_count": 19,
   "metadata": {
    "collapsed": false
   },
   "outputs": [
    {
     "data": {
      "text/plain": [
       "{'clf__alpha': 1e-06, 'clf__mode': 'sgd', 'clf__n_iter': 50}"
      ]
     },
     "execution_count": 19,
     "metadata": {},
     "output_type": "execute_result"
    }
   ],
   "source": [
    "grid_comma.best_params_"
   ]
  },
  {
   "cell_type": "markdown",
   "metadata": {},
   "source": [
    "#### Hyperparameter search\n",
    "- <a href=\"https://github.com/rhiever/tpot\">TPOT</a>\n",
    "- <a href=\"https://medium.com/rants-on-machine-learning/smarter-parameter-sweeps-or-why-grid-search-is-plain-stupid-c17d97a0e881#.aify5h22n\">Other hyperparameter searching methods</a> "
   ]
  }
 ],
 "metadata": {
  "kernelspec": {
   "display_name": "Python 2",
   "language": "python",
   "name": "python2"
  },
  "language_info": {
   "codemirror_mode": {
    "name": "ipython",
    "version": 2
   },
   "file_extension": ".py",
   "mimetype": "text/x-python",
   "name": "python",
   "nbconvert_exporter": "python",
   "pygments_lexer": "ipython2",
   "version": "2.7.6"
  }
 },
 "nbformat": 4,
 "nbformat_minor": 0
}
