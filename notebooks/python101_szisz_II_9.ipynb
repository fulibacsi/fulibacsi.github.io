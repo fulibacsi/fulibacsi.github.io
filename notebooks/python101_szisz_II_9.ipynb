{
 "cells": [
  {
   "cell_type": "markdown",
   "metadata": {},
   "source": [
    "# Python 101 @ SzISz IX.\n",
    "---\n",
    "\n",
    "## Today: More pandas are coming!"
   ]
  },
  {
   "cell_type": "code",
   "execution_count": 1,
   "metadata": {
    "collapsed": false
   },
   "outputs": [],
   "source": [
    "%matplotlib inline\n",
    "import pandas as pd\n",
    "import numpy as np\n",
    "import matplotlib.pyplot as plt\n",
    "import seaborn as sns"
   ]
  },
  {
   "cell_type": "code",
   "execution_count": 2,
   "metadata": {
    "collapsed": true
   },
   "outputs": [],
   "source": [
    "BASE_URI = \"../data/\""
   ]
  },
  {
   "cell_type": "markdown",
   "metadata": {},
   "source": [
    "---\n",
    "## Act I: Read demographic data\n",
    "\n",
    "Read data from a csv file"
   ]
  },
  {
   "cell_type": "code",
   "execution_count": 14,
   "metadata": {
    "collapsed": false
   },
   "outputs": [],
   "source": [
    "df = pd.read_csv(BASE_URI + 'population.csv', delimiter=',', quotechar='\"',lineterminator='\\n')"
   ]
  },
  {
   "cell_type": "markdown",
   "metadata": {},
   "source": [
    "Select the columns we need"
   ]
  },
  {
   "cell_type": "code",
   "execution_count": 15,
   "metadata": {
    "collapsed": false
   },
   "outputs": [],
   "source": [
    "columns = ['﻿\"Data Source\"'] + [str(year) for year in range(1990, 2011)]\n",
    "pop = df[columns].dropna()"
   ]
  },
  {
   "cell_type": "markdown",
   "metadata": {},
   "source": [
    "Rename the funky named column '﻿\"Data Source\"' to 'country'"
   ]
  },
  {
   "cell_type": "code",
   "execution_count": 16,
   "metadata": {
    "collapsed": false
   },
   "outputs": [
    {
     "data": {
      "text/html": [
       "<div>\n",
       "<table border=\"1\" class=\"dataframe\">\n",
       "  <thead>\n",
       "    <tr style=\"text-align: right;\">\n",
       "      <th></th>\n",
       "      <th>country</th>\n",
       "      <th>1990</th>\n",
       "      <th>1991</th>\n",
       "      <th>1992</th>\n",
       "      <th>1993</th>\n",
       "      <th>1994</th>\n",
       "      <th>1995</th>\n",
       "      <th>1996</th>\n",
       "      <th>1997</th>\n",
       "      <th>1998</th>\n",
       "      <th>...</th>\n",
       "      <th>2001</th>\n",
       "      <th>2002</th>\n",
       "      <th>2003</th>\n",
       "      <th>2004</th>\n",
       "      <th>2005</th>\n",
       "      <th>2006</th>\n",
       "      <th>2007</th>\n",
       "      <th>2008</th>\n",
       "      <th>2009</th>\n",
       "      <th>2010</th>\n",
       "    </tr>\n",
       "  </thead>\n",
       "  <tbody>\n",
       "    <tr>\n",
       "      <th>0</th>\n",
       "      <td>Aruba</td>\n",
       "      <td>68235</td>\n",
       "      <td>72498</td>\n",
       "      <td>76700</td>\n",
       "      <td>80326</td>\n",
       "      <td>83195</td>\n",
       "      <td>85447</td>\n",
       "      <td>87276</td>\n",
       "      <td>89004</td>\n",
       "      <td>90858</td>\n",
       "      <td>...</td>\n",
       "      <td>97015</td>\n",
       "      <td>98742</td>\n",
       "      <td>100031</td>\n",
       "      <td>100830</td>\n",
       "      <td>101219</td>\n",
       "      <td>101344</td>\n",
       "      <td>101418</td>\n",
       "      <td>101597</td>\n",
       "      <td>101932</td>\n",
       "      <td>102384</td>\n",
       "    </tr>\n",
       "    <tr>\n",
       "      <th>1</th>\n",
       "      <td>Andorra</td>\n",
       "      <td>58904</td>\n",
       "      <td>61003</td>\n",
       "      <td>62707</td>\n",
       "      <td>63854</td>\n",
       "      <td>64274</td>\n",
       "      <td>64090</td>\n",
       "      <td>63799</td>\n",
       "      <td>64084</td>\n",
       "      <td>65399</td>\n",
       "      <td>...</td>\n",
       "      <td>75643</td>\n",
       "      <td>79060</td>\n",
       "      <td>81223</td>\n",
       "      <td>81877</td>\n",
       "      <td>81292</td>\n",
       "      <td>79969</td>\n",
       "      <td>78659</td>\n",
       "      <td>77907</td>\n",
       "      <td>77865</td>\n",
       "      <td>78360</td>\n",
       "    </tr>\n",
       "    <tr>\n",
       "      <th>2</th>\n",
       "      <td>Afghanistan</td>\n",
       "      <td>13811876</td>\n",
       "      <td>15175325</td>\n",
       "      <td>16485018</td>\n",
       "      <td>17586073</td>\n",
       "      <td>18415307</td>\n",
       "      <td>19021226</td>\n",
       "      <td>19496836</td>\n",
       "      <td>19987071</td>\n",
       "      <td>20595360</td>\n",
       "      <td>...</td>\n",
       "      <td>23116142</td>\n",
       "      <td>24018682</td>\n",
       "      <td>24860855</td>\n",
       "      <td>25631282</td>\n",
       "      <td>26349243</td>\n",
       "      <td>27032197</td>\n",
       "      <td>27708187</td>\n",
       "      <td>28397812</td>\n",
       "      <td>29105480</td>\n",
       "      <td>29824536</td>\n",
       "    </tr>\n",
       "    <tr>\n",
       "      <th>3</th>\n",
       "      <td>Angola</td>\n",
       "      <td>11002758</td>\n",
       "      <td>11372156</td>\n",
       "      <td>11743432</td>\n",
       "      <td>12104952</td>\n",
       "      <td>12451945</td>\n",
       "      <td>12791388</td>\n",
       "      <td>13137542</td>\n",
       "      <td>13510616</td>\n",
       "      <td>13924930</td>\n",
       "      <td>...</td>\n",
       "      <td>15421075</td>\n",
       "      <td>15976715</td>\n",
       "      <td>16544376</td>\n",
       "      <td>17122409</td>\n",
       "      <td>17712824</td>\n",
       "      <td>18314441</td>\n",
       "      <td>18926650</td>\n",
       "      <td>19549124</td>\n",
       "      <td>20180490</td>\n",
       "      <td>20820525</td>\n",
       "    </tr>\n",
       "    <tr>\n",
       "      <th>4</th>\n",
       "      <td>Albania</td>\n",
       "      <td>3446858</td>\n",
       "      <td>3417280</td>\n",
       "      <td>3384367</td>\n",
       "      <td>3357858</td>\n",
       "      <td>3341043</td>\n",
       "      <td>3331317</td>\n",
       "      <td>3325456</td>\n",
       "      <td>3317941</td>\n",
       "      <td>3304948</td>\n",
       "      <td>...</td>\n",
       "      <td>3239385</td>\n",
       "      <td>3216197</td>\n",
       "      <td>3196130</td>\n",
       "      <td>3179573</td>\n",
       "      <td>3166222</td>\n",
       "      <td>3156608</td>\n",
       "      <td>3151185</td>\n",
       "      <td>3150143</td>\n",
       "      <td>3153883</td>\n",
       "      <td>3162083</td>\n",
       "    </tr>\n",
       "  </tbody>\n",
       "</table>\n",
       "<p>5 rows × 22 columns</p>\n",
       "</div>"
      ],
      "text/plain": [
       "       country      1990      1991      1992      1993      1994      1995  \\\n",
       "0        Aruba     68235     72498     76700     80326     83195     85447   \n",
       "1      Andorra     58904     61003     62707     63854     64274     64090   \n",
       "2  Afghanistan  13811876  15175325  16485018  17586073  18415307  19021226   \n",
       "3       Angola  11002758  11372156  11743432  12104952  12451945  12791388   \n",
       "4      Albania   3446858   3417280   3384367   3357858   3341043   3331317   \n",
       "\n",
       "       1996      1997      1998    ...         2001      2002      2003  \\\n",
       "0     87276     89004     90858    ...        97015     98742    100031   \n",
       "1     63799     64084     65399    ...        75643     79060     81223   \n",
       "2  19496836  19987071  20595360    ...     23116142  24018682  24860855   \n",
       "3  13137542  13510616  13924930    ...     15421075  15976715  16544376   \n",
       "4   3325456   3317941   3304948    ...      3239385   3216197   3196130   \n",
       "\n",
       "       2004      2005      2006      2007      2008      2009      2010  \n",
       "0    100830    101219    101344    101418    101597    101932    102384  \n",
       "1     81877     81292     79969     78659     77907     77865     78360  \n",
       "2  25631282  26349243  27032197  27708187  28397812  29105480  29824536  \n",
       "3  17122409  17712824  18314441  18926650  19549124  20180490  20820525  \n",
       "4   3179573   3166222   3156608   3151185   3150143   3153883   3162083  \n",
       "\n",
       "[5 rows x 22 columns]"
      ]
     },
     "execution_count": 16,
     "metadata": {},
     "output_type": "execute_result"
    }
   ],
   "source": [
    "columns[0] = 'country'\n",
    "pop.columns = columns\n",
    "pop.head()"
   ]
  },
  {
   "cell_type": "markdown",
   "metadata": {},
   "source": [
    "Define the index column"
   ]
  },
  {
   "cell_type": "code",
   "execution_count": 20,
   "metadata": {
    "collapsed": false
   },
   "outputs": [
    {
     "data": {
      "text/html": [
       "<div>\n",
       "<table border=\"1\" class=\"dataframe\">\n",
       "  <thead>\n",
       "    <tr style=\"text-align: right;\">\n",
       "      <th></th>\n",
       "      <th>1990</th>\n",
       "      <th>1991</th>\n",
       "      <th>1992</th>\n",
       "      <th>1993</th>\n",
       "      <th>1994</th>\n",
       "      <th>1995</th>\n",
       "      <th>1996</th>\n",
       "      <th>1997</th>\n",
       "      <th>1998</th>\n",
       "      <th>1999</th>\n",
       "      <th>...</th>\n",
       "      <th>2001</th>\n",
       "      <th>2002</th>\n",
       "      <th>2003</th>\n",
       "      <th>2004</th>\n",
       "      <th>2005</th>\n",
       "      <th>2006</th>\n",
       "      <th>2007</th>\n",
       "      <th>2008</th>\n",
       "      <th>2009</th>\n",
       "      <th>2010</th>\n",
       "    </tr>\n",
       "    <tr>\n",
       "      <th>country</th>\n",
       "      <th></th>\n",
       "      <th></th>\n",
       "      <th></th>\n",
       "      <th></th>\n",
       "      <th></th>\n",
       "      <th></th>\n",
       "      <th></th>\n",
       "      <th></th>\n",
       "      <th></th>\n",
       "      <th></th>\n",
       "      <th></th>\n",
       "      <th></th>\n",
       "      <th></th>\n",
       "      <th></th>\n",
       "      <th></th>\n",
       "      <th></th>\n",
       "      <th></th>\n",
       "      <th></th>\n",
       "      <th></th>\n",
       "      <th></th>\n",
       "      <th></th>\n",
       "    </tr>\n",
       "  </thead>\n",
       "  <tbody>\n",
       "    <tr>\n",
       "      <th>Aruba</th>\n",
       "      <td>68235</td>\n",
       "      <td>72498</td>\n",
       "      <td>76700</td>\n",
       "      <td>80326</td>\n",
       "      <td>83195</td>\n",
       "      <td>85447</td>\n",
       "      <td>87276</td>\n",
       "      <td>89004</td>\n",
       "      <td>90858</td>\n",
       "      <td>92894</td>\n",
       "      <td>...</td>\n",
       "      <td>97015</td>\n",
       "      <td>98742</td>\n",
       "      <td>100031</td>\n",
       "      <td>100830</td>\n",
       "      <td>101219</td>\n",
       "      <td>101344</td>\n",
       "      <td>101418</td>\n",
       "      <td>101597</td>\n",
       "      <td>101932</td>\n",
       "      <td>102384</td>\n",
       "    </tr>\n",
       "    <tr>\n",
       "      <th>Andorra</th>\n",
       "      <td>58904</td>\n",
       "      <td>61003</td>\n",
       "      <td>62707</td>\n",
       "      <td>63854</td>\n",
       "      <td>64274</td>\n",
       "      <td>64090</td>\n",
       "      <td>63799</td>\n",
       "      <td>64084</td>\n",
       "      <td>65399</td>\n",
       "      <td>68000</td>\n",
       "      <td>...</td>\n",
       "      <td>75643</td>\n",
       "      <td>79060</td>\n",
       "      <td>81223</td>\n",
       "      <td>81877</td>\n",
       "      <td>81292</td>\n",
       "      <td>79969</td>\n",
       "      <td>78659</td>\n",
       "      <td>77907</td>\n",
       "      <td>77865</td>\n",
       "      <td>78360</td>\n",
       "    </tr>\n",
       "    <tr>\n",
       "      <th>Afghanistan</th>\n",
       "      <td>13811876</td>\n",
       "      <td>15175325</td>\n",
       "      <td>16485018</td>\n",
       "      <td>17586073</td>\n",
       "      <td>18415307</td>\n",
       "      <td>19021226</td>\n",
       "      <td>19496836</td>\n",
       "      <td>19987071</td>\n",
       "      <td>20595360</td>\n",
       "      <td>21347782</td>\n",
       "      <td>...</td>\n",
       "      <td>23116142</td>\n",
       "      <td>24018682</td>\n",
       "      <td>24860855</td>\n",
       "      <td>25631282</td>\n",
       "      <td>26349243</td>\n",
       "      <td>27032197</td>\n",
       "      <td>27708187</td>\n",
       "      <td>28397812</td>\n",
       "      <td>29105480</td>\n",
       "      <td>29824536</td>\n",
       "    </tr>\n",
       "    <tr>\n",
       "      <th>Angola</th>\n",
       "      <td>11002758</td>\n",
       "      <td>11372156</td>\n",
       "      <td>11743432</td>\n",
       "      <td>12104952</td>\n",
       "      <td>12451945</td>\n",
       "      <td>12791388</td>\n",
       "      <td>13137542</td>\n",
       "      <td>13510616</td>\n",
       "      <td>13924930</td>\n",
       "      <td>14385283</td>\n",
       "      <td>...</td>\n",
       "      <td>15421075</td>\n",
       "      <td>15976715</td>\n",
       "      <td>16544376</td>\n",
       "      <td>17122409</td>\n",
       "      <td>17712824</td>\n",
       "      <td>18314441</td>\n",
       "      <td>18926650</td>\n",
       "      <td>19549124</td>\n",
       "      <td>20180490</td>\n",
       "      <td>20820525</td>\n",
       "    </tr>\n",
       "    <tr>\n",
       "      <th>Albania</th>\n",
       "      <td>3446858</td>\n",
       "      <td>3417280</td>\n",
       "      <td>3384367</td>\n",
       "      <td>3357858</td>\n",
       "      <td>3341043</td>\n",
       "      <td>3331317</td>\n",
       "      <td>3325456</td>\n",
       "      <td>3317941</td>\n",
       "      <td>3304948</td>\n",
       "      <td>3286084</td>\n",
       "      <td>...</td>\n",
       "      <td>3239385</td>\n",
       "      <td>3216197</td>\n",
       "      <td>3196130</td>\n",
       "      <td>3179573</td>\n",
       "      <td>3166222</td>\n",
       "      <td>3156608</td>\n",
       "      <td>3151185</td>\n",
       "      <td>3150143</td>\n",
       "      <td>3153883</td>\n",
       "      <td>3162083</td>\n",
       "    </tr>\n",
       "  </tbody>\n",
       "</table>\n",
       "<p>5 rows × 21 columns</p>\n",
       "</div>"
      ],
      "text/plain": [
       "                 1990      1991      1992      1993      1994      1995  \\\n",
       "country                                                                   \n",
       "Aruba           68235     72498     76700     80326     83195     85447   \n",
       "Andorra         58904     61003     62707     63854     64274     64090   \n",
       "Afghanistan  13811876  15175325  16485018  17586073  18415307  19021226   \n",
       "Angola       11002758  11372156  11743432  12104952  12451945  12791388   \n",
       "Albania       3446858   3417280   3384367   3357858   3341043   3331317   \n",
       "\n",
       "                 1996      1997      1998      1999    ...         2001  \\\n",
       "country                                                ...                \n",
       "Aruba           87276     89004     90858     92894    ...        97015   \n",
       "Andorra         63799     64084     65399     68000    ...        75643   \n",
       "Afghanistan  19496836  19987071  20595360  21347782    ...     23116142   \n",
       "Angola       13137542  13510616  13924930  14385283    ...     15421075   \n",
       "Albania       3325456   3317941   3304948   3286084    ...      3239385   \n",
       "\n",
       "                 2002      2003      2004      2005      2006      2007  \\\n",
       "country                                                                   \n",
       "Aruba           98742    100031    100830    101219    101344    101418   \n",
       "Andorra         79060     81223     81877     81292     79969     78659   \n",
       "Afghanistan  24018682  24860855  25631282  26349243  27032197  27708187   \n",
       "Angola       15976715  16544376  17122409  17712824  18314441  18926650   \n",
       "Albania       3216197   3196130   3179573   3166222   3156608   3151185   \n",
       "\n",
       "                 2008      2009      2010  \n",
       "country                                    \n",
       "Aruba          101597    101932    102384  \n",
       "Andorra         77907     77865     78360  \n",
       "Afghanistan  28397812  29105480  29824536  \n",
       "Angola       19549124  20180490  20820525  \n",
       "Albania       3150143   3153883   3162083  \n",
       "\n",
       "[5 rows x 21 columns]"
      ]
     },
     "execution_count": 20,
     "metadata": {},
     "output_type": "execute_result"
    }
   ],
   "source": [
    "pop = pop.set_index('country')\n",
    "pop.head()"
   ]
  },
  {
   "cell_type": "markdown",
   "metadata": {},
   "source": [
    "Select a few countries"
   ]
  },
  {
   "cell_type": "code",
   "execution_count": 21,
   "metadata": {
    "collapsed": false
   },
   "outputs": [
    {
     "data": {
      "text/html": [
       "<div>\n",
       "<table border=\"1\" class=\"dataframe\">\n",
       "  <thead>\n",
       "    <tr style=\"text-align: right;\">\n",
       "      <th></th>\n",
       "      <th>1990</th>\n",
       "      <th>1991</th>\n",
       "      <th>1992</th>\n",
       "      <th>1993</th>\n",
       "      <th>1994</th>\n",
       "      <th>1995</th>\n",
       "      <th>1996</th>\n",
       "      <th>1997</th>\n",
       "      <th>1998</th>\n",
       "      <th>1999</th>\n",
       "      <th>...</th>\n",
       "      <th>2001</th>\n",
       "      <th>2002</th>\n",
       "      <th>2003</th>\n",
       "      <th>2004</th>\n",
       "      <th>2005</th>\n",
       "      <th>2006</th>\n",
       "      <th>2007</th>\n",
       "      <th>2008</th>\n",
       "      <th>2009</th>\n",
       "      <th>2010</th>\n",
       "    </tr>\n",
       "    <tr>\n",
       "      <th>country</th>\n",
       "      <th></th>\n",
       "      <th></th>\n",
       "      <th></th>\n",
       "      <th></th>\n",
       "      <th></th>\n",
       "      <th></th>\n",
       "      <th></th>\n",
       "      <th></th>\n",
       "      <th></th>\n",
       "      <th></th>\n",
       "      <th></th>\n",
       "      <th></th>\n",
       "      <th></th>\n",
       "      <th></th>\n",
       "      <th></th>\n",
       "      <th></th>\n",
       "      <th></th>\n",
       "      <th></th>\n",
       "      <th></th>\n",
       "      <th></th>\n",
       "      <th></th>\n",
       "    </tr>\n",
       "  </thead>\n",
       "  <tbody>\n",
       "    <tr>\n",
       "      <th>Germany</th>\n",
       "      <td>80624598</td>\n",
       "      <td>81156363</td>\n",
       "      <td>81438348</td>\n",
       "      <td>81678051</td>\n",
       "      <td>81914831</td>\n",
       "      <td>82034771</td>\n",
       "      <td>82047195</td>\n",
       "      <td>82100243</td>\n",
       "      <td>82211508</td>\n",
       "      <td>82349925</td>\n",
       "      <td>...</td>\n",
       "      <td>82534176</td>\n",
       "      <td>82516260</td>\n",
       "      <td>82469422</td>\n",
       "      <td>82376451</td>\n",
       "      <td>82266372</td>\n",
       "      <td>82110097</td>\n",
       "      <td>81902307</td>\n",
       "      <td>81776930</td>\n",
       "      <td>81797673</td>\n",
       "      <td>80425823</td>\n",
       "    </tr>\n",
       "    <tr>\n",
       "      <th>France</th>\n",
       "      <td>58849212</td>\n",
       "      <td>59105073</td>\n",
       "      <td>59325793</td>\n",
       "      <td>59540711</td>\n",
       "      <td>59752020</td>\n",
       "      <td>59963792</td>\n",
       "      <td>60185178</td>\n",
       "      <td>60495470</td>\n",
       "      <td>60911057</td>\n",
       "      <td>61355725</td>\n",
       "      <td>...</td>\n",
       "      <td>62242474</td>\n",
       "      <td>62702121</td>\n",
       "      <td>63176246</td>\n",
       "      <td>63617975</td>\n",
       "      <td>64012572</td>\n",
       "      <td>64371099</td>\n",
       "      <td>64702921</td>\n",
       "      <td>65031235</td>\n",
       "      <td>65371613</td>\n",
       "      <td>65696689</td>\n",
       "    </tr>\n",
       "    <tr>\n",
       "      <th>United Kingdom</th>\n",
       "      <td>57580402</td>\n",
       "      <td>57718614</td>\n",
       "      <td>57865745</td>\n",
       "      <td>58019030</td>\n",
       "      <td>58166950</td>\n",
       "      <td>58316954</td>\n",
       "      <td>58487141</td>\n",
       "      <td>58682466</td>\n",
       "      <td>58892514</td>\n",
       "      <td>59107960</td>\n",
       "      <td>...</td>\n",
       "      <td>59637719</td>\n",
       "      <td>59978349</td>\n",
       "      <td>60387997</td>\n",
       "      <td>60828396</td>\n",
       "      <td>61296895</td>\n",
       "      <td>61773855</td>\n",
       "      <td>62238723</td>\n",
       "      <td>62747868</td>\n",
       "      <td>63259912</td>\n",
       "      <td>63612729</td>\n",
       "    </tr>\n",
       "    <tr>\n",
       "      <th>Hungary</th>\n",
       "      <td>10369341</td>\n",
       "      <td>10357523</td>\n",
       "      <td>10343355</td>\n",
       "      <td>10328965</td>\n",
       "      <td>10311238</td>\n",
       "      <td>10290486</td>\n",
       "      <td>10266570</td>\n",
       "      <td>10237530</td>\n",
       "      <td>10210971</td>\n",
       "      <td>10187576</td>\n",
       "      <td>...</td>\n",
       "      <td>10129552</td>\n",
       "      <td>10107146</td>\n",
       "      <td>10087065</td>\n",
       "      <td>10071370</td>\n",
       "      <td>10055780</td>\n",
       "      <td>10038188</td>\n",
       "      <td>10022650</td>\n",
       "      <td>10000023</td>\n",
       "      <td>9971727</td>\n",
       "      <td>9920362</td>\n",
       "    </tr>\n",
       "  </tbody>\n",
       "</table>\n",
       "<p>4 rows × 21 columns</p>\n",
       "</div>"
      ],
      "text/plain": [
       "                    1990      1991      1992      1993      1994      1995  \\\n",
       "country                                                                      \n",
       "Germany         80624598  81156363  81438348  81678051  81914831  82034771   \n",
       "France          58849212  59105073  59325793  59540711  59752020  59963792   \n",
       "United Kingdom  57580402  57718614  57865745  58019030  58166950  58316954   \n",
       "Hungary         10369341  10357523  10343355  10328965  10311238  10290486   \n",
       "\n",
       "                    1996      1997      1998      1999    ...         2001  \\\n",
       "country                                                   ...                \n",
       "Germany         82047195  82100243  82211508  82349925    ...     82534176   \n",
       "France          60185178  60495470  60911057  61355725    ...     62242474   \n",
       "United Kingdom  58487141  58682466  58892514  59107960    ...     59637719   \n",
       "Hungary         10266570  10237530  10210971  10187576    ...     10129552   \n",
       "\n",
       "                    2002      2003      2004      2005      2006      2007  \\\n",
       "country                                                                      \n",
       "Germany         82516260  82469422  82376451  82266372  82110097  81902307   \n",
       "France          62702121  63176246  63617975  64012572  64371099  64702921   \n",
       "United Kingdom  59978349  60387997  60828396  61296895  61773855  62238723   \n",
       "Hungary         10107146  10087065  10071370  10055780  10038188  10022650   \n",
       "\n",
       "                    2008      2009      2010  \n",
       "country                                       \n",
       "Germany         81776930  81797673  80425823  \n",
       "France          65031235  65371613  65696689  \n",
       "United Kingdom  62747868  63259912  63612729  \n",
       "Hungary         10000023   9971727   9920362  \n",
       "\n",
       "[4 rows x 21 columns]"
      ]
     },
     "execution_count": 21,
     "metadata": {},
     "output_type": "execute_result"
    }
   ],
   "source": [
    "countries = [ u'United Kingdom', u'Hungary', u'France', u'Germany']\n",
    "subpop = pop[pop.index.isin(countries)]\n",
    "subpop"
   ]
  },
  {
   "cell_type": "markdown",
   "metadata": {},
   "source": [
    "Pivot the dataframe"
   ]
  },
  {
   "cell_type": "code",
   "execution_count": 23,
   "metadata": {
    "collapsed": false
   },
   "outputs": [
    {
     "data": {
      "text/plain": [
       "country             \n",
       "Germany         1990    80624598\n",
       "                1991    81156363\n",
       "                1992    81438348\n",
       "                1993    81678051\n",
       "                1994    81914831\n",
       "                1995    82034771\n",
       "                1996    82047195\n",
       "                1997    82100243\n",
       "                1998    82211508\n",
       "                1999    82349925\n",
       "                2000    82488495\n",
       "                2001    82534176\n",
       "                2002    82516260\n",
       "                2003    82469422\n",
       "                2004    82376451\n",
       "                2005    82266372\n",
       "                2006    82110097\n",
       "                2007    81902307\n",
       "                2008    81776930\n",
       "                2009    81797673\n",
       "                2010    80425823\n",
       "France          1990    58849212\n",
       "                1991    59105073\n",
       "                1992    59325793\n",
       "                1993    59540711\n",
       "                1994    59752020\n",
       "                1995    59963792\n",
       "                1996    60185178\n",
       "                1997    60495470\n",
       "                1998    60911057\n",
       "                          ...   \n",
       "United Kingdom  2002    59978349\n",
       "                2003    60387997\n",
       "                2004    60828396\n",
       "                2005    61296895\n",
       "                2006    61773855\n",
       "                2007    62238723\n",
       "                2008    62747868\n",
       "                2009    63259912\n",
       "                2010    63612729\n",
       "Hungary         1990    10369341\n",
       "                1991    10357523\n",
       "                1992    10343355\n",
       "                1993    10328965\n",
       "                1994    10311238\n",
       "                1995    10290486\n",
       "                1996    10266570\n",
       "                1997    10237530\n",
       "                1998    10210971\n",
       "                1999    10187576\n",
       "                2000    10158608\n",
       "                2001    10129552\n",
       "                2002    10107146\n",
       "                2003    10087065\n",
       "                2004    10071370\n",
       "                2005    10055780\n",
       "                2006    10038188\n",
       "                2007    10022650\n",
       "                2008    10000023\n",
       "                2009     9971727\n",
       "                2010     9920362\n",
       "dtype: float64"
      ]
     },
     "execution_count": 23,
     "metadata": {},
     "output_type": "execute_result"
    }
   ],
   "source": [
    "subpop_plot = subpop.stack()\n",
    "subpop_plot"
   ]
  },
  {
   "cell_type": "code",
   "execution_count": 24,
   "metadata": {
    "collapsed": false
   },
   "outputs": [
    {
     "data": {
      "text/html": [
       "<div>\n",
       "<table border=\"1\" class=\"dataframe\">\n",
       "  <thead>\n",
       "    <tr style=\"text-align: right;\">\n",
       "      <th>country</th>\n",
       "      <th>Germany</th>\n",
       "      <th>France</th>\n",
       "      <th>United Kingdom</th>\n",
       "      <th>Hungary</th>\n",
       "    </tr>\n",
       "  </thead>\n",
       "  <tbody>\n",
       "    <tr>\n",
       "      <th>1990</th>\n",
       "      <td>80624598</td>\n",
       "      <td>58849212</td>\n",
       "      <td>57580402</td>\n",
       "      <td>10369341</td>\n",
       "    </tr>\n",
       "    <tr>\n",
       "      <th>1991</th>\n",
       "      <td>81156363</td>\n",
       "      <td>59105073</td>\n",
       "      <td>57718614</td>\n",
       "      <td>10357523</td>\n",
       "    </tr>\n",
       "    <tr>\n",
       "      <th>1992</th>\n",
       "      <td>81438348</td>\n",
       "      <td>59325793</td>\n",
       "      <td>57865745</td>\n",
       "      <td>10343355</td>\n",
       "    </tr>\n",
       "    <tr>\n",
       "      <th>1993</th>\n",
       "      <td>81678051</td>\n",
       "      <td>59540711</td>\n",
       "      <td>58019030</td>\n",
       "      <td>10328965</td>\n",
       "    </tr>\n",
       "    <tr>\n",
       "      <th>1994</th>\n",
       "      <td>81914831</td>\n",
       "      <td>59752020</td>\n",
       "      <td>58166950</td>\n",
       "      <td>10311238</td>\n",
       "    </tr>\n",
       "  </tbody>\n",
       "</table>\n",
       "</div>"
      ],
      "text/plain": [
       "country   Germany    France  United Kingdom   Hungary\n",
       "1990     80624598  58849212        57580402  10369341\n",
       "1991     81156363  59105073        57718614  10357523\n",
       "1992     81438348  59325793        57865745  10343355\n",
       "1993     81678051  59540711        58019030  10328965\n",
       "1994     81914831  59752020        58166950  10311238"
      ]
     },
     "execution_count": 24,
     "metadata": {},
     "output_type": "execute_result"
    }
   ],
   "source": [
    "subpop_plot.unstack('country').head()"
   ]
  },
  {
   "cell_type": "code",
   "execution_count": 25,
   "metadata": {
    "collapsed": false
   },
   "outputs": [
    {
     "data": {
      "text/plain": [
       "<matplotlib.axes._subplots.AxesSubplot at 0x10d615790>"
      ]
     },
     "execution_count": 25,
     "metadata": {},
     "output_type": "execute_result"
    },
    {
     "data": {
      "image/png": "[encoded data removed]",
      "text/plain": [
       "<matplotlib.figure.Figure at 0x10bf458d0>"
      ]
     },
     "metadata": {},
     "output_type": "display_data"
    }
   ],
   "source": [
    "subpop_plot = subpop_plot.unstack('country')\n",
    "subpop_plot.plot()"
   ]
  },
  {
   "cell_type": "markdown",
   "metadata": {},
   "source": [
    "---\n",
    "## Act II: Read data about alcohol\n",
    "\n",
    "Read the data"
   ]
  },
  {
   "cell_type": "code",
   "execution_count": 26,
   "metadata": {
    "collapsed": false
   },
   "outputs": [
    {
     "data": {
      "text/html": [
       "<div>\n",
       "<table border=\"1\" class=\"dataframe\">\n",
       "  <thead>\n",
       "    <tr style=\"text-align: right;\">\n",
       "      <th></th>\n",
       "      <th>Indicator</th>\n",
       "      <th>Data Source</th>\n",
       "      <th>PUBLISH STATES</th>\n",
       "      <th>Year</th>\n",
       "      <th>WHO region</th>\n",
       "      <th>Country</th>\n",
       "      <th>Beverage Types</th>\n",
       "      <th>Display Value</th>\n",
       "      <th>Numeric</th>\n",
       "      <th>Low</th>\n",
       "      <th>High</th>\n",
       "      <th>Comments</th>\n",
       "    </tr>\n",
       "  </thead>\n",
       "  <tbody>\n",
       "    <tr>\n",
       "      <th>0</th>\n",
       "      <td>Recorded alcohol per capita (15+) consumption ...</td>\n",
       "      <td>Data source</td>\n",
       "      <td>Published</td>\n",
       "      <td>2003</td>\n",
       "      <td>Europe</td>\n",
       "      <td>Slovenia</td>\n",
       "      <td>Wine</td>\n",
       "      <td>3.49</td>\n",
       "      <td>NaN</td>\n",
       "      <td>NaN</td>\n",
       "      <td>NaN</td>\n",
       "      <td>NaN</td>\n",
       "    </tr>\n",
       "    <tr>\n",
       "      <th>1</th>\n",
       "      <td>Recorded alcohol per capita (15+) consumption ...</td>\n",
       "      <td>Data source</td>\n",
       "      <td>Published</td>\n",
       "      <td>1999</td>\n",
       "      <td>Europe</td>\n",
       "      <td>The former Yugoslav Republic of Macedonia</td>\n",
       "      <td>Beer</td>\n",
       "      <td>1.92</td>\n",
       "      <td>NaN</td>\n",
       "      <td>NaN</td>\n",
       "      <td>NaN</td>\n",
       "      <td>NaN</td>\n",
       "    </tr>\n",
       "    <tr>\n",
       "      <th>2</th>\n",
       "      <td>Recorded alcohol per capita (15+) consumption ...</td>\n",
       "      <td>Data source</td>\n",
       "      <td>Published</td>\n",
       "      <td>2008</td>\n",
       "      <td>Europe</td>\n",
       "      <td>Turkmenistan</td>\n",
       "      <td>Spirits</td>\n",
       "      <td>1.19</td>\n",
       "      <td>NaN</td>\n",
       "      <td>NaN</td>\n",
       "      <td>NaN</td>\n",
       "      <td>NaN</td>\n",
       "    </tr>\n",
       "    <tr>\n",
       "      <th>3</th>\n",
       "      <td>Recorded alcohol per capita (15+) consumption ...</td>\n",
       "      <td>Data source</td>\n",
       "      <td>Published</td>\n",
       "      <td>2006</td>\n",
       "      <td>Europe</td>\n",
       "      <td>Belarus</td>\n",
       "      <td>All</td>\n",
       "      <td>12.62</td>\n",
       "      <td>NaN</td>\n",
       "      <td>NaN</td>\n",
       "      <td>NaN</td>\n",
       "      <td>NaN</td>\n",
       "    </tr>\n",
       "    <tr>\n",
       "      <th>4</th>\n",
       "      <td>Recorded alcohol per capita (15+) consumption ...</td>\n",
       "      <td>Data source</td>\n",
       "      <td>Published</td>\n",
       "      <td>2006</td>\n",
       "      <td>Europe</td>\n",
       "      <td>Czech Republic</td>\n",
       "      <td>Wine</td>\n",
       "      <td>2.30</td>\n",
       "      <td>NaN</td>\n",
       "      <td>NaN</td>\n",
       "      <td>NaN</td>\n",
       "      <td>NaN</td>\n",
       "    </tr>\n",
       "  </tbody>\n",
       "</table>\n",
       "</div>"
      ],
      "text/plain": [
       "                                           Indicator  Data Source  \\\n",
       "0  Recorded alcohol per capita (15+) consumption ...  Data source   \n",
       "1  Recorded alcohol per capita (15+) consumption ...  Data source   \n",
       "2  Recorded alcohol per capita (15+) consumption ...  Data source   \n",
       "3  Recorded alcohol per capita (15+) consumption ...  Data source   \n",
       "4  Recorded alcohol per capita (15+) consumption ...  Data source   \n",
       "\n",
       "  PUBLISH STATES  Year WHO region                                    Country  \\\n",
       "0      Published  2003     Europe                                   Slovenia   \n",
       "1      Published  1999     Europe  The former Yugoslav Republic of Macedonia   \n",
       "2      Published  2008     Europe                               Turkmenistan   \n",
       "3      Published  2006     Europe                                    Belarus   \n",
       "4      Published  2006     Europe                             Czech Republic   \n",
       "\n",
       "  Beverage Types  Display Value  Numeric  Low  High Comments  \n",
       "0           Wine           3.49      NaN  NaN   NaN      NaN  \n",
       "1           Beer           1.92      NaN  NaN   NaN      NaN  \n",
       "2        Spirits           1.19      NaN  NaN   NaN      NaN  \n",
       "3            All          12.62      NaN  NaN   NaN      NaN  \n",
       "4           Wine           2.30      NaN  NaN   NaN      NaN  "
      ]
     },
     "execution_count": 26,
     "metadata": {},
     "output_type": "execute_result"
    }
   ],
   "source": [
    "df = pd.read_csv(BASE_URI + 'alcohol.csv', delimiter=',', quotechar='\"',lineterminator='\\n')\n",
    "df.head()"
   ]
  },
  {
   "cell_type": "markdown",
   "metadata": {},
   "source": [
    "Select the columns, and rename them"
   ]
  },
  {
   "cell_type": "code",
   "execution_count": 27,
   "metadata": {
    "collapsed": false
   },
   "outputs": [
    {
     "data": {
      "text/html": [
       "<div>\n",
       "<table border=\"1\" class=\"dataframe\">\n",
       "  <thead>\n",
       "    <tr style=\"text-align: right;\">\n",
       "      <th></th>\n",
       "      <th>country</th>\n",
       "      <th>year</th>\n",
       "      <th>type</th>\n",
       "      <th>alcohol</th>\n",
       "    </tr>\n",
       "  </thead>\n",
       "  <tbody>\n",
       "    <tr>\n",
       "      <th>0</th>\n",
       "      <td>Slovenia</td>\n",
       "      <td>2003</td>\n",
       "      <td>Wine</td>\n",
       "      <td>3.49</td>\n",
       "    </tr>\n",
       "    <tr>\n",
       "      <th>1</th>\n",
       "      <td>The former Yugoslav Republic of Macedonia</td>\n",
       "      <td>1999</td>\n",
       "      <td>Beer</td>\n",
       "      <td>1.92</td>\n",
       "    </tr>\n",
       "    <tr>\n",
       "      <th>2</th>\n",
       "      <td>Turkmenistan</td>\n",
       "      <td>2008</td>\n",
       "      <td>Spirits</td>\n",
       "      <td>1.19</td>\n",
       "    </tr>\n",
       "    <tr>\n",
       "      <th>3</th>\n",
       "      <td>Belarus</td>\n",
       "      <td>2006</td>\n",
       "      <td>All</td>\n",
       "      <td>12.62</td>\n",
       "    </tr>\n",
       "    <tr>\n",
       "      <th>4</th>\n",
       "      <td>Czech Republic</td>\n",
       "      <td>2006</td>\n",
       "      <td>Wine</td>\n",
       "      <td>2.30</td>\n",
       "    </tr>\n",
       "  </tbody>\n",
       "</table>\n",
       "</div>"
      ],
      "text/plain": [
       "                                     country  year     type  alcohol\n",
       "0                                   Slovenia  2003     Wine     3.49\n",
       "1  The former Yugoslav Republic of Macedonia  1999     Beer     1.92\n",
       "2                               Turkmenistan  2008  Spirits     1.19\n",
       "3                                    Belarus  2006      All    12.62\n",
       "4                             Czech Republic  2006     Wine     2.30"
      ]
     },
     "execution_count": 27,
     "metadata": {},
     "output_type": "execute_result"
    }
   ],
   "source": [
    "columns = ['Country', 'Year', 'Beverage Types', 'Display Value']\n",
    "alc = df[columns].dropna()\n",
    "alc.columns = ['country', 'year', 'type', 'alcohol']\n",
    "alc.head()"
   ]
  },
  {
   "cell_type": "markdown",
   "metadata": {},
   "source": [
    "Select a few countries"
   ]
  },
  {
   "cell_type": "code",
   "execution_count": 28,
   "metadata": {
    "collapsed": false
   },
   "outputs": [
    {
     "data": {
      "text/html": [
       "<div>\n",
       "<table border=\"1\" class=\"dataframe\">\n",
       "  <thead>\n",
       "    <tr style=\"text-align: right;\">\n",
       "      <th></th>\n",
       "      <th>country</th>\n",
       "      <th>year</th>\n",
       "      <th>type</th>\n",
       "      <th>alcohol</th>\n",
       "    </tr>\n",
       "  </thead>\n",
       "  <tbody>\n",
       "    <tr>\n",
       "      <th>6</th>\n",
       "      <td>United Kingdom</td>\n",
       "      <td>2010</td>\n",
       "      <td>All</td>\n",
       "      <td>10.26</td>\n",
       "    </tr>\n",
       "    <tr>\n",
       "      <th>12</th>\n",
       "      <td>Hungary</td>\n",
       "      <td>2005</td>\n",
       "      <td>Spirits</td>\n",
       "      <td>4.14</td>\n",
       "    </tr>\n",
       "    <tr>\n",
       "      <th>30</th>\n",
       "      <td>United Kingdom</td>\n",
       "      <td>2001</td>\n",
       "      <td>Other alcoholic beverages</td>\n",
       "      <td>0.64</td>\n",
       "    </tr>\n",
       "    <tr>\n",
       "      <th>37</th>\n",
       "      <td>Hungary</td>\n",
       "      <td>1992</td>\n",
       "      <td>Beer</td>\n",
       "      <td>5.81</td>\n",
       "    </tr>\n",
       "    <tr>\n",
       "      <th>60</th>\n",
       "      <td>Germany</td>\n",
       "      <td>2011</td>\n",
       "      <td>All</td>\n",
       "      <td>10.97</td>\n",
       "    </tr>\n",
       "  </tbody>\n",
       "</table>\n",
       "</div>"
      ],
      "text/plain": [
       "           country  year                       type  alcohol\n",
       "6   United Kingdom  2010                        All    10.26\n",
       "12         Hungary  2005                    Spirits     4.14\n",
       "30  United Kingdom  2001  Other alcoholic beverages     0.64\n",
       "37         Hungary  1992                       Beer     5.81\n",
       "60         Germany  2011                        All    10.97"
      ]
     },
     "execution_count": 28,
     "metadata": {},
     "output_type": "execute_result"
    }
   ],
   "source": [
    "countries = [ u'United Kingdom', u'Hungary', u'France', u'Germany']\n",
    "subalc = alc[alc['country'].isin(countries)]\n",
    "subalc.head()"
   ]
  },
  {
   "cell_type": "markdown",
   "metadata": {},
   "source": [
    "We only care about the combined consumption"
   ]
  },
  {
   "cell_type": "code",
   "execution_count": 29,
   "metadata": {
    "collapsed": false
   },
   "outputs": [
    {
     "data": {
      "text/html": [
       "<div>\n",
       "<table border=\"1\" class=\"dataframe\">\n",
       "  <thead>\n",
       "    <tr style=\"text-align: right;\">\n",
       "      <th></th>\n",
       "      <th>country</th>\n",
       "      <th>year</th>\n",
       "      <th>alcohol</th>\n",
       "    </tr>\n",
       "  </thead>\n",
       "  <tbody>\n",
       "    <tr>\n",
       "      <th>6</th>\n",
       "      <td>United Kingdom</td>\n",
       "      <td>2010</td>\n",
       "      <td>10.26</td>\n",
       "    </tr>\n",
       "    <tr>\n",
       "      <th>60</th>\n",
       "      <td>Germany</td>\n",
       "      <td>2011</td>\n",
       "      <td>10.97</td>\n",
       "    </tr>\n",
       "    <tr>\n",
       "      <th>121</th>\n",
       "      <td>Hungary</td>\n",
       "      <td>1991</td>\n",
       "      <td>15.43</td>\n",
       "    </tr>\n",
       "    <tr>\n",
       "      <th>147</th>\n",
       "      <td>United Kingdom</td>\n",
       "      <td>2008</td>\n",
       "      <td>10.35</td>\n",
       "    </tr>\n",
       "    <tr>\n",
       "      <th>165</th>\n",
       "      <td>Germany</td>\n",
       "      <td>2009</td>\n",
       "      <td>11.23</td>\n",
       "    </tr>\n",
       "  </tbody>\n",
       "</table>\n",
       "</div>"
      ],
      "text/plain": [
       "            country  year  alcohol\n",
       "6    United Kingdom  2010    10.26\n",
       "60          Germany  2011    10.97\n",
       "121         Hungary  1991    15.43\n",
       "147  United Kingdom  2008    10.35\n",
       "165         Germany  2009    11.23"
      ]
     },
     "execution_count": 29,
     "metadata": {},
     "output_type": "execute_result"
    }
   ],
   "source": [
    "subalc = subalc[subalc['type'] == 'All']\n",
    "del subalc['type']\n",
    "subalc.head()"
   ]
  },
  {
   "cell_type": "code",
   "execution_count": 30,
   "metadata": {
    "collapsed": false
   },
   "outputs": [
    {
     "data": {
      "text/html": [
       "<div>\n",
       "<table border=\"1\" class=\"dataframe\">\n",
       "  <thead>\n",
       "    <tr style=\"text-align: right;\">\n",
       "      <th></th>\n",
       "      <th>year</th>\n",
       "      <th>alcohol</th>\n",
       "    </tr>\n",
       "    <tr>\n",
       "      <th>country</th>\n",
       "      <th></th>\n",
       "      <th></th>\n",
       "    </tr>\n",
       "  </thead>\n",
       "  <tbody>\n",
       "    <tr>\n",
       "      <th>United Kingdom</th>\n",
       "      <td>2010</td>\n",
       "      <td>10.26</td>\n",
       "    </tr>\n",
       "    <tr>\n",
       "      <th>Germany</th>\n",
       "      <td>2011</td>\n",
       "      <td>10.97</td>\n",
       "    </tr>\n",
       "    <tr>\n",
       "      <th>Hungary</th>\n",
       "      <td>1991</td>\n",
       "      <td>15.43</td>\n",
       "    </tr>\n",
       "    <tr>\n",
       "      <th>United Kingdom</th>\n",
       "      <td>2008</td>\n",
       "      <td>10.35</td>\n",
       "    </tr>\n",
       "    <tr>\n",
       "      <th>Germany</th>\n",
       "      <td>2009</td>\n",
       "      <td>11.23</td>\n",
       "    </tr>\n",
       "  </tbody>\n",
       "</table>\n",
       "</div>"
      ],
      "text/plain": [
       "                year  alcohol\n",
       "country                      \n",
       "United Kingdom  2010    10.26\n",
       "Germany         2011    10.97\n",
       "Hungary         1991    15.43\n",
       "United Kingdom  2008    10.35\n",
       "Germany         2009    11.23"
      ]
     },
     "execution_count": 30,
     "metadata": {},
     "output_type": "execute_result"
    }
   ],
   "source": [
    "subalc.set_index('country').head()"
   ]
  },
  {
   "cell_type": "markdown",
   "metadata": {},
   "source": [
    "Transform data into a desirable format"
   ]
  },
  {
   "cell_type": "code",
   "execution_count": 31,
   "metadata": {
    "collapsed": false
   },
   "outputs": [
    {
     "data": {
      "text/html": [
       "<div>\n",
       "<table border=\"1\" class=\"dataframe\">\n",
       "  <thead>\n",
       "    <tr style=\"text-align: right;\">\n",
       "      <th>year</th>\n",
       "      <th>1990</th>\n",
       "      <th>1991</th>\n",
       "      <th>1992</th>\n",
       "      <th>1993</th>\n",
       "      <th>1994</th>\n",
       "      <th>1995</th>\n",
       "      <th>1996</th>\n",
       "      <th>1997</th>\n",
       "      <th>1998</th>\n",
       "      <th>1999</th>\n",
       "      <th>...</th>\n",
       "      <th>2003</th>\n",
       "      <th>2004</th>\n",
       "      <th>2005</th>\n",
       "      <th>2006</th>\n",
       "      <th>2007</th>\n",
       "      <th>2008</th>\n",
       "      <th>2009</th>\n",
       "      <th>2010</th>\n",
       "      <th>2011</th>\n",
       "      <th>2012</th>\n",
       "    </tr>\n",
       "    <tr>\n",
       "      <th>country</th>\n",
       "      <th></th>\n",
       "      <th></th>\n",
       "      <th></th>\n",
       "      <th></th>\n",
       "      <th></th>\n",
       "      <th></th>\n",
       "      <th></th>\n",
       "      <th></th>\n",
       "      <th></th>\n",
       "      <th></th>\n",
       "      <th></th>\n",
       "      <th></th>\n",
       "      <th></th>\n",
       "      <th></th>\n",
       "      <th></th>\n",
       "      <th></th>\n",
       "      <th></th>\n",
       "      <th></th>\n",
       "      <th></th>\n",
       "      <th></th>\n",
       "      <th></th>\n",
       "    </tr>\n",
       "  </thead>\n",
       "  <tbody>\n",
       "    <tr>\n",
       "      <th>France</th>\n",
       "      <td>15.73</td>\n",
       "      <td>14.85</td>\n",
       "      <td>14.72</td>\n",
       "      <td>14.24</td>\n",
       "      <td>14.11</td>\n",
       "      <td>14.12</td>\n",
       "      <td>13.77</td>\n",
       "      <td>13.31</td>\n",
       "      <td>13.27</td>\n",
       "      <td>13.15</td>\n",
       "      <td>...</td>\n",
       "      <td>13.49</td>\n",
       "      <td>13.18</td>\n",
       "      <td>12.20</td>\n",
       "      <td>12.40</td>\n",
       "      <td>12.20</td>\n",
       "      <td>11.90</td>\n",
       "      <td>11.80</td>\n",
       "      <td>11.70</td>\n",
       "      <td>NaN</td>\n",
       "      <td>NaN</td>\n",
       "    </tr>\n",
       "    <tr>\n",
       "      <th>Germany</th>\n",
       "      <td>14.89</td>\n",
       "      <td>13.92</td>\n",
       "      <td>13.84</td>\n",
       "      <td>13.50</td>\n",
       "      <td>13.37</td>\n",
       "      <td>13.35</td>\n",
       "      <td>13.12</td>\n",
       "      <td>13.00</td>\n",
       "      <td>12.74</td>\n",
       "      <td>12.78</td>\n",
       "      <td>...</td>\n",
       "      <td>11.92</td>\n",
       "      <td>11.83</td>\n",
       "      <td>11.68</td>\n",
       "      <td>11.76</td>\n",
       "      <td>11.51</td>\n",
       "      <td>11.37</td>\n",
       "      <td>11.23</td>\n",
       "      <td>11.21</td>\n",
       "      <td>10.97</td>\n",
       "      <td>10.95</td>\n",
       "    </tr>\n",
       "    <tr>\n",
       "      <th>Hungary</th>\n",
       "      <td>16.15</td>\n",
       "      <td>15.43</td>\n",
       "      <td>14.82</td>\n",
       "      <td>14.16</td>\n",
       "      <td>13.71</td>\n",
       "      <td>12.56</td>\n",
       "      <td>12.55</td>\n",
       "      <td>12.51</td>\n",
       "      <td>12.69</td>\n",
       "      <td>12.09</td>\n",
       "      <td>...</td>\n",
       "      <td>13.08</td>\n",
       "      <td>13.12</td>\n",
       "      <td>12.94</td>\n",
       "      <td>13.16</td>\n",
       "      <td>12.55</td>\n",
       "      <td>11.64</td>\n",
       "      <td>11.46</td>\n",
       "      <td>10.78</td>\n",
       "      <td>11.44</td>\n",
       "      <td>NaN</td>\n",
       "    </tr>\n",
       "    <tr>\n",
       "      <th>United Kingdom</th>\n",
       "      <td>9.96</td>\n",
       "      <td>10.01</td>\n",
       "      <td>9.65</td>\n",
       "      <td>9.45</td>\n",
       "      <td>9.41</td>\n",
       "      <td>9.70</td>\n",
       "      <td>9.75</td>\n",
       "      <td>9.97</td>\n",
       "      <td>10.14</td>\n",
       "      <td>10.16</td>\n",
       "      <td>...</td>\n",
       "      <td>11.46</td>\n",
       "      <td>11.70</td>\n",
       "      <td>11.23</td>\n",
       "      <td>11.08</td>\n",
       "      <td>11.18</td>\n",
       "      <td>10.35</td>\n",
       "      <td>10.49</td>\n",
       "      <td>10.26</td>\n",
       "      <td>10.59</td>\n",
       "      <td>NaN</td>\n",
       "    </tr>\n",
       "  </tbody>\n",
       "</table>\n",
       "<p>4 rows × 23 columns</p>\n",
       "</div>"
      ],
      "text/plain": [
       "year             1990   1991   1992   1993   1994   1995   1996   1997   1998  \\\n",
       "country                                                                         \n",
       "France          15.73  14.85  14.72  14.24  14.11  14.12  13.77  13.31  13.27   \n",
       "Germany         14.89  13.92  13.84  13.50  13.37  13.35  13.12  13.00  12.74   \n",
       "Hungary         16.15  15.43  14.82  14.16  13.71  12.56  12.55  12.51  12.69   \n",
       "United Kingdom   9.96  10.01   9.65   9.45   9.41   9.70   9.75   9.97  10.14   \n",
       "\n",
       "year             1999  ...     2003   2004   2005   2006   2007   2008   2009  \\\n",
       "country                ...                                                      \n",
       "France          13.15  ...    13.49  13.18  12.20  12.40  12.20  11.90  11.80   \n",
       "Germany         12.78  ...    11.92  11.83  11.68  11.76  11.51  11.37  11.23   \n",
       "Hungary         12.09  ...    13.08  13.12  12.94  13.16  12.55  11.64  11.46   \n",
       "United Kingdom  10.16  ...    11.46  11.70  11.23  11.08  11.18  10.35  10.49   \n",
       "\n",
       "year             2010   2011   2012  \n",
       "country                              \n",
       "France          11.70    NaN    NaN  \n",
       "Germany         11.21  10.97  10.95  \n",
       "Hungary         10.78  11.44    NaN  \n",
       "United Kingdom  10.26  10.59    NaN  \n",
       "\n",
       "[4 rows x 23 columns]"
      ]
     },
     "execution_count": 31,
     "metadata": {},
     "output_type": "execute_result"
    }
   ],
   "source": [
    "subalc = subalc.pivot(index='country', columns='year', values='alcohol')\n",
    "subalc.head()"
   ]
  },
  {
   "cell_type": "markdown",
   "metadata": {},
   "source": [
    "Pivot again"
   ]
  },
  {
   "cell_type": "code",
   "execution_count": 32,
   "metadata": {
    "collapsed": false
   },
   "outputs": [
    {
     "data": {
      "text/html": [
       "<div>\n",
       "<table border=\"1\" class=\"dataframe\">\n",
       "  <thead>\n",
       "    <tr style=\"text-align: right;\">\n",
       "      <th>country</th>\n",
       "      <th>France</th>\n",
       "      <th>Germany</th>\n",
       "      <th>Hungary</th>\n",
       "      <th>United Kingdom</th>\n",
       "    </tr>\n",
       "    <tr>\n",
       "      <th>year</th>\n",
       "      <th></th>\n",
       "      <th></th>\n",
       "      <th></th>\n",
       "      <th></th>\n",
       "    </tr>\n",
       "  </thead>\n",
       "  <tbody>\n",
       "    <tr>\n",
       "      <th>1990</th>\n",
       "      <td>15.73</td>\n",
       "      <td>14.89</td>\n",
       "      <td>16.15</td>\n",
       "      <td>9.96</td>\n",
       "    </tr>\n",
       "    <tr>\n",
       "      <th>1991</th>\n",
       "      <td>14.85</td>\n",
       "      <td>13.92</td>\n",
       "      <td>15.43</td>\n",
       "      <td>10.01</td>\n",
       "    </tr>\n",
       "    <tr>\n",
       "      <th>1992</th>\n",
       "      <td>14.72</td>\n",
       "      <td>13.84</td>\n",
       "      <td>14.82</td>\n",
       "      <td>9.65</td>\n",
       "    </tr>\n",
       "    <tr>\n",
       "      <th>1993</th>\n",
       "      <td>14.24</td>\n",
       "      <td>13.50</td>\n",
       "      <td>14.16</td>\n",
       "      <td>9.45</td>\n",
       "    </tr>\n",
       "    <tr>\n",
       "      <th>1994</th>\n",
       "      <td>14.11</td>\n",
       "      <td>13.37</td>\n",
       "      <td>13.71</td>\n",
       "      <td>9.41</td>\n",
       "    </tr>\n",
       "  </tbody>\n",
       "</table>\n",
       "</div>"
      ],
      "text/plain": [
       "country  France  Germany  Hungary  United Kingdom\n",
       "year                                             \n",
       "1990      15.73    14.89    16.15            9.96\n",
       "1991      14.85    13.92    15.43           10.01\n",
       "1992      14.72    13.84    14.82            9.65\n",
       "1993      14.24    13.50    14.16            9.45\n",
       "1994      14.11    13.37    13.71            9.41"
      ]
     },
     "execution_count": 32,
     "metadata": {},
     "output_type": "execute_result"
    }
   ],
   "source": [
    "subalc_plot = subalc.stack()\n",
    "subalc_plot = subalc_plot.unstack('country')\n",
    "subalc_plot.head()"
   ]
  },
  {
   "cell_type": "markdown",
   "metadata": {},
   "source": [
    "Rename columns"
   ]
  },
  {
   "cell_type": "code",
   "execution_count": 33,
   "metadata": {
    "collapsed": false
   },
   "outputs": [],
   "source": [
    "subalc_plot.columns = [u'France_alc', u'Germany_alc', u'Hungary_alc', u'United Kingdom_alc']"
   ]
  },
  {
   "cell_type": "markdown",
   "metadata": {},
   "source": [
    "Plot!"
   ]
  },
  {
   "cell_type": "code",
   "execution_count": 34,
   "metadata": {
    "collapsed": false
   },
   "outputs": [
    {
     "data": {
      "text/plain": [
       "<matplotlib.axes._subplots.AxesSubplot at 0x10d97e490>"
      ]
     },
     "execution_count": 34,
     "metadata": {},
     "output_type": "execute_result"
    },
    {
     "data": {
      "image/png": "[encoded data removed]",
      "text/plain": [
       "<matplotlib.figure.Figure at 0x10db51b10>"
      ]
     },
     "metadata": {},
     "output_type": "display_data"
    }
   ],
   "source": [
    "subalc_plot.plot()"
   ]
  },
  {
   "cell_type": "markdown",
   "metadata": {},
   "source": [
    "---\n",
    "## Act III: Merge data\n",
    "\n",
    "Check indexes"
   ]
  },
  {
   "cell_type": "code",
   "execution_count": 35,
   "metadata": {
    "collapsed": false
   },
   "outputs": [
    {
     "data": {
      "text/plain": [
       "Index([u'1990', u'1991', u'1992', u'1993', u'1994', u'1995', u'1996', u'1997',\n",
       "       u'1998', u'1999', u'2000', u'2001', u'2002', u'2003', u'2004', u'2005',\n",
       "       u'2006', u'2007', u'2008', u'2009', u'2010'],\n",
       "      dtype='object')"
      ]
     },
     "execution_count": 35,
     "metadata": {},
     "output_type": "execute_result"
    }
   ],
   "source": [
    "subpop_plot.index"
   ]
  },
  {
   "cell_type": "code",
   "execution_count": 36,
   "metadata": {
    "collapsed": true
   },
   "outputs": [],
   "source": [
    "subpop_plot.index = subpop_plot.index.astype(np.int)"
   ]
  },
  {
   "cell_type": "code",
   "execution_count": 37,
   "metadata": {
    "collapsed": false
   },
   "outputs": [
    {
     "data": {
      "text/plain": [
       "Int64Index([1990, 1991, 1992, 1993, 1994, 1995, 1996, 1997, 1998, 1999, 2000,\n",
       "            2001, 2002, 2003, 2004, 2005, 2006, 2007, 2008, 2009, 2010, 2011,\n",
       "            2012],\n",
       "           dtype='int64', name=u'year')"
      ]
     },
     "execution_count": 37,
     "metadata": {},
     "output_type": "execute_result"
    }
   ],
   "source": [
    "subalc_plot.index"
   ]
  },
  {
   "cell_type": "markdown",
   "metadata": {},
   "source": [
    "Remove the columns which only appears in one of the datasets"
   ]
  },
  {
   "cell_type": "code",
   "execution_count": 38,
   "metadata": {
    "collapsed": false
   },
   "outputs": [],
   "source": [
    "subalc_plot = subalc_plot[subalc_plot.index < 2011]\n",
    "subpop_plot = subpop_plot[subpop_plot.index < 2011]"
   ]
  },
  {
   "cell_type": "markdown",
   "metadata": {},
   "source": [
    "Merge!"
   ]
  },
  {
   "cell_type": "code",
   "execution_count": 39,
   "metadata": {
    "collapsed": false
   },
   "outputs": [
    {
     "data": {
      "text/html": [
       "<div>\n",
       "<table border=\"1\" class=\"dataframe\">\n",
       "  <thead>\n",
       "    <tr style=\"text-align: right;\">\n",
       "      <th>country</th>\n",
       "      <th>Germany</th>\n",
       "      <th>France</th>\n",
       "      <th>United Kingdom</th>\n",
       "      <th>Hungary</th>\n",
       "      <th>France_alc</th>\n",
       "      <th>Germany_alc</th>\n",
       "      <th>Hungary_alc</th>\n",
       "      <th>United Kingdom_alc</th>\n",
       "    </tr>\n",
       "  </thead>\n",
       "  <tbody>\n",
       "    <tr>\n",
       "      <th>1990</th>\n",
       "      <td>80624598</td>\n",
       "      <td>58849212</td>\n",
       "      <td>57580402</td>\n",
       "      <td>10369341</td>\n",
       "      <td>15.73</td>\n",
       "      <td>14.89</td>\n",
       "      <td>16.15</td>\n",
       "      <td>9.96</td>\n",
       "    </tr>\n",
       "    <tr>\n",
       "      <th>1991</th>\n",
       "      <td>81156363</td>\n",
       "      <td>59105073</td>\n",
       "      <td>57718614</td>\n",
       "      <td>10357523</td>\n",
       "      <td>14.85</td>\n",
       "      <td>13.92</td>\n",
       "      <td>15.43</td>\n",
       "      <td>10.01</td>\n",
       "    </tr>\n",
       "    <tr>\n",
       "      <th>1992</th>\n",
       "      <td>81438348</td>\n",
       "      <td>59325793</td>\n",
       "      <td>57865745</td>\n",
       "      <td>10343355</td>\n",
       "      <td>14.72</td>\n",
       "      <td>13.84</td>\n",
       "      <td>14.82</td>\n",
       "      <td>9.65</td>\n",
       "    </tr>\n",
       "    <tr>\n",
       "      <th>1993</th>\n",
       "      <td>81678051</td>\n",
       "      <td>59540711</td>\n",
       "      <td>58019030</td>\n",
       "      <td>10328965</td>\n",
       "      <td>14.24</td>\n",
       "      <td>13.50</td>\n",
       "      <td>14.16</td>\n",
       "      <td>9.45</td>\n",
       "    </tr>\n",
       "    <tr>\n",
       "      <th>1994</th>\n",
       "      <td>81914831</td>\n",
       "      <td>59752020</td>\n",
       "      <td>58166950</td>\n",
       "      <td>10311238</td>\n",
       "      <td>14.11</td>\n",
       "      <td>13.37</td>\n",
       "      <td>13.71</td>\n",
       "      <td>9.41</td>\n",
       "    </tr>\n",
       "  </tbody>\n",
       "</table>\n",
       "</div>"
      ],
      "text/plain": [
       "country   Germany    France  United Kingdom   Hungary  France_alc  \\\n",
       "1990     80624598  58849212        57580402  10369341       15.73   \n",
       "1991     81156363  59105073        57718614  10357523       14.85   \n",
       "1992     81438348  59325793        57865745  10343355       14.72   \n",
       "1993     81678051  59540711        58019030  10328965       14.24   \n",
       "1994     81914831  59752020        58166950  10311238       14.11   \n",
       "\n",
       "country  Germany_alc  Hungary_alc  United Kingdom_alc  \n",
       "1990           14.89        16.15                9.96  \n",
       "1991           13.92        15.43               10.01  \n",
       "1992           13.84        14.82                9.65  \n",
       "1993           13.50        14.16                9.45  \n",
       "1994           13.37        13.71                9.41  "
      ]
     },
     "execution_count": 39,
     "metadata": {},
     "output_type": "execute_result"
    }
   ],
   "source": [
    "#        dataset1    merge(dataset2     base of the connection)         \n",
    "merged = subpop_plot.join(subalc_plot)#, left_index=True, right_index=True, on=subalc_plot.index)\n",
    "merged.head()"
   ]
  },
  {
   "cell_type": "markdown",
   "metadata": {},
   "source": [
    "Rename the key_0 column, and make it index column  \n",
    "Plot the data into multiple coordinate system"
   ]
  },
  {
   "cell_type": "code",
   "execution_count": 40,
   "metadata": {
    "collapsed": false
   },
   "outputs": [
    {
     "data": {
      "text/plain": [
       "array([<matplotlib.axes._subplots.AxesSubplot object at 0x107b4c190>,\n",
       "       <matplotlib.axes._subplots.AxesSubplot object at 0x10e097290>], dtype=object)"
      ]
     },
     "execution_count": 40,
     "metadata": {},
     "output_type": "execute_result"
    },
    {
     "data": {
      "image/png": "[encoded data removed]",
      "text/plain": [
       "<matplotlib.figure.Figure at 0x10db63490>"
      ]
     },
     "metadata": {},
     "output_type": "display_data"
    }
   ],
   "source": [
    "merged[['Hungary', 'Hungary_alc']].plot(subplots=True)"
   ]
  },
  {
   "cell_type": "markdown",
   "metadata": {},
   "source": [
    "Compute the actual alcohol consumption"
   ]
  },
  {
   "cell_type": "code",
   "execution_count": 41,
   "metadata": {
    "collapsed": false
   },
   "outputs": [],
   "source": [
    "merged['France_comp'] = merged['France'] * merged['France_alc']\n",
    "merged['Germany_comp'] = merged['Germany'] * merged['Germany_alc']\n",
    "merged['United Kingdom_comp'] = merged['United Kingdom'] * merged['United Kingdom_alc']\n",
    "merged['Hungary_comp'] = merged['Hungary'] * merged['Hungary_alc']"
   ]
  },
  {
   "cell_type": "markdown",
   "metadata": {},
   "source": [
    "And plot it!"
   ]
  },
  {
   "cell_type": "code",
   "execution_count": 42,
   "metadata": {
    "collapsed": false
   },
   "outputs": [
    {
     "data": {
      "text/plain": [
       "<matplotlib.axes._subplots.AxesSubplot at 0x10e15b250>"
      ]
     },
     "execution_count": 42,
     "metadata": {},
     "output_type": "execute_result"
    },
    {
     "data": {
      "image/png": "[encoded data removed]",
      "text/plain": [
       "<matplotlib.figure.Figure at 0x10e16b810>"
      ]
     },
     "metadata": {},
     "output_type": "display_data"
    }
   ],
   "source": [
    "merged[['France_comp', 'Germany_comp', 'United Kingdom_comp', 'Hungary_comp']].plot()"
   ]
  },
  {
   "cell_type": "markdown",
   "metadata": {},
   "source": [
    "---\n",
    "## Final Act: your play time!\n",
    "\n",
    "Plot the top 5 alcohol consuming country in 1990 and their consumption"
   ]
  },
  {
   "cell_type": "code",
   "execution_count": 44,
   "metadata": {
    "collapsed": false
   },
   "outputs": [
    {
     "data": {
      "text/plain": [
       "<matplotlib.axes._subplots.AxesSubplot at 0x10e597590>"
      ]
     },
     "execution_count": 44,
     "metadata": {},
     "output_type": "execute_result"
    },
    {
     "data": {
      "image/png": "[encoded data removed]",
      "text/plain": [
       "<matplotlib.figure.Figure at 0x10e612790>"
      ]
     },
     "metadata": {},
     "output_type": "display_data"
    }
   ],
   "source": [
    "(alc\n",
    " [alc['year'] == 1990]\n",
    " [alc['type'] == 'All']\n",
    " [['country', 'alcohol']]\n",
    " .sort(columns='alcohol', ascending=False)\n",
    " .head(5)\n",
    " .plot(kind='bar'))"
   ]
  },
  {
   "cell_type": "markdown",
   "metadata": {},
   "source": [
    "Plot the average alcohol consumption in France, Germany, UK and Hungary"
   ]
  },
  {
   "cell_type": "code",
   "execution_count": 45,
   "metadata": {
    "collapsed": false
   },
   "outputs": [
    {
     "data": {
      "text/plain": [
       "<matplotlib.axes._subplots.AxesSubplot at 0x10e5a20d0>"
      ]
     },
     "execution_count": 45,
     "metadata": {},
     "output_type": "execute_result"
    },
    {
     "data": {
      "image/png": "[encoded data removed]",
      "text/plain": [
       "<matplotlib.figure.Figure at 0x10e7979d0>"
      ]
     },
     "metadata": {},
     "output_type": "display_data"
    }
   ],
   "source": [
    "(alc\n",
    " [alc['country'].isin(['France', 'Germany', 'United Kingdom', 'Hungary'])]\n",
    " [alc['type'] == 'All']\n",
    " [['country', 'alcohol']]\n",
    " .groupby('country')\n",
    " .mean()\n",
    " .sort('alcohol', ascending=False)\n",
    " .plot(kind='bar'))"
   ]
  }
 ],
 "metadata": {
  "kernelspec": {
   "display_name": "Python 2",
   "language": "python",
   "name": "python2"
  },
  "language_info": {
   "codemirror_mode": {
    "name": "ipython",
    "version": 2
   },
   "file_extension": ".py",
   "mimetype": "text/x-python",
   "name": "python",
   "nbconvert_exporter": "python",
   "pygments_lexer": "ipython2",
   "version": "2.7.10"
  }
 },
 "nbformat": 4,
 "nbformat_minor": 0
}
