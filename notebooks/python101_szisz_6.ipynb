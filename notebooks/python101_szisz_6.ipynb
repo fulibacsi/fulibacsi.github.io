{
 "cells": [
  {
   "cell_type": "markdown",
   "metadata": {},
   "source": [
    "# Python 101 @ SzISz VI."
   ]
  },
  {
   "cell_type": "markdown",
   "metadata": {},
   "source": [
    "---"
   ]
  },
  {
   "cell_type": "markdown",
   "metadata": {},
   "source": [
    "## Previously on Python 101: Exceptions"
   ]
  },
  {
   "cell_type": "code",
   "execution_count": 1,
   "metadata": {
    "collapsed": false
   },
   "outputs": [
    {
     "name": "stdout",
     "output_type": "stream",
     "text": [
      "No one can divide with 0.\n"
     ]
    }
   ],
   "source": [
    "# ZeroDivisionError\n",
    "try:\n",
    "    print 3/0\n",
    "except ZeroDivisionError:\n",
    "    print 'No one can divide with 0.'"
   ]
  },
  {
   "cell_type": "code",
   "execution_count": 2,
   "metadata": {
    "collapsed": false
   },
   "outputs": [
    {
     "name": "stdout",
     "output_type": "stream",
     "text": [
      "Can't divide a number with a character!\n"
     ]
    }
   ],
   "source": [
    "# ValueError\n",
    "try:\n",
    "    print 3/'2'\n",
    "except TypeError:\n",
    "    print 'Can\\'t divide a number with a character!'"
   ]
  },
  {
   "cell_type": "code",
   "execution_count": 3,
   "metadata": {
    "collapsed": false
   },
   "outputs": [
    {
     "name": "stdout",
     "output_type": "stream",
     "text": [
      "This string is not a number!\n"
     ]
    }
   ],
   "source": [
    "# ValueError\n",
    "try:\n",
    "    print int('string')\n",
    "except ValueError:\n",
    "    print 'This string is not a number!'"
   ]
  },
  {
   "cell_type": "code",
   "execution_count": 4,
   "metadata": {
    "collapsed": false
   },
   "outputs": [
    {
     "name": "stdout",
     "output_type": "stream",
     "text": [
      "There is no such thing as 'spam'!\n"
     ]
    }
   ],
   "source": [
    "# NameError    \n",
    "try:\n",
    "    print spam\n",
    "except NameError:\n",
    "    print 'There is no such thing as \\'spam\\'!'"
   ]
  },
  {
   "cell_type": "code",
   "execution_count": 5,
   "metadata": {
    "collapsed": false
   },
   "outputs": [
    {
     "name": "stdout",
     "output_type": "stream",
     "text": [
      "Index is larger then the length of the list!\n"
     ]
    }
   ],
   "source": [
    "# IndexError\n",
    "try:\n",
    "    mylist = [1, 2, 3]\n",
    "    print mylist[len(mylist)]\n",
    "except IndexError:\n",
    "    print 'Index is larger then the length of the list!'"
   ]
  },
  {
   "cell_type": "code",
   "execution_count": 6,
   "metadata": {
    "collapsed": false
   },
   "outputs": [
    {
     "name": "stdout",
     "output_type": "stream",
     "text": [
      "Key not exists!\n"
     ]
    }
   ],
   "source": [
    "# KeyError\n",
    "try:\n",
    "    mydict = {'a': 1, 'b': 2}\n",
    "    print mydict['c']\n",
    "except KeyError:\n",
    "    print 'Key not exists!'"
   ]
  },
  {
   "cell_type": "code",
   "execution_count": 7,
   "metadata": {
    "collapsed": false
   },
   "outputs": [
    {
     "name": "stdout",
     "output_type": "stream",
     "text": [
      "The specified file does not exist!\n"
     ]
    }
   ],
   "source": [
    "# IOError\n",
    "try:\n",
    "    not_existing_filename = 'a_file_that_is_not_exists.txt'\n",
    "    myfile = open(not_existing_filename, 'r')\n",
    "    myfile.readlines()\n",
    "except IOError:\n",
    "    print 'The specified file does not exist!'"
   ]
  },
  {
   "cell_type": "code",
   "execution_count": 8,
   "metadata": {
    "collapsed": false
   },
   "outputs": [
    {
     "name": "stdout",
     "output_type": "stream",
     "text": [
      "Hello World !\n"
     ]
    }
   ],
   "source": [
    "# try-except-else-finally\n",
    "try:\n",
    "    print 'Hello', # 3/0\n",
    "except:\n",
    "    print 'Print failed',\n",
    "else:\n",
    "    print 'World',\n",
    "finally:\n",
    "    print '!'"
   ]
  },
  {
   "cell_type": "markdown",
   "metadata": {},
   "source": [
    "---"
   ]
  },
  {
   "cell_type": "markdown",
   "metadata": {},
   "source": [
    "## Today on Python 101: Web scraping"
   ]
  },
  {
   "cell_type": "markdown",
   "metadata": {},
   "source": [
    "### 1. Obtain a webpage"
   ]
  },
  {
   "cell_type": "code",
   "execution_count": 10,
   "metadata": {
    "collapsed": false
   },
   "outputs": [],
   "source": [
    "# import a 3rd party library called requests\n",
    "import requests"
   ]
  },
  {
   "cell_type": "code",
   "execution_count": 14,
   "metadata": {
    "collapsed": false
   },
   "outputs": [
    {
     "name": "stdout",
     "output_type": "stream",
     "text": [
      "200\n"
     ]
    }
   ],
   "source": [
    "existing_url = 'http://146.110.53.143:8000/test.html'\n",
    "response = requests.get(existing_url)\n",
    "print response.status_code # hopefully 200 -> successful download"
   ]
  },
  {
   "cell_type": "code",
   "execution_count": 15,
   "metadata": {
    "collapsed": false
   },
   "outputs": [
    {
     "name": "stdout",
     "output_type": "stream",
     "text": [
      "404\n"
     ]
    }
   ],
   "source": [
    "not_existing_url = 'http://146.110.53.143:8000/test1.html'\n",
    "response = requests.get(not_existing_url)\n",
    "print response.status_code # unfortunately 404 -> not exists\n",
    "# Other possible values: \n",
    "# - 303 (redirect)\n",
    "# - 301 (permanent redirect)\n",
    "# - 400 (bad request)\n",
    "# - 401 (unauthorized)"
   ]
  },
  {
   "cell_type": "code",
   "execution_count": 16,
   "metadata": {
    "collapsed": false
   },
   "outputs": [
    {
     "name": "stdout",
     "output_type": "stream",
     "text": [
      "<!DOCTYPE html>\n",
      "<html>\n",
      "    <head>\n",
      "        <title>Test page for web crawling</title>\n",
      "    </head>\n",
      "    <body>\n",
      "        <section id=\"main_content\">\n",
      "            <h1>Title of the page</h1>\n",
      "            <h2>Subtitle of the page</h2>\n",
      "            <div id=\"first\">\n",
      "                <p class=\"important\">Important text 1</p>\n",
      "                <p>Not important text 1</p>\n",
      "                <p class=\"important\">Important text 2</p>\n",
      "                <p>Not important text 2</p>\n",
      "                <p class=\"important\">Important text 3</p>\n",
      "                <p>Not important text 3</p>\n",
      "                <p class=\"important\">Important text 4</p>\n",
      "                <p>Not important text 4</p>\n",
      "                <p class=\"important\">Important text 5</p>\n",
      "                <p>Not important text 5</p>\n",
      "                <p class=\"important\">Important text 6</p>\n",
      "                <p>Not important text 6</p>\n",
      "                <p class=\"important\">Important text 7</p>\n",
      "                <p>Not important text 7</p>\n",
      "            </div>\n",
      "            <h3>Sub-subtitle of the page</h3>\n",
      "            <div id=\"links\">\n",
      "                <a href=\"important_part.something.com\">Important link 1</a>\n",
      "                <a href=\"unimportant_link.something.com\">Not important link 1</a>\n",
      "                <a href=\"important_part.something_else.com\">Important link 2</a>\n",
      "                <a href=\"unimportant_link.something_else.com\">Not important link 2</a>\n",
      "                <a href=\"important_part.not_something.com\">Important link 3</a>\n",
      "                <a href=\"unimportant_link.not_something.com\">Not important link 3</a>\n",
      "                <a href=\"important_part.but_it_is.something.com\">Important link 4</a>\n",
      "                <a href=\"unimportant_link.but_it_is.something.com\">Not important link 4</a>\n",
      "                <a href=\"important_part.but_it_isnt.something.com\">Important link 5</a>\n",
      "                <a href=\"unimportant_link.but_it_isnt.something.com\">Not important link 5</a>\n",
      "                <a href=\"important_part.whatif.something.com\">Important link 6</a>\n",
      "                <a href=\"unimportant_link.whatif.something.com\">Not important link 6</a>\n",
      "                <a href=\"important_part.notthatkindof.something.com\">Important link 7</a>\n",
      "                <a href=\"unimportant_link.notthatkindof.something.com\">Not important link 7</a>\n",
      "                <a href=\"important_part.else.com\">Important link 8</a>\n",
      "                <a href=\"unimportant_link.else.com\">Not important link 8</a>\n",
      "            </div>\n",
      "            <h4>Sub-sub-subtitle of the page</h4>\n",
      "            <div class=\"random_images_1\">\n",
      "                <img class=\"nice\" my_attribute=\"10\" src=\"http://lorempixel.com/400/200/\"/><br/>\n",
      "                <img class=\"not nice\" my_attribute=\"20\" src=\"http://lorempixel.com/400/200/\"/><br/>\n",
      "                <img class=\"nice\" my_attribute=\"11\" src=\"http://lorempixel.com/400/200/\"/><br/>\n",
      "                <img class=\"not nice\" my_attribute=\"21\" src=\"http://lorempixel.com/400/200/\"/><br/>\n",
      "                <img class=\"nice\" my_attribute=\"12\" src=\"http://lorempixel.com/400/200/\"/><br/>\n",
      "                <img class=\"not nice\" my_attribute=\"22\" src=\"http://lorempixel.com/400/200/\"/><br/>\n",
      "            </div>\n",
      "            <div class=\"random_images_2\">\n",
      "                <img class=\"nice\" my_attribute=\"13\" src=\"http://lorempixel.com/400/200/\"/><br/>\n",
      "                <img class=\"not nice\" my_attribute=\"23\" src=\"http://lorempixel.com/400/200/\"/><br/>\n",
      "                <img class=\"nice\" my_attribute=\"14\" src=\"http://lorempixel.com/400/200/\"/><br/>\n",
      "                <img class=\"not nice\" my_attribute=\"24\" src=\"http://lorempixel.com/400/200/\"/><br/>\n",
      "                <img class=\"nice\" my_attribute=\"15\" src=\"http://lorempixel.com/400/200/\"/><br/>\n",
      "                <img class=\"not nice\" my_attribute=\"25\" src=\"http://lorempixel.com/400/200/\"/><br/>\n",
      "                <img class=\"nice\" my_attribute=\"16\" src=\"http://lorempixel.com/400/200/\"/><br/>\n",
      "                <img class=\"not nice\" my_attribute=\"26\" src=\"http://lorempixel.com/400/200/\"/><br/>\n",
      "            </div>\n",
      "        </section>\n",
      "        <section id=\"not_main_section\" style=\"display: none;\">\n",
      "            <h3>Fake true elements</h3>\n",
      "            <p class=\"important\">It's not important.</p>\n",
      "            <a href=\"important_part.something.com\">Fake important link</a>\n",
      "            <img class=\"nice\" my_attribute=\"10\" src=\"http://lorempixel.com/400/200/\"><br>\n",
      "        </section>\n",
      "    </body>\n",
      "</html>\n"
     ]
    }
   ],
   "source": [
    "response = requests.get(existing_url)\n",
    "print response.content"
   ]
  },
  {
   "cell_type": "code",
   "execution_count": 17,
   "metadata": {
    "collapsed": false
   },
   "outputs": [],
   "source": [
    "from IPython.display import HTML\n",
    "# Render page if successfully downloaded\n",
    "if response.status_code == 200:\n",
    "    result = HTML(response.content)\n",
    "else:\n",
    "    result = 'Nah, let\\'s have a beer instead!'"
   ]
  },
  {
   "cell_type": "code",
   "execution_count": 18,
   "metadata": {
    "collapsed": false
   },
   "outputs": [
    {
     "data": {
      "text/html": [
       "<!DOCTYPE html>\n",
       "<html>\n",
       "    <head>\n",
       "        <title>Test page for web crawling</title>\n",
       "    </head>\n",
       "    <body>\n",
       "        <section id=\"main_content\">\n",
       "            <h1>Title of the page</h1>\n",
       "            <h2>Subtitle of the page</h2>\n",
       "            <div id=\"first\">\n",
       "                <p class=\"important\">Important text 1</p>\n",
       "                <p>Not important text 1</p>\n",
       "                <p class=\"important\">Important text 2</p>\n",
       "                <p>Not important text 2</p>\n",
       "                <p class=\"important\">Important text 3</p>\n",
       "                <p>Not important text 3</p>\n",
       "                <p class=\"important\">Important text 4</p>\n",
       "                <p>Not important text 4</p>\n",
       "                <p class=\"important\">Important text 5</p>\n",
       "                <p>Not important text 5</p>\n",
       "                <p class=\"important\">Important text 6</p>\n",
       "                <p>Not important text 6</p>\n",
       "                <p class=\"important\">Important text 7</p>\n",
       "                <p>Not important text 7</p>\n",
       "            </div>\n",
       "            <h3>Sub-subtitle of the page</h3>\n",
       "            <div id=\"links\">\n",
       "                <a href=\"important_part.something.com\">Important link 1</a>\n",
       "                <a href=\"unimportant_link.something.com\">Not important link 1</a>\n",
       "                <a href=\"important_part.something_else.com\">Important link 2</a>\n",
       "                <a href=\"unimportant_link.something_else.com\">Not important link 2</a>\n",
       "                <a href=\"important_part.not_something.com\">Important link 3</a>\n",
       "                <a href=\"unimportant_link.not_something.com\">Not important link 3</a>\n",
       "                <a href=\"important_part.but_it_is.something.com\">Important link 4</a>\n",
       "                <a href=\"unimportant_link.but_it_is.something.com\">Not important link 4</a>\n",
       "                <a href=\"important_part.but_it_isnt.something.com\">Important link 5</a>\n",
       "                <a href=\"unimportant_link.but_it_isnt.something.com\">Not important link 5</a>\n",
       "                <a href=\"important_part.whatif.something.com\">Important link 6</a>\n",
       "                <a href=\"unimportant_link.whatif.something.com\">Not important link 6</a>\n",
       "                <a href=\"important_part.notthatkindof.something.com\">Important link 7</a>\n",
       "                <a href=\"unimportant_link.notthatkindof.something.com\">Not important link 7</a>\n",
       "                <a href=\"important_part.else.com\">Important link 8</a>\n",
       "                <a href=\"unimportant_link.else.com\">Not important link 8</a>\n",
       "            </div>\n",
       "            <h4>Sub-sub-subtitle of the page</h4>\n",
       "            <div class=\"random_images_1\">\n",
       "                <img class=\"nice\" my_attribute=\"10\" src=\"http://lorempixel.com/400/200/\"/><br/>\n",
       "                <img class=\"not nice\" my_attribute=\"20\" src=\"http://lorempixel.com/400/200/\"/><br/>\n",
       "                <img class=\"nice\" my_attribute=\"11\" src=\"http://lorempixel.com/400/200/\"/><br/>\n",
       "                <img class=\"not nice\" my_attribute=\"21\" src=\"http://lorempixel.com/400/200/\"/><br/>\n",
       "                <img class=\"nice\" my_attribute=\"12\" src=\"http://lorempixel.com/400/200/\"/><br/>\n",
       "                <img class=\"not nice\" my_attribute=\"22\" src=\"http://lorempixel.com/400/200/\"/><br/>\n",
       "            </div>\n",
       "            <div class=\"random_images_2\">\n",
       "                <img class=\"nice\" my_attribute=\"13\" src=\"http://lorempixel.com/400/200/\"/><br/>\n",
       "                <img class=\"not nice\" my_attribute=\"23\" src=\"http://lorempixel.com/400/200/\"/><br/>\n",
       "                <img class=\"nice\" my_attribute=\"14\" src=\"http://lorempixel.com/400/200/\"/><br/>\n",
       "                <img class=\"not nice\" my_attribute=\"24\" src=\"http://lorempixel.com/400/200/\"/><br/>\n",
       "                <img class=\"nice\" my_attribute=\"15\" src=\"http://lorempixel.com/400/200/\"/><br/>\n",
       "                <img class=\"not nice\" my_attribute=\"25\" src=\"http://lorempixel.com/400/200/\"/><br/>\n",
       "                <img class=\"nice\" my_attribute=\"16\" src=\"http://lorempixel.com/400/200/\"/><br/>\n",
       "                <img class=\"not nice\" my_attribute=\"26\" src=\"http://lorempixel.com/400/200/\"/><br/>\n",
       "            </div>\n",
       "        </section>\n",
       "        <section id=\"not_main_section\" style=\"display: none;\">\n",
       "            <h3>Fake true elements</h3>\n",
       "            <p class=\"important\">It's not important.</p>\n",
       "            <a href=\"important_part.something.com\">Fake important link</a>\n",
       "            <img class=\"nice\" my_attribute=\"10\" src=\"http://lorempixel.com/400/200/\"><br>\n",
       "        </section>\n",
       "    </body>\n",
       "</html>"
      ],
      "text/plain": [
       "<IPython.core.display.HTML object>"
      ]
     },
     "execution_count": 18,
     "metadata": {},
     "output_type": "execute_result"
    }
   ],
   "source": [
    "result"
   ]
  },
  {
   "cell_type": "markdown",
   "metadata": {},
   "source": [
    "### 2. Process HTML"
   ]
  },
  {
   "cell_type": "markdown",
   "metadata": {},
   "source": [
    "####Story time: The skeleton of a html document\n",
    "\n",
    "<b>HTML</b> is a markup language, its basic build blocks are the <code>&lt;tag></code>s.<br>\n",
    "(Almost) every <code>&lt;tag></code> has two parts:\n",
    "\n",
    "    - Opening <tag>\n",
    "    - Closing </tag>\n",
    "\n",
    "Important html <code>&lt;tag></code>s:\n",
    "\n",
    "    - <html></html>\n",
    "    - <head></head>\n",
    "    - <body></body>\n",
    "    - <div></div>\n",
    "    - <p></p>\n",
    "    - <span></span>\n",
    "    - <section></section>\n",
    "    - <a href=\"\"></a>\n",
    "    - <img src=\"\">\n",
    "    - <br>\n",
    "    - <table>\n",
    "        <thead>\n",
    "            <tr>\n",
    "                <th></th>\n",
    "            </tr>\n",
    "        </thead>\n",
    "        <tbody>\n",
    "            <tr>\n",
    "                <td></td>\n",
    "                ...\n",
    "            </tr>\n",
    "        </tbody>\n",
    "     </table>\n",
    "    - <ul></ul> / <ol></ol> + <li></li>\n",
    "    \n",
    "Tags can have different attributes:\n",
    "\n",
    "    - <a>: href\n",
    "    - <img>: src\n",
    "    - id\n",
    "    - class\n",
    "    - anything that is not a html keyword\n",
    "    "
   ]
  },
  {
   "cell_type": "markdown",
   "metadata": {},
   "source": [
    "#### Let's parse it!\n",
    "\n",
    "Required module: `BeautifulSoup4`"
   ]
  },
  {
   "cell_type": "code",
   "execution_count": 9,
   "metadata": {
    "collapsed": false
   },
   "outputs": [],
   "source": [
    "# test if it is working\n",
    "from bs4 import BeautifulSoup"
   ]
  },
  {
   "cell_type": "code",
   "execution_count": 20,
   "metadata": {
    "collapsed": false
   },
   "outputs": [],
   "source": [
    "# create a soup:\n",
    "soup = BeautifulSoup(response.content)"
   ]
  },
  {
   "cell_type": "code",
   "execution_count": 21,
   "metadata": {
    "collapsed": false,
    "scrolled": true
   },
   "outputs": [
    {
     "name": "stdout",
     "output_type": "stream",
     "text": [
      "<!DOCTYPE html>\n",
      "<html>\n",
      " <head>\n",
      "  <title>\n",
      "   Test page for web crawling\n",
      "  </title>\n",
      " </head>\n",
      " <body>\n",
      "  <section id=\"main_content\">\n",
      "   <h1>\n",
      "    Title of the page\n",
      "   </h1>\n",
      "   <h2>\n",
      "    Subtitle of the page\n",
      "   </h2>\n",
      "   <div id=\"first\">\n",
      "    <p class=\"important\">\n",
      "     Important text 1\n",
      "    </p>\n",
      "    <p>\n",
      "     Not important text 1\n",
      "    </p>\n",
      "    <p class=\"important\">\n",
      "     Important text 2\n",
      "    </p>\n",
      "    <p>\n",
      "     Not important text 2\n",
      "    </p>\n",
      "    <p class=\"important\">\n",
      "     Important text 3\n",
      "    </p>\n",
      "    <p>\n",
      "     Not important text 3\n",
      "    </p>\n",
      "    <p class=\"important\">\n",
      "     Important text 4\n",
      "    </p>\n",
      "    <p>\n",
      "     Not important text 4\n",
      "    </p>\n",
      "    <p class=\"important\">\n",
      "     Important text 5\n",
      "    </p>\n",
      "    <p>\n",
      "     Not important text 5\n",
      "    </p>\n",
      "    <p class=\"important\">\n",
      "     Important text 6\n",
      "    </p>\n",
      "    <p>\n",
      "     Not important text 6\n",
      "    </p>\n",
      "    <p class=\"important\">\n",
      "     Important text 7\n",
      "    </p>\n",
      "    <p>\n",
      "     Not important text 7\n",
      "    </p>\n",
      "   </div>\n",
      "   <h3>\n",
      "    Sub-subtitle of the page\n",
      "   </h3>\n",
      "   <div id=\"links\">\n",
      "    <a href=\"important_part.something.com\">\n",
      "     Important link 1\n",
      "    </a>\n",
      "    <a href=\"unimportant_link.something.com\">\n",
      "     Not important link 1\n",
      "    </a>\n",
      "    <a href=\"important_part.something_else.com\">\n",
      "     Important link 2\n",
      "    </a>\n",
      "    <a href=\"unimportant_link.something_else.com\">\n",
      "     Not important link 2\n",
      "    </a>\n",
      "    <a href=\"important_part.not_something.com\">\n",
      "     Important link 3\n",
      "    </a>\n",
      "    <a href=\"unimportant_link.not_something.com\">\n",
      "     Not important link 3\n",
      "    </a>\n",
      "    <a href=\"important_part.but_it_is.something.com\">\n",
      "     Important link 4\n",
      "    </a>\n",
      "    <a href=\"unimportant_link.but_it_is.something.com\">\n",
      "     Not important link 4\n",
      "    </a>\n",
      "    <a href=\"important_part.but_it_isnt.something.com\">\n",
      "     Important link 5\n",
      "    </a>\n",
      "    <a href=\"unimportant_link.but_it_isnt.something.com\">\n",
      "     Not important link 5\n",
      "    </a>\n",
      "    <a href=\"important_part.whatif.something.com\">\n",
      "     Important link 6\n",
      "    </a>\n",
      "    <a href=\"unimportant_link.whatif.something.com\">\n",
      "     Not important link 6\n",
      "    </a>\n",
      "    <a href=\"important_part.notthatkindof.something.com\">\n",
      "     Important link 7\n",
      "    </a>\n",
      "    <a href=\"unimportant_link.notthatkindof.something.com\">\n",
      "     Not important link 7\n",
      "    </a>\n",
      "    <a href=\"important_part.else.com\">\n",
      "     Important link 8\n",
      "    </a>\n",
      "    <a href=\"unimportant_link.else.com\">\n",
      "     Not important link 8\n",
      "    </a>\n",
      "   </div>\n",
      "   <h4>\n",
      "    Sub-sub-subtitle of the page\n",
      "   </h4>\n",
      "   <div class=\"random_images_1\">\n",
      "    <img class=\"nice\" my_attribute=\"10\" src=\"http://lorempixel.com/400/200/\"/>\n",
      "    <br/>\n",
      "    <img class=\"not nice\" my_attribute=\"20\" src=\"http://lorempixel.com/400/200/\"/>\n",
      "    <br/>\n",
      "    <img class=\"nice\" my_attribute=\"11\" src=\"http://lorempixel.com/400/200/\"/>\n",
      "    <br/>\n",
      "    <img class=\"not nice\" my_attribute=\"21\" src=\"http://lorempixel.com/400/200/\"/>\n",
      "    <br/>\n",
      "    <img class=\"nice\" my_attribute=\"12\" src=\"http://lorempixel.com/400/200/\"/>\n",
      "    <br/>\n",
      "    <img class=\"not nice\" my_attribute=\"22\" src=\"http://lorempixel.com/400/200/\"/>\n",
      "    <br/>\n",
      "   </div>\n",
      "   <div class=\"random_images_2\">\n",
      "    <img class=\"nice\" my_attribute=\"13\" src=\"http://lorempixel.com/400/200/\"/>\n",
      "    <br/>\n",
      "    <img class=\"not nice\" my_attribute=\"23\" src=\"http://lorempixel.com/400/200/\"/>\n",
      "    <br/>\n",
      "    <img class=\"nice\" my_attribute=\"14\" src=\"http://lorempixel.com/400/200/\"/>\n",
      "    <br/>\n",
      "    <img class=\"not nice\" my_attribute=\"24\" src=\"http://lorempixel.com/400/200/\"/>\n",
      "    <br/>\n",
      "    <img class=\"nice\" my_attribute=\"15\" src=\"http://lorempixel.com/400/200/\"/>\n",
      "    <br/>\n",
      "    <img class=\"not nice\" my_attribute=\"25\" src=\"http://lorempixel.com/400/200/\"/>\n",
      "    <br/>\n",
      "    <img class=\"nice\" my_attribute=\"16\" src=\"http://lorempixel.com/400/200/\"/>\n",
      "    <br/>\n",
      "    <img class=\"not nice\" my_attribute=\"26\" src=\"http://lorempixel.com/400/200/\"/>\n",
      "    <br/>\n",
      "   </div>\n",
      "  </section>\n",
      "  <section id=\"not_main_section\" style=\"display: none;\">\n",
      "   <h3>\n",
      "    Fake true elements\n",
      "   </h3>\n",
      "   <p class=\"important\">\n",
      "    It's not important.\n",
      "   </p>\n",
      "   <a href=\"important_part.something.com\">\n",
      "    Fake important link\n",
      "   </a>\n",
      "   <img class=\"nice\" my_attribute=\"10\" src=\"http://lorempixel.com/400/200/\"/>\n",
      "   <br/>\n",
      "  </section>\n",
      " </body>\n",
      "</html>\n"
     ]
    }
   ],
   "source": [
    "print soup.prettify()"
   ]
  },
  {
   "cell_type": "code",
   "execution_count": 22,
   "metadata": {
    "collapsed": false
   },
   "outputs": [
    {
     "name": "stdout",
     "output_type": "stream",
     "text": [
      "<title>Test page for web crawling</title>\n"
     ]
    }
   ],
   "source": [
    "# get the title of the document\n",
    "print soup.title"
   ]
  },
  {
   "cell_type": "code",
   "execution_count": 23,
   "metadata": {
    "collapsed": false
   },
   "outputs": [
    {
     "name": "stdout",
     "output_type": "stream",
     "text": [
      "Test page for web crawling\n"
     ]
    }
   ],
   "source": [
    "# get the title text\n",
    "print soup.title.getText()"
   ]
  },
  {
   "cell_type": "code",
   "execution_count": 24,
   "metadata": {
    "collapsed": false
   },
   "outputs": [
    {
     "name": "stdout",
     "output_type": "stream",
     "text": [
      "\n",
      "\n",
      "Test page for web crawling\n",
      "\n",
      "\n",
      "\n",
      "Title of the page\n",
      "Subtitle of the page\n",
      "\n",
      "Important text 1\n",
      "Not important text 1\n",
      "Important text 2\n",
      "Not important text 2\n",
      "Important text 3\n",
      "Not important text 3\n",
      "Important text 4\n",
      "Not important text 4\n",
      "Important text 5\n",
      "Not important text 5\n",
      "Important text 6\n",
      "Not important text 6\n",
      "Important text 7\n",
      "Not important text 7\n",
      "\n",
      "Sub-subtitle of the page\n",
      "\n",
      "Important link 1\n",
      "Not important link 1\n",
      "Important link 2\n",
      "Not important link 2\n",
      "Important link 3\n",
      "Not important link 3\n",
      "Important link 4\n",
      "Not important link 4\n",
      "Important link 5\n",
      "Not important link 5\n",
      "Important link 6\n",
      "Not important link 6\n",
      "Important link 7\n",
      "Not important link 7\n",
      "Important link 8\n",
      "Not important link 8\n",
      "\n",
      "Sub-sub-subtitle of the page\n",
      "\n",
      "\n",
      "\n",
      "\n",
      "\n",
      "\n",
      "\n",
      "\n",
      "\n",
      "\n",
      "\n",
      "\n",
      "\n",
      "\n",
      "\n",
      "\n",
      "\n",
      "\n",
      "\n",
      "\n",
      "Fake true elements\n",
      "It's not important.\n",
      "Fake important link\n",
      "\n",
      "\n",
      "\n",
      "\n"
     ]
    }
   ],
   "source": [
    "# get the text-only version of the page\n",
    "print soup.getText()"
   ]
  },
  {
   "cell_type": "code",
   "execution_count": 25,
   "metadata": {
    "collapsed": false
   },
   "outputs": [
    {
     "data": {
      "text/plain": [
       "[<a href=\"important_part.something.com\">Important link 1</a>,\n",
       " <a href=\"unimportant_link.something.com\">Not important link 1</a>,\n",
       " <a href=\"important_part.something_else.com\">Important link 2</a>,\n",
       " <a href=\"unimportant_link.something_else.com\">Not important link 2</a>,\n",
       " <a href=\"important_part.not_something.com\">Important link 3</a>,\n",
       " <a href=\"unimportant_link.not_something.com\">Not important link 3</a>,\n",
       " <a href=\"important_part.but_it_is.something.com\">Important link 4</a>,\n",
       " <a href=\"unimportant_link.but_it_is.something.com\">Not important link 4</a>,\n",
       " <a href=\"important_part.but_it_isnt.something.com\">Important link 5</a>,\n",
       " <a href=\"unimportant_link.but_it_isnt.something.com\">Not important link 5</a>,\n",
       " <a href=\"important_part.whatif.something.com\">Important link 6</a>,\n",
       " <a href=\"unimportant_link.whatif.something.com\">Not important link 6</a>,\n",
       " <a href=\"important_part.notthatkindof.something.com\">Important link 7</a>,\n",
       " <a href=\"unimportant_link.notthatkindof.something.com\">Not important link 7</a>,\n",
       " <a href=\"important_part.else.com\">Important link 8</a>,\n",
       " <a href=\"unimportant_link.else.com\">Not important link 8</a>,\n",
       " <a href=\"important_part.something.com\">Fake important link</a>]"
      ]
     },
     "execution_count": 25,
     "metadata": {},
     "output_type": "execute_result"
    }
   ],
   "source": [
    "# get all the links\n",
    "soup.findAll('a')"
   ]
  },
  {
   "cell_type": "code",
   "execution_count": 26,
   "metadata": {
    "collapsed": false
   },
   "outputs": [
    {
     "name": "stdout",
     "output_type": "stream",
     "text": [
      "important_part.something.com\n",
      "unimportant_link.something.com\n",
      "important_part.something_else.com\n",
      "unimportant_link.something_else.com\n",
      "important_part.not_something.com\n",
      "unimportant_link.not_something.com\n",
      "important_part.but_it_is.something.com\n",
      "unimportant_link.but_it_is.something.com\n",
      "important_part.but_it_isnt.something.com\n",
      "unimportant_link.but_it_isnt.something.com\n",
      "important_part.whatif.something.com\n",
      "unimportant_link.whatif.something.com\n",
      "important_part.notthatkindof.something.com\n",
      "unimportant_link.notthatkindof.something.com\n",
      "important_part.else.com\n",
      "unimportant_link.else.com\n",
      "important_part.something.com\n"
     ]
    }
   ],
   "source": [
    "# get the actual urls\n",
    "for url in soup.findAll('a'):\n",
    "    print url.get('href')"
   ]
  },
  {
   "cell_type": "code",
   "execution_count": 27,
   "metadata": {
    "collapsed": false
   },
   "outputs": [
    {
     "name": "stdout",
     "output_type": "stream",
     "text": [
      "['important_part.something.com', 'important_part.something_else.com', 'important_part.not_something.com', 'important_part.but_it_is.something.com', 'important_part.but_it_isnt.something.com', 'important_part.whatif.something.com', 'important_part.notthatkindof.something.com', 'important_part.else.com', 'important_part.something.com']\n"
     ]
    }
   ],
   "source": [
    "# store the important links\n",
    "important_urls = []\n",
    "for url in soup.findAll('a'):\n",
    "    if 'important_part' in url.get('href'):\n",
    "        important_urls.append(url.get('href'))\n",
    "print important_urls"
   ]
  },
  {
   "cell_type": "code",
   "execution_count": 28,
   "metadata": {
    "collapsed": false
   },
   "outputs": [
    {
     "data": {
      "text/plain": [
       "[<p class=\"important\">Important text 1</p>,\n",
       " <p class=\"important\">Important text 2</p>,\n",
       " <p class=\"important\">Important text 3</p>,\n",
       " <p class=\"important\">Important text 4</p>,\n",
       " <p class=\"important\">Important text 5</p>,\n",
       " <p class=\"important\">Important text 6</p>,\n",
       " <p class=\"important\">Important text 7</p>,\n",
       " <p class=\"important\">It's not important.</p>]"
      ]
     },
     "execution_count": 28,
     "metadata": {},
     "output_type": "execute_result"
    }
   ],
   "source": [
    "# select every paragraph which has \"important\" class\n",
    "soup.findAll('p', {'class': 'important'})"
   ]
  },
  {
   "cell_type": "code",
   "execution_count": 31,
   "metadata": {
    "collapsed": false
   },
   "outputs": [
    {
     "name": "stdout",
     "output_type": "stream",
     "text": [
      "Important text 1 first\n",
      "Important text 2 first\n",
      "Important text 3 first\n",
      "Important text 4 first\n",
      "Important text 5 first\n",
      "Important text 6 first\n",
      "Important text 7 first\n",
      "It's not important. not_main_section\n"
     ]
    }
   ],
   "source": [
    "# Whooops, something's going on! Let's investigate!\n",
    "important_paragraphs = soup.findAll('p', {'class': 'important'})\n",
    "# print the result text, and its parent's id\n",
    "for p in important_paragraphs:\n",
    "    print p.getText(), p.parent.get('id')"
   ]
  },
  {
   "cell_type": "code",
   "execution_count": 36,
   "metadata": {
    "collapsed": false
   },
   "outputs": [
    {
     "name": "stdout",
     "output_type": "stream",
     "text": [
      "<section id=\"not_main_section\" style=\"display: none;\">\n",
      "<h3>Fake true elements</h3>\n",
      "<p class=\"important\">It's not important.</p>\n",
      "<a href=\"important_part.something.com\">Fake important link</a>\n",
      "<img class=\"nice\" my_attribute=\"10\" src=\"http://lorempixel.com/400/200/\"/><br/>\n",
      "</section>\n"
     ]
    }
   ],
   "source": [
    "# We can see, that the \"fake\" result is from somewhere else\n",
    "print soup.find(id='not_main_section')"
   ]
  },
  {
   "cell_type": "code",
   "execution_count": 37,
   "metadata": {
    "collapsed": false
   },
   "outputs": [
    {
     "data": {
      "text/plain": [
       "[<p class=\"important\">Important text 1</p>,\n",
       " <p class=\"important\">Important text 2</p>,\n",
       " <p class=\"important\">Important text 3</p>,\n",
       " <p class=\"important\">Important text 4</p>,\n",
       " <p class=\"important\">Important text 5</p>,\n",
       " <p class=\"important\">Important text 6</p>,\n",
       " <p class=\"important\">Important text 7</p>]"
      ]
     },
     "execution_count": 37,
     "metadata": {},
     "output_type": "execute_result"
    }
   ],
   "source": [
    "# We have a hidden fake section! Let's modify our search!\n",
    "soup.find(id='main_content').findAll('p', {'class': 'important'})"
   ]
  },
  {
   "cell_type": "code",
   "execution_count": 38,
   "metadata": {
    "collapsed": false
   },
   "outputs": [
    {
     "data": {
      "text/plain": [
       "[<img class=\"nice\" my_attribute=\"10\" src=\"http://lorempixel.com/400/200/\"/>,\n",
       " <img class=\"not nice\" my_attribute=\"20\" src=\"http://lorempixel.com/400/200/\"/>,\n",
       " <img class=\"nice\" my_attribute=\"11\" src=\"http://lorempixel.com/400/200/\"/>,\n",
       " <img class=\"not nice\" my_attribute=\"21\" src=\"http://lorempixel.com/400/200/\"/>,\n",
       " <img class=\"nice\" my_attribute=\"12\" src=\"http://lorempixel.com/400/200/\"/>,\n",
       " <img class=\"not nice\" my_attribute=\"22\" src=\"http://lorempixel.com/400/200/\"/>]"
      ]
     },
     "execution_count": 38,
     "metadata": {},
     "output_type": "execute_result"
    }
   ],
   "source": [
    "# Let's have the \"nice\" pictures from the div with random_images_1 class!\n",
    "soup.find(id='main_content').find('div', {'class': 'random_images_1'}).findAll('img', {'class': 'nice'})"
   ]
  },
  {
   "cell_type": "code",
   "execution_count": 39,
   "metadata": {
    "collapsed": false
   },
   "outputs": [
    {
     "name": "stdout",
     "output_type": "stream",
     "text": [
      "['http://lorempixel.com/400/200/', 'http://lorempixel.com/400/200/', 'http://lorempixel.com/400/200/']\n"
     ]
    }
   ],
   "source": [
    "# Whoops again. Filter out the result we don't like.\n",
    "imgs = soup.find(id='main_content').find('div', {'class': 'random_images_1'}).findAll('img', {'class': 'nice'})\n",
    "nice_imgs = []\n",
    "for img in imgs:\n",
    "    if 'not' not in img['class']:\n",
    "        nice_imgs.append(img['src'])\n",
    "print nice_imgs"
   ]
  },
  {
   "cell_type": "markdown",
   "metadata": {},
   "source": [
    "### 3. It's your turn"
   ]
  },
  {
   "cell_type": "markdown",
   "metadata": {},
   "source": [
    "Save every important link to a file"
   ]
  },
  {
   "cell_type": "code",
   "execution_count": 25,
   "metadata": {
    "collapsed": true
   },
   "outputs": [],
   "source": [
    "BASE_URI = '../data/'\n",
    "filename = 'important_urls.txt'\n",
    "links = soup.findAll('a')\n",
    "urls = []\n",
    "# get the actual urls\n",
    "for url in links:\n",
    "    if 'Fake' not in url.getText() and 'Not' not in url.getText():\n",
    "         urls.append(url.get('href'))\n",
    "\n",
    "print urls\n",
    "with open(BASE_URI + filename, 'w') as targetfile:\n",
    "    for url in urls:\n",
    "        targetfile.write(url)"
   ]
  },
  {
   "cell_type": "markdown",
   "metadata": {},
   "source": [
    "Let's get a random img/gif url from 9gag!"
   ]
  },
  {
   "cell_type": "code",
   "execution_count": 22,
   "metadata": {
    "collapsed": false
   },
   "outputs": [
    {
     "name": "stdout",
     "output_type": "stream",
     "text": [
      "http://img-9gag-fun.9cache.com/photo/aQ4rAQq_460s.jpg\n",
      "http://img-9gag-fun.9cache.com/photo/aQ4rAQq_460sa.gif\n"
     ]
    }
   ],
   "source": [
    "# get the page from http://9gag.com/random\n",
    "# find the imgages, and get the src attribute's value\n",
    "# animated img's class: badge-item-animated-img\n",
    "# not animated img's class: badge-item-img\n",
    "# hint: multiple class condition with a list {'class': ['val1', 'val2', ...]}\n",
    "URI = \"http://9gag.com/random\"\n",
    "response = requests.get(URI)\n",
    "if response.status_code == 200:\n",
    "    soup = BeautifulSoup(response.content)\n",
    "    img = soup.find('img', {'class': 'badge-item-img'})\n",
    "    gif = soup.find('div', {'class': 'badge-animated-container-animated'})\n",
    "    if img is not None:\n",
    "        print img.get('src')\n",
    "    if gif is not None:\n",
    "        print gif.get('data-image')"
   ]
  },
  {
   "cell_type": "markdown",
   "metadata": {},
   "source": [
    "Put the previous code into a function with two arguments: number of img urls, and output filename"
   ]
  },
  {
   "cell_type": "code",
   "execution_count": 24,
   "metadata": {
    "collapsed": false
   },
   "outputs": [],
   "source": [
    "def i_want_fun(output, times=5):\n",
    "    with open(output, 'w') as fptr:\n",
    "        for _ in xrange(times): \n",
    "            URI = \"http://9gag.com/random\"\n",
    "            response = requests.get(URI)\n",
    "            if response.status_code == 200:\n",
    "                soup = BeautifulSoup(response.content)\n",
    "                img = soup.find('img', {'class': 'badge-item-img'})\n",
    "                gif = soup.find('div', {'class': 'badge-animated-container-animated'})\n",
    "                if img is not None:\n",
    "                    fptr.write(img.get('src') + '\\n')\n",
    "                if gif is not None:\n",
    "                    fptr.write(gif.get('data-image') + '\\n')"
   ]
  },
  {
   "cell_type": "code",
   "execution_count": 26,
   "metadata": {
    "collapsed": true
   },
   "outputs": [],
   "source": [
    "i_want_fun(BASE_URI+'fun.txt')"
   ]
  },
  {
   "cell_type": "markdown",
   "metadata": {},
   "source": [
    "Create a class from the previous function. \n",
    "The class should store all of the img urls.\n",
    "The class should have a method:\n",
    " - called `crawl` which crawls one random 9gag page\n",
    " - called `crawl_multiple` which crawls a number (given as argument) of 9gag pages\n",
    " - called `show_urls` which prints out the crawled urls\n",
    " - called `export` which saves the urls into a file (filename is given as argument)\n",
    " - called `reset` which empties the urls"
   ]
  },
  {
   "cell_type": "code",
   "execution_count": 29,
   "metadata": {
    "collapsed": false
   },
   "outputs": [],
   "source": [
    "class IWantFun(object):\n",
    "    \n",
    "    URI = \"http://9gag.com/random\"\n",
    "    \n",
    "    def __init__(self):\n",
    "        self.urls = []\n",
    "    \n",
    "    def crawl(self):\n",
    "        response = requests.get(self.URI)\n",
    "        if response.status_code == 200:\n",
    "            soup = BeautifulSoup(response.content)\n",
    "            img = soup.find('img', {'class': 'badge-item-img'})\n",
    "            gif = soup.find('div', {'class': 'badge-animated-container-animated'})\n",
    "            if img is not None:\n",
    "                self.urls.append(img.get('src'))\n",
    "            if gif is not None:\n",
    "                self.urls.append(gif.get('data-image'))\n",
    "    \n",
    "    def crawl_multiple(self, times=5):\n",
    "        for _ in xrange(times):\n",
    "            self.crawl()\n",
    "    \n",
    "    def show_urls(self):\n",
    "        print 'URLS:'\n",
    "        print '-'*30\n",
    "        print '\\n'.join(self.urls)\n",
    "        print '-'*30\n",
    "    \n",
    "    def export(self, output):\n",
    "        with open(output, 'w') as fptr:\n",
    "            fptr.write('\\n'.join(self.urls))\n",
    "    \n",
    "    def reset(self):\n",
    "        self.urls = []"
   ]
  },
  {
   "cell_type": "code",
   "execution_count": 30,
   "metadata": {
    "collapsed": false
   },
   "outputs": [
    {
     "name": "stdout",
     "output_type": "stream",
     "text": [
      "URLS:\n",
      "------------------------------\n",
      "http://img-9gag-fun.9cache.com/photo/ao0Le7g_700b_v1.jpg\n",
      "------------------------------\n",
      "URLS:\n",
      "------------------------------\n",
      "http://img-9gag-fun.9cache.com/photo/ao0Le7g_700b_v1.jpg\n",
      "http://img-9gag-fun.9cache.com/photo/aZx2Dn9_700b.jpg\n",
      "http://img-9gag-fun.9cache.com/photo/aLPbQM6_700b_v1.jpg\n",
      "http://img-9gag-fun.9cache.com/photo/aArZw5g_700b.jpg\n",
      "http://img-9gag-fun.9cache.com/photo/aWW9mvq_700b.jpg\n",
      "------------------------------\n",
      "URLS:\n",
      "------------------------------\n",
      "\n",
      "------------------------------\n"
     ]
    }
   ],
   "source": [
    "nine = IWantFun()\n",
    "nine.crawl()\n",
    "nine.show_urls()\n",
    "nine.crawl_multiple(5)\n",
    "nine.show_urls()\n",
    "nine.export(BASE_URI + 'fun.txt')\n",
    "nine.reset()\n",
    "nine.show_urls()"
   ]
  }
 ],
 "metadata": {
  "kernelspec": {
   "display_name": "Python 2",
   "language": "python",
   "name": "python2"
  },
  "language_info": {
   "codemirror_mode": {
    "name": "ipython",
    "version": 2
   },
   "file_extension": ".py",
   "mimetype": "text/x-python",
   "name": "python",
   "nbconvert_exporter": "python",
   "pygments_lexer": "ipython2",
   "version": "2.7.6"
  }
 },
 "nbformat": 4,
 "nbformat_minor": 0
}
