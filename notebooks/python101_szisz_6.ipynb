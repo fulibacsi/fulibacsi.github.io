{
 "metadata": {
  "kernelspec": {
   "display_name": "Python 2",
   "language": "python",
   "name": "python2"
  },
  "language_info": {
   "codemirror_mode": {
    "name": "ipython",
    "version": 2
   },
   "file_extension": ".py",
   "mimetype": "text/x-python",
   "name": "python",
   "nbconvert_exporter": "python",
   "pygments_lexer": "ipython2",
   "version": "2.7.6"
  },
  "name": ""
 },
 "nbformat": 3,
 "nbformat_minor": 0,
 "worksheets": [
  {
   "cells": [
    {
     "cell_type": "heading",
     "level": 1,
     "metadata": {},
     "source": [
      "Python 101 @ SzISz VI."
     ]
    },
    {
     "cell_type": "markdown",
     "metadata": {},
     "source": [
      "---"
     ]
    },
    {
     "cell_type": "heading",
     "level": 2,
     "metadata": {},
     "source": [
      "Previously on Python 101: Exceptions"
     ]
    },
    {
     "cell_type": "code",
     "collapsed": false,
     "input": [
      "# ZeroDivisionError\n",
      "try:\n",
      "    print 3/0\n",
      "except ZeroDivisionError:\n",
      "    print 'No one can divide with 0.'"
     ],
     "language": "python",
     "metadata": {},
     "outputs": [],
     "prompt_number": null
    },
    {
     "cell_type": "code",
     "collapsed": false,
     "input": [
      "# ValueError\n",
      "try:\n",
      "    print 3/'2'\n",
      "except TypeError:\n",
      "    print 'Can\\'t divide a number with a character!'"
     ],
     "language": "python",
     "metadata": {},
     "outputs": [],
     "prompt_number": null
    },
    {
     "cell_type": "code",
     "collapsed": false,
     "input": [
      "# ValueError\n",
      "try:\n",
      "    print int('string')\n",
      "except ValueError:\n",
      "    print 'This string is not a number!'"
     ],
     "language": "python",
     "metadata": {},
     "outputs": [],
     "prompt_number": null
    },
    {
     "cell_type": "code",
     "collapsed": false,
     "input": [
      "# NameError    \n",
      "try:\n",
      "    print spam\n",
      "except NameError:\n",
      "    print 'There is no such thing as \\'spam\\'!'"
     ],
     "language": "python",
     "metadata": {},
     "outputs": [],
     "prompt_number": null
    },
    {
     "cell_type": "code",
     "collapsed": false,
     "input": [
      "# IndexError\n",
      "try:\n",
      "    mylist = [1, 2, 3]\n",
      "    print mylist[len(mylist)]\n",
      "except IndexError:\n",
      "    print 'Index is larger then the length of the list!'"
     ],
     "language": "python",
     "metadata": {},
     "outputs": [],
     "prompt_number": null
    },
    {
     "cell_type": "code",
     "collapsed": false,
     "input": [
      "# KeyError\n",
      "try:\n",
      "    mydict = {'a': 1, 'b': 2}\n",
      "    print mydict['c']\n",
      "except KeyError:\n",
      "    print 'Key not exists!'"
     ],
     "language": "python",
     "metadata": {},
     "outputs": [],
     "prompt_number": null
    },
    {
     "cell_type": "code",
     "collapsed": false,
     "input": [
      "# IOError\n",
      "try:\n",
      "    not_existing_filename = 'a_file_that_is_not_exists.txt'\n",
      "    myfile = open(not_existing_filename, 'r')\n",
      "    myfile.readlines()\n",
      "except IOError:\n",
      "    print 'The specified file does not exist!'"
     ],
     "language": "python",
     "metadata": {},
     "outputs": [],
     "prompt_number": null
    },
    {
     "cell_type": "code",
     "collapsed": false,
     "input": [
      "# try-except-else-finally\n",
      "try:\n",
      "    print 'Hello', # 3/0\n",
      "except:\n",
      "    print 'Print failed',\n",
      "else:\n",
      "    print 'World',\n",
      "finally:\n",
      "    print '!'"
     ],
     "language": "python",
     "metadata": {},
     "outputs": [],
     "prompt_number": null
    },
    {
     "cell_type": "markdown",
     "metadata": {},
     "source": [
      "---"
     ]
    },
    {
     "cell_type": "heading",
     "level": 2,
     "metadata": {},
     "source": [
      "Today on Python 101: Web scraping"
     ]
    },
    {
     "cell_type": "heading",
     "level": 3,
     "metadata": {},
     "source": [
      "1. Obtain a webpage"
     ]
    },
    {
     "cell_type": "code",
     "collapsed": false,
     "input": [
      "# import a 3rd party library called requests\n",
      "import requests"
     ],
     "language": "python",
     "metadata": {},
     "outputs": [],
     "prompt_number": null
    },
    {
     "cell_type": "code",
     "collapsed": false,
     "input": [
      "existing_url = 'http://fulibacsi.github.io/data/test.html'\n",
      "response = requests.get(existing_url)\n",
      "print response.status_code # hopefully 200 -> successful download"
     ],
     "language": "python",
     "metadata": {},
     "outputs": [],
     "prompt_number": null
    },
    {
     "cell_type": "code",
     "collapsed": false,
     "input": [
      "not_existing_url = 'http://fulibacsi.github.io/data/test1.html'\n",
      "response = requests.get(not_existing_url)\n",
      "print response.status_code # unfortunately 404 -> not exists\n",
      "# Other possible values: \n",
      "# - 303 (redirect)\n",
      "# - 301 (permanent redirect)\n",
      "# - 400 (bad request)\n",
      "# - 401 (unauthorized)"
     ],
     "language": "python",
     "metadata": {},
     "outputs": [],
     "prompt_number": null
    },
    {
     "cell_type": "code",
     "collapsed": false,
     "input": [
      "response = requests.get(existing_url)\n",
      "print response.content"
     ],
     "language": "python",
     "metadata": {},
     "outputs": [],
     "prompt_number": null
    },
    {
     "cell_type": "code",
     "collapsed": false,
     "input": [
      "from IPython.display import HTML\n",
      "# Render page if successfully downloaded\n",
      "if response.status_code == 200:\n",
      "    result = HTML(response.content)\n",
      "else:\n",
      "    result = 'Nah, let\\'s have a beer instead!'"
     ],
     "language": "python",
     "metadata": {},
     "outputs": [],
     "prompt_number": null
    },
    {
     "cell_type": "code",
     "collapsed": false,
     "input": [
      "result"
     ],
     "language": "python",
     "metadata": {},
     "outputs": [],
     "prompt_number": null
    },
    {
     "cell_type": "heading",
     "level": 3,
     "metadata": {},
     "source": [
      "2. Process HTML"
     ]
    },
    {
     "cell_type": "markdown",
     "metadata": {},
     "source": [
      "####Story time: The skeleton of a html document\n",
      "\n",
      "<b>HTML</b> is a markup language, its basic build blocks are the <code>&lt;tag></code>s.<br>\n",
      "(Almost) every <code>&lt;tag></code> has two parts:\n",
      "\n",
      "    - Opening <tag>\n",
      "    - Closing </tag>\n",
      "\n",
      "Important html <code>&lt;tag></code>s:\n",
      "\n",
      "    - <html></html>\n",
      "    - <head></head>\n",
      "    - <body></body>\n",
      "    - <div></div>\n",
      "    - <p></p>\n",
      "    - <span></span>\n",
      "    - <section></section>\n",
      "    - <a href=\"\"></a>\n",
      "    - <img src=\"\">\n",
      "    - <br>\n",
      "    - <table>\n",
      "        <thead>\n",
      "            <tr>\n",
      "                <th></th>\n",
      "            </tr>\n",
      "        </thead>\n",
      "        <tbody>\n",
      "            <tr>\n",
      "                <td></td>\n",
      "                ...\n",
      "            </tr>\n",
      "        </tbody>\n",
      "     </table>\n",
      "    - <ul></ul> / <ol></ol> + <li></li>\n",
      "    \n",
      "Tags can have different attributes:\n",
      "\n",
      "    - <a>: href\n",
      "    - <img>: src\n",
      "    - id\n",
      "    - class\n",
      "    - anything that is not a html keyword\n",
      "    "
     ]
    },
    {
     "cell_type": "markdown",
     "metadata": {},
     "source": [
      "#### Let's parse it!\n",
      "\n",
      "Required module: `BeautifulSoup4`"
     ]
    },
    {
     "cell_type": "code",
     "collapsed": false,
     "input": [
      "# test if it is working\n",
      "from bs4 import BeautifulSoup"
     ],
     "language": "python",
     "metadata": {},
     "outputs": [],
     "prompt_number": null
    },
    {
     "cell_type": "code",
     "collapsed": false,
     "input": [
      "# create a soup:\n",
      "soup = BeautifulSoup(response.content)"
     ],
     "language": "python",
     "metadata": {},
     "outputs": [],
     "prompt_number": null
    },
    {
     "cell_type": "code",
     "collapsed": false,
     "input": [
      "print soup.prettify()"
     ],
     "language": "python",
     "metadata": {},
     "outputs": [],
     "prompt_number": null
    },
    {
     "cell_type": "code",
     "collapsed": false,
     "input": [
      "# get the title of the document\n",
      "print soup.title"
     ],
     "language": "python",
     "metadata": {},
     "outputs": [],
     "prompt_number": null
    },
    {
     "cell_type": "code",
     "collapsed": false,
     "input": [
      "# get the title text\n",
      "print soup.title.getText()"
     ],
     "language": "python",
     "metadata": {},
     "outputs": [],
     "prompt_number": null
    },
    {
     "cell_type": "code",
     "collapsed": false,
     "input": [
      "# get the text-only version of the page\n",
      "print soup.getText()"
     ],
     "language": "python",
     "metadata": {},
     "outputs": [],
     "prompt_number": null
    },
    {
     "cell_type": "code",
     "collapsed": false,
     "input": [
      "# get all the links\n",
      "soup.findAll('a')"
     ],
     "language": "python",
     "metadata": {},
     "outputs": [],
     "prompt_number": null
    },
    {
     "cell_type": "code",
     "collapsed": false,
     "input": [
      "# get the actual urls\n",
      "for url in soup.findAll('a'):\n",
      "    print url.get('href')"
     ],
     "language": "python",
     "metadata": {},
     "outputs": [],
     "prompt_number": null
    },
    {
     "cell_type": "code",
     "collapsed": false,
     "input": [
      "# store the important links\n",
      "important_urls = []\n",
      "for url in soup.findAll('a'):\n",
      "    if 'important_part' in url.get('href'):\n",
      "        important_urls.append(url.get('href'))\n",
      "print important_urls"
     ],
     "language": "python",
     "metadata": {},
     "outputs": [],
     "prompt_number": null
    },
    {
     "cell_type": "code",
     "collapsed": false,
     "input": [
      "# select every paragraph which has \"important\" class\n",
      "soup.findAll('p', {'class': 'important'})"
     ],
     "language": "python",
     "metadata": {},
     "outputs": [],
     "prompt_number": null
    },
    {
     "cell_type": "code",
     "collapsed": false,
     "input": [
      "# Whooops, something's going on! Let's investigate!\n",
      "important_paragraphs = soup.findAll('p', {'class': 'important'})\n",
      "# print the result text, and its parent's id\n",
      "for p in important_paragraphs:\n",
      "    print p.string, p.parent['id']"
     ],
     "language": "python",
     "metadata": {},
     "outputs": [],
     "prompt_number": null
    },
    {
     "cell_type": "code",
     "collapsed": false,
     "input": [
      "# We can see, that the \"fake\" result is from somewhere else\n",
      "print soup.find(id='not_main_section')"
     ],
     "language": "python",
     "metadata": {},
     "outputs": [],
     "prompt_number": null
    },
    {
     "cell_type": "code",
     "collapsed": false,
     "input": [
      "# We have a hidden fake section! Let's modify our search!\n",
      "soup.find(id='main_content').findAll('p', {'class': 'important'})"
     ],
     "language": "python",
     "metadata": {},
     "outputs": [],
     "prompt_number": null
    },
    {
     "cell_type": "code",
     "collapsed": false,
     "input": [
      "# Let's have the \"nice\" pictures from the div with random_images_1 class!\n",
      "soup.find(id='main_content').find('div', {'class': 'random_images_1'}).findAll('img', {'class': 'nice'})"
     ],
     "language": "python",
     "metadata": {},
     "outputs": [],
     "prompt_number": null
    },
    {
     "cell_type": "code",
     "collapsed": false,
     "input": [
      "# Whoops again. Filter out the result we don't like.\n",
      "imgs = soup.find(id='main_content').find('div', {'class': 'random_images_1'}).findAll('img', {'class': 'nice'})\n",
      "nice_imgs = []\n",
      "for img in imgs:\n",
      "    if 'not' not in img['class']:\n",
      "        nice_imgs.append(img['src'])\n",
      "print nice_imgs"
     ],
     "language": "python",
     "metadata": {},
     "outputs": [],
     "prompt_number": null
    },
    {
     "cell_type": "heading",
     "level": 3,
     "metadata": {},
     "source": [
      "3. It's your turn"
     ]
    },
    {
     "cell_type": "markdown",
     "metadata": {},
     "source": [
      "Save every important link to a file"
     ]
    },
    {
     "cell_type": "code",
     "collapsed": false,
     "input": [
      "filename = 'important_urls.txt'"
     ],
     "language": "python",
     "metadata": {},
     "outputs": [],
     "prompt_number": null
    },
    {
     "cell_type": "markdown",
     "metadata": {},
     "source": [
      "Let's get a random img/gif url from 9gag!"
     ]
    },
    {
     "cell_type": "code",
     "collapsed": false,
     "input": [
      "# get the page from http://9gag.com/random\n",
      "# find the imgages, and get the src attribute's value\n",
      "# animated img's class: badge-item-animated-img\n",
      "# not animated img's class: badge-item-img\n",
      "# hint: multiple class condition with a list {'class': ['val1', 'val2', ...]}"
     ],
     "language": "python",
     "metadata": {},
     "outputs": [],
     "prompt_number": null
    },
    {
     "cell_type": "markdown",
     "metadata": {},
     "source": [
      "Put the previous code into a function with two arguments: number of img urls, and output filename"
     ]
    },
    {
     "cell_type": "code",
     "collapsed": false,
     "input": [],
     "language": "python",
     "metadata": {},
     "outputs": [],
     "prompt_number": null
    },
    {
     "cell_type": "markdown",
     "metadata": {},
     "source": [
      "Create a class from the previous function. \n",
      "The class should store all of the img urls.\n",
      "The class should have a method:\n",
      " - called `crawl` which crawls one random 9gag page\n",
      " - called `crawl_multiple` which crawls a number (given as argument) of 9gag pages\n",
      " - called `show_urls` which prints out the crawled urls\n",
      " - called `export` which saves the urls into a file (filename is given as argument)\n",
      " - called `reset` which empties the urls"
     ]
    },
    {
     "cell_type": "code",
     "collapsed": false,
     "input": [],
     "language": "python",
     "metadata": {},
     "outputs": [],
     "prompt_number": null
    }
   ],
   "metadata": {}
  }
 ]
}