{
 "cells": [
  {
   "cell_type": "markdown",
   "metadata": {},
   "source": [
    "# Intro to Data Science @ SzISz Part VIII.\n",
    "## Neural Network recap, Git, Kaggle challange\n",
    "\n",
    "### Table of contents\n",
    "- <a href=\"http://playground.tensorflow.org/\">Playing with Neural Networks</a>\n",
    "- <a href=\"https://datanice.wordpress.com/2016/04/10/step-by-step-kaggle-competition-tutorial/\">Kaggle tutorial</a>\n",
    "- <a href=\"#What-is-Git?\">Git Flow</a>\n",
    "- <a href=\"#Experiments\">Experiments</a>\n",
    "    \n",
    "\n",
    "## What is Git?\n",
    "Git is a distributed version control system. It allows the users to keep track of the changes they made to their projects. It is usually used to follow the changes in source code files. \n",
    "\n",
    "## Why is it important?\n",
    "By using a version tracking system the changes made to the projects are easily withdrawed. With multiple people working on the same files, a version control system helps to manage the changes and merge them together. \n",
    "\n",
    "## Tools\n",
    "- Git\n",
    "- GitHub\n",
    "\n",
    "## What is GitHub?\n",
    "GitHub is a public code hosting service which makes use of the git version control system. It provides multiple extra feature to coordinate the project work.\n",
    "\n",
    "## The Git Flow\n",
    "See: https://guides.github.com/introduction/flow"
   ]
  },
  {
   "cell_type": "code",
   "execution_count": null,
   "metadata": {
    "collapsed": false
   },
   "outputs": [],
   "source": [
    "%matplotlib inline\n",
    "import numpy as np\n",
    "import scipy.sparse as sp\n",
    "import pandas as pd\n",
    "\n",
    "import matplotlib.pyplot as plt\n",
    "import seaborn as sns\n",
    "\n",
    "np.random.seed = 42"
   ]
  },
  {
   "cell_type": "markdown",
   "metadata": {},
   "source": [
    "## Experiments\n",
    "\n",
    "Let's aquire the <a href=\"https://www.kaggle.com/c/job-salary-prediction\">kaggle job salary dataset</a>, and run some experiments on it!"
   ]
  },
  {
   "cell_type": "code",
   "execution_count": null,
   "metadata": {
    "collapsed": true
   },
   "outputs": [],
   "source": []
  }
 ],
 "metadata": {
  "kernelspec": {
   "display_name": "Python 2",
   "language": "python",
   "name": "python2"
  },
  "language_info": {
   "codemirror_mode": {
    "name": "ipython",
    "version": 2
   },
   "file_extension": ".py",
   "mimetype": "text/x-python",
   "name": "python",
   "nbconvert_exporter": "python",
   "pygments_lexer": "ipython2",
   "version": "2.7.10"
  }
 },
 "nbformat": 4,
 "nbformat_minor": 0
}
