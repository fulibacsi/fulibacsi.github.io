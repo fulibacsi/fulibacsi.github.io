{
 "cells": [
  {
   "cell_type": "markdown",
   "metadata": {},
   "source": [
    "# Intro to Data Science @ SzISz Part VIII.\n",
    "## Neural Network recap, Git, Kaggle challange\n",
    "\n",
    "### Table of contents\n",
    "- <a href=\"http://playground.tensorflow.org/\">Playing with Neural Networks</a>\n",
    "- <a href=\"https://datanice.wordpress.com/2016/04/10/step-by-step-kaggle-competition-tutorial/\">Kaggle tutorial</a>\n",
    "- <a href=\"#What-is-Git?\">Git Flow</a>\n",
    "- <a href=\"#Experiments\">Experiments</a>\n",
    "    \n",
    "\n",
    "## What is Git?\n",
    "Git is a distributed version control system. It allows the users to keep track of the changes they made to their projects. It is usually used to follow the changes in source code files. \n",
    "\n",
    "## Why is it important?\n",
    "By using a version tracking system the changes made to the projects are easily withdrawed. With multiple people working on the same files, a version control system helps to manage the changes and merge them together. \n",
    "\n",
    "## Tools\n",
    "- Git\n",
    "- GitHub\n",
    "\n",
    "## What is GitHub?\n",
    "GitHub is a public code hosting service which makes use of the git version control system. It provides multiple extra feature to coordinate the project work.\n",
    "\n",
    "## The Git Flow\n",
    "See: https://guides.github.com/introduction/flow"
   ]
  },
  {
   "cell_type": "code",
   "execution_count": 1,
   "metadata": {
    "collapsed": false
   },
   "outputs": [],
   "source": [
    "%matplotlib inline\n",
    "import numpy as np\n",
    "import scipy.sparse as sp\n",
    "import pandas as pd\n",
    "\n",
    "import matplotlib.pyplot as plt\n",
    "import seaborn as sns\n",
    "\n",
    "np.random.seed = 42"
   ]
  },
  {
   "cell_type": "markdown",
   "metadata": {},
   "source": [
    "## Experiments\n",
    "\n",
    "Let's aquire the <a href=\"https://www.kaggle.com/c/job-salary-prediction\">kaggle job salary dataset</a>, and run some experiments on it!"
   ]
  },
  {
   "cell_type": "code",
   "execution_count": 29,
   "metadata": {
    "collapsed": true
   },
   "outputs": [],
   "source": [
    "import string\n",
    "import operator\n",
    "from collections import Counter"
   ]
  },
  {
   "cell_type": "code",
   "execution_count": 14,
   "metadata": {
    "collapsed": false
   },
   "outputs": [],
   "source": [
    "from sklearn.base import BaseEstimator, TransformerMixin\n",
    "from sklearn.feature_extraction.text import TfidfVectorizer\n",
    "from sklearn.decomposition import TruncatedSVD\n",
    "from sklearn.linear_model import SGDClassifier\n",
    "from sklearn.pipeline import Pipeline, FeatureUnion\n",
    "from sklearn.preprocessing import Normalizer"
   ]
  },
  {
   "cell_type": "code",
   "execution_count": 10,
   "metadata": {
    "collapsed": false
   },
   "outputs": [
    {
     "data": {
      "text/html": [
       "<div>\n",
       "<table border=\"1\" class=\"dataframe\">\n",
       "  <thead>\n",
       "    <tr style=\"text-align: right;\">\n",
       "      <th></th>\n",
       "      <th>Id</th>\n",
       "      <th>Title</th>\n",
       "      <th>FullDescription</th>\n",
       "      <th>LocationRaw</th>\n",
       "      <th>LocationNormalized</th>\n",
       "      <th>ContractType</th>\n",
       "      <th>ContractTime</th>\n",
       "      <th>Company</th>\n",
       "      <th>Category</th>\n",
       "      <th>SalaryRaw</th>\n",
       "      <th>SalaryNormalized</th>\n",
       "      <th>SourceName</th>\n",
       "    </tr>\n",
       "  </thead>\n",
       "  <tbody>\n",
       "    <tr>\n",
       "      <th>0</th>\n",
       "      <td>12612628</td>\n",
       "      <td>Engineering Systems Analyst</td>\n",
       "      <td>Engineering Systems Analyst Dorking Surrey Sal...</td>\n",
       "      <td>Dorking, Surrey, Surrey</td>\n",
       "      <td>Dorking</td>\n",
       "      <td>NaN</td>\n",
       "      <td>permanent</td>\n",
       "      <td>Gregory Martin International</td>\n",
       "      <td>Engineering Jobs</td>\n",
       "      <td>20000 - 30000/annum 20-30K</td>\n",
       "      <td>25000</td>\n",
       "      <td>cv-library.co.uk</td>\n",
       "    </tr>\n",
       "  </tbody>\n",
       "</table>\n",
       "</div>"
      ],
      "text/plain": [
       "         Id                        Title  \\\n",
       "0  12612628  Engineering Systems Analyst   \n",
       "\n",
       "                                     FullDescription              LocationRaw  \\\n",
       "0  Engineering Systems Analyst Dorking Surrey Sal...  Dorking, Surrey, Surrey   \n",
       "\n",
       "  LocationNormalized ContractType ContractTime                       Company  \\\n",
       "0            Dorking          NaN    permanent  Gregory Martin International   \n",
       "\n",
       "           Category                   SalaryRaw  SalaryNormalized  \\\n",
       "0  Engineering Jobs  20000 - 30000/annum 20-30K             25000   \n",
       "\n",
       "         SourceName  \n",
       "0  cv-library.co.uk  "
      ]
     },
     "execution_count": 10,
     "metadata": {},
     "output_type": "execute_result"
    }
   ],
   "source": [
    "base = '../../data/kaggle_job/'\n",
    "df = pd.read_csv(base+'Train_rev1.csv')\n",
    "df.head(1)"
   ]
  },
  {
   "cell_type": "code",
   "execution_count": 20,
   "metadata": {
    "collapsed": true
   },
   "outputs": [],
   "source": [
    "class ItemSelector(BaseEstimator, TransformerMixin):\n",
    "    \n",
    "    def __init__(self, column, extend=False):\n",
    "        self.column = column\n",
    "        self.extend = extend\n",
    "        \n",
    "    def fit(self, X, y=None):\n",
    "        return self\n",
    "    \n",
    "    def transform(self, X, y=None):\n",
    "        if self.extend:\n",
    "            return X[self.column].values[:, np.newaxis]\n",
    "        return X[self.column]"
   ]
  },
  {
   "cell_type": "code",
   "execution_count": 23,
   "metadata": {
    "collapsed": false
   },
   "outputs": [],
   "source": [
    "feat = FeatureUnion(transformer_list=[\n",
    "    ('desc', Pipeline([\n",
    "        ('sel', ItemSelector('FullDescription')),\n",
    "        ('tfidf', TfidfVectorizer(max_df=.9, min_df=4)),\n",
    "        ('svd', TruncatedSVD(n_components=90))\n",
    "    ])),\n",
    "    ('salary', Pipeline([\n",
    "        ('sel', ItemSelector('SalaryNormalized', True)),\n",
    "        ('norm', Normalizer())\n",
    "    ]))\n",
    "])"
   ]
  },
  {
   "cell_type": "code",
   "execution_count": 24,
   "metadata": {
    "collapsed": false
   },
   "outputs": [
    {
     "name": "stderr",
     "output_type": "stream",
     "text": [
      "/home/fuszi/.virtualenvs/ml/local/lib/python2.7/site-packages/sklearn/utils/validation.py:420: DataConversionWarning: Data with input dtype int64 was converted to float64 by the normalize function.\n",
      "  warnings.warn(msg, DataConversionWarning)\n"
     ]
    }
   ],
   "source": [
    "X = feat.fit_transform(df)"
   ]
  },
  {
   "cell_type": "code",
   "execution_count": 51,
   "metadata": {
    "collapsed": true
   },
   "outputs": [],
   "source": [
    "def replace(word):\n",
    "    replacable = set(string.printable) - set(string.ascii_letters).union(set(string.digits))\n",
    "    for char in replacable:\n",
    "        word = word.replace(char, '')\n",
    "    return word.lower()"
   ]
  },
  {
   "cell_type": "code",
   "execution_count": 52,
   "metadata": {
    "collapsed": true
   },
   "outputs": [],
   "source": [
    "def clean(title):\n",
    "    return [replace(word) for word in title.split()]"
   ]
  },
  {
   "cell_type": "code",
   "execution_count": 78,
   "metadata": {
    "collapsed": false
   },
   "outputs": [],
   "source": [
    "y = df['Title'].fillna('').map(clean)"
   ]
  },
  {
   "cell_type": "code",
   "execution_count": 57,
   "metadata": {
    "collapsed": true
   },
   "outputs": [],
   "source": [
    "top = Counter(reduce(operator.add, y.values))"
   ]
  },
  {
   "cell_type": "code",
   "execution_count": 79,
   "metadata": {
    "collapsed": true
   },
   "outputs": [],
   "source": [
    "top1000 = dict(top.most_common(1000)).keys()"
   ]
  },
  {
   "cell_type": "code",
   "execution_count": 80,
   "metadata": {
    "collapsed": false
   },
   "outputs": [],
   "source": [
    "y_transformed = y.map(lambda title: ' '.join([word for word in title if word in top1000]))"
   ]
  },
  {
   "cell_type": "code",
   "execution_count": null,
   "metadata": {
    "collapsed": true
   },
   "outputs": [],
   "source": [
    "# innen train, transform, hajrá! :D"
   ]
  },
  {
   "cell_type": "markdown",
   "metadata": {},
   "source": [
    "## Feladatok:\n",
    "- Kristóf létrehozza a csapatot\n",
    "- Mindenki beregisztrál\n",
    "- Mindenki csatlakozik\n",
    "- Kristóf submitel egy baseline megoldást\n",
    "- Adatot letöltjük\n",
    "- Fórumot elolvassuk\n",
    "- Adatot tisztítjuk\n",
    "- Adatot szelektáljuk\n",
    "- Basic modellt előállítjuk"
   ]
  },
  {
   "cell_type": "code",
   "execution_count": null,
   "metadata": {
    "collapsed": true
   },
   "outputs": [],
   "source": []
  }
 ],
 "metadata": {
  "kernelspec": {
   "display_name": "Python 2",
   "language": "python",
   "name": "python2"
  },
  "language_info": {
   "codemirror_mode": {
    "name": "ipython",
    "version": 2
   },
   "file_extension": ".py",
   "mimetype": "text/x-python",
   "name": "python",
   "nbconvert_exporter": "python",
   "pygments_lexer": "ipython2",
   "version": "2.7.6"
  }
 },
 "nbformat": 4,
 "nbformat_minor": 0
}
