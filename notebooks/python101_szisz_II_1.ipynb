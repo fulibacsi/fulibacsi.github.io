{
 "cells": [
  {
   "cell_type": "markdown",
   "metadata": {},
   "source": [
    "# Python 101 @ SzISz I.\n",
    "\n",
    "---"
   ]
  },
  {
   "cell_type": "code",
   "execution_count": null,
   "metadata": {
    "collapsed": false,
    "slideshow": {
     "slide_type": "-"
    }
   },
   "outputs": [],
   "source": [
    "import random\n",
    "import IPython.display as idisp\n",
    "def print_image(source, _type='img', width=None, height=None):\n",
    "    \"\"\"Display an image.\"\"\"\n",
    "    if _type == 'net':\n",
    "        idisp.display(idisp.Image(url=source, width=width, height=height))\n",
    "    elif _type == 'img':\n",
    "        idisp.display(idisp.Image(filename=source, width=width, height=height))\n",
    "    elif _type == 'svg':\n",
    "        idisp.display(idisp.SVG(source, width, height))\n",
    "\n",
    "print_image('http://westmarch.sjsoft.com/wp-content/uploads/2012/11/zen-of-python-poster-a3.png', 'net')"
   ]
  },
  {
   "cell_type": "markdown",
   "metadata": {},
   "source": [
    "----\n",
    "\n",
    "## Before we start\n",
    "\n",
    "### Who am I?\n",
    "\n",
    "* ex-PhD student (absolutorium achieved)\n",
    "* ex-teaching assistant @ Unideb\n",
    "* ex-python developer @ HigherClick\n",
    "* data scientist @ Lensa\n",
    "* programmer (<a href=\"github.com/fulibacsi\">github</a>)\n",
    "* geek (<a href=\"twitter.com/fulibacsi\">twitter</a>)\n",
    "\n",
    "### What are we gonna do?\n",
    "\n",
    "1. Have fun!\n",
    "2. Learn something useful.\n",
    "3. Create something awesome.\n",
    "4. Rule the world!\n",
    "\n",
    "### Requirements?\n",
    "\n",
    "* Solve the weekly challenges (at least half of them).\n",
    "* Solve one of your problem with the skills you'll get.\n",
    "* Write some docs about it.\n",
    "* Free your mind!\n",
    "\n",
    "---\n",
    "\n",
    "## Before we really start\n",
    "\n",
    "1. Link workspace dir to anaconda dir:\n",
    "    * windows:  \n",
    "        `cd C:\\...\\Anaconda\\`  \n",
    "        `mklink /J .\\workspace C:\\Users\\username\\workspace`\n",
    "    * unix:  \n",
    "        `cd ~/.../Anaconda`  \n",
    "        `ln -s ~/Documents/workspace ./workspace`\n",
    "\n",
    "2. Update IPython Notebook in anaconda launcher\n",
    "3. Install some packages:\n",
    "    * windows:  \n",
    "        - Start `Anaconda command line`  \n",
    "        - `pip install pillow qrcode youtube-dl`\n",
    "    * unix:\n",
    "        - Start a terminal\n",
    "        - `pip install pillow qrcode youtube-dl`\n",
    "        \n",
    "---\n",
    "\n",
    "## Computer Science in 5 min:\n",
    "\n",
    "To get everyone to the same pace."
   ]
  },
  {
   "cell_type": "code",
   "execution_count": null,
   "metadata": {
    "collapsed": false
   },
   "outputs": [],
   "source": [
    "BASE = '../pics/'"
   ]
  },
  {
   "cell_type": "code",
   "execution_count": null,
   "metadata": {
    "collapsed": false
   },
   "outputs": [],
   "source": [
    "print_image(BASE + 'NAND.png', 'img', 200, 200)\n",
    "print_image(BASE + 'NAND_Gates.png', 'img', 300, 200)"
   ]
  },
  {
   "cell_type": "code",
   "execution_count": null,
   "metadata": {
    "collapsed": false
   },
   "outputs": [],
   "source": [
    "print_image(BASE + 'relays.jpg', 'img', 400, 400)"
   ]
  },
  {
   "cell_type": "code",
   "execution_count": null,
   "metadata": {
    "collapsed": false
   },
   "outputs": [],
   "source": [
    "print_image(BASE + 'vacuum_tubes.jpg', 'img', 600, 300)"
   ]
  },
  {
   "cell_type": "code",
   "execution_count": null,
   "metadata": {
    "collapsed": false
   },
   "outputs": [],
   "source": [
    "print_image(BASE + 'transistor.jpg', 'img', 200, 200)\n",
    "print_image(BASE + 'intel-p3.jpg')"
   ]
  },
  {
   "cell_type": "code",
   "execution_count": null,
   "metadata": {
    "collapsed": false
   },
   "outputs": [],
   "source": [
    "print_image(BASE + 'lowlevel.png')"
   ]
  },
  {
   "cell_type": "markdown",
   "metadata": {},
   "source": [
    "### Compiled languages"
   ]
  },
  {
   "cell_type": "code",
   "execution_count": null,
   "metadata": {
    "collapsed": false
   },
   "outputs": [],
   "source": [
    "print_image(BASE + 'Compiled_Code_Flow_Diagram.svg', 'svg')"
   ]
  },
  {
   "cell_type": "markdown",
   "metadata": {},
   "source": [
    "* BASIC\n",
    "* C, C++\n",
    "* Pascal\n",
    "\n",
    "\n",
    "### Interpreted languages"
   ]
  },
  {
   "cell_type": "code",
   "execution_count": null,
   "metadata": {
    "collapsed": false
   },
   "outputs": [],
   "source": [
    "print_image(BASE + 'Interpreted_Code_Flow_Diagram.svg', 'svg')"
   ]
  },
  {
   "cell_type": "markdown",
   "metadata": {},
   "source": [
    "* Javascript\n",
    "* PHP\n",
    "\n",
    "### Python\n",
    "\n",
    "Something from both worlds:"
   ]
  },
  {
   "cell_type": "code",
   "execution_count": null,
   "metadata": {
    "collapsed": false
   },
   "outputs": [],
   "source": [
    "print_image(BASE + 'Pre_Compiled_and_Interpreted_Code_Flow_Diagram.svg', 'svg')"
   ]
  },
  {
   "cell_type": "code",
   "execution_count": null,
   "metadata": {
    "collapsed": false
   },
   "outputs": [],
   "source": [
    "print \"The Designer: Guido van Rossum\"\n",
    "print_image('http://upload.wikimedia.org/wikipedia/commons/6/66/Guido_van_Rossum_OSCON_2006.jpg', 'net', 300, 600)"
   ]
  },
  {
   "cell_type": "code",
   "execution_count": null,
   "metadata": {
    "collapsed": false
   },
   "outputs": [],
   "source": [
    "print \"Its name came from:\"\n",
    "print_image('http://athenacinema.com/wp-content/uploads/2013/09/HolyGrail034.jpg', 'net', 600, 400)"
   ]
  },
  {
   "cell_type": "markdown",
   "metadata": {},
   "source": [
    "---\n",
    "\n",
    "## Everyone's first lines\n",
    "\n",
    "I don't want to ruin the moment and do it for you, so follow the instructions below:"
   ]
  },
  {
   "cell_type": "code",
   "execution_count": null,
   "metadata": {
    "collapsed": false
   },
   "outputs": [],
   "source": [
    "# Before we start: \n",
    "# This line is a comment. It is useful for others to understand your code,\n",
    "# so use it often. Every text after the # character is comment.\n",
    "# type print then a text inside simple or double apostrophe (' or \")\n",
    "# then press [Ctrl] + [Enter]\n"
   ]
  },
  {
   "cell_type": "markdown",
   "metadata": {},
   "source": [
    "Let's do some math too!"
   ]
  },
  {
   "cell_type": "code",
   "execution_count": null,
   "metadata": {
    "collapsed": false
   },
   "outputs": [],
   "source": [
    "1 + 1"
   ]
  },
  {
   "cell_type": "code",
   "execution_count": null,
   "metadata": {
    "collapsed": false
   },
   "outputs": [],
   "source": [
    "5 - 5"
   ]
  },
  {
   "cell_type": "code",
   "execution_count": null,
   "metadata": {
    "collapsed": false
   },
   "outputs": [],
   "source": [
    "2 * 2"
   ]
  },
  {
   "cell_type": "code",
   "execution_count": null,
   "metadata": {
    "collapsed": false
   },
   "outputs": [],
   "source": [
    "6 / 3"
   ]
  },
  {
   "cell_type": "code",
   "execution_count": null,
   "metadata": {
    "collapsed": false
   },
   "outputs": [],
   "source": [
    "5 % 2"
   ]
  },
  {
   "cell_type": "code",
   "execution_count": null,
   "metadata": {
    "collapsed": false
   },
   "outputs": [],
   "source": [
    "2 ** 10"
   ]
  },
  {
   "cell_type": "code",
   "execution_count": null,
   "metadata": {
    "collapsed": false
   },
   "outputs": [],
   "source": [
    "not True"
   ]
  },
  {
   "cell_type": "code",
   "execution_count": null,
   "metadata": {
    "collapsed": false
   },
   "outputs": [],
   "source": [
    "True and False == False"
   ]
  },
  {
   "cell_type": "code",
   "execution_count": null,
   "metadata": {
    "collapsed": false
   },
   "outputs": [],
   "source": [
    "True or False == True"
   ]
  },
  {
   "cell_type": "code",
   "execution_count": null,
   "metadata": {
    "collapsed": false
   },
   "outputs": [],
   "source": [
    "3 > 4"
   ]
  },
  {
   "cell_type": "code",
   "execution_count": null,
   "metadata": {
    "collapsed": false
   },
   "outputs": [],
   "source": [
    "4 < 5"
   ]
  },
  {
   "cell_type": "code",
   "execution_count": null,
   "metadata": {
    "collapsed": false
   },
   "outputs": [],
   "source": [
    "4 <= 6"
   ]
  },
  {
   "cell_type": "code",
   "execution_count": null,
   "metadata": {
    "collapsed": false
   },
   "outputs": [],
   "source": [
    "5 >= 3"
   ]
  },
  {
   "cell_type": "code",
   "execution_count": null,
   "metadata": {
    "collapsed": false
   },
   "outputs": [],
   "source": [
    "4 < 6 and not 2 > 4"
   ]
  },
  {
   "cell_type": "markdown",
   "metadata": {},
   "source": [
    "## Variables\n",
    "\n",
    "What if we want to store some values? We use the assignment (`=`) operator!"
   ]
  },
  {
   "cell_type": "code",
   "execution_count": null,
   "metadata": {
    "collapsed": false
   },
   "outputs": [],
   "source": [
    "# a number\n",
    "a = 3\n",
    "print a\n",
    "print type(a)"
   ]
  },
  {
   "cell_type": "code",
   "execution_count": null,
   "metadata": {
    "collapsed": false
   },
   "outputs": [],
   "source": [
    "# a floating point number\n",
    "a = 3.14\n",
    "print a\n",
    "print type(a)"
   ]
  },
  {
   "cell_type": "code",
   "execution_count": null,
   "metadata": {
    "collapsed": false
   },
   "outputs": [],
   "source": [
    "# a boolean value\n",
    "a = True # False\n",
    "print a\n",
    "print type(a)"
   ]
  },
  {
   "cell_type": "code",
   "execution_count": null,
   "metadata": {
    "collapsed": false
   },
   "outputs": [],
   "source": [
    "# a character\n",
    "a = 'a'\n",
    "print a\n",
    "print type(a)"
   ]
  },
  {
   "cell_type": "code",
   "execution_count": null,
   "metadata": {
    "collapsed": false
   },
   "outputs": [],
   "source": [
    "# a string\n",
    "a = 'spam'\n",
    "print a\n",
    "# or\n",
    "a = \"spam and eggs\"\n",
    "print a\n",
    "# or\n",
    "a = '''spam'\n",
    "spam\n",
    "sausage'''\n",
    "print a\n",
    "# or\n",
    "a = \"\"\"spam\n",
    "spam\n",
    "eggs\n",
    "and spam\"\"\"\n",
    "print a\n",
    "print type(a)"
   ]
  },
  {
   "cell_type": "markdown",
   "metadata": {},
   "source": [
    "According to strings:<br>\n",
    " There are some so called escape character. They always starts with a <b><code>\\</code></b> following by an another character"
   ]
  },
  {
   "cell_type": "code",
   "execution_count": null,
   "metadata": {
    "collapsed": false
   },
   "outputs": [],
   "source": [
    "# like:\n",
    "# \\n\n",
    "a = 'sp\\nam'\n",
    "print a\n",
    "# \\t\n",
    "a = 'sp\\tam'\n",
    "print a\n",
    "# \\r\n",
    "a = 'sp\\ram'\n",
    "print a\n",
    "# \\', \\\"\n",
    "a = '\\'sp' + \"am\\\"\"\n",
    "print a"
   ]
  },
  {
   "cell_type": "markdown",
   "metadata": {},
   "source": [
    "#### Naming conventions"
   ]
  },
  {
   "cell_type": "markdown",
   "metadata": {},
   "source": [
    "* starts with a letter\n",
    "* available characters:\n",
    "    * a-z\n",
    "    * A-Z\n",
    "    * 0-9\n",
    "    * _"
   ]
  },
  {
   "cell_type": "code",
   "execution_count": null,
   "metadata": {
    "collapsed": false
   },
   "outputs": [],
   "source": [
    "spam_is_a_valid_variable_name = True"
   ]
  },
  {
   "cell_type": "code",
   "execution_count": null,
   "metadata": {
    "collapsed": false
   },
   "outputs": [],
   "source": [
    "9spam_is_not = True"
   ]
  },
  {
   "cell_type": "markdown",
   "metadata": {},
   "source": [
    "## Let's try it out...\n",
    "\n",
    "...and make something (almost) useful!"
   ]
  },
  {
   "cell_type": "code",
   "execution_count": null,
   "metadata": {
    "collapsed": false
   },
   "outputs": [],
   "source": [
    "your_name = '' # please specify your name\n",
    "print 'Hello', your_name, '!'\n",
    "\n",
    "year_of_birth = XXXX # please specify your year of birth\n",
    "print 'You are', 2015 - year_of_birth, 'years old.'"
   ]
  },
  {
   "cell_type": "markdown",
   "metadata": {},
   "source": [
    "## Let's do some...\n",
    "\n",
    "<img align=\"left\" width=150 src=\"http://www.reactiongifs.com/r/mgc.gif\">"
   ]
  },
  {
   "cell_type": "markdown",
   "metadata": {},
   "source": [
    "* Generate a QR code in two lines!"
   ]
  },
  {
   "cell_type": "code",
   "execution_count": null,
   "metadata": {
    "collapsed": true
   },
   "outputs": [],
   "source": [
    "import qrcode\n",
    "qrcode.make('fulibacsi.github.io')"
   ]
  },
  {
   "cell_type": "markdown",
   "metadata": {},
   "source": [
    "* Download a youtube video in five lines!"
   ]
  },
  {
   "cell_type": "code",
   "execution_count": null,
   "metadata": {
    "collapsed": true
   },
   "outputs": [],
   "source": [
    "from __future__ import unicode_literals\n",
    "import youtube_dl\n",
    "\n",
    "with youtube_dl.YoutubeDL({}) as ydl:\n",
    "    ydl.download(['https://www.youtube.com/watch?v=dQw4w9WgXcQ'])"
   ]
  },
  {
   "cell_type": "markdown",
   "metadata": {},
   "source": [
    "## Now it's your turn! Write the missing code snippets!\n",
    "\n",
    "**1. Print the \"your_name\" variable \"repeat\" times!**"
   ]
  },
  {
   "cell_type": "code",
   "execution_count": null,
   "metadata": {
    "collapsed": false
   },
   "outputs": [],
   "source": [
    "your_name = ''\n",
    "repeat = random.randint(1, 5)\n",
    "# hint: you can multiply strings too. \n",
    "print # solution"
   ]
  },
  {
   "cell_type": "markdown",
   "metadata": {},
   "source": [
    "**2. Calculate the selling price to achieve the desired profit after tax!**"
   ]
  },
  {
   "cell_type": "code",
   "execution_count": null,
   "metadata": {
    "collapsed": false
   },
   "outputs": [],
   "source": [
    "cost = random.randint(1000, 2000) # currency\n",
    "tax = random.randint(20, 50) / 100.0 # percent\n",
    "profit = random.randint(0, 100) / 100.0 # percent\n",
    "\n",
    "price = # solution\n",
    "print 'If I bought the product for', cost,\n",
    "print 'and I would like to achieve', profit * 100,\n",
    "print 'percent profit and the tax I have to pay after my income is', tax * 100,\n",
    "print 'percent, then I have to set the price to:', price, '.' "
   ]
  },
  {
   "cell_type": "markdown",
   "metadata": {},
   "source": [
    "**3. Now let the geek side of the force shine!**  \n",
    "\n",
    "<img align=\"left\" width=\"150\" src=\"http://static.giantbomb.com/uploads/original/1/15568/506143-wizards___warriors_14.png\"/>\n",
    "\n",
    "A warrior fights against an evil wizard lizard. He has a magical sword and a magical axe.   \n",
    "The evil wizard lizard cast a protective spell on himself. The warrior has to choose from his weapons.  \n",
    "Help him by calculating the damage values!\n",
    "\n"
   ]
  },
  {
   "cell_type": "code",
   "execution_count": null,
   "metadata": {
    "collapsed": false
   },
   "outputs": [],
   "source": [
    "# a sword\n",
    "sword_damage = random.randint(5, 10)\n",
    "sword_damage_type = random.randint(1, 5)\n",
    "# or an axe\n",
    "axe_damage = random.randint(5, 10)\n",
    "axe_damage_type = random.randint(1, 5)\n",
    "# each weapon deal different type of damage\n",
    "# and the evil wizard lizard is resistant to one of them.\n",
    "evil_wizard_lizard_resist_type = random.randint(1, 5)\n",
    "evil_wizard_lizard_damage_reduction = random.randint(0, 75) / 100.0\n",
    "\n",
    "# which weapon should the warrior choose?\n",
    "sword_actual_damage =  # compute sword and axe damage  \n",
    "axe_actual_damage = # hint: True is 1, False is 0\n",
    "# should the warrior choose the sword?\n",
    "answer = # solution is boolean sooo...\n",
    "# True or False?\n",
    "print answer,\n",
    "print 'because sword does', sword_actual_damage,\n",
    "print 'damage and axe does', axe_actual_damage,\n",
    "print 'damage to the enemy.'"
   ]
  },
  {
   "cell_type": "markdown",
   "metadata": {},
   "source": [
    "**4. Aaaaare we there yet?**  \n",
    "Ever wonder how much time do you need to get home? It is possible to hit a traffic jam, so add that to the trip time too.  \n",
    "Calculate the trip time!"
   ]
  },
  {
   "cell_type": "code",
   "execution_count": null,
   "metadata": {
    "collapsed": false
   },
   "outputs": [],
   "source": [
    "distance = random.randint(30, 230) * 1.0 # because of the division\n",
    "average_speed = random.randint(30, 90)\n",
    "# if I hit the traffic jam, my trip takes `traffic_jam_penalty`\n",
    "# minutes more then without it.\n",
    "traffic_jam = random.randint(0, 1)\n",
    "traffic_jam_penalty = random.randint(30, 60)\n",
    "\n",
    "trip_time = # compute in mins\n",
    "hours = # hint: use the int(value) function to get an integer number\n",
    "minutes = \n",
    "seconds = \n",
    "\n",
    "print 'I need', trip_time, 'minutes',\n",
    "print 'or', hours, 'hours,', \n",
    "print minutes, 'minutes,',\n",
    "print seconds, 'seconds to get home',\n",
    "print 'if I live', distance, 'kms away',\n",
    "print 'and I usually drive at', average_speed, 'km/hs.'\n",
    "print 'I have to wait', traffic_jam_penalty,\n",
    "print 'minutes because of a traffic jam. It\\'s', traffic_jam == 1, '!' # create an appropriate condition"
   ]
  },
  {
   "cell_type": "markdown",
   "metadata": {},
   "source": [
    "**Variant from real life:**  \n",
    "An average hungarian coach travels at 60 km/h on average. (Self collected empiric data.)  \n",
    "Calculate the travel time!"
   ]
  },
  {
   "cell_type": "code",
   "execution_count": null,
   "metadata": {
    "collapsed": false
   },
   "outputs": [],
   "source": [
    "hungarian_coach_average_speed = 60\n",
    "distance_till_home = random.randint(30, 300)\n",
    "\n",
    "time_left = # in mins\n",
    "print 'I only have to survive', time_left, 'minutes, and I\\'m home!'"
   ]
  },
  {
   "cell_type": "markdown",
   "metadata": {},
   "source": [
    "**5. Rock-paper-scissors.**  \n",
    "Generate a logical expression which generates the game's outcome."
   ]
  },
  {
   "cell_type": "code",
   "execution_count": null,
   "metadata": {
    "collapsed": false
   },
   "outputs": [],
   "source": [
    "your_choice = 'r' # 'r', 'p' or 's'\n",
    "comp_choice = random.choice('rps')\n",
    "\n",
    "your_score = # compute a score value\n",
    "print 'Are you a winner?', # insert a condition based on your_score here"
   ]
  },
  {
   "cell_type": "markdown",
   "metadata": {},
   "source": [
    "**6. Calculate the good-old (and boring) quadratic equation!**  \n",
    "For those who forgot:  \n",
    "$$x_{1,2}=\\dfrac{-b \\pm \\sqrt{b^2 - 4ac}}{2a}$$"
   ]
  },
  {
   "cell_type": "code",
   "execution_count": null,
   "metadata": {
    "collapsed": false
   },
   "outputs": [],
   "source": [
    "a = random.randint(1, 10)\n",
    "b = random.randint(1, 10)\n",
    "c = random.randint(1, 10)\n",
    "\n",
    "x_1 = \n",
    "x_2 = \n",
    "print 'The solutions to the', \n",
    "print str(a) + 'x^2 + ' + str(b) + 'x + ' + str(c) + ' = 0',\n",
    "print 'is:', x_1, 'and', x_2"
   ]
  }
 ],
 "metadata": {
  "kernelspec": {
   "display_name": "Python 2",
   "language": "python",
   "name": "python2"
  },
  "language_info": {
   "codemirror_mode": {
    "name": "ipython",
    "version": 2
   },
   "file_extension": ".py",
   "mimetype": "text/x-python",
   "name": "python",
   "nbconvert_exporter": "python",
   "pygments_lexer": "ipython2",
   "version": "2.7.10"
  }
 },
 "nbformat": 4,
 "nbformat_minor": 0
}
