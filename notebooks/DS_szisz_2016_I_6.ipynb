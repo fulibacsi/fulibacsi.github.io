{
 "cells": [
  {
   "cell_type": "markdown",
   "metadata": {},
   "source": [
    "# Intro to Data Science @ SzISz Part VI.\n",
    "## Clustering\n",
    "\n",
    "### Table of contents\n",
    "- <a href=\"#What-is-Clustering?\">Clustering Theory</a>\n",
    "- <a href=\"#K-Means\">K-Means</a>\n",
    "- <a href=\"#DBSCAN\">DBSCAN</a>\n",
    "- <a href=\"#Hierarchical-Clustering\">Hierarchical Clustering</a>\n",
    "- <a href=\"#Spectral-Clustering\">Spectral Clustering</a>\n",
    "- <a href=\"#Gaussian-Mixture-Models\">GMM</a>\n",
    "- <a href=\"#Cluster-Validation\">Cluster Validation</a>\n",
    "    \n",
    "\n",
    "## What is Clustering?\n",
    "Clustering is an <a href=\"http://scikit-learn.org/stable/unsupervised_learning.html\">unsupervised machine learning</a> problem. _\"Unsupervised learning is the machine learning task of inferring a function to describe hidden structure from unlabeled data. Since the examples given to the learner are unlabeled, there is no error or reward signal to evaluate a potential solution.\"_ from: <a href=\"https://en.wikipedia.org/wiki/Unsupervised_learning\">Wiki</a> \n",
    "\n",
    "_\"Cluster analysis or clustering is the task of grouping a set of objects in such a way that objects in the same group (called a cluster) are more similar (in some sense or another) to each other than to those in other groups (clusters).\"_ from: <a href=\"https://en.wikipedia.org/wiki/Cluster_analysis\">Wiki</a>\n",
    "\n",
    "\n",
    "## Why is it important?\n",
    "Often the data does not contain target variables so one must find the hidden structure in the data first in order to achieve his/her goals. In case of recommender systems, it is a common technique to group the similar items together. In some cases the task itself is to find similar/connected/related items in the data. Like in image processing, Social network analysis, medical analysis, or it can be used to find the anomalies in the data.\n",
    "\n",
    "## Tools\n",
    "- K-Means\n",
    "- Affinity propagation\n",
    "- Mean-shift\n",
    "- Spectral clustering\n",
    "- Ward hierarchical clustering\n",
    "- Agglomerative clustering\n",
    "- DBSCAN\n",
    "- Gaussian mixtures\n",
    "- Birch\n",
    "- Support Vector Clustering\n",
    "- etc."
   ]
  },
  {
   "cell_type": "code",
   "execution_count": null,
   "metadata": {
    "collapsed": true
   },
   "outputs": [],
   "source": [
    "%matplotlib inline\n",
    "import numpy as np\n",
    "import scipy.sparse as sp\n",
    "import pandas as pd\n",
    "\n",
    "import matplotlib.pyplot as plt\n",
    "import seaborn as sns\n",
    "\n",
    "from sklearn import datasets"
   ]
  },
  {
   "cell_type": "code",
   "execution_count": null,
   "metadata": {
    "collapsed": false
   },
   "outputs": [],
   "source": [
    "n_clusters = 3\n",
    "n_samples = 1500\n",
    "noisy_circles = datasets.make_circles(n_samples=n_samples, factor=.5,\n",
    "                                      noise=.05)\n",
    "noisy_moons = datasets.make_moons(n_samples=n_samples, noise=.05)\n",
    "blobs = datasets.make_blobs(n_samples=n_samples, random_state=8)\n",
    "no_structure = np.random.rand(n_samples, 2), None\n",
    "\n",
    "datasets = {\n",
    "    'noisy_circles': noisy_circles,\n",
    "    'noisy_moons': noisy_moons,\n",
    "    'blobs': blobs,\n",
    "    'no_structure': no_structure\n",
    "}\n",
    "\n",
    "colors = np.array([x for x in 'bgrcmyk'])"
   ]
  },
  {
   "cell_type": "code",
   "execution_count": null,
   "metadata": {
    "collapsed": true
   },
   "outputs": [],
   "source": [
    "def cluster_datasets(model, preprocess=None, **params):\n",
    "    model = model(**params)\n",
    "    results = {}\n",
    "    Xs = {}\n",
    "    for problem, dataset in datasets.iteritems():\n",
    "        X, y = dataset\n",
    "        if preprocess:\n",
    "            X = preprocess.fit_transform(X, y)\n",
    "        Xs[problem] = X\n",
    "        model.fit(X)\n",
    "        if hasattr(model, 'labels_'):\n",
    "            results[problem] = model.labels_.astype(np.int)\n",
    "        else:\n",
    "            results[problem] = model.predict(X)\n",
    "    return model, Xs, results"
   ]
  },
  {
   "cell_type": "code",
   "execution_count": null,
   "metadata": {
    "collapsed": true
   },
   "outputs": [],
   "source": [
    "def plot(Xs, results):\n",
    "    plot_num = 1\n",
    "    plt.figure(figsize=(len(datasets) * 2 + 3, 9.5))\n",
    "    for problem, X in Xs.iteritems():\n",
    "        plt.subplot(1, len(datasets), plot_num)\n",
    "        plt.scatter(X[:, 0], X[:, 1], color=colors[results[problem]].tolist())\n",
    "        plot_num += 1"
   ]
  },
  {
   "cell_type": "markdown",
   "metadata": {},
   "source": [
    "## K-Means"
   ]
  },
  {
   "cell_type": "code",
   "execution_count": null,
   "metadata": {
    "collapsed": true
   },
   "outputs": [],
   "source": [
    "from sklearn.cluster import KMeans\n",
    "from sklearn.preprocessing import StandardScaler"
   ]
  },
  {
   "cell_type": "code",
   "execution_count": null,
   "metadata": {
    "collapsed": true
   },
   "outputs": [],
   "source": []
  },
  {
   "cell_type": "markdown",
   "metadata": {},
   "source": [
    "## DBSCAN"
   ]
  },
  {
   "cell_type": "code",
   "execution_count": null,
   "metadata": {
    "collapsed": true
   },
   "outputs": [],
   "source": [
    "from sklearn.cluster import DBSCAN"
   ]
  },
  {
   "cell_type": "code",
   "execution_count": null,
   "metadata": {
    "collapsed": true
   },
   "outputs": [],
   "source": []
  },
  {
   "cell_type": "markdown",
   "metadata": {},
   "source": [
    "## Hierarchical-Clustering"
   ]
  },
  {
   "cell_type": "code",
   "execution_count": null,
   "metadata": {
    "collapsed": true
   },
   "outputs": [],
   "source": [
    "from sklearn.cluster import AgglomerativeClustering"
   ]
  },
  {
   "cell_type": "code",
   "execution_count": null,
   "metadata": {
    "collapsed": true
   },
   "outputs": [],
   "source": []
  },
  {
   "cell_type": "code",
   "execution_count": null,
   "metadata": {
    "collapsed": true
   },
   "outputs": [],
   "source": [
    "from sklearn.neighbors import kneighbors_graph\n",
    "# for Ward\n",
    "# connectivity = kneighbors_graph(X, n_neighbors=10, include_self=False)\n",
    "# connectivity = 0.5 * (connectivity + connectivity.T)"
   ]
  },
  {
   "cell_type": "code",
   "execution_count": null,
   "metadata": {
    "collapsed": true
   },
   "outputs": [],
   "source": []
  },
  {
   "cell_type": "markdown",
   "metadata": {},
   "source": [
    "## Spectral Clustering"
   ]
  },
  {
   "cell_type": "code",
   "execution_count": null,
   "metadata": {
    "collapsed": true
   },
   "outputs": [],
   "source": [
    "from sklearn.cluster import SpectralClustering"
   ]
  },
  {
   "cell_type": "code",
   "execution_count": null,
   "metadata": {
    "collapsed": true
   },
   "outputs": [],
   "source": []
  },
  {
   "cell_type": "markdown",
   "metadata": {},
   "source": [
    "## Gaussian Mixture Models"
   ]
  },
  {
   "cell_type": "code",
   "execution_count": null,
   "metadata": {
    "collapsed": true
   },
   "outputs": [],
   "source": [
    "from sklearn.mixture import GMM"
   ]
  },
  {
   "cell_type": "code",
   "execution_count": null,
   "metadata": {
    "collapsed": true
   },
   "outputs": [],
   "source": []
  },
  {
   "cell_type": "markdown",
   "metadata": {},
   "source": [
    "## Cluster Validation"
   ]
  },
  {
   "cell_type": "code",
   "execution_count": null,
   "metadata": {
    "collapsed": true
   },
   "outputs": [],
   "source": [
    "from sklearn.metrics import silhouette_score"
   ]
  },
  {
   "cell_type": "code",
   "execution_count": null,
   "metadata": {
    "collapsed": true
   },
   "outputs": [],
   "source": []
  }
 ],
 "metadata": {
  "kernelspec": {
   "display_name": "Python 2",
   "language": "python",
   "name": "python2"
  },
  "language_info": {
   "codemirror_mode": {
    "name": "ipython",
    "version": 2
   },
   "file_extension": ".py",
   "mimetype": "text/x-python",
   "name": "python",
   "nbconvert_exporter": "python",
   "pygments_lexer": "ipython2",
   "version": "2.7.10"
  }
 },
 "nbformat": 4,
 "nbformat_minor": 0
}
