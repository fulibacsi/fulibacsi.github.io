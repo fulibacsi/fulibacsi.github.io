{
 "cells": [
  {
   "cell_type": "markdown",
   "metadata": {},
   "source": [
    "# Intro to Data Science @ SzISz Part VI.\n",
    "## Clustering\n",
    "\n",
    "### Table of contents\n",
    "- <a href=\"#What-is-Clustering?\">Clustering Theory</a>\n",
    "- <a href=\"#K-Means\">K-Means</a>\n",
    "- <a href=\"#DBSCAN\">DBSCAN</a>\n",
    "- <a href=\"#Hierarchical-Clustering\">Hierarchical Clustering</a>\n",
    "- <a href=\"#Spectral-Clustering\">Spectral Clustering</a>\n",
    "- <a href=\"#Support-Vector-Clustering\">SVC</a>\n",
    "- <a href=\"#Cluster-Validation\">Cluster Validation</a>\n",
    "    \n",
    "\n",
    "## What is Clustering?\n",
    "Clustering is an <a href=\"http://scikit-learn.org/stable/unsupervised_learning.html\">unsupervised machine learning</a> problem. _\"Unsupervised learning is the machine learning task of inferring a function to describe hidden structure from unlabeled data. Since the examples given to the learner are unlabeled, there is no error or reward signal to evaluate a potential solution.\"_ from: <a href=\"https://en.wikipedia.org/wiki/Unsupervised_learning\">Wiki</a> \n",
    "\n",
    "_\"Cluster analysis or clustering is the task of grouping a set of objects in such a way that objects in the same group (called a cluster) are more similar (in some sense or another) to each other than to those in other groups (clusters).\"_ from: <a href=\"https://en.wikipedia.org/wiki/Cluster_analysis\">Wiki</a>\n",
    "\n",
    "\n",
    "## Why is it important?\n",
    "Often the data does not contain target variables so one must find the hidden structure in the data first in order to achieve his/her goals. In case of recommender systems, it is a common technique to group the similar items together. In some cases the task itself is to find similar/connected/related items in the data. Like in image processing, Social network analysis, medical analysis, or it can be used to find the anomalies in the data.\n",
    "\n",
    "## Tools\n",
    "- K-Means\n",
    "- Affinity propagation\n",
    "- Mean-shift\n",
    "- Spectral clustering\n",
    "- Ward hierarchical clustering\n",
    "- Agglomerative clustering\n",
    "- DBSCAN\n",
    "- Gaussian mixtures\n",
    "- Birch\n",
    "- Support Vector Clustering\n",
    "- etc."
   ]
  },
  {
   "cell_type": "code",
   "execution_count": null,
   "metadata": {
    "collapsed": true
   },
   "outputs": [],
   "source": [
    "%matplotlib inline\n",
    "import numpy as np\n",
    "import scipy.sparse as sp\n",
    "import pandas as pd\n",
    "\n",
    "import matplotlib.pyplot as plt\n",
    "import seaborn as sns"
   ]
  },
  {
   "cell_type": "code",
   "execution_count": null,
   "metadata": {
    "collapsed": true
   },
   "outputs": [],
   "source": []
  },
  {
   "cell_type": "markdown",
   "metadata": {},
   "source": [
    "## K-Means"
   ]
  },
  {
   "cell_type": "code",
   "execution_count": null,
   "metadata": {
    "collapsed": true
   },
   "outputs": [],
   "source": []
  },
  {
   "cell_type": "markdown",
   "metadata": {},
   "source": [
    "## DBSCAN"
   ]
  },
  {
   "cell_type": "code",
   "execution_count": null,
   "metadata": {
    "collapsed": true
   },
   "outputs": [],
   "source": []
  },
  {
   "cell_type": "markdown",
   "metadata": {},
   "source": [
    "## Hierarchical-Clustering"
   ]
  },
  {
   "cell_type": "code",
   "execution_count": null,
   "metadata": {
    "collapsed": true
   },
   "outputs": [],
   "source": []
  },
  {
   "cell_type": "markdown",
   "metadata": {},
   "source": [
    "## Spectral Clustering"
   ]
  },
  {
   "cell_type": "code",
   "execution_count": null,
   "metadata": {
    "collapsed": true
   },
   "outputs": [],
   "source": []
  },
  {
   "cell_type": "markdown",
   "metadata": {},
   "source": [
    "## Support Vector Clustering"
   ]
  },
  {
   "cell_type": "code",
   "execution_count": null,
   "metadata": {
    "collapsed": true
   },
   "outputs": [],
   "source": []
  },
  {
   "cell_type": "markdown",
   "metadata": {},
   "source": [
    "## Cluster Validation"
   ]
  },
  {
   "cell_type": "code",
   "execution_count": null,
   "metadata": {
    "collapsed": true
   },
   "outputs": [],
   "source": [
    "# http://scikit-learn.org/stable/auto_examples/cluster/plot_kmeans_silhouette_analysis.html"
   ]
  }
 ],
 "metadata": {
  "kernelspec": {
   "display_name": "Python 2",
   "language": "python",
   "name": "python2"
  },
  "language_info": {
   "codemirror_mode": {
    "name": "ipython",
    "version": 2
   },
   "file_extension": ".py",
   "mimetype": "text/x-python",
   "name": "python",
   "nbconvert_exporter": "python",
   "pygments_lexer": "ipython2",
   "version": "2.7.6"
  }
 },
 "nbformat": 4,
 "nbformat_minor": 0
}
