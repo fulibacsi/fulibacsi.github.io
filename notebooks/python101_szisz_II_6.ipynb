{
 "cells": [
  {
   "cell_type": "markdown",
   "metadata": {},
   "source": [
    "# Python 101 @ SzISz VI.\n",
    "\n",
    "---\n",
    "\n",
    "## Previously on Python 101: Exceptions"
   ]
  },
  {
   "cell_type": "code",
   "execution_count": null,
   "metadata": {
    "collapsed": false
   },
   "outputs": [],
   "source": [
    "# ZeroDivisionError\n",
    "try:\n",
    "    print 3/0\n",
    "except ZeroDivisionError:\n",
    "    print 'No one can divide with 0.'"
   ]
  },
  {
   "cell_type": "code",
   "execution_count": null,
   "metadata": {
    "collapsed": false
   },
   "outputs": [],
   "source": [
    "# ValueError\n",
    "try:\n",
    "    print 3/'2'\n",
    "except TypeError:\n",
    "    print 'Can\\'t divide a number with a character!'"
   ]
  },
  {
   "cell_type": "code",
   "execution_count": null,
   "metadata": {
    "collapsed": false
   },
   "outputs": [],
   "source": [
    "# ValueError\n",
    "try:\n",
    "    print int('string')\n",
    "except ValueError:\n",
    "    print 'This string is not a number!'"
   ]
  },
  {
   "cell_type": "code",
   "execution_count": null,
   "metadata": {
    "collapsed": false
   },
   "outputs": [],
   "source": [
    "# NameError    \n",
    "try:\n",
    "    print spam\n",
    "except NameError:\n",
    "    print 'There is no such thing as \\'spam\\'!'"
   ]
  },
  {
   "cell_type": "code",
   "execution_count": null,
   "metadata": {
    "collapsed": false
   },
   "outputs": [],
   "source": [
    "# IndexError\n",
    "try:\n",
    "    mylist = [1, 2, 3]\n",
    "    print mylist[len(mylist)]\n",
    "except IndexError:\n",
    "    print 'Index is larger then the length of the list!'"
   ]
  },
  {
   "cell_type": "code",
   "execution_count": null,
   "metadata": {
    "collapsed": false
   },
   "outputs": [],
   "source": [
    "# KeyError\n",
    "try:\n",
    "    mydict = {'a': 1, 'b': 2}\n",
    "    print mydict['c']\n",
    "except KeyError:\n",
    "    print 'Key not exists!'"
   ]
  },
  {
   "cell_type": "code",
   "execution_count": null,
   "metadata": {
    "collapsed": false
   },
   "outputs": [],
   "source": [
    "# IOError\n",
    "try:\n",
    "    not_existing_filename = 'a_file_that_is_not_exists.txt'\n",
    "    myfile = open(not_existing_filename, 'r')\n",
    "    myfile.readlines()\n",
    "except IOError:\n",
    "    print 'The specified file does not exist!'"
   ]
  },
  {
   "cell_type": "code",
   "execution_count": null,
   "metadata": {
    "collapsed": false
   },
   "outputs": [],
   "source": [
    "# try-except-else-finally\n",
    "try:\n",
    "    print 'Hello', # 3/0\n",
    "except:\n",
    "    print 'Print failed',\n",
    "else:\n",
    "    print 'World',\n",
    "finally:\n",
    "    print '!'"
   ]
  },
  {
   "cell_type": "markdown",
   "metadata": {},
   "source": [
    "---\n",
    "\n",
    "## Today on Python 101: Web scraping\n",
    "\n",
    "### 1. Obtain a webpage\n",
    "\n",
    "Start your own server:\n",
    "\n",
    "- start anaconda prompt\n",
    "- change dir to notebooks/data directory\n",
    "- start server with `python -m SimpleHTTPServer` command"
   ]
  },
  {
   "cell_type": "code",
   "execution_count": null,
   "metadata": {
    "collapsed": false
   },
   "outputs": [],
   "source": [
    "# import a 3rd party library called requests\n",
    "import requests"
   ]
  },
  {
   "cell_type": "code",
   "execution_count": null,
   "metadata": {
    "collapsed": false
   },
   "outputs": [],
   "source": [
    "existing_url = 'http://localhost:8000/test.html'\n",
    "response = requests.get(existing_url)\n",
    "print response.status_code # hopefully 200 -> successful download"
   ]
  },
  {
   "cell_type": "code",
   "execution_count": null,
   "metadata": {
    "collapsed": false
   },
   "outputs": [],
   "source": [
    "not_existing_url = 'http://localhost:8000/test1.html'\n",
    "response = requests.get(not_existing_url)\n",
    "print response.status_code # unfortunately 404 -> not exists\n",
    "# Other possible values: \n",
    "# - 303 (redirect)\n",
    "# - 301 (permanent redirect)\n",
    "# - 400 (bad request)\n",
    "# - 401 (unauthorized)"
   ]
  },
  {
   "cell_type": "code",
   "execution_count": null,
   "metadata": {
    "collapsed": false
   },
   "outputs": [],
   "source": [
    "response = requests.get(existing_url)\n",
    "print response.content"
   ]
  },
  {
   "cell_type": "code",
   "execution_count": null,
   "metadata": {
    "collapsed": false
   },
   "outputs": [],
   "source": [
    "from IPython.display import HTML\n",
    "# Render page if successfully downloaded\n",
    "if response.status_code == 200:\n",
    "    result = HTML(response.content)\n",
    "else:\n",
    "    result = 'Nah, let\\'s have a beer instead!'"
   ]
  },
  {
   "cell_type": "code",
   "execution_count": null,
   "metadata": {
    "collapsed": false
   },
   "outputs": [],
   "source": [
    "result"
   ]
  },
  {
   "cell_type": "markdown",
   "metadata": {},
   "source": [
    "### 2. Process HTML\n",
    "\n",
    "#### Story time: The skeleton of a html document\n",
    "\n",
    "<b>HTML</b> is a markup language, its basic build blocks are the <code>&lt;tag></code>s.<br>\n",
    "(Almost) every <code>&lt;tag></code> has two parts:\n",
    "\n",
    "    - Opening <tag>\n",
    "    - Closing </tag>\n",
    "\n",
    "Important html <code>&lt;tag></code>s:\n",
    "\n",
    "    - <html></html>\n",
    "    - <head></head>\n",
    "    - <body></body>\n",
    "    - <div></div>\n",
    "    - <p></p>\n",
    "    - <span></span>\n",
    "    - <section></section>\n",
    "    - <a href=\"\"></a>\n",
    "    - <img src=\"\">\n",
    "    - <br>\n",
    "    - <table>\n",
    "        <thead>\n",
    "            <tr>\n",
    "                <th></th>\n",
    "            </tr>\n",
    "        </thead>\n",
    "        <tbody>\n",
    "            <tr>\n",
    "                <td></td>\n",
    "                ...\n",
    "            </tr>\n",
    "        </tbody>\n",
    "     </table>\n",
    "    - <ul></ul> / <ol></ol> + <li></li>\n",
    "    \n",
    "Tags can have different attributes:\n",
    "\n",
    "    - <a>: href\n",
    "    - <img>: src\n",
    "    - id\n",
    "    - class\n",
    "    - anything that is not a html keyword\n",
    "    "
   ]
  },
  {
   "cell_type": "markdown",
   "metadata": {},
   "source": [
    "#### Let's parse it!\n",
    "\n",
    "Required module: `BeautifulSoup4`"
   ]
  },
  {
   "cell_type": "code",
   "execution_count": null,
   "metadata": {
    "collapsed": false
   },
   "outputs": [],
   "source": [
    "# test if it is working\n",
    "from bs4 import BeautifulSoup"
   ]
  },
  {
   "cell_type": "code",
   "execution_count": null,
   "metadata": {
    "collapsed": false
   },
   "outputs": [],
   "source": [
    "# create a soup:\n",
    "soup = BeautifulSoup(response.content, \"html.parser\")"
   ]
  },
  {
   "cell_type": "code",
   "execution_count": null,
   "metadata": {
    "collapsed": false,
    "scrolled": true
   },
   "outputs": [],
   "source": [
    "print soup.prettify()"
   ]
  },
  {
   "cell_type": "code",
   "execution_count": null,
   "metadata": {
    "collapsed": false
   },
   "outputs": [],
   "source": [
    "# get the title of the document\n",
    "print soup.title"
   ]
  },
  {
   "cell_type": "code",
   "execution_count": null,
   "metadata": {
    "collapsed": false
   },
   "outputs": [],
   "source": [
    "# get the title text\n",
    "print soup.title.getText()"
   ]
  },
  {
   "cell_type": "code",
   "execution_count": null,
   "metadata": {
    "collapsed": false
   },
   "outputs": [],
   "source": [
    "# get the text-only version of the page\n",
    "print soup.getText()"
   ]
  },
  {
   "cell_type": "code",
   "execution_count": null,
   "metadata": {
    "collapsed": false
   },
   "outputs": [],
   "source": [
    "# get all the links\n",
    "soup.findAll('a')"
   ]
  },
  {
   "cell_type": "code",
   "execution_count": null,
   "metadata": {
    "collapsed": false
   },
   "outputs": [],
   "source": [
    "# get the actual urls\n",
    "for url in soup.findAll('a'):\n",
    "    print url.get('href')"
   ]
  },
  {
   "cell_type": "code",
   "execution_count": null,
   "metadata": {
    "collapsed": false
   },
   "outputs": [],
   "source": [
    "# store the important links\n",
    "important_urls = []\n",
    "for url in soup.findAll('a'):\n",
    "    if 'important_part' in url.get('href'):\n",
    "        important_urls.append(url.get('href'))\n",
    "print important_urls"
   ]
  },
  {
   "cell_type": "code",
   "execution_count": null,
   "metadata": {
    "collapsed": false
   },
   "outputs": [],
   "source": [
    "# select every paragraph which has \"important\" class\n",
    "soup.findAll('p', {'class': 'important'})"
   ]
  },
  {
   "cell_type": "code",
   "execution_count": null,
   "metadata": {
    "collapsed": false
   },
   "outputs": [],
   "source": [
    "# Whooops, something's going on! Let's investigate!\n",
    "important_paragraphs = soup.findAll('p', {'class': 'important'})\n",
    "# print the result text, and its parent's id\n",
    "for p in important_paragraphs:\n",
    "    print p.getText(), p.parent.get('id')"
   ]
  },
  {
   "cell_type": "code",
   "execution_count": null,
   "metadata": {
    "collapsed": false
   },
   "outputs": [],
   "source": [
    "# We can see, that the \"fake\" result is from somewhere else\n",
    "print soup.find(id='not_main_section')"
   ]
  },
  {
   "cell_type": "code",
   "execution_count": null,
   "metadata": {
    "collapsed": false
   },
   "outputs": [],
   "source": [
    "# We have a hidden fake section! Let's modify our search!\n",
    "soup.find(id='main_content').findAll('p', {'class': 'important'})"
   ]
  },
  {
   "cell_type": "code",
   "execution_count": null,
   "metadata": {
    "collapsed": false
   },
   "outputs": [],
   "source": [
    "# Let's have the \"nice\" pictures from the div with random_images_1 class!\n",
    "soup.find(id='main_content').find('div', {'class': 'random_images_1'}).findAll('img', {'class': 'nice'})"
   ]
  },
  {
   "cell_type": "code",
   "execution_count": null,
   "metadata": {
    "collapsed": false
   },
   "outputs": [],
   "source": [
    "# Whoops again. Filter out the result we don't like.\n",
    "imgs = soup.find(id='main_content').find('div', {'class': 'random_images_1'}).findAll('img', {'class': 'nice'})\n",
    "nice_imgs = []\n",
    "for img in imgs:\n",
    "    if 'not' not in img['class']:\n",
    "        nice_imgs.append(img['src'])\n",
    "print nice_imgs"
   ]
  },
  {
   "cell_type": "markdown",
   "metadata": {},
   "source": [
    "### 3. It's your turn\n",
    "\n",
    "Save every important link to a file"
   ]
  },
  {
   "cell_type": "code",
   "execution_count": null,
   "metadata": {
    "collapsed": false
   },
   "outputs": [],
   "source": [
    "BASE_URI = '../data/'\n",
    "filename = 'important_urls.txt'"
   ]
  },
  {
   "cell_type": "markdown",
   "metadata": {},
   "source": [
    "Let's get a random img/gif url from 9gag:\n",
    "\n",
    "- get the page from http://9gag.com/random\n",
    "- find the images, and get the src attribute's value\n",
    "- animated img's\n",
    "    - class: badge-item-animated-img \n",
    "    - attribute: src\n",
    "- not animated img's:\n",
    "    - class: badge-item-img\n",
    "    - attribute: data-image\n",
    "- hint: multiple class condition with a list {'class': ['val1', 'val2', ...]}"
   ]
  },
  {
   "cell_type": "code",
   "execution_count": null,
   "metadata": {
    "collapsed": false
   },
   "outputs": [],
   "source": []
  },
  {
   "cell_type": "markdown",
   "metadata": {},
   "source": [
    "Put the previous code into a function with two arguments: number of img urls, and output filename"
   ]
  },
  {
   "cell_type": "code",
   "execution_count": null,
   "metadata": {
    "collapsed": false
   },
   "outputs": [],
   "source": [
    "def i_want_fun(output, times=5):\n",
    "    # type your code here"
   ]
  },
  {
   "cell_type": "code",
   "execution_count": null,
   "metadata": {
    "collapsed": true
   },
   "outputs": [],
   "source": [
    "i_want_fun(BASE_URI+'fun.txt')"
   ]
  },
  {
   "cell_type": "markdown",
   "metadata": {},
   "source": [
    "Create a class from the previous function. \n",
    "The class should store all of the img urls.\n",
    "The class should have a method:\n",
    " - called `crawl` which crawls one random 9gag page\n",
    " - called `crawl_multiple` which crawls a number (given as argument) of 9gag pages\n",
    " - called `show_urls` which prints out the crawled urls\n",
    " - called `export` which saves the urls into a file (filename is given as argument)\n",
    " - called `reset` which empties the urls"
   ]
  },
  {
   "cell_type": "code",
   "execution_count": null,
   "metadata": {
    "collapsed": false
   },
   "outputs": [],
   "source": [
    "class IWantFun(object):\n",
    "    # type your code here"
   ]
  },
  {
   "cell_type": "code",
   "execution_count": null,
   "metadata": {
    "collapsed": false
   },
   "outputs": [],
   "source": [
    "nine = IWantFun()\n",
    "nine.crawl()\n",
    "nine.show_urls()\n",
    "nine.crawl_multiple(5)\n",
    "nine.show_urls()\n",
    "nine.export(BASE_URI + 'fun.txt')\n",
    "nine.reset()\n",
    "nine.show_urls()"
   ]
  }
 ],
 "metadata": {
  "kernelspec": {
   "display_name": "Python 2",
   "language": "python",
   "name": "python2"
  },
  "language_info": {
   "codemirror_mode": {
    "name": "ipython",
    "version": 2
   },
   "file_extension": ".py",
   "mimetype": "text/x-python",
   "name": "python",
   "nbconvert_exporter": "python",
   "pygments_lexer": "ipython2",
   "version": "2.7.10"
  }
 },
 "nbformat": 4,
 "nbformat_minor": 0
}
