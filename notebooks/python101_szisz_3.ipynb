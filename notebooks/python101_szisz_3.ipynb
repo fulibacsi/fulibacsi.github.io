{
 "metadata": {
  "name": "",
  "signature": "sha256:7e2e545651b750e3dcb1685e88b5607df57124cc41017a4ccc7daebdc0f432ce"
 },
 "nbformat": 3,
 "nbformat_minor": 0,
 "worksheets": [
  {
   "cells": [
    {
     "cell_type": "heading",
     "level": 1,
     "metadata": {},
     "source": [
      "Python 101 @ SzISz III."
     ]
    },
    {
     "cell_type": "markdown",
     "metadata": {},
     "source": [
      "---"
     ]
    },
    {
     "cell_type": "code",
     "collapsed": false,
     "input": [
      "from szisz import *\n",
      "BASE = '../data/'"
     ],
     "language": "python",
     "metadata": {},
     "outputs": []
    },
    {
     "cell_type": "markdown",
     "metadata": {},
     "source": [
      "---"
     ]
    },
    {
     "cell_type": "markdown",
     "metadata": {},
     "source": [
      "#Deus ex Python\n",
      "\n",
      "You've downloaded a series complete with subtitles but the video and  \n",
      "subtitle filenames don't match! Write a function which renames the  \n",
      "mismatching subtitles!"
     ]
    },
    {
     "cell_type": "code",
     "collapsed": false,
     "input": [
      "# hint:\n",
      "#  useful functions:\n",
      "#  - download(_name, _season, _episodes, _mismatch)\n",
      "#  - string.lower() (built-in)\n",
      "#  - find_episode_number(filename)\n",
      "#  - rename_subtitle(original, new, target_dir)\n",
      "\n"
     ],
     "language": "python",
     "metadata": {},
     "outputs": []
    },
    {
     "cell_type": "markdown",
     "metadata": {},
     "source": [
      "---"
     ]
    },
    {
     "cell_type": "markdown",
     "metadata": {},
     "source": [
      "#File I/O\n",
      "\n",
      "Reading from a file is really easy:"
     ]
    },
    {
     "cell_type": "code",
     "collapsed": false,
     "input": [
      "# we need a filename and a mode\n",
      "filename = BASE + 'text.txt'"
     ],
     "language": "python",
     "metadata": {},
     "outputs": []
    },
    {
     "cell_type": "code",
     "collapsed": false,
     "input": [
      "# and a mode\n",
      "mode = 'r' # r stands for reading\n",
      "# and we have to open it for reading\n",
      "my_file = open(filename, mode) \n",
      "# we can read from it directly:\n",
      "for line in my_file:\n",
      "    print line"
     ],
     "language": "python",
     "metadata": {},
     "outputs": []
    },
    {
     "cell_type": "code",
     "collapsed": false,
     "input": [
      "my_file.seek(0, 0) # help(file.seek)\n",
      "# or read every line into a list:\n",
      "lines_as_list = my_file.readlines()\n",
      "print lines_as_list"
     ],
     "language": "python",
     "metadata": {},
     "outputs": []
    },
    {
     "cell_type": "code",
     "collapsed": false,
     "input": [
      "my_file.seek(0, 0)\n",
      "# or read the whole file as string:\n",
      "lines_as_string = my_file.read()\n",
      "print lines_as_string"
     ],
     "language": "python",
     "metadata": {},
     "outputs": []
    },
    {
     "cell_type": "code",
     "collapsed": false,
     "input": [
      "# we can do it either way... BUT!\n",
      "# DO NOT FORGET TO CLOSE IT once you finished working with it!\n",
      "my_file.close()"
     ],
     "language": "python",
     "metadata": {},
     "outputs": []
    },
    {
     "cell_type": "markdown",
     "metadata": {},
     "source": [
      "Pretty easy, huh? What about writing into a file?"
     ]
    },
    {
     "cell_type": "code",
     "collapsed": false,
     "input": [
      "mode = 'w' # as you can guess, w stands for writing ;)\n",
      "my_file = open(filename, mode) \n",
      "# we can write into it directly:\n",
      "my_file.write('You take the red pill, you stay in Wonderland, '\n",
      "              'and I show you how deep the rabbit hole goes...')\n",
      "# again, don't forget to close the file\n",
      "my_file.close()"
     ],
     "language": "python",
     "metadata": {},
     "outputs": []
    },
    {
     "cell_type": "markdown",
     "metadata": {},
     "source": [
      "There is more! Do you feel cumbersome to open and close the file?"
     ]
    },
    {
     "cell_type": "code",
     "collapsed": false,
     "input": [
      "# You do not have to worry about!  \n",
      "mode = 'r' \n",
      "with open(filename, mode) as my_file: \n",
      "    for line in my_file.readlines(): \n",
      "        print line \n",
      "# aaaaand it's closed ;)"
     ],
     "language": "python",
     "metadata": {},
     "outputs": []
    },
    {
     "cell_type": "markdown",
     "metadata": {},
     "source": [
      "Can we add content to existing files?"
     ]
    },
    {
     "cell_type": "code",
     "collapsed": false,
     "input": [
      "# Yes, we can!\n",
      "mode = 'a' # a stands for append\n",
      "with open(filename, mode) as my_file:\n",
      "    my_file.write('Remember, all I\\'m offering is the truth, nothing more...')"
     ],
     "language": "python",
     "metadata": {},
     "outputs": []
    },
    {
     "cell_type": "markdown",
     "metadata": {},
     "source": [
      "---"
     ]
    },
    {
     "cell_type": "markdown",
     "metadata": {},
     "source": [
      "#CSV files\n",
      "\n",
      "But... We want to read in some CSV files. Do we really need to do all  \n",
      "the hassle with the commas, quotations and all that bs?"
     ]
    },
    {
     "cell_type": "code",
     "collapsed": false,
     "input": [
      "# ofc not! someone already wrote that for us!\n",
      "import csv\n",
      "filename = BASE + 'text.csv'\n",
      "mode = 'r'\n",
      "# read it!\n",
      "with open(filename, mode) as my_file:\n",
      "    # we have to create a csv reader in order to read\n",
      "    # and we have to specify the delimeter, and the quotecharacter\n",
      "    # or the dialect.\n",
      "    my_csv = csv.reader(my_file, delimiter=';', quotechar='\"')\n",
      "    # we can read out the rows easily from the file\n",
      "    for row in my_csv:\n",
      "        # you get each row as a list\n",
      "        print row\n",
      "        \n",
      "# write it!\n",
      "mode = 'w'\n",
      "with open(filename, mode) as my_file:\n",
      "    # we'll need a writer\n",
      "    # the arguments are the same as before\n",
      "    my_csv = csv.writer(my_file, delimiter=';', quotechar='\"')\n",
      "    # we need some data to save:\n",
      "    data = [['Smith', 'Smith', 'Smith', 'Smith'],\n",
      "            ['Smith', 'Smith', 'Smith', 'Smith']]\n",
      "    # then write each row into the file,\n",
      "    # one-by-one\n",
      "    for row in data:\n",
      "        my_csv.writerow(row)"
     ],
     "language": "python",
     "metadata": {},
     "outputs": []
    },
    {
     "cell_type": "markdown",
     "metadata": {},
     "source": [
      "---"
     ]
    },
    {
     "cell_type": "markdown",
     "metadata": {},
     "source": [
      "#Unicode madness\n",
      "\n",
      "Writing in exotic languages can cause problems, and we need to handle them.  \n",
      "Originally we could only select from 128 characters to work with."
     ]
    },
    {
     "cell_type": "code",
     "collapsed": true,
     "input": [
      "print_image('http://www.asciitable.com/index/asciifull.gif', 'net')"
     ],
     "language": "python",
     "metadata": {},
     "outputs": []
    },
    {
     "cell_type": "markdown",
     "metadata": {},
     "source": [
      "But then the problem was addressed with the unicode character set.  \n",
      "It currently contains more than 100k characters - including the   \n",
      "complete kanji set, the klingon and the elf alphabet as well. Long  \n",
      "story short, we should use utf-8 character encoding when working with  \n",
      "text files."
     ]
    },
    {
     "cell_type": "code",
     "collapsed": false,
     "input": [
      "# We need a built-in python module\n",
      "import codecs"
     ],
     "language": "python",
     "metadata": {},
     "outputs": []
    },
    {
     "cell_type": "code",
     "collapsed": false,
     "input": [
      "filename = BASE + 'unicodetext.txt'\n",
      "mode = 'r'\n",
      "encoding = 'utf-8'\n",
      "# and use it's functions to work with files:\n",
      "with codecs.open(filename, mode, encoding) as my_unicode_file:\n",
      "    content = u'\\n'.join(my_unicode_file.readlines())\n",
      "print content\n",
      "print repr(content)\n",
      "print type(content)"
     ],
     "language": "python",
     "metadata": {},
     "outputs": []
    },
    {
     "cell_type": "code",
     "collapsed": false,
     "input": [
      "mode = 'w'\n",
      "with codecs.open(filename, mode, encoding) as my_unicode_file:\n",
      "    my_unicode_file.write(u'\u00c1rv\u00edzt\u0171r\u0151 t\u00fck\u00f6rf\u00far\u00f3g\u00e9p')"
     ],
     "language": "python",
     "metadata": {},
     "outputs": []
    },
    {
     "cell_type": "code",
     "collapsed": false,
     "input": [
      "# Represent a unicode sting in ascii\n",
      "ascii_content = content.encode('utf-8')\n",
      "print ascii_content\n",
      "print repr(ascii_content)\n",
      "print type(ascii_content)"
     ],
     "language": "python",
     "metadata": {},
     "outputs": []
    },
    {
     "cell_type": "code",
     "collapsed": false,
     "input": [
      "# Represent an ascii sting in unicode\n",
      "unicode_content = ascii_content.decode('utf-8')\n",
      "print unicode_content\n",
      "print repr(unicode_content)\n",
      "print type(unicode_content)"
     ],
     "language": "python",
     "metadata": {},
     "outputs": []
    },
    {
     "cell_type": "markdown",
     "metadata": {},
     "source": [
      "---"
     ]
    },
    {
     "cell_type": "heading",
     "level": 2,
     "metadata": {},
     "source": [
      "Let's see how how deep the rabbit hole goes!"
     ]
    },
    {
     "cell_type": "markdown",
     "metadata": {},
     "source": [
      "Write our fake \"download\" function"
     ]
    },
    {
     "cell_type": "code",
     "collapsed": false,
     "input": [],
     "language": "python",
     "metadata": {},
     "outputs": []
    },
    {
     "cell_type": "markdown",
     "metadata": {},
     "source": [
      "Merge the matching rows."
     ]
    },
    {
     "cell_type": "code",
     "collapsed": false,
     "input": [
      "# read the data from the \"merging.csv\"\n",
      "# add the appropriate values together\n"
     ],
     "language": "python",
     "metadata": {},
     "outputs": []
    },
    {
     "cell_type": "markdown",
     "metadata": {},
     "source": [
      "Order the entries in a row."
     ]
    },
    {
     "cell_type": "code",
     "collapsed": false,
     "input": [
      "# hint: you can use the list.sort() function\n",
      "# use the length of a string in case of string values\n",
      "\n",
      "\n",
      "# save the result as \"merged.csv\"\n"
     ],
     "language": "python",
     "metadata": {},
     "outputs": []
    }
   ],
   "metadata": {}
  }
 ]
}