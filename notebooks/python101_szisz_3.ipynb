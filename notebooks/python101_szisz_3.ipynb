{
 "cells": [
  {
   "cell_type": "markdown",
   "metadata": {},
   "source": [
    "# Python 101 @ SzISz III."
   ]
  },
  {
   "cell_type": "markdown",
   "metadata": {},
   "source": [
    "---"
   ]
  },
  {
   "cell_type": "code",
   "execution_count": 1,
   "metadata": {
    "collapsed": false
   },
   "outputs": [],
   "source": [
    "from szisz import *\n",
    "BASE = '../data/'"
   ]
  },
  {
   "cell_type": "markdown",
   "metadata": {},
   "source": [
    "---"
   ]
  },
  {
   "cell_type": "markdown",
   "metadata": {},
   "source": [
    "#Deus ex Python\n",
    "\n",
    "You've downloaded a series complete with subtitles but the video and  \n",
    "subtitle filenames don't match! Write a function which renames the  \n",
    "mismatching subtitles!"
   ]
  },
  {
   "cell_type": "code",
   "execution_count": 2,
   "metadata": {
    "collapsed": false
   },
   "outputs": [],
   "source": [
    "# hint:\n",
    "#  useful functions:\n",
    "#  - download(_name, _season, _episodes, _mismatch)\n",
    "#  - string.lower() (built-in)\n",
    "#  - find_episode_number(filename)\n",
    "#  - rename_subtitle(original, new, target_dir)\n",
    "def rename(directory):\n",
    "    files = list_files(directory)\n",
    "    avis = [avi for avi in files if avi[-4:].lower() == '.avi']\n",
    "    srts = [srt for srt in files if srt[-4:].lower() == '.srt']\n",
    "    for avi in avis:\n",
    "        ep_number = find_episode_number(avi)\n",
    "        for srt in srts:\n",
    "            if find_episode_number(srt) == ep_number:\n",
    "                rename_subtitle(srt, avi[:-4] + '.srt', directory)\n",
    "                break"
   ]
  },
  {
   "cell_type": "code",
   "execution_count": 4,
   "metadata": {
    "collapsed": false
   },
   "outputs": [],
   "source": [
    "rename('super_series')"
   ]
  },
  {
   "cell_type": "markdown",
   "metadata": {},
   "source": [
    "---"
   ]
  },
  {
   "cell_type": "markdown",
   "metadata": {},
   "source": [
    "#File I/O\n",
    "\n",
    "Reading from a file is really easy:"
   ]
  },
  {
   "cell_type": "code",
   "execution_count": 5,
   "metadata": {
    "collapsed": false
   },
   "outputs": [],
   "source": [
    "# we need a filename and a mode\n",
    "filename = BASE + 'text.txt'"
   ]
  },
  {
   "cell_type": "code",
   "execution_count": 6,
   "metadata": {
    "collapsed": false
   },
   "outputs": [
    {
     "name": "stdout",
     "output_type": "stream",
     "text": [
      "Wake up Neo!\r\n",
      "\n",
      "Follow the white rabbit!\n"
     ]
    }
   ],
   "source": [
    "# and a mode\n",
    "mode = 'r' # r stands for reading\n",
    "# and we have to open it for reading\n",
    "my_file = open(filename, mode) \n",
    "# we can read from it directly:\n",
    "for line in my_file:\n",
    "    print line"
   ]
  },
  {
   "cell_type": "code",
   "execution_count": 7,
   "metadata": {
    "collapsed": false
   },
   "outputs": [
    {
     "name": "stdout",
     "output_type": "stream",
     "text": [
      "['Wake up Neo!\\r\\n', 'Follow the white rabbit!']\n"
     ]
    }
   ],
   "source": [
    "my_file.seek(0, 0) # help(file.seek)\n",
    "# or read every line into a list:\n",
    "lines_as_list = my_file.readlines()\n",
    "print lines_as_list"
   ]
  },
  {
   "cell_type": "code",
   "execution_count": 8,
   "metadata": {
    "collapsed": false
   },
   "outputs": [
    {
     "name": "stdout",
     "output_type": "stream",
     "text": [
      "Wake up Neo!\r\n",
      "Follow the white rabbit!\n"
     ]
    }
   ],
   "source": [
    "my_file.seek(0, 0)\n",
    "# or read the whole file as string:\n",
    "lines_as_string = my_file.read()\n",
    "print lines_as_string"
   ]
  },
  {
   "cell_type": "code",
   "execution_count": 9,
   "metadata": {
    "collapsed": false
   },
   "outputs": [],
   "source": [
    "# we can do it either way... BUT!\n",
    "# DO NOT FORGET TO CLOSE IT once you finished working with it!\n",
    "my_file.close()"
   ]
  },
  {
   "cell_type": "markdown",
   "metadata": {},
   "source": [
    "Pretty easy, huh? What about writing into a file?"
   ]
  },
  {
   "cell_type": "code",
   "execution_count": 10,
   "metadata": {
    "collapsed": false
   },
   "outputs": [],
   "source": [
    "mode = 'w' # as you can guess, w stands for writing ;)\n",
    "my_file = open(filename, mode) \n",
    "# we can write into it directly:\n",
    "my_file.write('You take the red pill, you stay in Wonderland, '\n",
    "              'and I show you how deep the rabbit hole goes...')\n",
    "# again, don't forget to close the file\n",
    "my_file.close()"
   ]
  },
  {
   "cell_type": "markdown",
   "metadata": {},
   "source": [
    "There is more! Do you feel cumbersome to open and close the file?"
   ]
  },
  {
   "cell_type": "code",
   "execution_count": 11,
   "metadata": {
    "collapsed": false
   },
   "outputs": [
    {
     "name": "stdout",
     "output_type": "stream",
     "text": [
      "You take the red pill, you stay in Wonderland, and I show you how deep the rabbit hole goes...\n"
     ]
    }
   ],
   "source": [
    "# You do not have to worry about!  \n",
    "mode = 'r' \n",
    "with open(filename, mode) as my_file: \n",
    "    for line in my_file.readlines(): \n",
    "        print line \n",
    "# aaaaand it's closed ;)"
   ]
  },
  {
   "cell_type": "markdown",
   "metadata": {},
   "source": [
    "Can we add content to existing files?"
   ]
  },
  {
   "cell_type": "code",
   "execution_count": 12,
   "metadata": {
    "collapsed": false
   },
   "outputs": [],
   "source": [
    "# Yes, we can!\n",
    "mode = 'a' # a stands for append\n",
    "with open(filename, mode) as my_file:\n",
    "    my_file.write('Remember, all I\\'m offering is the truth, nothing more...')"
   ]
  },
  {
   "cell_type": "markdown",
   "metadata": {},
   "source": [
    "---"
   ]
  },
  {
   "cell_type": "markdown",
   "metadata": {},
   "source": [
    "#CSV files\n",
    "\n",
    "But... We want to read in some CSV files. Do we really need to do all  \n",
    "the hassle with the commas, quotations and all that bs?"
   ]
  },
  {
   "cell_type": "code",
   "execution_count": 13,
   "metadata": {
    "collapsed": false
   },
   "outputs": [
    {
     "name": "stdout",
     "output_type": "stream",
     "text": [
      "['Neo', 'Trinity', 'Morpheus', 'Switch']\n",
      "['Apoc', 'Cypher', 'Mouse', 'Tank']\n",
      "[]\n"
     ]
    }
   ],
   "source": [
    "# ofc not! someone already wrote that for us!\n",
    "import csv\n",
    "filename = BASE + 'text.csv'\n",
    "mode = 'r'\n",
    "# read it!\n",
    "with open(filename, mode) as my_file:\n",
    "    # we have to create a csv reader in order to read\n",
    "    # and we have to specify the delimeter, and the quotecharacter\n",
    "    # or the dialect.\n",
    "    my_csv = csv.reader(my_file, delimiter=';', quotechar='\"')\n",
    "    # we can read out the rows easily from the file\n",
    "    for row in my_csv:\n",
    "        # you get each row as a list\n",
    "        print row\n",
    "        \n",
    "# write it!\n",
    "mode = 'w'\n",
    "with open(filename, mode) as my_file:\n",
    "    # we'll need a writer\n",
    "    # the arguments are the same as before\n",
    "    my_csv = csv.writer(my_file, delimiter=';', quotechar='\"')\n",
    "    # we need some data to save:\n",
    "    data = [['Smith', 'Smith', 'Smith', 'Smith'],\n",
    "            ['Smith', 'Smith', 'Smith', 'Smith']]\n",
    "    # then write each row into the file,\n",
    "    # one-by-one\n",
    "    for row in data:\n",
    "        my_csv.writerow(row)"
   ]
  },
  {
   "cell_type": "markdown",
   "metadata": {},
   "source": [
    "---"
   ]
  },
  {
   "cell_type": "markdown",
   "metadata": {},
   "source": [
    "#Unicode madness\n",
    "\n",
    "Writing in exotic languages can cause problems, and we need to handle them.  \n",
    "Originally we could only select from 128 characters to work with."
   ]
  },
  {
   "cell_type": "code",
   "execution_count": 14,
   "metadata": {
    "collapsed": false
   },
   "outputs": [
    {
     "data": {
      "text/html": [
       "<img src=\"http://www.asciitable.com/index/asciifull.gif\"/>"
      ],
      "text/plain": [
       "<IPython.core.display.Image object>"
      ]
     },
     "metadata": {},
     "output_type": "display_data"
    }
   ],
   "source": [
    "print_image('http://www.asciitable.com/index/asciifull.gif', 'net')"
   ]
  },
  {
   "cell_type": "markdown",
   "metadata": {},
   "source": [
    "But then the problem was addressed with the unicode character set.  \n",
    "It currently contains more than 100k characters - including the   \n",
    "complete kanji set, the klingon and the elf alphabet as well. Long  \n",
    "story short, we should use utf-8 character encoding when working with  \n",
    "text files."
   ]
  },
  {
   "cell_type": "code",
   "execution_count": 15,
   "metadata": {
    "collapsed": false
   },
   "outputs": [],
   "source": [
    "# We need a built-in python module\n",
    "import codecs"
   ]
  },
  {
   "cell_type": "code",
   "execution_count": 16,
   "metadata": {
    "collapsed": false
   },
   "outputs": [
    {
     "name": "stdout",
     "output_type": "stream",
     "text": [
      "Árvíztűrő tükörfúrógép\n",
      "u'\\xc1rv\\xedzt\\u0171r\\u0151 t\\xfck\\xf6rf\\xfar\\xf3g\\xe9p'\n",
      "<type 'unicode'>\n"
     ]
    }
   ],
   "source": [
    "filename = BASE + 'unicodetext.txt'\n",
    "mode = 'r'\n",
    "encoding = 'utf-8'\n",
    "# and use it's functions to work with files:\n",
    "with codecs.open(filename, mode, encoding) as my_unicode_file:\n",
    "    content = u'\\n'.join(my_unicode_file.readlines())\n",
    "print content\n",
    "print repr(content)\n",
    "print type(content)"
   ]
  },
  {
   "cell_type": "code",
   "execution_count": 17,
   "metadata": {
    "collapsed": false
   },
   "outputs": [],
   "source": [
    "mode = 'w'\n",
    "with codecs.open(filename, mode, encoding) as my_unicode_file:\n",
    "    my_unicode_file.write(u'Árvíztűrő tükörfúrógép')"
   ]
  },
  {
   "cell_type": "code",
   "execution_count": 18,
   "metadata": {
    "collapsed": false
   },
   "outputs": [
    {
     "name": "stdout",
     "output_type": "stream",
     "text": [
      "Árvíztűrő tükörfúrógép\n",
      "'\\xc3\\x81rv\\xc3\\xadzt\\xc5\\xb1r\\xc5\\x91 t\\xc3\\xbck\\xc3\\xb6rf\\xc3\\xbar\\xc3\\xb3g\\xc3\\xa9p'\n",
      "<type 'str'>\n"
     ]
    }
   ],
   "source": [
    "# Represent a unicode sting in ascii\n",
    "ascii_content = content.encode('utf-8')\n",
    "print ascii_content\n",
    "print repr(ascii_content)\n",
    "print type(ascii_content)"
   ]
  },
  {
   "cell_type": "code",
   "execution_count": 19,
   "metadata": {
    "collapsed": false
   },
   "outputs": [
    {
     "name": "stdout",
     "output_type": "stream",
     "text": [
      "Árvíztűrő tükörfúrógép\n",
      "u'\\xc1rv\\xedzt\\u0171r\\u0151 t\\xfck\\xf6rf\\xfar\\xf3g\\xe9p'\n",
      "<type 'unicode'>\n"
     ]
    }
   ],
   "source": [
    "# Represent an ascii sting in unicode\n",
    "unicode_content = ascii_content.decode('utf-8')\n",
    "print unicode_content\n",
    "print repr(unicode_content)\n",
    "print type(unicode_content)"
   ]
  },
  {
   "cell_type": "markdown",
   "metadata": {},
   "source": [
    "---"
   ]
  },
  {
   "cell_type": "markdown",
   "metadata": {},
   "source": [
    "## Let's see how how deep the rabbit hole goes!"
   ]
  },
  {
   "cell_type": "markdown",
   "metadata": {},
   "source": [
    "Write our fake \"download\" function"
   ]
  },
  {
   "cell_type": "code",
   "execution_count": 24,
   "metadata": {
    "collapsed": false
   },
   "outputs": [],
   "source": [
    "def download(name='hyper_series', series=2, episodes=6):\n",
    "    # create directory\n",
    "    os.mkdir(name)\n",
    "    # create files\n",
    "    for s in range(1, series+1):\n",
    "        for e in range(1, episodes+1):\n",
    "            filename = './{name}/{name}S{serie:0>2}E{episode:0>2}.avi'.format(name=name, serie=s, episode=e)\n",
    "            with open(filename, 'w') as fptr:\n",
    "                fptr.write(filename)"
   ]
  },
  {
   "cell_type": "code",
   "execution_count": 25,
   "metadata": {
    "collapsed": false
   },
   "outputs": [],
   "source": [
    "download()"
   ]
  },
  {
   "cell_type": "markdown",
   "metadata": {},
   "source": [
    "Merge the matching rows."
   ]
  },
  {
   "cell_type": "code",
   "execution_count": 38,
   "metadata": {
    "collapsed": false
   },
   "outputs": [
    {
     "data": {
      "text/plain": [
       "[['ID', 'VAL1', 'VAL2', 'VAL3'],\n",
       " ['10', 'Artur Kiraly', 5, 30],\n",
       " ['1', 'Neo & Trinity', 15, 76],\n",
       " ['3', 'Bendeguz', 7, 50],\n",
       " ['2', 'Bud & Terence', 14, 55],\n",
       " ['5', 'A lovagok akik azt mondjak, hogy ni!', 14, 25],\n",
       " ['4', 'Son Goku & Krilin & Ifju Satan & Zselialis Teknos', 67, 172],\n",
       " ['7', 'Brian', 18, 21],\n",
       " ['6', 'Superman', 17, 49],\n",
       " ['9', 'Batman & Robin', 11, 76],\n",
       " ['8', 'Tom & Jerry', 29, 109]]"
      ]
     },
     "execution_count": 38,
     "metadata": {},
     "output_type": "execute_result"
    }
   ],
   "source": [
    "# read the data from the \"matching.csv\"\n",
    "# add the appropriate values together\n",
    "data = []\n",
    "# read csv content\n",
    "with open(BASE + 'matching.csv', 'r') as csvfile:\n",
    "    CSV = csv.reader(csvfile, delimiter=';')\n",
    "    for row in CSV:\n",
    "        data.append(row)\n",
    "# collect matching rows to a dictionary\n",
    "match = {}\n",
    "for row in data[1:]:\n",
    "    if row[0] in match.keys():\n",
    "        match[row[0]].append(row[1:])\n",
    "    else:\n",
    "        match[row[0]] = [row[1:]]\n",
    "# aggregate the data\n",
    "merged = [data[0]]\n",
    "for id, rows in match.iteritems():\n",
    "    val1 = [] \n",
    "    val2 = []\n",
    "    val3 = []\n",
    "    for row in rows:\n",
    "        val1.append(row[0])\n",
    "        val2.append(int(row[1]))\n",
    "        val3.append(int(row[2]))\n",
    "    merged.append([id, ' & '.join(val1), sum(val2), sum(val3)])\n",
    "# display outcome    \n",
    "merged"
   ]
  }
 ],
 "metadata": {
  "kernelspec": {
   "display_name": "Python 2",
   "language": "python",
   "name": "python2"
  },
  "language_info": {
   "codemirror_mode": {
    "name": "ipython",
    "version": 2
   },
   "file_extension": ".py",
   "mimetype": "text/x-python",
   "name": "python",
   "nbconvert_exporter": "python",
   "pygments_lexer": "ipython2",
   "version": "2.7.6"
  }
 },
 "nbformat": 4,
 "nbformat_minor": 0
}
