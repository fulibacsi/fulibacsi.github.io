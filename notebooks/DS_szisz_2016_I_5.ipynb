{
 "cells": [
  {
   "cell_type": "markdown",
   "metadata": {},
   "source": [
    "# Intro to Data Science @ SzISz Part V.\n",
    "## Classification and Regression\n",
    "\n",
    "### Table of contents\n",
    "- Classification\n",
    "    - <a href=\"#What-is-Classification?\">Classification Theory</a>\n",
    "    - <a href=\"#Linear-models\">Linear models</a>\n",
    "    - <a href=\"#Decision-Trees\">Decision Trees</a>\n",
    "    - <a href=\"#Neural-Networks\">Neural Networks</a>\n",
    "    - <a href=\"#Support-Vector-Machines\">Support Vector Machines</a>\n",
    "    - <a href=\"#Nearest-Neighbours\">Nearest Neighbours</a>\n",
    "- Regression\n",
    "    - <a href=\"#What-is-Regression?\">Regression Theory</a>\n",
    "    - <a href=\"#Linear-regression\">Linear regression</a>\n",
    "    - <a href=\"#Ridge-regression\">Ridge regression</a>\n",
    "    - <a href=\"#Bayesian-Ridge-regression\">Bayesian regression</a>\n",
    "    - <a href=\"#Support-Vector-regression\">Support Vector regression</a>\n",
    "    - <a href=\"#XGBoost\">XGBoost</a>\n",
    "    \n",
    "\n",
    "## What is Classification?\n",
    "_\"Classification is the problem of identifying to which of a set of categories (sub-populations) a new observation belongs, on the basis of a training set of data containing observations (or instances) whose category membership is known.\"_ from: <a href=\"https://en.wikipedia.org/w/index.php?title=Classification_in_machine_learning\">Wiki</a>\n",
    "\n",
    "Classification is a <a href=\"http://scikit-learn.org/stable/supervised_learning.html\">supervised machine learning</a> problem. The observed item's properties are called __feature__s, the categorical feature is referenced as the __label__, and the algorithm which implements the classification is the __classifier__. \n",
    "\n",
    "## Why is it important?\n",
    "It is one of the main problems in Data Science; it's application ranges from detecting if a mail is <a href=\"https://www.youtube.com/watch?v=cFrtpT1mKy8\">spam</a> or not (ham), to the self driving car's pedestrian detection. It can be applied to many fields, including:\n",
    "- computer vision\n",
    "- medical analysis\n",
    "- speech recognition\n",
    "- biometric identification\n",
    "- document classification\n",
    "- pattern recognition\n",
    "- etc.\n",
    "\n",
    "## Tools\n",
    "- Linear models\n",
    "    - Logistic regression\n",
    "    - Naive Bayes classifier\n",
    "    - Perceptron\n",
    "- Support Vector Machines\n",
    "- Neural Networks\n",
    "- Instance-based learning\n",
    "    - k-Nearest Neighbours\n",
    "- Decision trees\n",
    "    - Random forests\n",
    "- Ensemble methods\n",
    "- etc."
   ]
  },
  {
   "cell_type": "code",
   "execution_count": 1,
   "metadata": {
    "collapsed": true
   },
   "outputs": [],
   "source": [
    "%matplotlib inline\n",
    "import numpy as np\n",
    "import scipy.sparse as sp\n",
    "import pandas as pd\n",
    "\n",
    "import matplotlib.pyplot as plt\n",
    "import seaborn as sns\n",
    "\n",
    "from sklearn.datasets import load_iris\n",
    "from sklearn.metrics import confusion_matrix\n",
    "from sklearn.cross_validation import train_test_split"
   ]
  },
  {
   "cell_type": "code",
   "execution_count": 2,
   "metadata": {
    "collapsed": true
   },
   "outputs": [],
   "source": [
    "iris = load_iris()\n",
    "X, y = iris.data, iris.target\n",
    "X_train, X_test, y_train, y_test = train_test_split(X, y, random_state=42)"
   ]
  },
  {
   "cell_type": "markdown",
   "metadata": {},
   "source": [
    "## Baseline model"
   ]
  },
  {
   "cell_type": "code",
   "execution_count": 3,
   "metadata": {
    "collapsed": true
   },
   "outputs": [],
   "source": [
    "from sklearn.dummy import DummyClassifier"
   ]
  },
  {
   "cell_type": "code",
   "execution_count": 4,
   "metadata": {
    "collapsed": false
   },
   "outputs": [
    {
     "data": {
      "text/plain": [
       "DummyClassifier(constant=None, random_state=42, strategy='stratified')"
      ]
     },
     "execution_count": 4,
     "metadata": {},
     "output_type": "execute_result"
    }
   ],
   "source": [
    "dummy = DummyClassifier(random_state=42)\n",
    "dummy.fit(X, y)"
   ]
  },
  {
   "cell_type": "code",
   "execution_count": 5,
   "metadata": {
    "collapsed": false
   },
   "outputs": [
    {
     "data": {
      "text/plain": [
       "<matplotlib.axes._subplots.AxesSubplot at 0x7f8826d550d0>"
      ]
     },
     "execution_count": 5,
     "metadata": {},
     "output_type": "execute_result"
    },
    {
     "data": {
      "image/png": "[encoded data removed]",
      "text/plain": [
       "<matplotlib.figure.Figure at 0x7f8827433850>"
      ]
     },
     "metadata": {},
     "output_type": "display_data"
    }
   ],
   "source": [
    "y_dummy = dummy.predict(X_test)\n",
    "sns.heatmap(confusion_matrix(y_test, y_dummy))"
   ]
  },
  {
   "cell_type": "code",
   "execution_count": 6,
   "metadata": {
    "collapsed": false
   },
   "outputs": [
    {
     "data": {
      "text/plain": [
       "0.5"
      ]
     },
     "execution_count": 6,
     "metadata": {},
     "output_type": "execute_result"
    }
   ],
   "source": [
    "dummy.score(X_test, y_test)"
   ]
  },
  {
   "cell_type": "markdown",
   "metadata": {},
   "source": [
    "## Linear models\n",
    "### Logistic regression"
   ]
  },
  {
   "cell_type": "code",
   "execution_count": 7,
   "metadata": {
    "collapsed": true
   },
   "outputs": [],
   "source": [
    "from sklearn.linear_model import LogisticRegression"
   ]
  },
  {
   "cell_type": "code",
   "execution_count": 15,
   "metadata": {
    "collapsed": false
   },
   "outputs": [
    {
     "data": {
      "text/plain": [
       "LogisticRegression(C=1.0, class_weight=None, dual=False, fit_intercept=True,\n",
       "          intercept_scaling=1, max_iter=100, multi_class='ovr', n_jobs=1,\n",
       "          penalty='l2', random_state=42, solver='liblinear', tol=0.0001,\n",
       "          verbose=0, warm_start=False)"
      ]
     },
     "execution_count": 15,
     "metadata": {},
     "output_type": "execute_result"
    }
   ],
   "source": [
    "clf = LogisticRegression(random_state=42)\n",
    "clf.fit(X_train, y_train)"
   ]
  },
  {
   "cell_type": "code",
   "execution_count": 16,
   "metadata": {
    "collapsed": false
   },
   "outputs": [
    {
     "data": {
      "text/plain": [
       "(array([[ 0.37849553,  1.36818142, -2.12498513, -0.94636238],\n",
       "        [ 0.45303284, -1.54734544,  0.42143807, -1.05957567],\n",
       "        [-1.55311803, -1.51513641,  2.36637374,  2.1109316 ]]),\n",
       " array([ 0.23912346,  0.96186811, -1.02227141]))"
      ]
     },
     "execution_count": 16,
     "metadata": {},
     "output_type": "execute_result"
    }
   ],
   "source": [
    "clf.coef_, clf.intercept_"
   ]
  },
  {
   "cell_type": "code",
   "execution_count": 9,
   "metadata": {
    "collapsed": false
   },
   "outputs": [
    {
     "data": {
      "text/plain": [
       "<matplotlib.axes._subplots.AxesSubplot at 0x7fb6bc4c8d10>"
      ]
     },
     "execution_count": 9,
     "metadata": {},
     "output_type": "execute_result"
    },
    {
     "data": {
      "image/png": "[encoded data removed]",
      "text/plain": [
       "<matplotlib.figure.Figure at 0x7fb6c8715750>"
      ]
     },
     "metadata": {},
     "output_type": "display_data"
    }
   ],
   "source": [
    "y_hat = clf.predict(X_test)\n",
    "sns.heatmap(confusion_matrix(y_test, y_hat))"
   ]
  },
  {
   "cell_type": "code",
   "execution_count": 10,
   "metadata": {
    "collapsed": false
   },
   "outputs": [
    {
     "data": {
      "text/plain": [
       "1.0"
      ]
     },
     "execution_count": 10,
     "metadata": {},
     "output_type": "execute_result"
    }
   ],
   "source": [
    "clf.score(X_test, y_test)"
   ]
  },
  {
   "cell_type": "markdown",
   "metadata": {},
   "source": [
    "### Naive Bayes"
   ]
  },
  {
   "cell_type": "code",
   "execution_count": 11,
   "metadata": {
    "collapsed": true
   },
   "outputs": [],
   "source": [
    "from sklearn.naive_bayes import MultinomialNB"
   ]
  },
  {
   "cell_type": "code",
   "execution_count": 12,
   "metadata": {
    "collapsed": false
   },
   "outputs": [
    {
     "data": {
      "text/plain": [
       "MultinomialNB(alpha=1.0, class_prior=None, fit_prior=True)"
      ]
     },
     "execution_count": 12,
     "metadata": {},
     "output_type": "execute_result"
    }
   ],
   "source": [
    "clf = MultinomialNB()\n",
    "clf.fit(X_train, y_train)"
   ]
  },
  {
   "cell_type": "code",
   "execution_count": 13,
   "metadata": {
    "collapsed": false
   },
   "outputs": [
    {
     "data": {
      "text/plain": [
       "<matplotlib.axes._subplots.AxesSubplot at 0x7fb6bc3d2990>"
      ]
     },
     "execution_count": 13,
     "metadata": {},
     "output_type": "execute_result"
    },
    {
     "data": {
      "image/png": "[encoded data removed]",
      "text/plain": [
       "<matplotlib.figure.Figure at 0x7fb6bafb9210>"
      ]
     },
     "metadata": {},
     "output_type": "display_data"
    }
   ],
   "source": [
    "y_hat = clf.predict(X_test)\n",
    "sns.heatmap(confusion_matrix(y_test, y_hat))"
   ]
  },
  {
   "cell_type": "code",
   "execution_count": 14,
   "metadata": {
    "collapsed": false
   },
   "outputs": [
    {
     "data": {
      "text/plain": [
       "0.97368421052631582"
      ]
     },
     "execution_count": 14,
     "metadata": {},
     "output_type": "execute_result"
    }
   ],
   "source": [
    "clf.score(X_test, y_test)"
   ]
  },
  {
   "cell_type": "markdown",
   "metadata": {},
   "source": [
    "### Perceptron"
   ]
  },
  {
   "cell_type": "code",
   "execution_count": 17,
   "metadata": {
    "collapsed": true
   },
   "outputs": [],
   "source": [
    "from sklearn.linear_model import Perceptron"
   ]
  },
  {
   "cell_type": "code",
   "execution_count": 18,
   "metadata": {
    "collapsed": false
   },
   "outputs": [
    {
     "data": {
      "text/plain": [
       "Perceptron(alpha=0.0001, class_weight=None, eta0=1.0, fit_intercept=True,\n",
       "      n_iter=5, n_jobs=1, penalty=None, random_state=42, shuffle=True,\n",
       "      verbose=0, warm_start=False)"
      ]
     },
     "execution_count": 18,
     "metadata": {},
     "output_type": "execute_result"
    }
   ],
   "source": [
    "clf = Perceptron(verbose=0, random_state=42)\n",
    "clf.fit(X_train, y_train)"
   ]
  },
  {
   "cell_type": "code",
   "execution_count": 19,
   "metadata": {
    "collapsed": false
   },
   "outputs": [
    {
     "data": {
      "text/plain": [
       "<matplotlib.axes._subplots.AxesSubplot at 0x7fb6bae96550>"
      ]
     },
     "execution_count": 19,
     "metadata": {},
     "output_type": "execute_result"
    },
    {
     "data": {
      "image/png": "[encoded data removed]",
      "text/plain": [
       "<matplotlib.figure.Figure at 0x7fb6baed5590>"
      ]
     },
     "metadata": {},
     "output_type": "display_data"
    }
   ],
   "source": [
    "y_hat = clf.predict(X_test)\n",
    "sns.heatmap(confusion_matrix(y_test, y_hat))"
   ]
  },
  {
   "cell_type": "code",
   "execution_count": 20,
   "metadata": {
    "collapsed": false
   },
   "outputs": [
    {
     "data": {
      "text/plain": [
       "0.76315789473684215"
      ]
     },
     "execution_count": 20,
     "metadata": {},
     "output_type": "execute_result"
    }
   ],
   "source": [
    "clf.score(X_test, y_test)"
   ]
  },
  {
   "cell_type": "markdown",
   "metadata": {},
   "source": [
    "## Decision Trees"
   ]
  },
  {
   "cell_type": "code",
   "execution_count": 21,
   "metadata": {
    "collapsed": true
   },
   "outputs": [],
   "source": [
    "from sklearn.tree import DecisionTreeClassifier"
   ]
  },
  {
   "cell_type": "code",
   "execution_count": 22,
   "metadata": {
    "collapsed": false
   },
   "outputs": [
    {
     "data": {
      "text/plain": [
       "DecisionTreeClassifier(class_weight=None, criterion='gini', max_depth=None,\n",
       "            max_features=None, max_leaf_nodes=None, min_samples_leaf=1,\n",
       "            min_samples_split=2, min_weight_fraction_leaf=0.0,\n",
       "            presort=False, random_state=42, splitter='best')"
      ]
     },
     "execution_count": 22,
     "metadata": {},
     "output_type": "execute_result"
    }
   ],
   "source": [
    "clf = DecisionTreeClassifier(random_state=42)\n",
    "clf.fit(X_train, y_train)"
   ]
  },
  {
   "cell_type": "code",
   "execution_count": 23,
   "metadata": {
    "collapsed": false
   },
   "outputs": [
    {
     "data": {
      "text/plain": [
       "<matplotlib.axes._subplots.AxesSubplot at 0x7fb6bad286d0>"
      ]
     },
     "execution_count": 23,
     "metadata": {},
     "output_type": "execute_result"
    },
    {
     "data": {
      "image/png": "[encoded data removed]",
      "text/plain": [
       "<matplotlib.figure.Figure at 0x7fb6bafc3510>"
      ]
     },
     "metadata": {},
     "output_type": "display_data"
    }
   ],
   "source": [
    "y_hat = clf.predict(X_test)\n",
    "sns.heatmap(confusion_matrix(y_test, y_hat))"
   ]
  },
  {
   "cell_type": "code",
   "execution_count": 24,
   "metadata": {
    "collapsed": false
   },
   "outputs": [
    {
     "data": {
      "text/plain": [
       "1.0"
      ]
     },
     "execution_count": 24,
     "metadata": {},
     "output_type": "execute_result"
    }
   ],
   "source": [
    "clf.score(X_test, y_test)"
   ]
  },
  {
   "cell_type": "markdown",
   "metadata": {},
   "source": [
    "## Neural Networks"
   ]
  },
  {
   "cell_type": "code",
   "execution_count": 25,
   "metadata": {
    "collapsed": true
   },
   "outputs": [],
   "source": [
    "XOR_X, XOR_y = np.array([[0,0], [0, 1], [1, 0], [1, 1]]), np.array([0, 1, 1, 0])"
   ]
  },
  {
   "cell_type": "code",
   "execution_count": 26,
   "metadata": {
    "collapsed": false
   },
   "outputs": [
    {
     "name": "stdout",
     "output_type": "stream",
     "text": [
      "-- Epoch 1\n",
      "Norm: 1.41, NNZs: 2, Bias: 1.000000, T: 4, Avg. loss: 0.250000\n",
      "Total training time: 0.00 seconds.\n",
      "-- Epoch 2\n",
      "Norm: 0.00, NNZs: 0, Bias: -1.000000, T: 8, Avg. loss: 0.500000\n",
      "Total training time: 0.00 seconds.\n",
      "-- Epoch 3\n",
      "Norm: 1.41, NNZs: 2, Bias: 1.000000, T: 12, Avg. loss: 0.416667\n",
      "Total training time: 0.00 seconds.\n",
      "-- Epoch 4\n",
      "Norm: 0.00, NNZs: 0, Bias: -1.000000, T: 16, Avg. loss: 0.500000\n",
      "Total training time: 0.00 seconds.\n",
      "-- Epoch 5\n",
      "Norm: 1.41, NNZs: 2, Bias: 1.000000, T: 20, Avg. loss: 0.450000\n",
      "Total training time: 0.00 seconds.\n"
     ]
    },
    {
     "data": {
      "text/plain": [
       "Perceptron(alpha=0.0001, class_weight=None, eta0=1.0, fit_intercept=True,\n",
       "      n_iter=5, n_jobs=1, penalty=None, random_state=42, shuffle=True,\n",
       "      verbose=2, warm_start=False)"
      ]
     },
     "execution_count": 26,
     "metadata": {},
     "output_type": "execute_result"
    }
   ],
   "source": [
    "perceptron = Perceptron(verbose=2, random_state=42)\n",
    "perceptron.fit(XOR_X, XOR_y)"
   ]
  },
  {
   "cell_type": "code",
   "execution_count": 27,
   "metadata": {
    "collapsed": false
   },
   "outputs": [
    {
     "data": {
      "text/plain": [
       "[<matplotlib.lines.Line2D at 0x7fb6bad28150>,\n",
       " <matplotlib.lines.Line2D at 0x7fb6ba303d90>]"
      ]
     },
     "execution_count": 27,
     "metadata": {},
     "output_type": "execute_result"
    },
    {
     "data": {
      "image/png": "[encoded data removed]",
      "text/plain": [
       "<matplotlib.figure.Figure at 0x7fb6bad28110>"
      ]
     },
     "metadata": {},
     "output_type": "display_data"
    }
   ],
   "source": [
    "plt.scatter(XOR_X[:, 0], XOR_X[:, 1], c=XOR_y)\n",
    "plt.plot(XOR_X, perceptron.predict(XOR_X), 'r-')"
   ]
  },
  {
   "cell_type": "code",
   "execution_count": 28,
   "metadata": {
    "collapsed": false
   },
   "outputs": [
    {
     "data": {
      "text/plain": [
       "array([[0, 2],\n",
       "       [0, 2]])"
      ]
     },
     "execution_count": 28,
     "metadata": {},
     "output_type": "execute_result"
    }
   ],
   "source": [
    "conf_mat = confusion_matrix(XOR_y, perceptron.predict(XOR_X))\n",
    "conf_mat"
   ]
  },
  {
   "cell_type": "code",
   "execution_count": 29,
   "metadata": {
    "collapsed": false
   },
   "outputs": [
    {
     "data": {
      "text/plain": [
       "<matplotlib.axes._subplots.AxesSubplot at 0x7fb6ba2cc7d0>"
      ]
     },
     "execution_count": 29,
     "metadata": {},
     "output_type": "execute_result"
    },
    {
     "data": {
      "image/png": "[encoded data removed]",
      "text/plain": [
       "<matplotlib.figure.Figure at 0x7fb6bafcd290>"
      ]
     },
     "metadata": {},
     "output_type": "display_data"
    }
   ],
   "source": [
    "sns.heatmap(conf_mat)"
   ]
  },
  {
   "cell_type": "code",
   "execution_count": 30,
   "metadata": {
    "collapsed": false
   },
   "outputs": [
    {
     "name": "stdout",
     "output_type": "stream",
     "text": [
      "Maybe in 0.18. http://scikit-learn.org/dev/modules/generated/sklearn.neural_network.MLPClassifier.html\n"
     ]
    }
   ],
   "source": [
    "try:\n",
    "    from sklearn.neural_network import MLPClassifier\n",
    "except:\n",
    "    print \"Maybe in 0.18. http://scikit-learn.org/dev/modules/generated/sklearn.neural_network.MLPClassifier.html\""
   ]
  },
  {
   "cell_type": "markdown",
   "metadata": {},
   "source": [
    "## Homework:\n",
    "try this @ home: https://github.com/jorgenkg/python-neural-network"
   ]
  },
  {
   "cell_type": "code",
   "execution_count": null,
   "metadata": {
    "collapsed": true
   },
   "outputs": [],
   "source": []
  },
  {
   "cell_type": "markdown",
   "metadata": {
    "collapsed": true
   },
   "source": [
    "## Support Vector Machines"
   ]
  },
  {
   "cell_type": "code",
   "execution_count": 7,
   "metadata": {
    "collapsed": false
   },
   "outputs": [],
   "source": [
    "from sklearn.svm import SVC"
   ]
  },
  {
   "cell_type": "code",
   "execution_count": 8,
   "metadata": {
    "collapsed": false
   },
   "outputs": [
    {
     "data": {
      "text/plain": [
       "SVC(C=1.0, cache_size=200, class_weight=None, coef0=0.0,\n",
       "  decision_function_shape=None, degree=3, gamma='auto', kernel='rbf',\n",
       "  max_iter=-1, probability=False, random_state=42, shrinking=True,\n",
       "  tol=0.001, verbose=False)"
      ]
     },
     "execution_count": 8,
     "metadata": {},
     "output_type": "execute_result"
    }
   ],
   "source": [
    "clf = SVC(random_state=42)\n",
    "clf.fit(X_train, y_train)"
   ]
  },
  {
   "cell_type": "code",
   "execution_count": 9,
   "metadata": {
    "collapsed": false
   },
   "outputs": [
    {
     "data": {
      "text/plain": [
       "<matplotlib.axes._subplots.AxesSubplot at 0x7f8826be7a90>"
      ]
     },
     "execution_count": 9,
     "metadata": {},
     "output_type": "execute_result"
    },
    {
     "data": {
      "image/png": "[encoded data removed]",
      "text/plain": [
       "<matplotlib.figure.Figure at 0x7f8826bd8e10>"
      ]
     },
     "metadata": {},
     "output_type": "display_data"
    }
   ],
   "source": [
    "y_hat = clf.predict(X_test)\n",
    "sns.heatmap(confusion_matrix(y_test, y_hat))"
   ]
  },
  {
   "cell_type": "code",
   "execution_count": 11,
   "metadata": {
    "collapsed": false
   },
   "outputs": [
    {
     "data": {
      "text/plain": [
       "1.0"
      ]
     },
     "execution_count": 11,
     "metadata": {},
     "output_type": "execute_result"
    }
   ],
   "source": [
    "clf.score(X_test, y_test)"
   ]
  },
  {
   "cell_type": "markdown",
   "metadata": {},
   "source": [
    "## Nearest Neighbours"
   ]
  },
  {
   "cell_type": "code",
   "execution_count": 12,
   "metadata": {
    "collapsed": true
   },
   "outputs": [],
   "source": [
    "from sklearn.neighbors import KNeighborsClassifier"
   ]
  },
  {
   "cell_type": "code",
   "execution_count": 13,
   "metadata": {
    "collapsed": false
   },
   "outputs": [
    {
     "data": {
      "text/plain": [
       "KNeighborsClassifier(algorithm='auto', leaf_size=30, metric='minkowski',\n",
       "           metric_params=None, n_jobs=1, n_neighbors=5, p=2,\n",
       "           weights='uniform')"
      ]
     },
     "execution_count": 13,
     "metadata": {},
     "output_type": "execute_result"
    }
   ],
   "source": [
    "clf = KNeighborsClassifier()\n",
    "clf.fit(X_train, y_train)"
   ]
  },
  {
   "cell_type": "code",
   "execution_count": 14,
   "metadata": {
    "collapsed": false
   },
   "outputs": [
    {
     "data": {
      "text/plain": [
       "<matplotlib.axes._subplots.AxesSubplot at 0x7f8824d59190>"
      ]
     },
     "execution_count": 14,
     "metadata": {},
     "output_type": "execute_result"
    },
    {
     "data": {
      "image/png": "[encoded data removed]",
      "text/plain": [
       "<matplotlib.figure.Figure at 0x7f8826d7c090>"
      ]
     },
     "metadata": {},
     "output_type": "display_data"
    }
   ],
   "source": [
    "y_hat = clf.predict(X_test)\n",
    "sns.heatmap(confusion_matrix(y_test, y_hat))"
   ]
  },
  {
   "cell_type": "code",
   "execution_count": 15,
   "metadata": {
    "collapsed": false
   },
   "outputs": [
    {
     "data": {
      "text/plain": [
       "1.0"
      ]
     },
     "execution_count": 15,
     "metadata": {},
     "output_type": "execute_result"
    }
   ],
   "source": [
    "clf.score(X_test, y_test)"
   ]
  },
  {
   "cell_type": "markdown",
   "metadata": {},
   "source": [
    "---\n",
    "\n",
    "## What is Regression?\n",
    "Regression - just as classification - is a supervised machine learning problem however in case of regression the target variable is continuous. It is also _\"a statistical process for estimating the relationships among variables. It includes many techniques for modeling and analyzing several variables, when the focus is on the relationship between a __dependent variable__ and one or more __independent variable__s (or 'predictors').\"_ from: <a href=\"https://en.wikipedia.org/wiki/Regression_analysis\">Wiki</a>\n",
    "\n",
    "It is important to note that instead of the descriptive nature of statistical regression analysis Data Science focuses on the predictive side of this method.\n",
    "\n",
    "## Why is it important?\n",
    "_\"Regression analysis is widely used for prediction and forecasting, where its use has substantial overlap with the field of machine learning.\"_ from: <a href=\"https://en.wikipedia.org/wiki/Regression_analysis\">Wiki</a>\n",
    "\n",
    "It is used to forecast any continuous variable:\n",
    "- stock market\n",
    "- salary prediction\n",
    "- network traffic\n",
    "- traffic\n",
    "- etc.\n",
    "\n",
    "## Tools\n",
    "- Linear regression\n",
    "- Ridge regression\n",
    "- LASSO\n",
    "- Bayesian regression\n",
    "- Support Vector regression\n",
    "- etc."
   ]
  },
  {
   "cell_type": "code",
   "execution_count": 3,
   "metadata": {
    "collapsed": true
   },
   "outputs": [],
   "source": [
    "from sklearn.datasets import load_boston\n",
    "from sklearn.cross_validation import train_test_split\n",
    "from sklearn.metrics import mean_squared_error"
   ]
  },
  {
   "cell_type": "code",
   "execution_count": 4,
   "metadata": {
    "collapsed": true
   },
   "outputs": [],
   "source": [
    "def plot_pred(y, predicted):\n",
    "    fig, ax = plt.subplots()\n",
    "    ax.scatter(y, predicted)\n",
    "    ax.plot([y.min(), y.max()], [y.min(), y.max()], 'k--', lw=4)\n",
    "    ax.set_xlabel('Measured')\n",
    "    ax.set_ylabel('Predicted')\n",
    "    plt.show()"
   ]
  },
  {
   "cell_type": "code",
   "execution_count": 5,
   "metadata": {
    "collapsed": true
   },
   "outputs": [],
   "source": [
    "boston = load_boston()\n",
    "X, y = boston.data, boston.target\n",
    "X_train, X_test, y_train, y_test = train_test_split(X, y, random_state=42) "
   ]
  },
  {
   "cell_type": "markdown",
   "metadata": {},
   "source": [
    "## Linear regression"
   ]
  },
  {
   "cell_type": "code",
   "execution_count": 19,
   "metadata": {
    "collapsed": true
   },
   "outputs": [],
   "source": [
    "from sklearn.linear_model import LinearRegression"
   ]
  },
  {
   "cell_type": "code",
   "execution_count": 29,
   "metadata": {
    "collapsed": true
   },
   "outputs": [],
   "source": [
    "reg = LinearRegression(normalize=True)\n",
    "reg.fit(X_train, y_train)\n",
    "y_hat = reg.predict(X_test)"
   ]
  },
  {
   "cell_type": "code",
   "execution_count": 30,
   "metadata": {
    "collapsed": false
   },
   "outputs": [
    {
     "data": {
      "text/plain": [
       "(22.131677894303223, 0.68395572431793383)"
      ]
     },
     "execution_count": 30,
     "metadata": {},
     "output_type": "execute_result"
    }
   ],
   "source": [
    "mean_squared_error(y_test, y_hat), reg.score(X_test, y_test)"
   ]
  },
  {
   "cell_type": "code",
   "execution_count": 31,
   "metadata": {
    "collapsed": false
   },
   "outputs": [
    {
     "data": {
      "image/png": "[encoded data removed]",
      "text/plain": [
       "<matplotlib.figure.Figure at 0x7f8824c0c850>"
      ]
     },
     "metadata": {},
     "output_type": "display_data"
    }
   ],
   "source": [
    "plot_pred(y_test, y_hat)"
   ]
  },
  {
   "cell_type": "markdown",
   "metadata": {},
   "source": [
    "## Ridge regression"
   ]
  },
  {
   "cell_type": "code",
   "execution_count": 32,
   "metadata": {
    "collapsed": true
   },
   "outputs": [],
   "source": [
    "from sklearn.linear_model import Ridge"
   ]
  },
  {
   "cell_type": "code",
   "execution_count": 49,
   "metadata": {
    "collapsed": true
   },
   "outputs": [],
   "source": [
    "reg = Ridge(alpha=.5)\n",
    "reg.fit(X_train, y_train)\n",
    "y_hat = reg.predict(X_test)"
   ]
  },
  {
   "cell_type": "code",
   "execution_count": 50,
   "metadata": {
    "collapsed": false
   },
   "outputs": [
    {
     "data": {
      "text/plain": [
       "(22.344910025855917, 0.68091073175611538)"
      ]
     },
     "execution_count": 50,
     "metadata": {},
     "output_type": "execute_result"
    }
   ],
   "source": [
    "mean_squared_error(y_test, y_hat), reg.score(X_test, y_test)"
   ]
  },
  {
   "cell_type": "code",
   "execution_count": 51,
   "metadata": {
    "collapsed": false
   },
   "outputs": [
    {
     "data": {
      "image/png": "[encoded data removed]",
      "text/plain": [
       "<matplotlib.figure.Figure at 0x7f88249121d0>"
      ]
     },
     "metadata": {},
     "output_type": "display_data"
    }
   ],
   "source": [
    "plot_pred(y_test, y_hat)"
   ]
  },
  {
   "cell_type": "markdown",
   "metadata": {},
   "source": [
    "## Bayesian Ridge regression"
   ]
  },
  {
   "cell_type": "code",
   "execution_count": 54,
   "metadata": {
    "collapsed": true
   },
   "outputs": [],
   "source": [
    "from sklearn.linear_model import BayesianRidge"
   ]
  },
  {
   "cell_type": "code",
   "execution_count": 55,
   "metadata": {
    "collapsed": true
   },
   "outputs": [],
   "source": [
    "reg = BayesianRidge()\n",
    "reg.fit(X_train, y_train)\n",
    "y_hat = reg.predict(X_test)"
   ]
  },
  {
   "cell_type": "code",
   "execution_count": 56,
   "metadata": {
    "collapsed": false
   },
   "outputs": [
    {
     "data": {
      "text/plain": [
       "(22.965781532128812, 0.67204457680714258)"
      ]
     },
     "execution_count": 56,
     "metadata": {},
     "output_type": "execute_result"
    }
   ],
   "source": [
    "mean_squared_error(y_test, y_hat), reg.score(X_test, y_test)"
   ]
  },
  {
   "cell_type": "code",
   "execution_count": 57,
   "metadata": {
    "collapsed": false
   },
   "outputs": [
    {
     "data": {
      "image/png": "[encoded data removed]",
      "text/plain": [
       "<matplotlib.figure.Figure at 0x7f88249651d0>"
      ]
     },
     "metadata": {},
     "output_type": "display_data"
    }
   ],
   "source": [
    "plot_pred(y_test, y_hat)"
   ]
  },
  {
   "cell_type": "markdown",
   "metadata": {},
   "source": [
    "## Support Vector regression"
   ]
  },
  {
   "cell_type": "code",
   "execution_count": 7,
   "metadata": {
    "collapsed": true
   },
   "outputs": [],
   "source": [
    "from sklearn.svm import SVR"
   ]
  },
  {
   "cell_type": "code",
   "execution_count": 8,
   "metadata": {
    "collapsed": false
   },
   "outputs": [],
   "source": [
    "reg = SVR(kernel='rbf', gamma=5e-5, C=1e3)\n",
    "reg.fit(X_train, y_train)\n",
    "y_hat = reg.predict(X_test)"
   ]
  },
  {
   "cell_type": "code",
   "execution_count": 9,
   "metadata": {
    "collapsed": false
   },
   "outputs": [
    {
     "data": {
      "text/plain": [
       "(15.560551191044141, 0.77779257614927055)"
      ]
     },
     "execution_count": 9,
     "metadata": {},
     "output_type": "execute_result"
    }
   ],
   "source": [
    "mean_squared_error(y_test, y_hat), reg.score(X_test, y_test)"
   ]
  },
  {
   "cell_type": "code",
   "execution_count": 10,
   "metadata": {
    "collapsed": false
   },
   "outputs": [
    {
     "data": {
      "image/png": "[encoded data removed]",
      "text/plain": [
       "<matplotlib.figure.Figure at 0x7fe3d16398d0>"
      ]
     },
     "metadata": {},
     "output_type": "display_data"
    }
   ],
   "source": [
    "plot_pred(y_test, y_hat)"
   ]
  },
  {
   "cell_type": "markdown",
   "metadata": {},
   "source": [
    "## XGBoost"
   ]
  },
  {
   "cell_type": "code",
   "execution_count": 11,
   "metadata": {
    "collapsed": true
   },
   "outputs": [],
   "source": [
    "try:\n",
    "    from xgboost.sklearn import XGBRegressor\n",
    "except ImportError:\n",
    "    !pip install xgboost\n",
    "    from xgboost.sklearn import XGBRegressor"
   ]
  },
  {
   "cell_type": "code",
   "execution_count": 12,
   "metadata": {
    "collapsed": true
   },
   "outputs": [],
   "source": [
    "reg = XGBRegressor()\n",
    "reg.fit(X_train, y_train)\n",
    "y_hat = reg.predict(X_test)"
   ]
  },
  {
   "cell_type": "code",
   "execution_count": 13,
   "metadata": {
    "collapsed": false
   },
   "outputs": [
    {
     "data": {
      "text/plain": [
       "(10.249252965711444, 0.8536388544374971)"
      ]
     },
     "execution_count": 13,
     "metadata": {},
     "output_type": "execute_result"
    }
   ],
   "source": [
    "mean_squared_error(y_test, y_hat), reg.score(X_test, y_test)"
   ]
  },
  {
   "cell_type": "code",
   "execution_count": 14,
   "metadata": {
    "collapsed": false
   },
   "outputs": [
    {
     "data": {
      "image/png": "[encoded data removed]",
      "text/plain": [
       "<matplotlib.figure.Figure at 0x7fe3d146b8d0>"
      ]
     },
     "metadata": {},
     "output_type": "display_data"
    }
   ],
   "source": [
    "plot_pred(y_test, y_hat)"
   ]
  },
  {
   "cell_type": "markdown",
   "metadata": {},
   "source": [
    "## Kaggle"
   ]
  },
  {
   "cell_type": "code",
   "execution_count": 5,
   "metadata": {
    "collapsed": true
   },
   "outputs": [],
   "source": [
    "import pandas as pd\n",
    "import pandas_profiling"
   ]
  },
  {
   "cell_type": "code",
   "execution_count": 7,
   "metadata": {
    "collapsed": false
   },
   "outputs": [],
   "source": [
    "data = pd.read_csv('../../data/kaggle_job/Train_rev1.csv', encoding='UTF-8')"
   ]
  },
  {
   "cell_type": "code",
   "execution_count": 11,
   "metadata": {
    "collapsed": false
   },
   "outputs": [
    {
     "data": {
      "text/plain": [
       "Index([u'Id', u'Title', u'FullDescription', u'LocationRaw',\n",
       "       u'LocationNormalized', u'ContractType', u'ContractTime', u'Company',\n",
       "       u'Category', u'SalaryRaw', u'SalaryNormalized', u'SourceName'],\n",
       "      dtype='object')"
      ]
     },
     "execution_count": 11,
     "metadata": {},
     "output_type": "execute_result"
    }
   ],
   "source": [
    "data.columns"
   ]
  },
  {
   "cell_type": "code",
   "execution_count": 10,
   "metadata": {
    "collapsed": false
   },
   "outputs": [
    {
     "data": {
      "text/html": [
       "<div>\n",
       "<table border=\"1\" class=\"dataframe\">\n",
       "  <thead>\n",
       "    <tr style=\"text-align: right;\">\n",
       "      <th></th>\n",
       "      <th>Id</th>\n",
       "      <th>Title</th>\n",
       "      <th>FullDescription</th>\n",
       "      <th>LocationRaw</th>\n",
       "      <th>LocationNormalized</th>\n",
       "      <th>ContractType</th>\n",
       "      <th>ContractTime</th>\n",
       "      <th>Company</th>\n",
       "      <th>Category</th>\n",
       "      <th>SalaryRaw</th>\n",
       "      <th>SalaryNormalized</th>\n",
       "      <th>SourceName</th>\n",
       "    </tr>\n",
       "  </thead>\n",
       "  <tbody>\n",
       "    <tr>\n",
       "      <th>0</th>\n",
       "      <td>12612628</td>\n",
       "      <td>Engineering Systems Analyst</td>\n",
       "      <td>Engineering Systems Analyst Dorking Surrey Sal...</td>\n",
       "      <td>Dorking, Surrey, Surrey</td>\n",
       "      <td>Dorking</td>\n",
       "      <td>NaN</td>\n",
       "      <td>permanent</td>\n",
       "      <td>Gregory Martin International</td>\n",
       "      <td>Engineering Jobs</td>\n",
       "      <td>20000 - 30000/annum 20-30K</td>\n",
       "      <td>25000</td>\n",
       "      <td>cv-library.co.uk</td>\n",
       "    </tr>\n",
       "    <tr>\n",
       "      <th>1</th>\n",
       "      <td>12612830</td>\n",
       "      <td>Stress Engineer Glasgow</td>\n",
       "      <td>Stress Engineer Glasgow Salary **** to **** We...</td>\n",
       "      <td>Glasgow, Scotland, Scotland</td>\n",
       "      <td>Glasgow</td>\n",
       "      <td>NaN</td>\n",
       "      <td>permanent</td>\n",
       "      <td>Gregory Martin International</td>\n",
       "      <td>Engineering Jobs</td>\n",
       "      <td>25000 - 35000/annum 25-35K</td>\n",
       "      <td>30000</td>\n",
       "      <td>cv-library.co.uk</td>\n",
       "    </tr>\n",
       "    <tr>\n",
       "      <th>2</th>\n",
       "      <td>12612844</td>\n",
       "      <td>Modelling and simulation analyst</td>\n",
       "      <td>Mathematical Modeller / Simulation Analyst / O...</td>\n",
       "      <td>Hampshire, South East, South East</td>\n",
       "      <td>Hampshire</td>\n",
       "      <td>NaN</td>\n",
       "      <td>permanent</td>\n",
       "      <td>Gregory Martin International</td>\n",
       "      <td>Engineering Jobs</td>\n",
       "      <td>20000 - 40000/annum 20-40K</td>\n",
       "      <td>30000</td>\n",
       "      <td>cv-library.co.uk</td>\n",
       "    </tr>\n",
       "    <tr>\n",
       "      <th>3</th>\n",
       "      <td>12613049</td>\n",
       "      <td>Engineering Systems Analyst / Mathematical Mod...</td>\n",
       "      <td>Engineering Systems Analyst / Mathematical Mod...</td>\n",
       "      <td>Surrey, South East, South East</td>\n",
       "      <td>Surrey</td>\n",
       "      <td>NaN</td>\n",
       "      <td>permanent</td>\n",
       "      <td>Gregory Martin International</td>\n",
       "      <td>Engineering Jobs</td>\n",
       "      <td>25000 - 30000/annum 25K-30K negotiable</td>\n",
       "      <td>27500</td>\n",
       "      <td>cv-library.co.uk</td>\n",
       "    </tr>\n",
       "    <tr>\n",
       "      <th>4</th>\n",
       "      <td>12613647</td>\n",
       "      <td>Pioneer, Miser Engineering Systems Analyst</td>\n",
       "      <td>Pioneer, Miser  Engineering Systems Analyst Do...</td>\n",
       "      <td>Surrey, South East, South East</td>\n",
       "      <td>Surrey</td>\n",
       "      <td>NaN</td>\n",
       "      <td>permanent</td>\n",
       "      <td>Gregory Martin International</td>\n",
       "      <td>Engineering Jobs</td>\n",
       "      <td>20000 - 30000/annum 20-30K</td>\n",
       "      <td>25000</td>\n",
       "      <td>cv-library.co.uk</td>\n",
       "    </tr>\n",
       "  </tbody>\n",
       "</table>\n",
       "</div>"
      ],
      "text/plain": [
       "         Id                                              Title  \\\n",
       "0  12612628                        Engineering Systems Analyst   \n",
       "1  12612830                            Stress Engineer Glasgow   \n",
       "2  12612844                   Modelling and simulation analyst   \n",
       "3  12613049  Engineering Systems Analyst / Mathematical Mod...   \n",
       "4  12613647         Pioneer, Miser Engineering Systems Analyst   \n",
       "\n",
       "                                     FullDescription  \\\n",
       "0  Engineering Systems Analyst Dorking Surrey Sal...   \n",
       "1  Stress Engineer Glasgow Salary **** to **** We...   \n",
       "2  Mathematical Modeller / Simulation Analyst / O...   \n",
       "3  Engineering Systems Analyst / Mathematical Mod...   \n",
       "4  Pioneer, Miser  Engineering Systems Analyst Do...   \n",
       "\n",
       "                         LocationRaw LocationNormalized ContractType  \\\n",
       "0            Dorking, Surrey, Surrey            Dorking          NaN   \n",
       "1        Glasgow, Scotland, Scotland            Glasgow          NaN   \n",
       "2  Hampshire, South East, South East          Hampshire          NaN   \n",
       "3     Surrey, South East, South East             Surrey          NaN   \n",
       "4     Surrey, South East, South East             Surrey          NaN   \n",
       "\n",
       "  ContractTime                       Company          Category  \\\n",
       "0    permanent  Gregory Martin International  Engineering Jobs   \n",
       "1    permanent  Gregory Martin International  Engineering Jobs   \n",
       "2    permanent  Gregory Martin International  Engineering Jobs   \n",
       "3    permanent  Gregory Martin International  Engineering Jobs   \n",
       "4    permanent  Gregory Martin International  Engineering Jobs   \n",
       "\n",
       "                                SalaryRaw  SalaryNormalized        SourceName  \n",
       "0              20000 - 30000/annum 20-30K             25000  cv-library.co.uk  \n",
       "1              25000 - 35000/annum 25-35K             30000  cv-library.co.uk  \n",
       "2              20000 - 40000/annum 20-40K             30000  cv-library.co.uk  \n",
       "3  25000 - 30000/annum 25K-30K negotiable             27500  cv-library.co.uk  \n",
       "4              20000 - 30000/annum 20-30K             25000  cv-library.co.uk  "
      ]
     },
     "execution_count": 10,
     "metadata": {},
     "output_type": "execute_result"
    }
   ],
   "source": [
    "data.head()"
   ]
  },
  {
   "cell_type": "code",
   "execution_count": 12,
   "metadata": {
    "collapsed": false,
    "scrolled": false
   },
   "outputs": [
    {
     "data": {
      "text/html": [
       "\n",
       "    <meta charset=\"UTF-8\">\n",
       "    <link rel=\"stylesheet\" href=\"https://maxcdn.bootstrapcdn.com/bootstrap/3.3.6/css/bootstrap.min.css\"\n",
       "          integrity=\"sha384-1q8mTJOASx8j1Au+a5WDVnPi2lkFfwwEAa8hDDdjZlpLegxhjVME1fgjWPGmkzs7\" crossorigin=\"anonymous\">\n",
       "    <link rel=\"stylesheet\" href=\"https://maxcdn.bootstrapcdn.com/bootstrap/3.3.6/css/bootstrap-theme.min.css\"\n",
       "          integrity=\"sha384-fLW2N01lMqjakBkx3l/M9EahuwpSfeNvV63J5ezn3uZzapT0u7EYsXMjQV+0En5r\" crossorigin=\"anonymous\">\n",
       "\n",
       "    <style>\n",
       "\n",
       "        .variablerow {\n",
       "            border: 1px solid #e1e1e8;\n",
       "            border-top: hidden;\n",
       "            padding-top: 2em;\n",
       "            padding-bottom: 1em;\n",
       "        }\n",
       "\n",
       "        .headerrow {\n",
       "            border: 1px solid #e1e1e8;\n",
       "            background-color: #f5f5f5;\n",
       "            padding: 2em;\n",
       "        }\n",
       "        .namecol {\n",
       "            margin-top: -1em;\n",
       "        }\n",
       "\n",
       "        .dl-horizontal dt {\n",
       "            text-align: left;\n",
       "            padding-right: 1em;\n",
       "            white-space: normal;\n",
       "        }\n",
       "\n",
       "        .dl-horizontal dd {\n",
       "            margin-left: 0;\n",
       "        }\n",
       "\n",
       "        .ignore {\n",
       "            opacity: 0.4;\n",
       "        }\n",
       "\n",
       "        .container.pandas-profiling {\n",
       "            max-width:975px;\n",
       "        }\n",
       "\n",
       "        .col-md-12 {\n",
       "            padding-left: 2em;\n",
       "        }\n",
       "\n",
       "        .indent {\n",
       "            margin-left: 1em;\n",
       "        }\n",
       "\n",
       "        /* Table example_values */\n",
       "            table.example_values {\n",
       "                border: 0;\n",
       "            }\n",
       "\n",
       "            .example_values th {\n",
       "                border: 0;\n",
       "                padding: 0 ;\n",
       "                color: #555;\n",
       "                font-weight: 600;\n",
       "            }\n",
       "\n",
       "            .example_values tr, .example_values td{\n",
       "                border: 0;\n",
       "                padding: 0;\n",
       "                color: #555;\n",
       "            }\n",
       "\n",
       "        /* STATS */\n",
       "            table.stats {\n",
       "                border: 0;\n",
       "            }\n",
       "\n",
       "            .stats th {\n",
       "                border: 0;\n",
       "                padding: 0 2em 0 0;\n",
       "                color: #555;\n",
       "                font-weight: 600;\n",
       "            }\n",
       "\n",
       "            .stats tr {\n",
       "                border: 0;\n",
       "            }\n",
       "\n",
       "            .stats tr:hover{\n",
       "                text-decoration: underline;\n",
       "            }\n",
       "\n",
       "            .stats td{\n",
       "                color: #555;\n",
       "                padding: 1px;\n",
       "                border: 0;\n",
       "            }\n",
       "\n",
       "\n",
       "        /* Sample table */\n",
       "            table.sample {\n",
       "                border: 0;\n",
       "                margin-bottom: 2em;\n",
       "                margin-left:1em;\n",
       "            }\n",
       "            .sample tr {\n",
       "                border:0;\n",
       "            }\n",
       "            .sample td, .sample th{\n",
       "                padding: 0.5em;\n",
       "                white-space: nowrap;\n",
       "                border: none;\n",
       "\n",
       "            }\n",
       "\n",
       "            .sample thead {\n",
       "                border-top: 0;\n",
       "                border-bottom: 2px solid #ddd;\n",
       "            }\n",
       "\n",
       "            .sample td {\n",
       "                width:100%;\n",
       "            }\n",
       "\n",
       "\n",
       "        /* There is no good solution available to make the divs equal height and then center ... */\n",
       "            .histogram {\n",
       "                margin-top: 3em;\n",
       "            }\n",
       "        /* Freq table */\n",
       "\n",
       "            table.freq {\n",
       "                margin-bottom: 2em;\n",
       "                border: 0;\n",
       "            }\n",
       "            table.freq th, table.freq tr, table.freq td {\n",
       "                border: 0;\n",
       "                padding: 0;\n",
       "            }\n",
       "\n",
       "            .freq thead {\n",
       "                font-weight: 600;\n",
       "                white-space: nowrap;\n",
       "                overflow: hidden;\n",
       "                text-overflow: ellipsis;\n",
       "\n",
       "            }\n",
       "\n",
       "            td.fillremaining{\n",
       "                width:auto;\n",
       "                max-width: none;\n",
       "            }\n",
       "\n",
       "            td.number, th.number {\n",
       "                text-align:right ;\n",
       "            }\n",
       "\n",
       "        /* Freq mini */\n",
       "            .freq.mini td{\n",
       "                width: 50%;\n",
       "                padding: 1px;\n",
       "                font-size: 12px;\n",
       "\n",
       "            }\n",
       "            table.freq.mini {\n",
       "                 width:100%;\n",
       "            }\n",
       "            .freq.mini th {\n",
       "                overflow: hidden;\n",
       "                text-overflow: ellipsis;\n",
       "                white-space: nowrap;\n",
       "                max-width: 5em;\n",
       "                font-weight: 400;\n",
       "                text-align:right;\n",
       "                padding-right: 0.5em;\n",
       "            }\n",
       "\n",
       "            .missing {\n",
       "                color: #a94442;\n",
       "            }\n",
       "            .alert, .alert > th, .alert > td {\n",
       "                color: #a94442;\n",
       "            }\n",
       "\n",
       "\n",
       "        /* Bars in tables */\n",
       "            .freq .bar{\n",
       "                float: left;\n",
       "                width: 0;\n",
       "                height: 100%;\n",
       "                line-height: 20px;\n",
       "                color: #fff;\n",
       "                text-align: center;\n",
       "                background-color: #337ab7;\n",
       "                border-radius: 3px;\n",
       "                margin-right: 4px;\n",
       "            }\n",
       "            .other .bar {\n",
       "                background-color: #999;\n",
       "            }\n",
       "            .missing .bar{\n",
       "                background-color: #a94442;\n",
       "            }\n",
       "            .tooltip-inner {\n",
       "                width: 100%;\n",
       "                white-space: nowrap;\n",
       "                text-align:left;\n",
       "            }\n",
       "\n",
       "            .extrapadding{\n",
       "                padding: 2em;\n",
       "            }\n",
       "\n",
       "\n",
       "\n",
       "    </style>\n",
       "\n",
       "<div class=\"container pandas-profiling\">\n",
       "     <div class=\"row headerrow highlight\">\n",
       "            <h1>Overview</h1>\n",
       "    </div>\n",
       "\n",
       "    \n",
       "    <div class=\"row variablerow\">\n",
       "        <div class=\"col-md-6 namecol\">\n",
       "            <p class=\"h4\">Dataset info</p>\n",
       "             <table class=\"stats\" style=\"margin-left: 1em;\" >\n",
       "                        <tbody><tr><th>Number of variables</th>\n",
       "                        <td>9</td></tr>\n",
       "                        <tr><th>Number of observations</th>\n",
       "                        <td>244768</td></tr>\n",
       "                        <tr><th>Total Missing (%)</th>\n",
       "                        <td>12.5%</td></tr>\n",
       "                        <tr><th>Total size in memory</th>\n",
       "                        <td>16.8 MiB</td></tr>\n",
       "                        <tr><th>Average record size in memory</th>\n",
       "                        <td>72.0 B</td></tr>\n",
       "                        </tbody></table>\n",
       "        </div>\n",
       "        <div class=\"col-md-6 namecol\">\n",
       "            <p class=\"h4\">Variables types</p>\n",
       "             <table class=\"stats\" style=\"margin-left: 1em;\">\n",
       "                        <tbody><tr><th>Numeric</th>\n",
       "                        <td>2</td></tr>\n",
       "                        <tr><th>Categorical</th>\n",
       "                        <td>7</td></tr>\n",
       "                        <tr><th>Date</th>\n",
       "                        <td>0</td></tr>\n",
       "                        <tr><th>Text (Unique)</th>\n",
       "                        <td>0</td></tr>\n",
       "                        <tr><th>Rejected</th>\n",
       "                        <td>0</td></tr>\n",
       "                        </tbody></table>\n",
       "        </div>\n",
       "        <div class=\"col-md-12\" style=\"padding-left: 1em;\">\n",
       "            <p class=\"h4\">Warnings</p>\n",
       "            <ul class=\"list-unstyled\"><li><code>Company</code> has 32430 / 13.2% missing values <span class=\"label label-default\">Missing</span></l><li><code>Company</code> has a high cardinality: 20813 distinct values  <span class=\"label label-warning\">Warning</span></l><li><code>ContractTime</code> has 63905 / 26.1% missing values <span class=\"label label-default\">Missing</span></l><li><code>ContractType</code> has 179326 / 73.3% missing values <span class=\"label label-default\">Missing</span></l><li><code>LocationNormalized</code> has a high cardinality: 2732 distinct values  <span class=\"label label-warning\">Warning</span></l><li><code>SourceName</code> has a high cardinality: 168 distinct values  <span class=\"label label-warning\">Warning</span></l><li><code>Title</code> has a high cardinality: 135436 distinct values  <span class=\"label label-warning\">Warning</span></l></ul>\n",
       "        </div>\n",
       "     </div>\n",
       "\n",
       "\n",
       "    <div class=\"row headerrow highlight\">\n",
       "            <h1>Variables</h1>\n",
       "    </div>\n",
       "\n",
       "    <div class=\"row variablerow\">\n",
       "        <div class=\"col-md-3 namecol\">\n",
       "            <p class=\"h4\">Category<br/><small>Categorical</small></p>\n",
       "        </div>\n",
       "\n",
       "       <div class=\"col-md-3\">\n",
       "\n",
       "            <table class=\"stats \">\n",
       "                <tr class=\"\"><th>Distinct count</th>\n",
       "                <td>29</td></tr>\n",
       "                <tr><th>Unique (%)</th>\n",
       "                <td>0.0%</td></tr>\n",
       "                <tr class=\"ignore\"><th>Missing (%)</th>\n",
       "                <td>0.0%</td></tr>\n",
       "                <tr class=\"ignore\"><th>Missing (n)</th>\n",
       "                <td>0</td></tr>\n",
       "            </table>\n",
       "\n",
       "\n",
       "\n",
       "        </div>\n",
       "         \n",
       "        <div class=\"col-md-6 collapse in\"  id=\"minifreqtable-3108657414079375104\">\n",
       "            <table class=\"mini freq\">\n",
       "                <tr class=\"\">\n",
       "                    <th>IT Jobs</th>\n",
       "                     <td>\n",
       "                          <div class=\"bar\" style=\"width:24%\" data-toggle=\"tooltip\" data-placement=\"right\" data-html=\"true\" data-delay=500 title=\"Percentage: 15.7%\">\n",
       "38483\n",
       "                          </div>\n",
       "                   </td>\n",
       "                </tr>\n",
       "<tr class=\"\">\n",
       "                    <th>Engineering Jobs</th>\n",
       "                     <td>\n",
       "                          <div class=\"bar\" style=\"width:16%\" data-toggle=\"tooltip\" data-placement=\"right\" data-html=\"true\" data-delay=500 title=\"Percentage: 10.3%\">\n",
       "&nbsp;\n",
       "                          </div>25174\n",
       "                   </td>\n",
       "                </tr>\n",
       "<tr class=\"\">\n",
       "                    <th>Accounting & Finance Jobs</th>\n",
       "                     <td>\n",
       "                          <div class=\"bar\" style=\"width:14%\" data-toggle=\"tooltip\" data-placement=\"right\" data-html=\"true\" data-delay=500 title=\"Percentage: 8.9%\">\n",
       "&nbsp;\n",
       "                          </div>21846\n",
       "                   </td>\n",
       "                </tr>\n",
       "<tr class=\"other\">\n",
       "                    <th>Other values (26)</th>\n",
       "                     <td>\n",
       "                          <div class=\"bar\" style=\"width:100%\" data-toggle=\"tooltip\" data-placement=\"right\" data-html=\"true\" data-delay=500 title=\"Percentage: 65.1%\">\n",
       "159265\n",
       "                          </div>\n",
       "                   </td>\n",
       "                </tr>\n",
       "\n",
       "            </table>\n",
       "        </div>\n",
       "\n",
       "\n",
       "        <div class=\"col-md-12 text-right\">\n",
       "                <a role=\"button\" data-toggle=\"collapse\" data-target=\"#freqtable-3108657414079375104, #minifreqtable-3108657414079375104\" aria-expanded=\"true\" aria-controls=\"collapseExample\">\n",
       "                    Toggle details\n",
       "                </a>\n",
       "        </div>\n",
       "         \n",
       "\n",
       "         <div class=\"col-md-12 collapse extrapadding\" id=\"freqtable-3108657414079375104\">\n",
       "            <table class=\"freq table table-hover\">\n",
       "                <thead><tr>\n",
       "                    <td class=\"fillremaining\">Value</td>\n",
       "                    <td class=\"number\">Count</td>\n",
       "                     <td class=\"number\">Frequency (%)</td>\n",
       "                    <td style=\"min-width:200px\">&nbsp;</td>\n",
       "                </tr></thead>\n",
       "\n",
       "                \n",
       "<tr class=\"\">\n",
       "        <td class=\"fillremaining\">IT Jobs</td>\n",
       "        <td class=\"number\">38483</td>\n",
       "        <td class=\"number\">15.7%</td>\n",
       "        <td>\n",
       "            <div class=\"bar\" style=\"width:100%\">&nbsp;</div>\n",
       "        </td>\n",
       "</tr>\n",
       "\n",
       "<tr class=\"\">\n",
       "        <td class=\"fillremaining\">Engineering Jobs</td>\n",
       "        <td class=\"number\">25174</td>\n",
       "        <td class=\"number\">10.3%</td>\n",
       "        <td>\n",
       "            <div class=\"bar\" style=\"width:65%\">&nbsp;</div>\n",
       "        </td>\n",
       "</tr>\n",
       "\n",
       "<tr class=\"\">\n",
       "        <td class=\"fillremaining\">Accounting & Finance Jobs</td>\n",
       "        <td class=\"number\">21846</td>\n",
       "        <td class=\"number\">8.9%</td>\n",
       "        <td>\n",
       "            <div class=\"bar\" style=\"width:57%\">&nbsp;</div>\n",
       "        </td>\n",
       "</tr>\n",
       "\n",
       "<tr class=\"\">\n",
       "        <td class=\"fillremaining\">Healthcare & Nursing Jobs</td>\n",
       "        <td class=\"number\">21076</td>\n",
       "        <td class=\"number\">8.6%</td>\n",
       "        <td>\n",
       "            <div class=\"bar\" style=\"width:55%\">&nbsp;</div>\n",
       "        </td>\n",
       "</tr>\n",
       "\n",
       "<tr class=\"\">\n",
       "        <td class=\"fillremaining\">Sales Jobs</td>\n",
       "        <td class=\"number\">17272</td>\n",
       "        <td class=\"number\">7.1%</td>\n",
       "        <td>\n",
       "            <div class=\"bar\" style=\"width:45%\">&nbsp;</div>\n",
       "        </td>\n",
       "</tr>\n",
       "\n",
       "<tr class=\"\">\n",
       "        <td class=\"fillremaining\">Other/General Jobs</td>\n",
       "        <td class=\"number\">17055</td>\n",
       "        <td class=\"number\">7.0%</td>\n",
       "        <td>\n",
       "            <div class=\"bar\" style=\"width:44%\">&nbsp;</div>\n",
       "        </td>\n",
       "</tr>\n",
       "\n",
       "<tr class=\"\">\n",
       "        <td class=\"fillremaining\">Teaching Jobs</td>\n",
       "        <td class=\"number\">12637</td>\n",
       "        <td class=\"number\">5.2%</td>\n",
       "        <td>\n",
       "            <div class=\"bar\" style=\"width:33%\">&nbsp;</div>\n",
       "        </td>\n",
       "</tr>\n",
       "\n",
       "<tr class=\"\">\n",
       "        <td class=\"fillremaining\">Hospitality & Catering Jobs</td>\n",
       "        <td class=\"number\">11351</td>\n",
       "        <td class=\"number\">4.6%</td>\n",
       "        <td>\n",
       "            <div class=\"bar\" style=\"width:30%\">&nbsp;</div>\n",
       "        </td>\n",
       "</tr>\n",
       "\n",
       "<tr class=\"\">\n",
       "        <td class=\"fillremaining\">PR, Advertising & Marketing Jobs</td>\n",
       "        <td class=\"number\">8854</td>\n",
       "        <td class=\"number\">3.6%</td>\n",
       "        <td>\n",
       "            <div class=\"bar\" style=\"width:23%\">&nbsp;</div>\n",
       "        </td>\n",
       "</tr>\n",
       "\n",
       "<tr class=\"\">\n",
       "        <td class=\"fillremaining\">Trade & Construction Jobs</td>\n",
       "        <td class=\"number\">8837</td>\n",
       "        <td class=\"number\">3.6%</td>\n",
       "        <td>\n",
       "            <div class=\"bar\" style=\"width:23%\">&nbsp;</div>\n",
       "        </td>\n",
       "</tr>\n",
       "\n",
       "<tr class=\"\">\n",
       "        <td class=\"fillremaining\">HR & Recruitment Jobs</td>\n",
       "        <td class=\"number\">7713</td>\n",
       "        <td class=\"number\">3.2%</td>\n",
       "        <td>\n",
       "            <div class=\"bar\" style=\"width:20%\">&nbsp;</div>\n",
       "        </td>\n",
       "</tr>\n",
       "\n",
       "<tr class=\"\">\n",
       "        <td class=\"fillremaining\">Admin Jobs</td>\n",
       "        <td class=\"number\">7614</td>\n",
       "        <td class=\"number\">3.1%</td>\n",
       "        <td>\n",
       "            <div class=\"bar\" style=\"width:20%\">&nbsp;</div>\n",
       "        </td>\n",
       "</tr>\n",
       "\n",
       "<tr class=\"\">\n",
       "        <td class=\"fillremaining\">Retail Jobs</td>\n",
       "        <td class=\"number\">6584</td>\n",
       "        <td class=\"number\">2.7%</td>\n",
       "        <td>\n",
       "            <div class=\"bar\" style=\"width:17%\">&nbsp;</div>\n",
       "        </td>\n",
       "</tr>\n",
       "\n",
       "<tr class=\"\">\n",
       "        <td class=\"fillremaining\">Customer Services Jobs</td>\n",
       "        <td class=\"number\">6063</td>\n",
       "        <td class=\"number\">2.5%</td>\n",
       "        <td>\n",
       "            <div class=\"bar\" style=\"width:16%\">&nbsp;</div>\n",
       "        </td>\n",
       "</tr>\n",
       "\n",
       "<tr class=\"\">\n",
       "        <td class=\"fillremaining\">Legal Jobs</td>\n",
       "        <td class=\"number\">3939</td>\n",
       "        <td class=\"number\">1.6%</td>\n",
       "        <td>\n",
       "            <div class=\"bar\" style=\"width:11%\">&nbsp;</div>\n",
       "        </td>\n",
       "</tr>\n",
       "\n",
       "<tr class=\"\">\n",
       "        <td class=\"fillremaining\">Manufacturing Jobs</td>\n",
       "        <td class=\"number\">3765</td>\n",
       "        <td class=\"number\">1.5%</td>\n",
       "        <td>\n",
       "            <div class=\"bar\" style=\"width:10%\">&nbsp;</div>\n",
       "        </td>\n",
       "</tr>\n",
       "\n",
       "<tr class=\"\">\n",
       "        <td class=\"fillremaining\">Logistics & Warehouse Jobs</td>\n",
       "        <td class=\"number\">3633</td>\n",
       "        <td class=\"number\">1.5%</td>\n",
       "        <td>\n",
       "            <div class=\"bar\" style=\"width:10%\">&nbsp;</div>\n",
       "        </td>\n",
       "</tr>\n",
       "\n",
       "<tr class=\"\">\n",
       "        <td class=\"fillremaining\">Social work Jobs</td>\n",
       "        <td class=\"number\">3455</td>\n",
       "        <td class=\"number\">1.4%</td>\n",
       "        <td>\n",
       "            <div class=\"bar\" style=\"width:9%\">&nbsp;</div>\n",
       "        </td>\n",
       "</tr>\n",
       "\n",
       "<tr class=\"\">\n",
       "        <td class=\"fillremaining\">Consultancy Jobs</td>\n",
       "        <td class=\"number\">3263</td>\n",
       "        <td class=\"number\">1.3%</td>\n",
       "        <td>\n",
       "            <div class=\"bar\" style=\"width:9%\">&nbsp;</div>\n",
       "        </td>\n",
       "</tr>\n",
       "\n",
       "<tr class=\"\">\n",
       "        <td class=\"fillremaining\">Travel Jobs</td>\n",
       "        <td class=\"number\">3126</td>\n",
       "        <td class=\"number\">1.3%</td>\n",
       "        <td>\n",
       "            <div class=\"bar\" style=\"width:9%\">&nbsp;</div>\n",
       "        </td>\n",
       "</tr>\n",
       "\n",
       "<tr class=\"other\">\n",
       "        <td class=\"fillremaining\">Other values (9)</td>\n",
       "        <td class=\"number\">13028</td>\n",
       "        <td class=\"number\">5.3%</td>\n",
       "        <td>\n",
       "            <div class=\"bar\" style=\"width:34%\">&nbsp;</div>\n",
       "        </td>\n",
       "</tr>\n",
       "\n",
       "            </table>\n",
       "\n",
       "        </div>\n",
       "\n",
       "\n",
       "    </div><div class=\"row variablerow\">\n",
       "        <div class=\"col-md-3 namecol\">\n",
       "            <p class=\"h4\">Company<br/><small>Categorical</small></p>\n",
       "        </div>\n",
       "\n",
       "       <div class=\"col-md-3\">\n",
       "\n",
       "            <table class=\"stats \">\n",
       "                <tr class=\"alert\"><th>Distinct count</th>\n",
       "                <td>20813</td></tr>\n",
       "                <tr><th>Unique (%)</th>\n",
       "                <td>9.8%</td></tr>\n",
       "                <tr class=\"alert\"><th>Missing (%)</th>\n",
       "                <td>13.2%</td></tr>\n",
       "                <tr class=\"alert\"><th>Missing (n)</th>\n",
       "                <td>32430</td></tr>\n",
       "            </table>\n",
       "\n",
       "\n",
       "\n",
       "        </div>\n",
       "         \n",
       "        <div class=\"col-md-6 collapse in\"  id=\"minifreqtable-3091686373485765078\">\n",
       "            <table class=\"mini freq\">\n",
       "                <tr class=\"\">\n",
       "                    <th>UKStaffsearch</th>\n",
       "                     <td>\n",
       "                          <div class=\"bar\" style=\"width:3%\" data-toggle=\"tooltip\" data-placement=\"right\" data-html=\"true\" data-delay=500 title=\"Percentage: 2.0%\">\n",
       "&nbsp;\n",
       "                          </div>4997\n",
       "                   </td>\n",
       "                </tr>\n",
       "<tr class=\"\">\n",
       "                    <th>CVbrowser</th>\n",
       "                     <td>\n",
       "                          <div class=\"bar\" style=\"width:2%\" data-toggle=\"tooltip\" data-placement=\"right\" data-html=\"true\" data-delay=500 title=\"Percentage: 1.2%\">\n",
       "&nbsp;\n",
       "                          </div>2977\n",
       "                   </td>\n",
       "                </tr>\n",
       "<tr class=\"\">\n",
       "                    <th>London4Jobs</th>\n",
       "                     <td>\n",
       "                          <div class=\"bar\" style=\"width:2%\" data-toggle=\"tooltip\" data-placement=\"right\" data-html=\"true\" data-delay=500 title=\"Percentage: 1.0%\">\n",
       "&nbsp;\n",
       "                          </div>2345\n",
       "                   </td>\n",
       "                </tr>\n",
       "<tr class=\"other\">\n",
       "                    <th>Other values (20809)</th>\n",
       "                     <td>\n",
       "                          <div class=\"bar\" style=\"width:100%\" data-toggle=\"tooltip\" data-placement=\"right\" data-html=\"true\" data-delay=500 title=\"Percentage: 82.5%\">\n",
       "202019\n",
       "                          </div>\n",
       "                   </td>\n",
       "                </tr>\n",
       "<tr class=\"missing\">\n",
       "                    <th>(Missing)</th>\n",
       "                     <td>\n",
       "                          <div class=\"bar\" style=\"width:16%\" data-toggle=\"tooltip\" data-placement=\"right\" data-html=\"true\" data-delay=500 title=\"Percentage: 13.2%\">\n",
       "&nbsp;\n",
       "                          </div>32430\n",
       "                   </td>\n",
       "                </tr>\n",
       "\n",
       "            </table>\n",
       "        </div>\n",
       "\n",
       "\n",
       "        <div class=\"col-md-12 text-right\">\n",
       "                <a role=\"button\" data-toggle=\"collapse\" data-target=\"#freqtable-3091686373485765078, #minifreqtable-3091686373485765078\" aria-expanded=\"true\" aria-controls=\"collapseExample\">\n",
       "                    Toggle details\n",
       "                </a>\n",
       "        </div>\n",
       "         \n",
       "\n",
       "         <div class=\"col-md-12 collapse extrapadding\" id=\"freqtable-3091686373485765078\">\n",
       "            <table class=\"freq table table-hover\">\n",
       "                <thead><tr>\n",
       "                    <td class=\"fillremaining\">Value</td>\n",
       "                    <td class=\"number\">Count</td>\n",
       "                     <td class=\"number\">Frequency (%)</td>\n",
       "                    <td style=\"min-width:200px\">&nbsp;</td>\n",
       "                </tr></thead>\n",
       "\n",
       "                \n",
       "<tr class=\"\">\n",
       "        <td class=\"fillremaining\">UKStaffsearch</td>\n",
       "        <td class=\"number\">4997</td>\n",
       "        <td class=\"number\">2.0%</td>\n",
       "        <td>\n",
       "            <div class=\"bar\" style=\"width:3%\">&nbsp;</div>\n",
       "        </td>\n",
       "</tr>\n",
       "\n",
       "<tr class=\"\">\n",
       "        <td class=\"fillremaining\">CVbrowser</td>\n",
       "        <td class=\"number\">2977</td>\n",
       "        <td class=\"number\">1.2%</td>\n",
       "        <td>\n",
       "            <div class=\"bar\" style=\"width:2%\">&nbsp;</div>\n",
       "        </td>\n",
       "</tr>\n",
       "\n",
       "<tr class=\"\">\n",
       "        <td class=\"fillremaining\">London4Jobs</td>\n",
       "        <td class=\"number\">2345</td>\n",
       "        <td class=\"number\">1.0%</td>\n",
       "        <td>\n",
       "            <div class=\"bar\" style=\"width:2%\">&nbsp;</div>\n",
       "        </td>\n",
       "</tr>\n",
       "\n",
       "<tr class=\"\">\n",
       "        <td class=\"fillremaining\">Hays</td>\n",
       "        <td class=\"number\">1784</td>\n",
       "        <td class=\"number\">0.7%</td>\n",
       "        <td>\n",
       "            <div class=\"bar\" style=\"width:1%\">&nbsp;</div>\n",
       "        </td>\n",
       "</tr>\n",
       "\n",
       "<tr class=\"\">\n",
       "        <td class=\"fillremaining\">JAM Recruitment Ltd</td>\n",
       "        <td class=\"number\">1122</td>\n",
       "        <td class=\"number\">0.5%</td>\n",
       "        <td>\n",
       "            <div class=\"bar\" style=\"width:1%\">&nbsp;</div>\n",
       "        </td>\n",
       "</tr>\n",
       "\n",
       "<tr class=\"\">\n",
       "        <td class=\"fillremaining\">Office Angels</td>\n",
       "        <td class=\"number\">961</td>\n",
       "        <td class=\"number\">0.4%</td>\n",
       "        <td>\n",
       "            <div class=\"bar\" style=\"width:1%\">&nbsp;</div>\n",
       "        </td>\n",
       "</tr>\n",
       "\n",
       "<tr class=\"\">\n",
       "        <td class=\"fillremaining\">Jobsite Jobs</td>\n",
       "        <td class=\"number\">932</td>\n",
       "        <td class=\"number\">0.4%</td>\n",
       "        <td>\n",
       "            <div class=\"bar\" style=\"width:1%\">&nbsp;</div>\n",
       "        </td>\n",
       "</tr>\n",
       "\n",
       "<tr class=\"\">\n",
       "        <td class=\"fillremaining\">Perfect Placement</td>\n",
       "        <td class=\"number\">865</td>\n",
       "        <td class=\"number\">0.4%</td>\n",
       "        <td>\n",
       "            <div class=\"bar\" style=\"width:1%\">&nbsp;</div>\n",
       "        </td>\n",
       "</tr>\n",
       "\n",
       "<tr class=\"\">\n",
       "        <td class=\"fillremaining\">ARRAY</td>\n",
       "        <td class=\"number\">847</td>\n",
       "        <td class=\"number\">0.3%</td>\n",
       "        <td>\n",
       "            <div class=\"bar\" style=\"width:1%\">&nbsp;</div>\n",
       "        </td>\n",
       "</tr>\n",
       "\n",
       "<tr class=\"\">\n",
       "        <td class=\"fillremaining\">JOBG8</td>\n",
       "        <td class=\"number\">841</td>\n",
       "        <td class=\"number\">0.3%</td>\n",
       "        <td>\n",
       "            <div class=\"bar\" style=\"width:1%\">&nbsp;</div>\n",
       "        </td>\n",
       "</tr>\n",
       "\n",
       "<tr class=\"\">\n",
       "        <td class=\"fillremaining\">Matchtech Group plc.</td>\n",
       "        <td class=\"number\">834</td>\n",
       "        <td class=\"number\">0.3%</td>\n",
       "        <td>\n",
       "            <div class=\"bar\" style=\"width:1%\">&nbsp;</div>\n",
       "        </td>\n",
       "</tr>\n",
       "\n",
       "<tr class=\"\">\n",
       "        <td class=\"fillremaining\">Penguin Recruitment</td>\n",
       "        <td class=\"number\">752</td>\n",
       "        <td class=\"number\">0.3%</td>\n",
       "        <td>\n",
       "            <div class=\"bar\" style=\"width:1%\">&nbsp;</div>\n",
       "        </td>\n",
       "</tr>\n",
       "\n",
       "<tr class=\"\">\n",
       "        <td class=\"fillremaining\">Randstad</td>\n",
       "        <td class=\"number\">748</td>\n",
       "        <td class=\"number\">0.3%</td>\n",
       "        <td>\n",
       "            <div class=\"bar\" style=\"width:1%\">&nbsp;</div>\n",
       "        </td>\n",
       "</tr>\n",
       "\n",
       "<tr class=\"\">\n",
       "        <td class=\"fillremaining\">Adecco</td>\n",
       "        <td class=\"number\">701</td>\n",
       "        <td class=\"number\">0.3%</td>\n",
       "        <td>\n",
       "            <div class=\"bar\" style=\"width:1%\">&nbsp;</div>\n",
       "        </td>\n",
       "</tr>\n",
       "\n",
       "<tr class=\"\">\n",
       "        <td class=\"fillremaining\">Michael Page Finance</td>\n",
       "        <td class=\"number\">634</td>\n",
       "        <td class=\"number\">0.3%</td>\n",
       "        <td>\n",
       "            <div class=\"bar\" style=\"width:1%\">&nbsp;</div>\n",
       "        </td>\n",
       "</tr>\n",
       "\n",
       "<tr class=\"\">\n",
       "        <td class=\"fillremaining\">Adecco Group</td>\n",
       "        <td class=\"number\">592</td>\n",
       "        <td class=\"number\">0.2%</td>\n",
       "        <td>\n",
       "            <div class=\"bar\" style=\"width:1%\">&nbsp;</div>\n",
       "        </td>\n",
       "</tr>\n",
       "\n",
       "<tr class=\"\">\n",
       "        <td class=\"fillremaining\">BMS Sales Specialists LLP</td>\n",
       "        <td class=\"number\">559</td>\n",
       "        <td class=\"number\">0.2%</td>\n",
       "        <td>\n",
       "            <div class=\"bar\" style=\"width:1%\">&nbsp;</div>\n",
       "        </td>\n",
       "</tr>\n",
       "\n",
       "<tr class=\"\">\n",
       "        <td class=\"fillremaining\">COREcruitment International</td>\n",
       "        <td class=\"number\">551</td>\n",
       "        <td class=\"number\">0.2%</td>\n",
       "        <td>\n",
       "            <div class=\"bar\" style=\"width:1%\">&nbsp;</div>\n",
       "        </td>\n",
       "</tr>\n",
       "\n",
       "<tr class=\"\">\n",
       "        <td class=\"fillremaining\">Page Personnel Finance</td>\n",
       "        <td class=\"number\">536</td>\n",
       "        <td class=\"number\">0.2%</td>\n",
       "        <td>\n",
       "            <div class=\"bar\" style=\"width:1%\">&nbsp;</div>\n",
       "        </td>\n",
       "</tr>\n",
       "\n",
       "<tr class=\"\">\n",
       "        <td class=\"fillremaining\">Capita Resourcing</td>\n",
       "        <td class=\"number\">495</td>\n",
       "        <td class=\"number\">0.2%</td>\n",
       "        <td>\n",
       "            <div class=\"bar\" style=\"width:1%\">&nbsp;</div>\n",
       "        </td>\n",
       "</tr>\n",
       "\n",
       "<tr class=\"other\">\n",
       "        <td class=\"fillremaining\">Other values (20792)</td>\n",
       "        <td class=\"number\">188265</td>\n",
       "        <td class=\"number\">76.9%</td>\n",
       "        <td>\n",
       "            <div class=\"bar\" style=\"width:100%\">&nbsp;</div>\n",
       "        </td>\n",
       "</tr>\n",
       "\n",
       "<tr class=\"missing\">\n",
       "        <td class=\"fillremaining\">(Missing)</td>\n",
       "        <td class=\"number\">32430</td>\n",
       "        <td class=\"number\">13.2%</td>\n",
       "        <td>\n",
       "            <div class=\"bar\" style=\"width:18%\">&nbsp;</div>\n",
       "        </td>\n",
       "</tr>\n",
       "\n",
       "            </table>\n",
       "\n",
       "        </div>\n",
       "\n",
       "\n",
       "    </div><div class=\"row variablerow\">\n",
       "        <div class=\"col-md-3 namecol\">\n",
       "            <p class=\"h4\">ContractTime<br/><small>Categorical</small></p>\n",
       "        </div>\n",
       "\n",
       "       <div class=\"col-md-3\">\n",
       "\n",
       "            <table class=\"stats \">\n",
       "                <tr class=\"\"><th>Distinct count</th>\n",
       "                <td>3</td></tr>\n",
       "                <tr><th>Unique (%)</th>\n",
       "                <td>0.0%</td></tr>\n",
       "                <tr class=\"alert\"><th>Missing (%)</th>\n",
       "                <td>26.1%</td></tr>\n",
       "                <tr class=\"alert\"><th>Missing (n)</th>\n",
       "                <td>63905</td></tr>\n",
       "            </table>\n",
       "\n",
       "\n",
       "\n",
       "        </div>\n",
       "         \n",
       "        <div class=\"col-md-6 collapse in\"  id=\"minifreqtable-3988490139913648899\">\n",
       "            <table class=\"mini freq\">\n",
       "                <tr class=\"\">\n",
       "                    <th>permanent</th>\n",
       "                     <td>\n",
       "                          <div class=\"bar\" style=\"width:100%\" data-toggle=\"tooltip\" data-placement=\"right\" data-html=\"true\" data-delay=500 title=\"Percentage: 61.9%\">\n",
       "151521\n",
       "                          </div>\n",
       "                   </td>\n",
       "                </tr>\n",
       "<tr class=\"\">\n",
       "                    <th>contract</th>\n",
       "                     <td>\n",
       "                          <div class=\"bar\" style=\"width:20%\" data-toggle=\"tooltip\" data-placement=\"right\" data-html=\"true\" data-delay=500 title=\"Percentage: 12.0%\">\n",
       "&nbsp;\n",
       "                          </div>29342\n",
       "                   </td>\n",
       "                </tr>\n",
       "<tr class=\"missing\">\n",
       "                    <th>(Missing)</th>\n",
       "                     <td>\n",
       "                          <div class=\"bar\" style=\"width:42%\" data-toggle=\"tooltip\" data-placement=\"right\" data-html=\"true\" data-delay=500 title=\"Percentage: 26.1%\">\n",
       "63905\n",
       "                          </div>\n",
       "                   </td>\n",
       "                </tr>\n",
       "\n",
       "            </table>\n",
       "        </div>\n",
       "\n",
       "\n",
       "        <div class=\"col-md-12 text-right\">\n",
       "                <a role=\"button\" data-toggle=\"collapse\" data-target=\"#freqtable-3988490139913648899, #minifreqtable-3988490139913648899\" aria-expanded=\"true\" aria-controls=\"collapseExample\">\n",
       "                    Toggle details\n",
       "                </a>\n",
       "        </div>\n",
       "         \n",
       "\n",
       "         <div class=\"col-md-12 collapse extrapadding\" id=\"freqtable-3988490139913648899\">\n",
       "            <table class=\"freq table table-hover\">\n",
       "                <thead><tr>\n",
       "                    <td class=\"fillremaining\">Value</td>\n",
       "                    <td class=\"number\">Count</td>\n",
       "                     <td class=\"number\">Frequency (%)</td>\n",
       "                    <td style=\"min-width:200px\">&nbsp;</td>\n",
       "                </tr></thead>\n",
       "\n",
       "                \n",
       "<tr class=\"\">\n",
       "        <td class=\"fillremaining\">permanent</td>\n",
       "        <td class=\"number\">151521</td>\n",
       "        <td class=\"number\">61.9%</td>\n",
       "        <td>\n",
       "            <div class=\"bar\" style=\"width:100%\">&nbsp;</div>\n",
       "        </td>\n",
       "</tr>\n",
       "\n",
       "<tr class=\"\">\n",
       "        <td class=\"fillremaining\">contract</td>\n",
       "        <td class=\"number\">29342</td>\n",
       "        <td class=\"number\">12.0%</td>\n",
       "        <td>\n",
       "            <div class=\"bar\" style=\"width:20%\">&nbsp;</div>\n",
       "        </td>\n",
       "</tr>\n",
       "\n",
       "<tr class=\"missing\">\n",
       "        <td class=\"fillremaining\">(Missing)</td>\n",
       "        <td class=\"number\">63905</td>\n",
       "        <td class=\"number\">26.1%</td>\n",
       "        <td>\n",
       "            <div class=\"bar\" style=\"width:42%\">&nbsp;</div>\n",
       "        </td>\n",
       "</tr>\n",
       "\n",
       "            </table>\n",
       "\n",
       "        </div>\n",
       "\n",
       "\n",
       "    </div><div class=\"row variablerow\">\n",
       "        <div class=\"col-md-3 namecol\">\n",
       "            <p class=\"h4\">ContractType<br/><small>Categorical</small></p>\n",
       "        </div>\n",
       "\n",
       "       <div class=\"col-md-3\">\n",
       "\n",
       "            <table class=\"stats \">\n",
       "                <tr class=\"\"><th>Distinct count</th>\n",
       "                <td>3</td></tr>\n",
       "                <tr><th>Unique (%)</th>\n",
       "                <td>0.0%</td></tr>\n",
       "                <tr class=\"alert\"><th>Missing (%)</th>\n",
       "                <td>73.3%</td></tr>\n",
       "                <tr class=\"alert\"><th>Missing (n)</th>\n",
       "                <td>179326</td></tr>\n",
       "            </table>\n",
       "\n",
       "\n",
       "\n",
       "        </div>\n",
       "         \n",
       "        <div class=\"col-md-6 collapse in\"  id=\"minifreqtable-3988506139940648838\">\n",
       "            <table class=\"mini freq\">\n",
       "                <tr class=\"\">\n",
       "                    <th>full_time</th>\n",
       "                     <td>\n",
       "                          <div class=\"bar\" style=\"width:32%\" data-toggle=\"tooltip\" data-placement=\"right\" data-html=\"true\" data-delay=500 title=\"Percentage: 23.5%\">\n",
       "57538\n",
       "                          </div>\n",
       "                   </td>\n",
       "                </tr>\n",
       "<tr class=\"\">\n",
       "                    <th>part_time</th>\n",
       "                     <td>\n",
       "                          <div class=\"bar\" style=\"width:5%\" data-toggle=\"tooltip\" data-placement=\"right\" data-html=\"true\" data-delay=500 title=\"Percentage: 3.2%\">\n",
       "&nbsp;\n",
       "                          </div>7904\n",
       "                   </td>\n",
       "                </tr>\n",
       "<tr class=\"missing\">\n",
       "                    <th>(Missing)</th>\n",
       "                     <td>\n",
       "                          <div class=\"bar\" style=\"width:100%\" data-toggle=\"tooltip\" data-placement=\"right\" data-html=\"true\" data-delay=500 title=\"Percentage: 73.3%\">\n",
       "179326\n",
       "                          </div>\n",
       "                   </td>\n",
       "                </tr>\n",
       "\n",
       "            </table>\n",
       "        </div>\n",
       "\n",
       "\n",
       "        <div class=\"col-md-12 text-right\">\n",
       "                <a role=\"button\" data-toggle=\"collapse\" data-target=\"#freqtable-3988506139940648838, #minifreqtable-3988506139940648838\" aria-expanded=\"true\" aria-controls=\"collapseExample\">\n",
       "                    Toggle details\n",
       "                </a>\n",
       "        </div>\n",
       "         \n",
       "\n",
       "         <div class=\"col-md-12 collapse extrapadding\" id=\"freqtable-3988506139940648838\">\n",
       "            <table class=\"freq table table-hover\">\n",
       "                <thead><tr>\n",
       "                    <td class=\"fillremaining\">Value</td>\n",
       "                    <td class=\"number\">Count</td>\n",
       "                     <td class=\"number\">Frequency (%)</td>\n",
       "                    <td style=\"min-width:200px\">&nbsp;</td>\n",
       "                </tr></thead>\n",
       "\n",
       "                \n",
       "<tr class=\"\">\n",
       "        <td class=\"fillremaining\">full_time</td>\n",
       "        <td class=\"number\">57538</td>\n",
       "        <td class=\"number\">23.5%</td>\n",
       "        <td>\n",
       "            <div class=\"bar\" style=\"width:32%\">&nbsp;</div>\n",
       "        </td>\n",
       "</tr>\n",
       "\n",
       "<tr class=\"\">\n",
       "        <td class=\"fillremaining\">part_time</td>\n",
       "        <td class=\"number\">7904</td>\n",
       "        <td class=\"number\">3.2%</td>\n",
       "        <td>\n",
       "            <div class=\"bar\" style=\"width:5%\">&nbsp;</div>\n",
       "        </td>\n",
       "</tr>\n",
       "\n",
       "<tr class=\"missing\">\n",
       "        <td class=\"fillremaining\">(Missing)</td>\n",
       "        <td class=\"number\">179326</td>\n",
       "        <td class=\"number\">73.3%</td>\n",
       "        <td>\n",
       "            <div class=\"bar\" style=\"width:100%\">&nbsp;</div>\n",
       "        </td>\n",
       "</tr>\n",
       "\n",
       "            </table>\n",
       "\n",
       "        </div>\n",
       "\n",
       "\n",
       "    </div><div class=\"row variablerow\">\n",
       "        <div class=\"col-md-3 namecol\">\n",
       "            <p class=\"h4\">Id<br/><small>Numeric</small></p>\n",
       "        </div>\n",
       "\n",
       "        <div class=\"col-md-6\">\n",
       "            <div class=\"row\">\n",
       "                <div class=\"col-sm-6\">\n",
       "                    <table class=\"stats \">\n",
       "                        <tr><th>Distinct count</th>\n",
       "                        <td>244768</td></tr>\n",
       "                        <tr><th>Unique (%)</th>\n",
       "                        <td>100.0%</td></tr>\n",
       "                        <tr class=\"ignore\"><th>Missing (%)</th>\n",
       "                        <td>0.0%</td></tr>\n",
       "                        <tr class=\"ignore\"><th>Missing (n)</th>\n",
       "                        <td>0</td></tr>\n",
       "                    </table>\n",
       "\n",
       "                </div>\n",
       "                <div class=\"col-sm-6\">\n",
       "                    <table class=\"stats \">\n",
       "\n",
       "                        <tr><th>Mean</th>\n",
       "                        <td>69701000</td></tr>\n",
       "                        <tr><th>Minimum</th>\n",
       "                        <td>12612628</td></tr>\n",
       "                        <tr><th>Maximum</th>\n",
       "                        <td>72705235</td></tr>\n",
       "                        <tr class=\"ignore\"><th>Zeros (%)</th>\n",
       "                        <td>0.0%</td></tr>\n",
       "                    </table>\n",
       "                </div>\n",
       "            </div>\n",
       "        </div>\n",
       "        <div class=\"col-md-3 collapse in\" id=\"minihistogram9344056137084413\">\n",
       "             <img src=\"data:image/png;base64,iVBORw0KGgoAAAANSUhEUgAAAMgAAABLCAYAAAA1fMjoAAAABHNCSVQICAgIfAhkiAAAAAlwSFlzAAAPYQAAD2EBqD%2BnaQAAAyRJREFUeJzt3DFIG1Ecx/HfeWLVq7UQk5JNzy7FpaOCiKuz0EwO3d3cA3XRLQiOQqcgKXR2Cx0cNASs6VY6CC5tgiiSooLH6yad/k0KuZeD72d%2BufcPvi/mQpLAOeeUsna7rVqtplKppEKhkPb2yBif5yXwEQiQFSO%2BBwCG2ajvAZBNzjklSdLXY8IwVBAEA5poMAgE/yVJEpU/fdXF1V1P62dzE9p%2B91ajo9k6ctmaFkPl4upO33/%2B9j3GQHEPAhgIBDAQCGAgEMBAIICBQAADgQAGAgEMBAIYCAQwEAhgIBDAQCCAgUAAA4EABgIBDAQCGAgEMBAIYCAQwEAggIFAAAOBAAYCAQwEAhgIBDAQCGAgEMBAIICBQAADgQAGAgEMBAIYCAQwEAhgIBDAQCCAgUAAA4EABgIBDKO%2BB8BwcM4pSZKe1/ezNssIxJN%2BD6QkhWGoIAgGcv0kSfTh8zddXN31tH4xftnztbNsqALpdrt9/VHHx8cVhuEAJxqcJEn08csP/bp96Gn9qxfP9H71dc/Pt9/rvyk%2B72nd32ZzEwNZO0wC55xLe9N2u61araZSqaRCoZD29sgYn%2BfFy016p9PR/v6%2BOp2Oj%2B2RMT7PC%2B9iAQYCAQwEAhgIBDB4CSSfz2tzc1P5fN7H9sgYn%2BfFy9u8QFbwEgswEAhgIBDAQCCAgUAAA4EABgIBDF6%2BD3J7e6tyuaxms6nj42MfIyAjKpWKGo2GRkZGlMvltLOzoyiKUtvfy3%2BQra0tLS8v%2B9gaGXJ2dqbT01MdHh6qWq0qiiJVq9VUZ/ASyN7enpaWlnxsjQyZnp7W/f29Hh4e5JxTt9tVLpdLdQYvL7EmJyd1fX3tY2tkSBzHWltb08rKiqIoUhzHWl9fT3UGbtIxtFqtlo6OjlSv11Wv11UsFnVwcJDqDASCodVoNLS4uPh0U766uqpms5nqDN4C4UPE%2BJf5%2BXm1Wq2nX7o5Pz9XHMepzpD6x91vbm60sbGhx8dHXV5eam5uTgsLC9rd3U1zDGREpVLRycmJxsbGNDMzo%2B3tbU1NTaW2P98HAQzcgwAGAgEMfwAwl%2BuQN%2BscnQAAAABJRU5ErkJggg%3D%3D\">\n",
       "\n",
       "        </div>\n",
       "       <div class=\"col-md-12 text-right\">\n",
       "            <a role=\"button\" data-toggle=\"collapse\" data-target=\"#descriptives9344056137084413,#minihistogram9344056137084413\" aria-expanded=\"false\" aria-controls=\"collapseExample\">\n",
       "                Toggle details\n",
       "            </a>\n",
       "        </div>\n",
       "        <div class=\"row collapse col-md-12\" id=\"descriptives9344056137084413\">\n",
       "            <div class=\"col-sm-4\">\n",
       "                  <p class=\"h4\">Quantile statistics</p>\n",
       "                  <table class=\"stats indent\">\n",
       "                        <tr><th>Minimum</th>\n",
       "                        <td>12612628</td></tr>\n",
       "                        <tr><th>5-th percentile</th>\n",
       "                        <td>66545000</td></tr>\n",
       "                        <tr><th>Q1</th>\n",
       "                        <td>68696000</td></tr>\n",
       "                        <tr><th>Median</th>\n",
       "                        <td>69937000</td></tr>\n",
       "                        <tr><th>Q3</th>\n",
       "                        <td>71626000</td></tr>\n",
       "                        <tr><th>95-th percentile</th>\n",
       "                        <td>72479000</td></tr>\n",
       "                        <tr><th>Maximum</th>\n",
       "                        <td>72705235</td></tr>\n",
       "                        <tr><th>Range</th>\n",
       "                        <td>60092607</td></tr>\n",
       "                        <tr><th>Interquartile range</th>\n",
       "                        <td>2930600</td></tr>\n",
       "                  </table>\n",
       "                  <p class=\"h4\">Descriptive statistics</p>\n",
       "                  <table class=\"stats indent\">\n",
       "                        <tr><th>Standard deviation</th>\n",
       "                        <td>3129800</td></tr>\n",
       "                        <tr><th>Coef of variation</th>\n",
       "                        <td>0.044903</td></tr>\n",
       "                        <tr><th>Kurtosis</th>\n",
       "                        <td>36.752</td></tr>\n",
       "                        <tr><th>Mean</th>\n",
       "                        <td>69701000</td></tr>\n",
       "                        <tr><th>MAD</th>\n",
       "                        <td>1832100</td></tr>\n",
       "                        <tr class=\"\"><th>Skewness</th>\n",
       "                        <td>-4.7066</td></tr>\n",
       "                        <tr><th>Sum</th>\n",
       "                        <td>17060677366074</td></tr>\n",
       "                        <tr><th>Variance</th>\n",
       "                        <td>9.7957e+12</td></tr>\n",
       "                        <tr><th>Memory size</th>\n",
       "                        <td>1.9 MiB</td></tr>\n",
       "                 </table>\n",
       "            </div>\n",
       "             <div class=\"col-sm-8 histogram\">\n",
       "                 <img src=\"data:image/png;base64,iVBORw0KGgoAAAANSUhEUgAAAlgAAAGQCAYAAAByNR6YAAAABHNCSVQICAgIfAhkiAAAAAlwSFlzAAAPYQAAD2EBqD%2BnaQAAIABJREFUeJzt3X9c1fXd//HnAUKIX3oMSJE20hQE5NqlTVgWl1jmlhH2AyVv3jbHZjORmcgoE3XLlssfzeSW5dwu/K42FQorS62Gl5pjV7m69AA6dqXNy18HCk5iUMLhfP%2Bozjw7/oD84Icjj/vt5o1b7/fn83m/zqsD58nn8%2BEci8vlcgkAAACG8TO7AAAAgCsNAQsAAMBgBCwAAACDEbAAAAAMRsACAAAwGAELAADAYAQsAAAAgxGwAAAADEbAAgAAMBgBCwAAwGAELAAAAIMRsAAAAAxGwAIAADAYAQsAAMBgBCwAAACDEbAAAAAMRsACAAAwGAELAADAYAQsAAAAgxGwAAAADEbAAgAAMBgBCwAAwGAELAAAAIMRsAAAAAxGwAIAADAYAQsAAMBgBCwAAACDEbAAAAAMRsACAAAwGAELAADAYAQsAAAAgxGwAAAADEbAAgAAMJhpAev48ePKy8vT6NGj9Z3vfEdFRUVqbm7WO%2B%2B8o/j4eKWkpCglJUUjRoxQSkqKtm/f7t63tLRUEyZM0KhRozR16lTZbDb33JkzZ1RcXKz09HSlpaUpPz9fjY2N7vmjR49qxowZGj16tDIyMvTkk0/K5XK55/fs2aP77rtPI0eO1J133qnNmzdf8mOtr6/X6tWrVV9ff8nHulLQE0/0wxs98UQ/vNETT/TDm6k9cZnkrrvucj3yyCOu1tZW10cffeS69957XQsWLHD993//tysjI%2BO8%2B7355puub3/72679%2B/e7Pv/8c9e6detcN910k6ulpcXlcrlcjz/%2BuOvee%2B91nTx50nXq1ClXfn6%2B64EHHnDvP2nSJNfChQtdp0%2Bfdh05csR1%2B%2B23u373u9%2B5XC6X6%2BTJk65/%2B7d/c7300kuuzz//3FVVVeVKSUlx2Wy2S3qs1dXVrqFDh7qqq6sv6ThXEnriiX54oyee6Ic3euKJfngzsyemnME6ffq0EhMTNW/ePAUFBal///7KysrSu%2B%2B%2Be9F9y8vLdffddys5OVmBgYHKzc2Vn5%2BfduzYIafTqYqKCs2aNUvR0dEKCwvTnDlztHPnTjU0NMhms6murk6FhYUKCQlRbGyspk%2BfrrKyMknSli1bFBcXp0mTJikwMFCpqakaN26cysvLu7slAADgCmJKwAoNDdXjjz8uq9XqHjt27Jiio6MlfRHA8vLylJqaqvT0dJWWlrq3q66u1vDhwz2OFx8fL5vNpiNHjqi5uVkJCQnuubi4OAUFBammpka1tbWKiYlRaGioez4hIUGHDx9WS0uLamtrlZiY6HHshIQEj0uQAAAAF9MjbnK32Wz64x//qJkzZyokJERDhgzRtGnTtHv3bj322GNavXq1XnzxRUmSw%2BFQeHi4x/4RERFyOBxyOByyWCyKiIjwmA8PD1dTU9M59%2B3bt68knXc%2BIiJCTU1NRj9kAABwBQswu4C//vWvevDBBzVv3jylpqZKkl544QX3/C233KIpU6bopZde0j333NOpY7rOumm9K3Odmb%2BY%2Bvp6NTQ0eIx98MEHl3RMAADw9Z3rdTgyMlJRUVHdtqapAauyslI/%2B9nPtHDhQmVmZp53u0GDBunNN9%2BUJFmtVq8zSg6HQ0OHDpXVapXL5ZLD4VBwcLB7/pNPPpHValV7e7scDofXvhaLRVarVf369TvnfP/%2B/Tv9mDZu3KiSkhKv8VmzZnldfuzNEhMT9be//c3sMnoM%2BuGNnniiH97oiSf64S0xMVE33nijCgsLveby8vI0e/bsblvbtID13nvv6ZFHHtHq1auVlpbmHt%2B%2Bfbuam5t17733usc%2B%2BOADxcbGSpKSkpJUU1OjrKwsSVJHR4dqa2uVnZ2t2NhYRUREqKamRgMGDJAk1dXVqa2tTcnJybLb7Tpx4oQcDof70uD%2B/fs1ePBgBQcHKykpSRUVFR512mw2paSkdPpxTZ48WRkZGV7jkZGROnWqVU5nR6ePdSXz9/dTeHgwPfkS/fBGTzzRD2/0xBP98Obv76eVK1d6XVmSvnhd7k6mBCyn06ni4mLNmzfPI1xJUkBAgJ544gldd911GjlypP7yl7%2BooqJCy5YtkyTl5OSooKBAEydO1LBhw7Ru3Tr16dNH6enp8vPzU3Z2ttasWaOkpCT16dNHK1eu1Pjx42W1WmW1WpWcnKwVK1aoqKhIdrtdpaWlys3NlSRlZmaqpKRE5eXlyszMVFVVlXbv3q1NmzZ1%2BrFFRUWd95RjU9Onam/nSX82p7ODnpyFfnijJ57ohzd64ol%2BeLrQ63J3srgu9aajr2Hv3r2aNm2aAgMD5XK5ZLFY3F%2B3bdumt99%2BW7/97W918uRJXXPNNcrLy3OfsZKkDRs26LnnnlNjY6OSk5O1ePFiDRkyRJLU1tampUuXasuWLXI6nRo7dqwWLVrk/stBu92u4uJivfPOOwoNDVVOTo5mzZrlUduSJUt06NAhxcTEqKCgQLfeeqshj5uA9U8BAX7q1y%2BEnnyJfnijJ57ohzd64ol%2BePuqJ2YwJWD1Vjzp/4kfBJ7ohzd64ol%2BeKMnnuiHNzMDVo94mwYAAIArCQELAADAYAQsAAAAgxGwAAAADEbAAgAAMBgBCwAAwGAELAAAAIMRsAAAAAxGwAIAADAYAQsAAMBgBCwAAACDEbAAAAAMRsACAAAwGAELAADAYAQsAAAAgxGwAAAADEbAAgAAMBgBCwAAwGAELAAAAIMFmF0AAAC9i6ubjtuh9vZ2SR0GrmEx6Di9DwELAIDL7Kk36/Thx61ml3Fe3%2BwfrIduG2p2GT6NgAUAwGX24cetqjv5qdlloBtxDxYAAIDBCFgAAAAGI2ABAAAYjIAFAABgMAIWAACAwQhYAAAABiNgAQAAGIyABQAAYDACFgAAgMEIWAAAAAYjYAEAABiMgAUAAGAwAhYAAIDBCFgAAAAGI2ABAAAYjIAFAABgMAIWAACAwQhYAAAABiNgAQAAGIyABQAAYDACFgAAgMEIWAAAAAYjYAEAABiMgAUAAGAwAhYAAIDBCFgAAAAGI2ABAAAYjIAFAABgMAIWAACAwQhYAAAABiNgAQAAGMy0gHX8%2BHHl5eVp9OjR%2Bs53vqOioiKdPn1akrRnzx7dd999GjlypO68805t3rzZY9/S0lJNmDBBo0aN0tSpU2Wz2dxzZ86cUXFxsdLT05WWlqb8/Hw1Nja6548ePaoZM2Zo9OjRysjI0JNPPimXy%2BWev9jaAAAAF2NawHrwwQcVHh6unTt36tVXX9WhQ4f0q1/9SvX19crLy9P999%2BvqqoqPfroo1q8eLGqq6slSW%2B99ZbWrFmjZcuW6c9//rMyMjI0c%2BZMtba2SpKWL1%2BugwcPatOmTXrjjTdksVg0f/5897r5%2BfkaMGCAKisrtX79elVWVqq0tFSSZLfbL7g2AABAZ5gSsE6fPq3ExETNmzdPQUFB6t%2B/v7KysvTuu%2B9qy5YtiouL06RJkxQYGKjU1FSNGzdO5eXlkqTy8nLdfffdSk5OVmBgoHJzc%2BXn56cdO3bI6XSqoqJCs2bNUnR0tMLCwjRnzhzt3LlTDQ0NstlsqqurU2FhoUJCQhQbG6vp06errKxMki66NgAAQGeYErBCQ0P1%2BOOPy2q1useOHz%2Bu6Oho1dTUKDEx0WP7hIQE92XA6upqDR8%2B3GM%2BPj5eNptNR44cUXNzsxISEtxzcXFxCgoKUk1NjWpraxUTE6PQ0FCPYx8%2BfFgtLS2qra294NoAAACd0SNucrfZbPrDH/6gn/zkJ3I4HAoPD/eYj4iIUFNTkySdd97hcMjhcMhisSgiIsJjPjw8XE1NTefct2/fvpJ03vmz1wYAAOiMALML%2BOtf/6oHH3xQ8%2BbNU1pamtatW%2Bdx0/nXcaH9L3bsS127vr5eDQ0NXuORkZEKCgq7pGNfSfz9/Ty%2B9nb0wxs98UQ/vPluTzrMLqBTAgIs6iHnYb42f3%2B/C74uR0VFddvapgasyspK/exnP9PChQuVmZkpSerXr58cDofHdg6HQ/3795ckWa1WrzNKDodDQ4cOldVqlcvlksPhUHBwsHv%2Bk08%2BkdVqVXt7%2BzmPbbFYZLVaL7p2Z2zcuFElJSVe43l5eZo9e3anj9NbhIcHX3yjXoR%2BeKMnnuiHN1/rSXt7u9kldEpYWLACAkw/D3PJ1q9fZ8rrsmmde%2B%2B99/TII49o9erVSktLc48nJSWpoqLCY1ubzaaUlBT3fE1NjbKysiRJHR0dqq2tVXZ2tmJjYxUREaGamhoNGDBAklRXV6e2tjYlJyfLbrfrxIkTcjgc7kuD%2B/fv1%2BDBgxUcHHzRtTtj8uTJysjI8BqPjIzUqVOtcjp94zeX7ubv76fw8GB68iX64Y2eeKIf3ny3J75Ra3Nzq66EM1gXel3uTqYELKfTqeLiYvdlwbNlZmaqpKRE5eXlyszMVFVVlXbv3q1NmzZJknJyclRQUKCJEydq2LBhWrdunfr06aP09HT5%2BfkpOztba9asUVJSkvr06aOVK1dq/PjxslqtslqtSk5O1ooVK1RUVCS73a7S0lLl5uZ2au3OiIqKOu8px6amT9Xe7hvfWJeL09lBT85CP7zRE0/0w5vv9eTSbkW5XNrbXfKVMHghF3pd7k4W16XedPQ17N27V9OmTVNgYKBcLpcsFov767Zt23Ts2DEtWbJEhw4dUkxMjAoKCnTrrbe699%2BwYYOee%2B45NTY2Kjk5WYsXL9aQIUMkSW1tbVq6dKm2bNkip9OpsWPHatGiRe6/HLTb7SouLtY777yj0NBQ5eTkaNasWR61XWjtS0HA%2BqeAAD/16xdCT75EP7zRE0/0w5vv9sSln27Yp7qTn5pdyHkNvTZEq6akSLKYXcol%2Beo5YgZTAlZv5Xs/BLqP7/5g7B70wxs98UQ/vPluTwhYl4uZAcu3L64CAAD0QAQsAAAAgxGwAAAADEbAAgAAMBgBCwAAwGAELAAAAIMRsAAAAAxGwAIAADAYAQsAAMBgBCwAAACDEbAAAAAMRsACAAAwGAELAADAYAQsAAAAgxGwAAAADEbAAgAAMBgBCwAAwGAELAAAAIMRsAAAAAxGwAIAADAYAQsAAMBgBCwAAACDEbAAAAAMRsACAAAwGAELAADAYAQsAAAAgxGwAAAADEbAAgAAMBgBCwAAwGAELAAAAIMRsAAAAAxGwAIAADAYAQsAAMBgBCwAAACDEbAAAAAMRsACAAAwGAELAADAYAQsAAAAgxGwAAAADEbAAgAAMBgBCwAAwGAELAAAAIMRsAAAAAxGwAIAADAYAQsAAMBgBCwAAACDEbAAAAAMRsACAAAwGAELAADAYAQsAAAAgxGwAAAADEbAAgAAMBgBCwAAwGCmBaxdu3bppptuUkFBgcf4O%2B%2B8o/j4eKWkpCglJUUjRoxQSkqKtm/f7t6mtLRUEyZM0KhRozR16lTZbDb33JkzZ1RcXKz09HSlpaUpPz9fjY2N7vmjR49qxowZGj16tDIyMvTkk0/K5XK55/fs2aP77rtPI0eO1J133qnNmzd3YxcAAMCVyJSAtXbtWi1btkzXX3/9OedjYmK0b98%2B7du3T/v379e%2Bfft0%2B%2B23S5LeeustrVmzRsuWLdOf//xnZWRkaObMmWptbZUkLV%2B%2BXAcPHtSmTZv0xhtvyGKxaP78%2Be5j5%2Bfna8CAAaqsrNT69etVWVmp0tJSSZLdbldeXp7uv/9%2BVVVV6dFHH9XixYtVXV3dvQ0BAABXFFMCVt%2B%2BfVVWVqZBgwZ1ed/y8nLdfffdSk5OVmBgoHJzc%2BXn56cdO3bI6XSqoqJCs2bNUnR0tMLCwjRnzhzt3LlTDQ0NstlsqqurU2FhoUJCQhQbG6vp06errKxMkrRlyxbFxcVp0qRJCgwMVGpqqsaNG6fy8nKjWwAAAK5gpgSs7OxsBQUFnXf%2B9OnTysvLU2pqqtLT091nmCSpurpaw4cP99g%2BPj5eNptNR44cUXNzsxISEtxzcXFxCgoKUk1NjWpraxUTE6PQ0FD3fEJCgg4fPqyWlhbV1tYqMTHR49gJCQkelyABAAAupksBq7m5ubvqcAsJCdGQIUM0bdo07d69W4899phWr16tF198UZLkcDgUHh7usU9ERIQcDoccDocsFosiIiI85sPDw9XU1HTOffv27StJ552PiIhQU1OT0Q8TAABcwQK6svGYMWM0YcIE3XfffRo1alS3FJSYmKgXXnjB/d%2B33HKLpkyZopdeekn33HNPp45x9k3rXZnrzPzF1NfXq6GhwWs8MjJSQUFhl3TsK4m/v5/H196OfnijJ57ohzff7UmH2QV0SkCARb7%2BZgP%2B/n4XfF2OiorqtrW7FLB%2B/vOf67XXXtMPfvADxcbGKjs7W3fddZesVmt31SdJGjRokN58801JktVq9Tqj5HA4NHToUFmtVrlcLjkcDgUHB7vnP/nkE1mtVrW3t8vhcHjta7FYZLVa1a9fv3PO9%2B/fv9O1bty4USUlJV7jeXl5mj17dqeP01uEhwdffKNehH54oyee6Ic3X%2BtJe3u72SV0SlhYsAICuhQTeqT169eZ8rrcpc5lZWUpKytLjY2N2rp1q1577TU99dRTGjdunLKzs5WWlnbJBW3fvl3Nzc2699573WMffPCBYmNjJUlJSUmqqalRVlaWJKmjo0O1tbXKzs5WbGysIiIiVFNTowEDBkiS6urq1NbWpuTkZNntdp04cUIOh8N9aXD//v0aPHiwgoODlZSUpIqKCo96bDabUlJSOl3/5MmTlZGR4TUeGRmpU6da5XT6xm8u3c3f30/h4cH05Ev0wxs98UQ/vPluT3yj1ubmVl0JZ7Au9Lrcnb5WNLVarZo6daqmTp2q7du3a%2BHChdq2bZvi4uI0Z84cjR8//oL72%2B12uVwutba2qq2tTXa7XZIUHR2tgIAAPfHEE7ruuus0cuRI/eUvf1FFRYWWLVsmScrJyVFBQYEmTpyoYcOGad26derTp4/S09Pl5%2Ben7OxsrVmzRklJSerTp49Wrlyp8ePHy2q1ymq1Kjk5WStWrFBRUZHsdrtKS0uVm5srScrMzFRJSYnKy8uVmZmpqqoq7d69W5s2bep0b6Kios57yrGp6VO1t/vGN9bl4nR20JOz0A9v9MQT/fDmez25tFtRLpf2dpd8JQxeyIVel7vT1wpYjY2Nqqio0EsvvaQPP/xQN998syZPnqxjx45pwYIFOnbsmKZPn37e/dPT02WxWNz//ac//UkWi0UHDhzQuHHj9PDDD2vhwoU6efKkrrnmGhUXF7vT580336y5c%2Bdqzpw5amxsVHJystauXavAwEBJX7zPVUtLi%2B666y45nU6NHTtWixYtcq%2B1atUqFRcXa8yYMQoNDVVOTo5ycnIkfREcn332WS1ZskS/%2BMUvFBMTo2XLlumGG274Om0CAAC9lMXVhbu6d%2B3apfLycu3YsUMRERG69957NXnyZPflOEn6y1/%2BosLCQu3evbtbCvZlnMH6p4AAP/XrF0JPvkQ/vNETT/TDm%2B/2xKWfbtinupOfml3IeQ29NkSrpqRIslx0257sq%2BeIKWt3ZeMHHnhAqampWr58uW699Vb5%2B/t7bTNy5EiPG8wBAAB6my4FrG3btukb3/iGzpw54w5Xp0%2Bf9njjzquuukpvvPGGsVUCAAD4kC79eYCfn5%2B%2B973vqbKy0j22adMmfe9739P//d//GV4cAACAL%2BpSwHr88cc1bNgwjRw50j2WmZmpESNG6IknnjC8OAAAAF/UpUuE77//vv7rv/7L4x6ra665RgsXLtTYsWMNLw4AAMAXdekMlsvl0pkzZ7zGT58%2BLafTaVhRAAAAvqxLAevmm29WUVGRDh48qNOnT%2BvUqVN67733NHfuXP3Hf/xHN5UIAADgW7p0iXD%2B/PmaNWuWsrKyPN4odNSoUR5v5gkAANCbdSlg9e/fXxs2bNDBgwf1j3/8Q/7%2B/vrmN7%2BpIUOGdFd9AAAAPudrfVROfHy84uPjja4FAADgitClgGWz2bRkyRLV1dXps88%2B85o/cOCAYYUBAAD4qi4FrOLiYl199dWaPXu2rr766u6qCQAAwKd1KWB9%2BOGHevvttz0%2BGgcAAACeuvQ2DQMHDuyuOgAAAK4YXQpYDz30kH75y1/q9OnT3VUPAACAz%2BvSJcI1a9bo6NGj2rx5s/r27Ss/P8989vbbbxtaHAAAgC/qUsDKyMjorjoAAACuGF0KWHl5ed1VBwAAwBWjS/dgSdKePXtUWFioadOmSZI6Ojr0%2BuuvG14YAACAr%2BpSwHrttdc0Y8YMNTc363/%2B538kSSdPntSiRYtUVlbWLQUCAAD4mi4FrOeee07Lly/Xs88%2B6/6w54EDB%2Brpp5/W7373u24pEAAAwNd0KWAdOXJE48ePlyR3wJKk0aNH6%2BjRo8ZWBgAA4KO6FLD69eunxsZGr/HDhw8rJCTEsKIAAAB8WZcCVmpqqh599FH97//%2BryTJ4XDo7bff1pw5czR27NhuKRAAAMDXdClgFRUVqbW1VRMnTtTnn3%2ButLQ0/ehHP1JMTIwefvjh7qoRAADAp3TpfbD69u2r3//%2B9zp48KAOHTqkoKAgxcXFKS4urrvqAwAA8DldClhfiY%2BPV3x8vNG1AAAAXBG6FLDi4%2BM9/nrwXx04cOCSCwIAAPB1XQpYixYt8ghYTqdThw8f1q5duzRz5kzDiwMAAPBFXQpYOTk55xx/5513tHHjRk2aNMmQogAAAHxZlz%2BL8FxuvPFG7dy504hDAQAA%2BDxDAlZlZaUCAr7W/fIAAABXnC6lojFjxniNffbZZ/r000/Pe/kQAACgt%2BlSwJo8ebLXXxH26dNHgwcPVkZGhqGFAQAA%2BKouBazZs2d3Vx0AAABXjC4FrJKSkk5tZ7FYNGvWrK9VEAAAgK/rUsDavHmzGhoa9PnnnysiIkIdHR1qbm5WUFCQQkNDPbYlYAEAgN6qSwFr7ty52rFjhx5%2B%2BGH1799fknTy5EktXbpUt912m%2B64445uKRIAAMCXdOltGlatWqUFCxa4w5UkXXvttVq4cKGeeuopw4sDAADwRV0KWCdOnJC/v7/X%2BFVXXaWPP/7YsKIAAAB8WZcC1g033KCioiLV1NTo1KlTOn36tA4ePKj58%2Bdr2LBh3VUjAACAT%2BnSPViPPfaYCgoKdM8997jfD8vlcmngwIF65plnuqVAAAAAX9OlgDV8%2BHBt3bpV1dXVOnHihFwul6699lolJSXJz8%2BQT90BAADweV/rAwTDw8PV3NystLQ0o%2BsBAADweV067dTY2KgpU6Zo/Pjx%2BvGPfyxJamho0MSJE3XixIluKRAAAMDXdClgLV26VEFBQSorK3NfEgwLC9Pw4cP1q1/9qlsKBAAA8DVdukS4a9cuvfzyy4qOjnbf5B4UFKRHHnlEt912W7cUCAAA4Gu6dAarra1NUVFRXuNBQUFqa2szrCgAAABf1qWANXjwYL3xxhte4xs3btT1119vWFEAAAC%2BrEuXCH/4wx%2BqsLBQr7/%2BupxOpx577DHV1NRo//79%2BvWvf91dNQIAAPiULp3BmjBhgp577jk5nU5dd911ev/99xUTE6MNGzZo/Pjx3VUjAACAT%2Bn0GayOjg5VV1crLS2N978CAAC4gE6fwfLz89P3v/99OZ3O7qwHAADA53XpEuFdd92l0tJSuVyuS154165duummm1RQUOA1t2fPHt13330aOXKk7rzzTm3evNljvrS0VBMmTNCoUaM0depU2Ww299yZM2dUXFys9PR0paWlKT8/X42Nje75o0ePasaMGRo9erQyMjL05JNPejyei60NAABwMV26yf3kyZN666239Jvf/EYDBw5UYGCgx/yGDRs6dZy1a9fq1VdfPedfHtbX1ysvL08LFy7UHXfcoffee08/%2BclPNGTIECUlJemtt97SmjVrtG7dOg0bNky///3vNXPmTL355psKDg7W8uXLdfDgQW3atElXX321FixYoPnz5%2BvZZ5%2BVJOXn5ys5OVlPPfWUGhsb9eMf/1iRkZGaPn267Hb7BdcGAADojC6dwerXr59uvvlmjR07VsOGDVNcXJzHv87q27evysrKNGjQIK%2B5LVu2KC4uTpMmTVJgYKBSU1M1btw4lZeXS5LKy8t19913Kzk5WYGBgcrNzZWfn5927Nghp9OpiooKzZo1S9HR0QoLC9OcOXO0c%2BdONTQ0yGazqa6uToWFhQoJCVFsbKymT5%2BusrKyTq0NAADQGZ06g5Wfn6%2Bnn35aTzzxhHvs6aefVn5%2B/tdaNDs7%2B7xzNTU1SkxM9BhLSEjQ1q1bJUnV1dW64447PObj4%2BNls9mUkJCg5uZmJSQkuOfi4uIUFBSkmpoa2e12xcTEKDQ01OPYhw8fVktLi2pray%2B4NgAAQGd06gzWzp07vcZ%2B%2B9vfGl6MJDkcDoWHh3uMRUREqKmp6YLzDodDDodDFotFERERHvPh4eFqamo65759%2B/aVpPPOn702AABAZ3TpHqyzGXGje3cd%2B0L7X%2BzYl7p2fX29GhoavMYjIyMVFBR2Sce%2Bkvj7%2B3l87e3ohzd64ol%2BePPdnnSYXUCnBARY1MU7iXocf3%2B/C74un%2Bvj/4zytQPWVx/2bLR%2B/frJ4XB4jDkcDvXv31%2BSZLVavc4oORwODR06VFarVS6XSw6HQ8HBwe75Tz75RFarVe3t7ec8tsVikdVqvejanbFx40aVlJR4jefl5Wn27NmdPk5vER4efPGNehH64Y2eeKIf3nytJ%2B3t7WaX0ClhYcEKCPjaMaHHWL9%2BnSmvyz2uc0lJSaqoqPAYs9lsSklJcc/X1NQoKytL0hdvgFpbW6vs7GzFxsYqIiJCNTU1GjBggCSprq5ObW1tSk5Olt1u14kTJ%2BRwONyXBvfv36/BgwcrODj4omt3xuTJk5WRkeE1HhkZqVOnWuV0%2BsZvLt3N399P4eHB9ORL9MMbPfFEP7z5bk98o9bm5lZdCWewLvS63J1MCVh2u113KXipAAAUhklEQVQul0utra1qa2uT3W6XJEVHRyszM1MlJSUqLy9XZmamqqqqtHv3bm3atEmSlJOTo4KCAk2cOFHDhg3TunXr1KdPH6Wnp8vPz0/Z2dlas2aNkpKS1KdPH61cuVLjx4%2BX1WqV1WpVcnKyVqxYoaKiItntdpWWlio3N1eSLrp2Z0RFRZ33lGNT06dqb/eNb6zLxensoCdnoR/e6Ikn%2BuHN93rSfbfYGKm93SVfCYMXcqHX5e5kcXXipqPhw4fru9/9rsfY1q1bvcZWrFjRqUXj4%2BM9LjG6XC5ZLBYdOHBAkrR3714tWbJEhw4dUkxMjAoKCnTrrbe6t9%2BwYYOee%2B45NTY2Kjk5WYsXL9aQIUMkSW1tbVq6dKm2bNkip9OpsWPHatGiRe6/HLTb7SouLtY777yj0NBQ5eTkaNasWe5jX2ztS0HA%2BqeAAD/16xdCT75EP7zRE0/0w5vv9sSln27Yp7qTn5pdyHkNvTZEq6akSOqe24Eul6%2BeI2boVMCaNm1apw72%2B9///pILupL53g%2BB7uO7Pxi7B/3wRk880Q9vvtsTAtblYmbA6tQlQoITAABA5/n23WsAAAA9EAELAADAYAQsAAAAgxGwAAAADEbAAgAAMBgBCwAAwGAELAAAAIMRsAAAAAxGwAIAADAYAQsAAMBgBCwAAACDEbAAAAAMRsACAAAwGAELAADAYAQsAAAAgxGwAAAADEbAAgAAMBgBCwAAwGAELAAAAIMRsAAAAAxGwAIAADAYAQsAAMBgBCwAAACDEbAAAAAMRsACAAAwGAELAADAYAQsAAAAgxGwAAAADEbAAgAAMBgBCwAAwGAELAAAAIMRsAAAAAxGwAIAADAYAQsAAMBgBCwAAACDEbAAAAAMRsACAAAwGAELAADAYAQsAAAAgxGwAAAADEbAAgAAMBgBCwAAwGAELAAAAIMRsAAAAAxGwAIAADAYAQsAAMBgBCwAAACDEbAAAAAMRsACAAAwGAELAADAYAQsAAAAgxGwAAAADNZjA1Z8fLxGjBihlJQU99clS5ZIkvbs2aP77rtPI0eO1J133qnNmzd77FtaWqoJEyZo1KhRmjp1qmw2m3vuzJkzKi4uVnp6utLS0pSfn6/Gxkb3/NGjRzVjxgyNHj1aGRkZevLJJ%2BVyuS7PgwYAAFeEHhuwLBaLtm/frn379mn//v3at2%2BfFixYoPr6euXl5en%2B%2B%2B9XVVWVHn30US1evFjV1dWSpLfeektr1qzRsmXL9Oc//1kZGRmaOXOmWltbJUnLly/XwYMHtWnTJr3xxhuyWCyaP3%2B%2Be938/HwNGDBAlZWVWr9%2BvSorK1VaWmpGCwAAgI/qsQHL5XKd88zRli1bFBcXp0mTJikwMFCpqakaN26cysvLJUnl5eW6%2B%2B67lZycrMDAQOXm5srPz087duyQ0%2BlURUWFZs2apejoaIWFhWnOnDnauXOnGhoaZLPZVFdXp8LCQoWEhCg2NlbTp09XWVnZ5X74AADAh/XYgCV9cbZp7NixuvHGG7Vw4UK1tLSopqZGiYmJHtslJCS4LwNWV1dr%2BPDhHvPx8fGy2Ww6cuSImpublZCQ4J6Li4tTUFCQampqVFtbq5iYGIWGhnoc%2B/Dhw2ppaenGRwoAAK4kPTZgJScnKzU1Vdu3b9cf//hHvf/%2B%2B1q8eLEcDofCw8M9to2IiFBTU5MknXfe4XDI4XDIYrEoIiLCYz48PFxNTU3n3Ldv376S5D4%2BAADAxQSYXcD5nH1ZbsiQIZo3b54efPBBjRo16pJvOr/Q/pd67Pr6ejU0NHiNR0ZGKigo7JKOfSXx9/fz%2BNrb0Q9v9MQT/fDmuz3pMLuATgkIsKgHn4fpFH9/vwu%2BLkdFRXXb2j02YP2rQYMGyel0ys/PTw6Hw2PO4XCof//%2BkiSr1ep1tsnhcGjo0KGyWq1yuVxyOBwKDg52z3/yySeyWq1qb28/57EtFousVmun6ty4caNKSkq8xvPy8jR79uxOHaM3CQ8PvvhGvQj98EZPPNEPb77Wk/b2drNL6JSwsGAFBPhMTDiv9evXmfK63CM7d/DgQb3%2B%2BuuaO3eue%2ByDDz5Qnz59lJ6erpdeeslje5vNppSUFElSUlKSampqlJWVJUnq6OhQbW2tsrOzFRsbq4iICNXU1GjAgAGSpLq6OrW1tSk5OVl2u10nTpyQw%2BFwXxrcv3%2B/Bg8e7BHILmTy5MnKyMjwGo%2BMjNSpU61yOn3jN5fu5u/vp/DwYHryJfrhjZ54oh/efLcnvlFrc3OrroQzWBd6Xe5OPTJg9evXT88//7yioqKUnZ2to0ePavXq1crJyVFmZqZKSkpUXl6uzMxMVVVVaffu3dq0aZMkKScnRwUFBZo4caKGDRumdevWuYOZn5%2BfsrOztWbNGiUlJalPnz5auXKlxo8fL6vVKqvVquTkZK1YsUJFRUWy2%2B0qLS1Vbm5up2uPioo67ynHpqZP1d7uG99Yl4vT2UFPzkI/vNETT/TDm%2B/1xDfeW7G93SVfCYMXcqHX5e7UIwNWdHS01q5dq%2BXLl2vlypUKCgrSPffco/z8fF111VV69tlntWTJEv3iF79QTEyMli1bphtuuEGSdPPNN2vu3LmaM2eOGhsblZycrLVr1yowMFDSF%2B9z1dLSorvuuktOp1Njx47VokWL3GuvWrVKxcXFGjNmjEJDQ5WTk6OcnBxT%2BgAAAHyTxcXblF82nMH6p4AAP/XrF0JPvkQ/vNETT/TDm%2B/2xKWfbtinupOfml3IeQ29NkSrpqRIsphdyiX56jliBt%2B%2BuAoAANADEbAAAAAMRsACAAAwGAELAADAYAQsAAAAgxGwAAAADEbAAgAAMBgBCwAAwGAELAAAAIMRsAAAAAxGwAIAADAYAQsAAMBgBCwAAACDEbAAAAAMRsACAAAwGAELAADAYAQsAAAAgxGwAAAADEbAAgAAMBgBCwAAwGAELAAAAIMRsAAAAAxGwAIAADAYAQsAAMBgBCwAAACDEbAAAAAMRsACAAAwGAELAADAYAQsAAAAgxGwAAAADEbAAgAAMBgBCwAAwGAELAAAAIMRsAAAAAxGwAIAADAYAQsAAMBgBCwAAACDEbAAAAAMRsACAAAwGAELAADAYAQsAAAAgxGwAAAADEbAAgAAMBgBCwAAwGAELAAAAIMFmF0AAADGcZldQCf4Qo24VAQsAMAV5ak36/Thx61ml3Feqdf3NbsEXAYELADAFeXDj1tVd/JTs8s4r%2Bv6B5tdAi4D7sECAAAwGAELAADAYAQsAAAAgxGwAAAADEbAAgAAMBgB618cPXpUM2bM0OjRo5WRkaEnn3xSLhfvWQIAADqPgPUv8vPzNWDAAFVWVmr9%2BvWqrKxUaWmp2WUBAAAfQsA6i81mU11dnQoLCxUSEqLY2FhNnz5dZWVlZpcGAAB8CG80epba2lrFxMQoNDTUPZaQkKDDhw%2BrpaVFV199tYnVAfh6fOkSv8XsAi6gJ/axQ%2B3t7ZI69M/6emKd6I0IWGdxOBwKDw/3GOvb94uPNGhqaiJgAT6qp390yvXXBOunt95wka3OFSYuJ5eeevPvPbqPEh9Dg56DgPUvLvWG9vr6ejU0NHiNR0ZGKigo7JKOLbnU0eG8xGN0Pz8/iy72m7ifn9Te3i4/PymAZyH9OIfe1JOo8D568b2jsp/63OxSzithQOjFN%2BohvtnDP4pmYESfHn9/zjf7BysgwCJfv5PI39/vgq/LUVFR3bb2Ff5jq2usVqscDofHmMPhkMVikdVq7dQxNm7cqJKSEq/xG2%2B8UStXruzW/5m%2BpL6%2BXv/v//1OkydPpieiH%2BdiZE9%2Bef8og6oyT319vTZu3GjqcyTblFXPryf0pCehH97q6%2Bs1d%2B5cvfvuu15zeXl5mj17dretTcA6S1JSkk6cOCGHw%2BG%2BNLh//34NHjxYwcGd%2B41o8uTJysjI8Bj74IMPVFhYqIaGBp70X2poaFBJSYkyMjLoiejHudATT/TDGz3xRD%2B8NTQ06N1339WyZcs0ePBgj7nIyMhuXZuAdZaEhAQlJydrxYoVKioqkt1uV2lpqXJzczt9jKioKJ7YAAD0IIMHD1ZiYuJlXdO3L652g1WrVslut2vMmDH6/ve/r0mTJiknJ8fssgAAgA/hDNa/iI6O1tq1a80uAwAA%2BDDOYAEAABjMf/HixYvNLqI3CAkJ0be//W2FhISYXUqPQU880Q9v9MQT/fBGTzzRD29m9cTi4pOMAQAADMUlQgAAAIMRsAAAAAxGwAIAADAYAQsAAMBgBCwAAACDEbAAAAAMRsACAAAwGAELAADAYASsbrZr1y7ddNNNKigoMLuUHuH48ePKy8vT6NGj9Z3vfEdFRUU6ffq02WWZ6uDBg/rBD36gUaNGacyYMXrooYf00UcfmV1Wj/DLX/5S8fHxZpdhuvj4eI0YMUIpKSnur0uWLDG7LNOtWbNGY8aM0be%2B9S398Ic/1NGjR80uyRR79%2B51Py%2B%2B%2BjdixAjFx8frxIkTZpdnmgMHDuj73/%2B%2BbrzxRo0ZM0aFhYVqbGy8bOsTsLrR2rVrtWzZMl1//fVml9JjPPjggwoPD9fOnTv16quv6tChQ/rVr35ldlmmOXPmjHJzc5Wamqqqqiq98soramho0M9//nOzSzPdgQMH9PLLL8tisZhdiuksFou2b9%2Buffv2af/%2B/dq3b58WLFhgdlmmeuGFF/TKK6/o%2Beef1%2B7du3X99dertLTU7LJMMWrUKPfz4qt/8%2BfP18iRIzVgwACzyzOF0%2BnUjBkzlJKSoj179uiVV17RRx99pF/84heXrQYCVjfq27evysrKNGjQILNL6RFOnz6txMREzZs3T0FBQerfv7%2BysrL07rvvml2aaT777DM99NBDmjFjhq666ipZrVbdfvvtqqurM7s0U7lcLi1evFg//OEPzS6lR3C5XOJTzTz953/%2Bp%2BbOnatvfvObCg0N1YIFC3p96PzKRx99pFWrVqk3f9TwRx99pIaGBmVlZSkwMND9s/XAgQOXrQYCVjfKzs5WUFCQ2WX0GKGhoXr88cdltVrdY8eOHVN0dLSJVZkrPDxc9957r/z8vvhW/Mc//qGKigpNnDjR5MrM9cc//lHBwcG9vg9nW758ucaOHatvf/vbWrhwoVpaWswuyTR2u11Hjx7VqVOndMcddyg1NVU//elP1dTUZHZpPcLTTz%2Bt8ePH64YbbjC7FNNER0crMTFRGzduVEtLiz7%2B%2BGNt375dY8eOvWw1ELBgGpvNpj/84Q%2BaOXOm2aWY7vjx40pKStJ3v/tdJSUlKS8vz%2BySTPPRRx/pmWee4TLpWZKTk5Wamqrt27frD3/4g95///1e3R%2B73S5J2rZtm9avX6%2BXX35ZdrtdixYtMrky8508eVKvvvqqHnjgAbNLMd2vf/1rVVZWauTIkRozZoxcLpfmzp172dYnYMEUf/3rX/WjH/1IhYWFSk1NNbsc0w0cOFDV1dXatm2b/vGPf1zWHwI9zdKlSzVlyhR94xvfMLuUHqOsrEzZ2dkKDAzUkCFDNG/ePL322mtqa2szuzRTfHW59Mc//rGuueYaRUdHa/bs2frTn/7Ua3vylRdeeEG33HKLBg4caHYppjpz5oxmzpyp7373u9q7d6927dqlkJAQzZs377LVQMDCZVdZWakHHnhAjz76qKZOnWp2OT3Kddddp4ceekhbt27tlZc7qqqqVF1drRkzZkgS9x2dx6BBg%2BR0Oi/rX0T1JNdcc40kKSwszD02cOBAdXR06OOPPzarrB5h69atuu2228wuw3RVVVU6duyY5s6dq5CQEEVGRmr27Nl64403dOrUqctSAwELl9V7772nRx55RKtXr1ZmZqbZ5Zhuz549uu2229TR0eEes1gsslgsuuqqq0yszByvvPKK7Ha7brnlFqWmpuqee%2B6Ry%2BVSWlqaXn/9dbPLM8XBgwe1cuVKj7EPPvhAgYGBioqKMqkqc1177bUKCwvzuGH56NGjCggI6LU9kb54rhw/flzp6elml2K6jo4O97%2BvtLe3X9a/SiZgdSO73a6TJ0%2BqtbVVn332mex2u/vegd7I6XSquLhY8%2BbNU1pamtnl9AjJyclqaWnR8uXL1draqsbGRpWUlGjUqFEKDQ01u7zLbv78%2Bdq2bZtefvllvfzyy1q7dq0k6eWXX9a4ceNMrs4c/fr10/PPP6/nn39eZ86c0aFDh7R69Wrl5OT02rew8Pf3V3Z2tp599lkdOXJEH3/8sZ555hnddddd7j8Y6Y1qa2vd4bO3%2B9a3vqWrr75aTz/9tD777DM1NTXpueee06hRoxQeHn5ZarC4OAffbeLj4z1%2BALpcLlkslsv6Z6I9yd69ezVt2jQFBga6e/HV123btvXa92v529/%2BpiVLlqi6ulpXX321UlNTVVRU1Kt/E//KsWPHdOutt/ba75mv7N27V8uXL1ddXZ2CgoJ0zz33KD8/v1ee5fxKW1ubli5dqi1btqi9vV233367iouLFRwcbHZpplm7dq22bduml156yexSeoTa2lotXbpUf/vb33TVVVdp9OjRevjhhxUZGXlZ1idgAQAAGKz3nksFAADoJgQsAAAAgxGwAAAADEbAAgAAMBgBCwAAwGAELAAAAIMRsAAAAAxGwAIAAD3Crl27dNNNN6mgoKBL%2B%2BXm5mrEiBFKSUlx/0tMTNT8%2BfO7qdKLCzBtZQAAgC%2BtXbtWr776qq6//vou7/vb3/7W478///xzTZw4UXfeeadR5XUZZ7AAAIDp%2Bvbtq7KyMg0aNOic81VVVZoyZYr%2B/d//Xenp6XrmmWfOe6ySkhIlJSWZ%2Brm3nMECAACmy87OPu/cyZMnNWvWLC1cuFBZWVn6%2B9//rh/96Ef6xje%2BoTvuuMNj2%2BPHj%2Bv555/X1q1bu7vkC%2BIMFgAA6NFee%2B01DR06VFlZWZKkG264QZMnT9bmzZu9tv3Nb36jO%2B64Q9dee%2B3lLtMDZ7AAAECPduTIEe3fv18pKSnuMZfL5XW/VnNzs1588UVVVFRc7hK9/H8HKgkcl09FpAAAAABJRU5ErkJggg%3D%3D\">\n",
       "             </div>\n",
       "      </div>\n",
       "    </div><div class=\"row variablerow\">\n",
       "        <div class=\"col-md-3 namecol\">\n",
       "            <p class=\"h4\">LocationNormalized<br/><small>Categorical</small></p>\n",
       "        </div>\n",
       "\n",
       "       <div class=\"col-md-3\">\n",
       "\n",
       "            <table class=\"stats \">\n",
       "                <tr class=\"alert\"><th>Distinct count</th>\n",
       "                <td>2732</td></tr>\n",
       "                <tr><th>Unique (%)</th>\n",
       "                <td>1.1%</td></tr>\n",
       "                <tr class=\"ignore\"><th>Missing (%)</th>\n",
       "                <td>0.0%</td></tr>\n",
       "                <tr class=\"ignore\"><th>Missing (n)</th>\n",
       "                <td>0</td></tr>\n",
       "            </table>\n",
       "\n",
       "\n",
       "\n",
       "        </div>\n",
       "         \n",
       "        <div class=\"col-md-6 collapse in\"  id=\"minifreqtable-7372232158376539036\">\n",
       "            <table class=\"mini freq\">\n",
       "                <tr class=\"\">\n",
       "                    <th>UK</th>\n",
       "                     <td>\n",
       "                          <div class=\"bar\" style=\"width:26%\" data-toggle=\"tooltip\" data-placement=\"right\" data-html=\"true\" data-delay=500 title=\"Percentage: 16.8%\">\n",
       "41093\n",
       "                          </div>\n",
       "                   </td>\n",
       "                </tr>\n",
       "<tr class=\"\">\n",
       "                    <th>London</th>\n",
       "                     <td>\n",
       "                          <div class=\"bar\" style=\"width:19%\" data-toggle=\"tooltip\" data-placement=\"right\" data-html=\"true\" data-delay=500 title=\"Percentage: 12.5%\">\n",
       "&nbsp;\n",
       "                          </div>30522\n",
       "                   </td>\n",
       "                </tr>\n",
       "<tr class=\"\">\n",
       "                    <th>South East London</th>\n",
       "                     <td>\n",
       "                          <div class=\"bar\" style=\"width:8%\" data-toggle=\"tooltip\" data-placement=\"right\" data-html=\"true\" data-delay=500 title=\"Percentage: 4.8%\">\n",
       "&nbsp;\n",
       "                          </div>11713\n",
       "                   </td>\n",
       "                </tr>\n",
       "<tr class=\"other\">\n",
       "                    <th>Other values (2729)</th>\n",
       "                     <td>\n",
       "                          <div class=\"bar\" style=\"width:100%\" data-toggle=\"tooltip\" data-placement=\"right\" data-html=\"true\" data-delay=500 title=\"Percentage: 66.0%\">\n",
       "161440\n",
       "                          </div>\n",
       "                   </td>\n",
       "                </tr>\n",
       "\n",
       "            </table>\n",
       "        </div>\n",
       "\n",
       "\n",
       "        <div class=\"col-md-12 text-right\">\n",
       "                <a role=\"button\" data-toggle=\"collapse\" data-target=\"#freqtable-7372232158376539036, #minifreqtable-7372232158376539036\" aria-expanded=\"true\" aria-controls=\"collapseExample\">\n",
       "                    Toggle details\n",
       "                </a>\n",
       "        </div>\n",
       "         \n",
       "\n",
       "         <div class=\"col-md-12 collapse extrapadding\" id=\"freqtable-7372232158376539036\">\n",
       "            <table class=\"freq table table-hover\">\n",
       "                <thead><tr>\n",
       "                    <td class=\"fillremaining\">Value</td>\n",
       "                    <td class=\"number\">Count</td>\n",
       "                     <td class=\"number\">Frequency (%)</td>\n",
       "                    <td style=\"min-width:200px\">&nbsp;</td>\n",
       "                </tr></thead>\n",
       "\n",
       "                \n",
       "<tr class=\"\">\n",
       "        <td class=\"fillremaining\">UK</td>\n",
       "        <td class=\"number\">41093</td>\n",
       "        <td class=\"number\">16.8%</td>\n",
       "        <td>\n",
       "            <div class=\"bar\" style=\"width:34%\">&nbsp;</div>\n",
       "        </td>\n",
       "</tr>\n",
       "\n",
       "<tr class=\"\">\n",
       "        <td class=\"fillremaining\">London</td>\n",
       "        <td class=\"number\">30522</td>\n",
       "        <td class=\"number\">12.5%</td>\n",
       "        <td>\n",
       "            <div class=\"bar\" style=\"width:26%\">&nbsp;</div>\n",
       "        </td>\n",
       "</tr>\n",
       "\n",
       "<tr class=\"\">\n",
       "        <td class=\"fillremaining\">South East London</td>\n",
       "        <td class=\"number\">11713</td>\n",
       "        <td class=\"number\">4.8%</td>\n",
       "        <td>\n",
       "            <div class=\"bar\" style=\"width:10%\">&nbsp;</div>\n",
       "        </td>\n",
       "</tr>\n",
       "\n",
       "<tr class=\"\">\n",
       "        <td class=\"fillremaining\">The City</td>\n",
       "        <td class=\"number\">6678</td>\n",
       "        <td class=\"number\">2.7%</td>\n",
       "        <td>\n",
       "            <div class=\"bar\" style=\"width:6%\">&nbsp;</div>\n",
       "        </td>\n",
       "</tr>\n",
       "\n",
       "<tr class=\"\">\n",
       "        <td class=\"fillremaining\">Manchester</td>\n",
       "        <td class=\"number\">3516</td>\n",
       "        <td class=\"number\">1.4%</td>\n",
       "        <td>\n",
       "            <div class=\"bar\" style=\"width:3%\">&nbsp;</div>\n",
       "        </td>\n",
       "</tr>\n",
       "\n",
       "<tr class=\"\">\n",
       "        <td class=\"fillremaining\">Leeds</td>\n",
       "        <td class=\"number\">3401</td>\n",
       "        <td class=\"number\">1.4%</td>\n",
       "        <td>\n",
       "            <div class=\"bar\" style=\"width:3%\">&nbsp;</div>\n",
       "        </td>\n",
       "</tr>\n",
       "\n",
       "<tr class=\"\">\n",
       "        <td class=\"fillremaining\">Birmingham</td>\n",
       "        <td class=\"number\">3061</td>\n",
       "        <td class=\"number\">1.3%</td>\n",
       "        <td>\n",
       "            <div class=\"bar\" style=\"width:3%\">&nbsp;</div>\n",
       "        </td>\n",
       "</tr>\n",
       "\n",
       "<tr class=\"\">\n",
       "        <td class=\"fillremaining\">Central London</td>\n",
       "        <td class=\"number\">2607</td>\n",
       "        <td class=\"number\">1.1%</td>\n",
       "        <td>\n",
       "            <div class=\"bar\" style=\"width:3%\">&nbsp;</div>\n",
       "        </td>\n",
       "</tr>\n",
       "\n",
       "<tr class=\"\">\n",
       "        <td class=\"fillremaining\">West Midlands</td>\n",
       "        <td class=\"number\">2540</td>\n",
       "        <td class=\"number\">1.0%</td>\n",
       "        <td>\n",
       "            <div class=\"bar\" style=\"width:3%\">&nbsp;</div>\n",
       "        </td>\n",
       "</tr>\n",
       "\n",
       "<tr class=\"\">\n",
       "        <td class=\"fillremaining\">Surrey</td>\n",
       "        <td class=\"number\">2397</td>\n",
       "        <td class=\"number\">1.0%</td>\n",
       "        <td>\n",
       "            <div class=\"bar\" style=\"width:2%\">&nbsp;</div>\n",
       "        </td>\n",
       "</tr>\n",
       "\n",
       "<tr class=\"\">\n",
       "        <td class=\"fillremaining\">Reading</td>\n",
       "        <td class=\"number\">2187</td>\n",
       "        <td class=\"number\">0.9%</td>\n",
       "        <td>\n",
       "            <div class=\"bar\" style=\"width:2%\">&nbsp;</div>\n",
       "        </td>\n",
       "</tr>\n",
       "\n",
       "<tr class=\"\">\n",
       "        <td class=\"fillremaining\">Bristol</td>\n",
       "        <td class=\"number\">2085</td>\n",
       "        <td class=\"number\">0.9%</td>\n",
       "        <td>\n",
       "            <div class=\"bar\" style=\"width:2%\">&nbsp;</div>\n",
       "        </td>\n",
       "</tr>\n",
       "\n",
       "<tr class=\"\">\n",
       "        <td class=\"fillremaining\">Nottingham</td>\n",
       "        <td class=\"number\">1873</td>\n",
       "        <td class=\"number\">0.8%</td>\n",
       "        <td>\n",
       "            <div class=\"bar\" style=\"width:2%\">&nbsp;</div>\n",
       "        </td>\n",
       "</tr>\n",
       "\n",
       "<tr class=\"\">\n",
       "        <td class=\"fillremaining\">Sheffield</td>\n",
       "        <td class=\"number\">1766</td>\n",
       "        <td class=\"number\">0.7%</td>\n",
       "        <td>\n",
       "            <div class=\"bar\" style=\"width:2%\">&nbsp;</div>\n",
       "        </td>\n",
       "</tr>\n",
       "\n",
       "<tr class=\"\">\n",
       "        <td class=\"fillremaining\">Aberdeen</td>\n",
       "        <td class=\"number\">1634</td>\n",
       "        <td class=\"number\">0.7%</td>\n",
       "        <td>\n",
       "            <div class=\"bar\" style=\"width:2%\">&nbsp;</div>\n",
       "        </td>\n",
       "</tr>\n",
       "\n",
       "<tr class=\"\">\n",
       "        <td class=\"fillremaining\">Hampshire</td>\n",
       "        <td class=\"number\">1557</td>\n",
       "        <td class=\"number\">0.6%</td>\n",
       "        <td>\n",
       "            <div class=\"bar\" style=\"width:2%\">&nbsp;</div>\n",
       "        </td>\n",
       "</tr>\n",
       "\n",
       "<tr class=\"\">\n",
       "        <td class=\"fillremaining\">Belfast</td>\n",
       "        <td class=\"number\">1537</td>\n",
       "        <td class=\"number\">0.6%</td>\n",
       "        <td>\n",
       "            <div class=\"bar\" style=\"width:2%\">&nbsp;</div>\n",
       "        </td>\n",
       "</tr>\n",
       "\n",
       "<tr class=\"\">\n",
       "        <td class=\"fillremaining\">East Sheen</td>\n",
       "        <td class=\"number\">1531</td>\n",
       "        <td class=\"number\">0.6%</td>\n",
       "        <td>\n",
       "            <div class=\"bar\" style=\"width:2%\">&nbsp;</div>\n",
       "        </td>\n",
       "</tr>\n",
       "\n",
       "<tr class=\"\">\n",
       "        <td class=\"fillremaining\">Milton Keynes</td>\n",
       "        <td class=\"number\">1523</td>\n",
       "        <td class=\"number\">0.6%</td>\n",
       "        <td>\n",
       "            <div class=\"bar\" style=\"width:2%\">&nbsp;</div>\n",
       "        </td>\n",
       "</tr>\n",
       "\n",
       "<tr class=\"\">\n",
       "        <td class=\"fillremaining\">Berkshire</td>\n",
       "        <td class=\"number\">1502</td>\n",
       "        <td class=\"number\">0.6%</td>\n",
       "        <td>\n",
       "            <div class=\"bar\" style=\"width:2%\">&nbsp;</div>\n",
       "        </td>\n",
       "</tr>\n",
       "\n",
       "<tr class=\"other\">\n",
       "        <td class=\"fillremaining\">Other values (2712)</td>\n",
       "        <td class=\"number\">120045</td>\n",
       "        <td class=\"number\">49.0%</td>\n",
       "        <td>\n",
       "            <div class=\"bar\" style=\"width:100%\">&nbsp;</div>\n",
       "        </td>\n",
       "</tr>\n",
       "\n",
       "            </table>\n",
       "\n",
       "        </div>\n",
       "\n",
       "\n",
       "    </div><div class=\"row variablerow\">\n",
       "        <div class=\"col-md-3 namecol\">\n",
       "            <p class=\"h4\">SalaryNormalized<br/><small>Numeric</small></p>\n",
       "        </div>\n",
       "\n",
       "        <div class=\"col-md-6\">\n",
       "            <div class=\"row\">\n",
       "                <div class=\"col-sm-6\">\n",
       "                    <table class=\"stats \">\n",
       "                        <tr><th>Distinct count</th>\n",
       "                        <td>8454</td></tr>\n",
       "                        <tr><th>Unique (%)</th>\n",
       "                        <td>3.5%</td></tr>\n",
       "                        <tr class=\"ignore\"><th>Missing (%)</th>\n",
       "                        <td>0.0%</td></tr>\n",
       "                        <tr class=\"ignore\"><th>Missing (n)</th>\n",
       "                        <td>0</td></tr>\n",
       "                    </table>\n",
       "\n",
       "                </div>\n",
       "                <div class=\"col-sm-6\">\n",
       "                    <table class=\"stats \">\n",
       "\n",
       "                        <tr><th>Mean</th>\n",
       "                        <td>34123</td></tr>\n",
       "                        <tr><th>Minimum</th>\n",
       "                        <td>5000</td></tr>\n",
       "                        <tr><th>Maximum</th>\n",
       "                        <td>200000</td></tr>\n",
       "                        <tr class=\"ignore\"><th>Zeros (%)</th>\n",
       "                        <td>0.0%</td></tr>\n",
       "                    </table>\n",
       "                </div>\n",
       "            </div>\n",
       "        </div>\n",
       "        <div class=\"col-md-3 collapse in\" id=\"minihistogram2596521248543650941\">\n",
       "             <img src=\"data:image/png;base64,iVBORw0KGgoAAAANSUhEUgAAAMgAAABLCAYAAAA1fMjoAAAABHNCSVQICAgIfAhkiAAAAAlwSFlzAAAPYQAAD2EBqD%2BnaQAABelJREFUeJzt3N1LVGkcB/DvmZfjSzts4oxNzg4VRRddTFvRjRNorBVKdrn%2BASFEWEFQaMXmSpMQRRcaRBdFEIHFXpjTTUGM3mT0psiGxAYpCuM5a7qS2DHH314sTStbT86wnuPo93M3x3l4fnKe78x55jzn0UREYDPDMNDe3o7a2lqUlJTY3T3lGCfHi%2BZEQIhyhcvpAoiWMgaESMHjdAHZEhGkUqms2rrdbmia9j9XRMtRzgYklUrhlzu9eDs2nVG79cUFaP75R3g8Ofuvk41yepS8HZvG6%2BSU02XQMsY5CJECA0KkwIAQKTAgRAoMCJECA0KkwIAQKTAgRApL4kbh65F3GB7L7IZfoe5epGqIPlsSARn6cwoNd37PqE3kB98iVUP0GS%2BxiBQYECIFBoRIgQEhUmBAiBQYECIFBoRIgQEhUmBAiBQYECIFBoRIgQEhUmBAiBQYECIFBoRIYUk8D2Int0vLak9f7ue7Mq24gISK8vHrb/0Z7enL/XxXrhV5xrmnLy0U5yBECgwIkQIDQqTAgBApMCBECgwIkQIDQqTAgBAprMgbhZnKdnkKwCUquY4BWYBslqcAXKKyHPDMLRCXp6xMDMgi4qVZ7mNAFhEvzXLfkjgDAZ%2BOwz%2Btz6iN/zsdPX%2B8y7iv0u/zMv7pLps2n9ol/7KyaImsv3mWK6c%2BLDQREbs7NQwD7e3tqK2tRUlJid3dU45xcrw4ch/ENE20tbXBNE0nuqcc4%2BR44Y1CIgUGhEiBASFSYECIFBwJSCAQQH19PQKBgBPdU45xcrw48jMvUa7gJRaRAgNCpMCAECkwIEQKDAiRAgNCpMCAECnYvsj%2B2rVrePDgATweD7Zu3YrGxka7SyCb/fucb9iwAc3NzYjH47h16xby8/MRCoUQi8Xg9XrR3d2N1tZW5OXlwefz4cKFC/D5fOjv70csFoPH44HX60UsFkNpaSmGh4dx6tSp9PMzp0%2BfxpYtWzAxMYGGhgZMTk5ibm4OR44cQTQazbx4sVFfX5/s379fLMuSubk5OXjwoDx8%2BNDOEshmz58/lwMHDkgqlRIRkfr6emltbZWKigoZHx8XEZEzZ87IjRs3xLIsiUajMjQ0JCIiV69elXPnzomISHV1tTx79kxERDo7O%2BXQoUMiIlJXVycdHR0iIvLixQupqakREZGmpia5cuWKiIgMDQ1JeXm5fPz4MeP6bb3E6u7uRmVlJXRdh6Zp2LdvHxKJhJ0lkM22bduG27dvw%2BX6Z6gVFxcjLy8PO3fuxOrVqwEA1dXVSCQS6O3txbp16xAOhwEAVVVV6OrqwsjICKamprBjxw4AwN69e9HT04PZ2Vk8efIEVVVV6b4mJyeRTCbR1dWFmpoaAEA4HEYoFEJfX1/G9dsaEMMw4Pf7068DgQCSyaSdJZDNNE3DqlWrAACDg4NIJBIQkXnjwO/3I5lMwjTNBR3XdR35%2BfkYGxtDYWEhvF7vN9sUFxdjdHQ04/o5SSdbDAwMoK6uDufPn4d8Yfnft3Zw%2BVKbLx3/2vuyZWtAgsEgDMNIvzYMA6WlpXaWQA549eoVjh07hosXL6KsrAzBYHDep/mncfC142vXrp03bizLgmVZKCoqwocPHzAzM5P%2Bm2maCIVC/2mT7VizNSC7d%2B/Go0ePYFkWZmdnEY/HUVlZaWcJZLPp6WkcP34cbW1tiEQiAIBoNIqXL19ifHwcANDR0YE9e/YgEolgdHQUg4OD846vWbMGfr8fT58%2BBQDcu3cP5eXl0HUdu3btwv379wEAjx8/RjAYRCAQQEVFBTo7OwEAb968gWma6f4zYfty95s3byIej8PtdqOsrAxHjx61s3uy2d27d3Hp0iVs3rwZIgJN0xCNRhEOh3H9%2BnXouo5NmzahqakJLpcLPT09uHz5MjweD/x%2BP1paWlBYWIiBgQE0NzfD5XKhoKAALS0t6flGY2MjZmZm4Ha7cfbsWWzcuBHv37/HyZMnMTExARHBiRMnsH379ozr5/MgRAqcpBMpMCBECn8DeD6/G%2B8eETMAAAAASUVORK5CYII%3D\">\n",
       "\n",
       "        </div>\n",
       "       <div class=\"col-md-12 text-right\">\n",
       "            <a role=\"button\" data-toggle=\"collapse\" data-target=\"#descriptives2596521248543650941,#minihistogram2596521248543650941\" aria-expanded=\"false\" aria-controls=\"collapseExample\">\n",
       "                Toggle details\n",
       "            </a>\n",
       "        </div>\n",
       "        <div class=\"row collapse col-md-12\" id=\"descriptives2596521248543650941\">\n",
       "            <div class=\"col-sm-4\">\n",
       "                  <p class=\"h4\">Quantile statistics</p>\n",
       "                  <table class=\"stats indent\">\n",
       "                        <tr><th>Minimum</th>\n",
       "                        <td>5000</td></tr>\n",
       "                        <tr><th>5-th percentile</th>\n",
       "                        <td>13728</td></tr>\n",
       "                        <tr><th>Q1</th>\n",
       "                        <td>21500</td></tr>\n",
       "                        <tr><th>Median</th>\n",
       "                        <td>30000</td></tr>\n",
       "                        <tr><th>Q3</th>\n",
       "                        <td>42500</td></tr>\n",
       "                        <tr><th>95-th percentile</th>\n",
       "                        <td>70000</td></tr>\n",
       "                        <tr><th>Maximum</th>\n",
       "                        <td>200000</td></tr>\n",
       "                        <tr><th>Range</th>\n",
       "                        <td>195000</td></tr>\n",
       "                        <tr><th>Interquartile range</th>\n",
       "                        <td>21000</td></tr>\n",
       "                  </table>\n",
       "                  <p class=\"h4\">Descriptive statistics</p>\n",
       "                  <table class=\"stats indent\">\n",
       "                        <tr><th>Standard deviation</th>\n",
       "                        <td>17641</td></tr>\n",
       "                        <tr><th>Coef of variation</th>\n",
       "                        <td>0.51698</td></tr>\n",
       "                        <tr><th>Kurtosis</th>\n",
       "                        <td>3.0711</td></tr>\n",
       "                        <tr><th>Mean</th>\n",
       "                        <td>34123</td></tr>\n",
       "                        <tr><th>MAD</th>\n",
       "                        <td>13400</td></tr>\n",
       "                        <tr class=\"\"><th>Skewness</th>\n",
       "                        <td>1.4155</td></tr>\n",
       "                        <tr><th>Sum</th>\n",
       "                        <td>8352115068</td></tr>\n",
       "                        <tr><th>Variance</th>\n",
       "                        <td>311190000</td></tr>\n",
       "                        <tr><th>Memory size</th>\n",
       "                        <td>1.9 MiB</td></tr>\n",
       "                 </table>\n",
       "            </div>\n",
       "             <div class=\"col-sm-8 histogram\">\n",
       "                 <img src=\"data:image/png;base64,iVBORw0KGgoAAAANSUhEUgAAAlgAAAGQCAYAAAByNR6YAAAABHNCSVQICAgIfAhkiAAAAAlwSFlzAAAPYQAAD2EBqD%2BnaQAAIABJREFUeJzt3X90VPWd//HXTGJ%2BmF8wNEGM2RpBSEjGtAsWotBIsIgVA7glMdKeLqailJCmBBYFA1SxpfyySA5BSmuotoWQFbT0h8iGBYrZVasrkwQ2XcGlCEyiyUAw0SST%2B/3Ddb5Og5CBGyczPh/neHL4fO7c%2B555z/W%2Bcu%2BdicUwDEMAAAAwjdXfBQAAAAQbAhYAAIDJCFgAAAAmI2ABAACYjIAFAABgMgIWAACAyQhYAAAAJiNgAQAAmIyABQAAYDICFgAAgMkIWAAAACYjYAEAAJiMgAUAAGAyAhYAAIDJCFgAAAAmI2ABAACYjIAFAABgMgIWAACAyQhYAAAAJiNgAQAAmIyABQAAYDICFgAAgMkIWAAAACYjYAEAAJiMgAUAAGAyAhYAAIDJCFgAAAAmI2ABAACYjIAFAABgMgIWAACAyQhYAAAAJiNgAQAAmIyABQAAYDK/BawDBw7o1ltvVUlJSY%2B5V199Vffee6/%2B8R//UdnZ2dq4caPXfEVFhSZPnqzRo0dr5syZcjgcnrmOjg6VlpYqKytLmZmZKioqUnNzs2f%2B5MmTmj17tsaMGaPs7GytWrVKhmF45g8dOqQZM2Zo1KhRuvvuu7Vr164rfq6NjY3asGGDGhsbr3hd6H/ob3Cjv8GN/gY3f/bXLwFr8%2BbNWr16tW644YYec06nUw899JCmT5%2Bu119/XWVlZXrmmWf0u9/9TpK0d%2B9elZeXa/Xq1XrllVeUnZ2tOXPmqL29XZK0Zs0aHT16VJWVldqzZ48sFosWL17sWX9RUZGGDBmi6upqbd26VdXV1aqoqPBsu7CwUPfdd59qamq0ZMkSLV%2B%2BXLW1tVf0fJuamlRWVqampqYrWg/6J/ob3OhvcKO/wc2f/fVLwBowYIB27Nih6667rsdcU1OTZsyYoby8PFmtVo0cOVK33HKLXnvtNUlSVVWV7rnnHtntdoWFhamgoEBWq1X79u2T2%2B3Wzp07NXfuXA0ePFgxMTEqLi7W/v371dTUJIfDoYaGBi1cuFBRUVFKSkrSrFmztGPHDknS7t27lZycrOnTpyssLExjx47VxIkTVVVV9bm%2BPgAAILCF%2BmOjubm5nzmXnp6u9PR0r7FTp05pxIgRkqTa2lrdddddXvMpKSlyOBxKTU1Va2urUlNTPXPJycmKiIhQXV2dnE6nEhMTFR0d7ZlPTU3V8ePH1dbWpvr6eqWlpXmtOzU1VX/84x8v%2B7kCAIAvnn5/k/uzzz6rkydP6t5775UkuVwuxcbGei0TFxcnl8sll8sli8WiuLg4r/nY2Fi1tLRc8LEDBgyQpM%2Bcj4uLU0tLi9lPCwAABDG/nMHqreeee04bNmzQ5s2bZbPZev24T9%2B07stcb%2BYvpbGxsce13rfffvuK1gkAAC7fhY7D8fHxSkhI6LNt9tuA9eSTT2rnzp361a9%2BpZSUFM%2B4zWbrcUbJ5XJp%2BPDhstlsMgxDLpdLkZGRnvmzZ8/KZrOpq6tLLperx2MtFotsNpsGDhx4wflBgwb1uu7t27errKysx/jcuXN7XH5EcEhLS9N///d/%2B7sM9BH6G9zob3BLS0vTzTffrIULF/aYKyws1Lx58/ps2/0yYD3zzDP6wx/%2BoMrKSl1zzTVec%2Bnp6aqrq9O0adMkSd3d3aqvr1dubq6SkpIUFxenuro6DRkyRJLU0NCgzs5O2e12OZ1OnT59Wi6Xy3Np8PDhwxo6dKgiIyOVnp6unTt3em3P4XAoIyOj17Xn5eUpOzu7x3h8fLzOnWuX293t02uB/i8kxKrY2Ej6G6Tob3Cjv8EtJMSqdevWXfBThPHx8X26bb8ELKfTKcMw1N7ers7OTjmdTknS4MGD9be//U0bNmy4YLiSpPz8fJWUlGjKlCkaMWKEtmzZovDwcGVlZclqtSo3N1fl5eVKT09XeHi41q1bp0mTJslms8lms8lut2vt2rVatGiRnE6nKioqVFBQIEnKyclRWVmZqqqqlJOTo5qaGh08eFCVlZW9fm4JCQmfecqxpeUDdXWxAwcrt7ub/gYx%2Bhvc6G/wuthxuS9ZjCu96egypKSkyGKxeP5tGIYsFouOHDmijRs3qqysTFdddZXXfGJioufTfNu2bdPTTz%2Bt5uZm2e12LV%2B%2BXMOGDZMkdXZ2auXKldq9e7fcbrcmTJigZcuWeT456HQ6VVpaqldffVXR0dHKz8/X3LlzPdt6/fXXtWLFCh07dkyJiYkqKSnR7bffbsrzJmAFp9BQqwYOjKK/QYr%2BBjf6G9w%2B6a8/%2BCVgfVGxAwcn/gcd3OhvcKO/wc2fAavff00DAABAoCFgAQAAmIyABQAAYDICFgAAgMkIWAAAACYjYAEAAJiMgAUAAGAyAhYAAIDJCFgAAAAmI2ABAACYjIAFAABgMgIWAACAyQhYAAAAJiNgAQAAmIyABQAAYDICFgAAgMkIWAAAACYjYAEAAJiMgAUAAGAyAhYAAIDJCFgAAAAmI2ABAACYjIAFAABgMgIWAACAyQhYAAAAJiNgAQAAmIyABQAAYDICFgAAgMkIWAAAACYjYAEAAJgs1N8FINgY/i7ABBZ/FwAACHAELJjuyZcb9M777f4uw2fXD4rUD78x3N9lAACCAAELpnvn/XY1nPnA32UAAOA33IMFAABgMgIWAACAyQhYAAAAJiNgAQAAmIyABQAAYDICFgAAgMkIWAAAACYjYAEAAJiMgAUAAGAyvwWsAwcO6NZbb1VJSUmPuUOHDmnGjBkaNWqU7r77bu3atctrvqKiQpMnT9bo0aM1c%2BZMORwOz1xHR4dKS0uVlZWlzMxMFRUVqbm52TN/8uRJzZ49W2PGjFF2drZWrVolwzB6vW0AAIBL8UvA2rx5s1avXq0bbrihx1xjY6MKCwt13333qaamRkuWLNHy5ctVW1srSdq7d6/Ky8u1evVqvfLKK8rOztacOXPU3v7x375bs2aNjh49qsrKSu3Zs0cWi0WLFy/2rL%2BoqEhDhgxRdXW1tm7dqurqalVUVEiSnE7nRbcNAADQG34JWAMGDNCOHTt03XXX9ZjbvXu3kpOTNX36dIWFhWns2LGaOHGiqqqqJElVVVW65557ZLfbFRYWpoKCAlmtVu3bt09ut1s7d%2B7U3LlzNXjwYMXExKi4uFj79%2B9XU1OTHA6HGhoatHDhQkVFRSkpKUmzZs3Sjh07erVtAACA3vBLwMrNzVVERMQF5%2Brq6pSWluY1lpqa6rkMWFtbq5EjR3rNp6SkyOFw6MSJE2ptbVVqaqpnLjk5WREREaqrq1N9fb0SExMVHR3tte7jx4%2Brra1N9fX1F902AABAb/S7m9xdLpdiY2O9xuLi4tTS0nLReZfLJZfLJYvFori4OK/52NhYtbS0XPCxAwYMkKTPnP/0tgEAAHoj1N8FXMinbzo3%2B/GXWveVbruxsVFNTU09xuPj4xUREXNF6w4M3f4u4IqEhlrk6%2B8dISFWr58ILvQ3uNHf4BYSYr3ocTkhIaHPtt3vAtbAgQPlcrm8xlwulwYNGiRJstlsPc4ouVwuDR8%2BXDabTYZhyOVyKTIy0jN/9uxZ2Ww2dXV1XXDdFotFNpvtktvuje3bt6usrKzHeGFhoebNm9fr9QSqrq4uf5dwRWJiIhUaenm7RWxs5KUXQsCiv8GN/gavrVu3%2BOW43O8CVnp6unbu3Ok15nA4lJGR4Zmvq6vTtGnTJEnd3d2qr69Xbm6ukpKSFBcXp7q6Og0ZMkSS1NDQoM7OTtntdjmdTp0%2BfVoul8tzafDw4cMaOnSoIiMjL7nt3sjLy1N2dnaP8fj4eJ071y63O7DP8FxaYD%2B/1tZ2Xc4ZrNjYyC9If7946G9wo7/BLSTEetHjcl/yS8ByOp0yDEPt7e3q7OyU0%2BmUJA0ePFg5OTkqKytTVVWVcnJyVFNTo4MHD6qyslKSlJ%2Bfr5KSEk2ZMkUjRozQli1bFB4erqysLFmtVuXm5qq8vFzp6ekKDw/XunXrNGnSJNlsNtlsNtntdq1du1aLFi2S0%2BlURUWFCgoKJOmS2%2B6NhISEzzzl2NLygbq6gn0HvrJLrP7W1WXockOi2939BejvFxf9DW70N3hd7LjclyzGld50dBlSUlJksVg8/zYMQxaLRUeOHJEkvf7661qxYoWOHTumxMRElZSU6Pbbb/csv23bNj399NNqbm6W3W7X8uXLNWzYMElSZ2enVq5cqd27d8vtdmvChAlatmyZ55ODTqdTpaWlevXVVxUdHa38/HzNnTvXs%2B5LbftKfFEC1g%2B2vaWGMx/4uxCfDb8mSuvvzZBkueSynxYaatXAgVFfkP5%2B8dDf4EZ/g9sn/fUHvwSsL6ovxg5MwEJwob/Bjf4GN38GLD42AQAAYDICFgAAgMkIWAAAACYjYAEAAJiMgAUAAGAyAhYAAIDJCFgAAAAmI2ABAACYjIAFAABgMgIWAACAyQhYAAAAJiNgAQAAmIyABQAAYDICFgAAgMkIWAAAACYjYAEAAJiMgAUAAGAyAhYAAIDJCFgAAAAmI2ABAACYjIAFAABgMgIWAACAyQhYAAAAJiNgAQAAmIyABQAAYDICFgAAgMkIWAAAACYjYAEAAJiMgAUAAGAyAhYAAIDJCFgAAAAmI2ABAACYjIAFAABgMgIWAACAyQhYAAAAJiNgAQAAmIyABQAAYDICFgAAgMkIWAAAACYjYAEAAJiMgAUAAGAyAhYAAIDJCFgAAAAmC/V3AZ/lyJEjWrlyperr6xUeHq7MzEwtXrxYAwcO1KFDh/Szn/1Mx44d07XXXquCggJNmzbN89iKigpt27ZN7733nkaMGKGHH35YdrtdktTR0aHHH39cBw4cUEdHh26%2B%2BWYtX75cNptNknTy5Ek99thjeuuttxQVFaXJkydr4cKFslgsn%2BOzN9TU%2BuHnuD3zRFz1eb5OAAD0T/0yYLndbs2ePVvTp0/Xz3/%2Bc50/f14lJSX60Y9%2BpMWLF6uwsFBLly7VXXfdpTfeeEMPPfSQhg0bpvT0dO3du1fl5eXasmWLRowYoWeffVZz5szRyy%2B/rMjISK1Zs0ZHjx5VZWWlrr76aj366KNavHixNm3aJEkqKiqS3W7Xk08%2BqebmZj3wwAOKj4/XrFmzPtfX4Cd/aNB/nzn/uW7TDCV33ODvEgAA8Lt%2BeYnwvffeU1NTk6ZNm6awsDDZbDbdcccdOnLkiHbv3q3k5GRNnz5dYWFhGjt2rCZOnKiqqipJUlVVle655x7Z7XaFhYWpoKBAVqtV%2B/btk9vt1s6dOzV37lwNHjxYMTExKi4u1v79%2B9XU1CSHw6GGhgYtXLhQUVFRSkpK0qxZs7Rjx47P/TVwG4a6DQXcf4bxub9UAAD0O/0yYA0ePFhpaWnavn272tra9P777%2Bull17Sbbfdprq6OqWlpXktn5qaKofDIUmqra3VyJEjveZTUlLkcDh04sQJtba2KjU11TOXnJysiIgI1dXVqb6%2BXomJiYqOjvZa9/Hjx9XW1taHzxgAAASTfhmwJOlnP/uZqqurNWrUKI0bN06GYaikpEQul0uxsbFey8bFxamlpUWSPnPe5XLJ5XLJYrEoLi7Oaz42NlYtLS0XfOyAAQMkybN%2BAACAS%2BmX92B1dHRozpw5uvPOO/Xggw%2Bqra1NP/rRj7RgwQJJknGF16Eu9vgrXXdjY6Oampp6jMfHxysiIqaXa%2Bm%2Bohr8KsDvcQ8NtcjX3ztCQqxePxFc6G9wo7/BLSTEetHjckJCQp9tu18GrJqaGr377ruaP3%2B%2BJCkqKkqFhYWaNm2avv71r8vlcnkt73K5NGjQIEmSzWbrcbbJ5XJp%2BPDhstlsMgxDLpdLkZGRnvmzZ8/KZrOpq6vrguu2WCyeTxleyvbt21VWVtZjvLCwUPPmzevVOrq6unq1XH9k/Vw/bWm%2BmJhIhYZe3m4RGxt56YUQsOhvcKO/wWvr1i1XfFy%2BHP0yYHV3d3v%2Bs1o//q2iq6tLFotFt9xyi55//nmv5R0OhzIyMiRJ6enpqqur83xtQ3d3t%2Brr65Wbm6ukpCTFxcWprq5OQ4YMkSQ1NDSos7NTdrtdTqdTp0%2Bflsvl8lwaPHz4sIYOHeoVyC4mLy9P2dnZPcbj4%2BN17ly73O7enJ0K3DNY3QF%2Bl3tra7su5wxWbGykD/1FIKG/wY3%2BBreQEOtFj8t9qV8GrK9%2B9au6%2Buqr9dRTT%2Bmhhx5Se3u7nn76aY0ePVo5OTkqKytTVVWVcnJyVFNTo4MHD6qyslKSlJ%2Bfr5KSEk2ZMkUjRozQli1bFB4erqysLFmtVuXm5qq8vFzp6ekKDw/XunXrNGnSJNlsNtlsNtntdq1du1aLFi2S0%2BlURUWFCgoKel17QkLCZ55ybGn5QF1dvdmBAzikBHDpktTVZehyA67b3d3L/iIQ0d/gRn%2BD18WOy32pXwasAQMG6Be/%2BIVWrlyprKwsXXXVVRozZozWrVsnm82mTZs2acWKFXrssceUmJio1atX68Ybb5QkjR8/XvPnz1dxcbGam5tlt9u1efNmhYWFSfr4e67a2to0depUud1uTZgwQcuWLfNse/369SotLdW4ceMUHR2t/Px85efn%2B%2BV1AAAAgcliXOld3eg1X85g/WDbW2o480Gf12S2BXfcoBffcgZk7cOvidL6ezPk6536oaFWDRwY5UN/EUjob3Cjv8Htk/76Ax%2BbAAAAMBkBCwAAwGQELAAAAJMRsAAAAExGwAIAADAZAQsAAMBkBCwAAACTEbAAAABMRsACAAAwGQELAADAZAQsAAAAkxGwAAAATEbAAgAAMBkBCwAAwGQ%2BBazW1ta%2BqgMAACBo%2BBSwxo0bp0WLFun111/vq3oAAAACnk8B60c/%2BpGam5v1z//8z7rzzjv1zDPPqLm5ua9qAwAACEg%2BBaxp06bp5z//uQ4cOKBvf/vbevnll3Xbbbfphz/8oWpqavqqRgAAgIByWTe522w2zZw5U7/5zW%2B0evVqvfLKK7r//vv1zW9%2BU3v27DG7RgAAgIASejkPam5u1s6dO/X888/rnXfe0fjx45WXl6d3331Xjz76qN59913NmjXL7FoBAAACgk8B68CBA6qqqtK%2BffsUFxenb33rW8rLy9OQIUM8ywwbNkwLFy4kYAEAgC8snwLWgw8%2BqLFjx2rNmjW6/fbbFRIS0mOZUaNGKTIy0rQCAQAAAo1PAetPf/qTvvzlL6ujo8MTrs6fP6/o6GjPMldddRX3YQEAgC80n25yt1qt%2BuY3v6nq6mrPWGVlpb75zW/qb3/7m%2BnFAQAABCKfAtYTTzyhESNGaNSoUZ6xnJwc3XTTTfrJT35ienEAAACByKdLhG%2B%2B%2Bab%2B/d//3eseqy996UtaunSpJkyYYHpxAAAAgcinM1iGYaijo6PH%2BPnz5%2BV2u00rCgAAIJD5FLDGjx%2BvRYsW6ejRozp//rzOnTunN954Q/Pnz9dtt93WRyUCAAAEFp8uES5evFhz587VtGnTZLFYPOOjR4/WsmXLTC8OAAAgEPkUsAYNGqRt27bp6NGj%2Bt///V%2BFhITo%2Buuv17Bhw/qqPgAAgIBzWX8qJyUlRSkpKWbXAgAAEBR8ClgOh0MrVqxQQ0ODPvzwwx7zR44cMa0wAACAQOVTwCotLdXVV1%2BtefPm6eqrr%2B6rmgAAAAKaTwHrnXfe0Z///GevP40DAAAAbz59TcO1117bV3UAAAAEDZ8C1g9/%2BEP9%2BMc/1vnz5/uqHgAAgIDn0yXC8vJynTx5Urt27dKAAQNktXrnsz//%2Bc%2BmFgcAABCIfApY2dnZfVUHAABA0PApYBUWFvZVHQAAAEHDp3uwJOnQoUNauHChvvOd70iSuru79Yc//MH0wgAAAAKVTwHr97//vWbPnq3W1lb913/9lyTpzJkzWrZsmXbs2NEnBQIAAAQanwLW008/rTVr1mjTpk2eP/Z87bXX6qmnntIvf/nLPikQAAAg0PgUsE6cOKFJkyZJkidgSdKYMWN08uRJcyvTx59aHDdunL761a/q/vvv92zj0KFDmjFjhkaNGqW7775bu3bt8npcRUWFJk%2BerNGjR2vmzJlyOByeuY6ODpWWliorK0uZmZkqKipSc3OzZ/7kyZOaPXu2xowZo%2BzsbK1atUqGYZj%2B3AAAQPDyKWANHDjQK4x84vjx44qKijKtKEn69a9/rRdffFHPPfecDh48qBtuuEEVFRVqbGxUYWGh7rvvPtXU1GjJkiVavny5amtrJUl79%2B5VeXm5Vq9erVdeeUXZ2dmaM2eO2tvbJUlr1qzR0aNHVVlZqT179shisWjx4sWe7RYVFWnIkCGqrq7W1q1bVV1drYqKClOfGwAACG4%2BBayxY8dqyZIl%2Bp//%2BR9Jksvl0p///GcVFxdrwoQJphb2zDPPaP78%2Bbr%2B%2BusVHR2tRx99VI8%2B%2Bqh2796t5ORkTZ8%2BXWFhYRo7dqwmTpyoqqoqSVJVVZXuuece2e12hYWFqaCgQFarVfv27ZPb7dbOnTs1d%2B5cDR48WDExMSouLtb%2B/fvV1NQkh8OhhoYGLVy4UFFRUUpKStKsWbO4vwwAAPjEp4C1aNEitbe3a8qUKfroo4%2BUmZmp733ve0pMTNTDDz9sWlFOp1MnT57UuXPndNddd2nMmDEqLi5WS0uL6urqlJaW5rV8amqq5zJgbW2tRo4c6TWfkpIih8OhEydOqLW1VampqZ655ORkRUREqK6uTvX19UpMTPT6W4upqak6fvy42traTHt%2BAAAguPn0PVgDBgzQs88%2Bq6NHj%2BrYsWOKiIhQcnKykpOTTS3K6XRKkv70pz9p69atcrvd%2BsEPfqClS5eqra1N11xzjdfycXFxamlpkfTxWbXY2Nge8y6XSy6XSxaLRXFxcV7zsbGxamlpueBjBwwYIElqaWnR1VdfberzBAAAwcmngPWJlJQUpaSkmF2Lxyc3lT/wwAP60pe%2BJEmaN2%2BeHnjgAd18881XfNP5xR5/petubGxUU1NTj/H4%2BHhFRMT0ci3dV1SDX1kuvUh/Fhpqka9fDxcSYvX6ieBCf4Mb/Q1uISHWix6XExIS%2BmzbPgWslJQUr08P/r0jR45ccUGSPKEqJub/B5Jrr71W3d0fBw%2BXy%2BW1vMvl0qBBgyRJNpvNczbr0/PDhw%2BXzWaTYRhyuVyKjIz0zJ89e1Y2m01dXV0XXLfFYpHNZutV7du3b1dZWVmP8cLCQs2bN69X6%2Bjq6urVcv2R9SLvj0AQExOp0NDL%2Br1DsbGRl14IAYv%2BBjf6G7y2bt1yxcfly%2BHTkWTZsmVeAcvtduv48eM6cOCA5syZY1pR11xzjWJiYnTkyBHP/VInT57UVVddpaysrB5fy%2BBwOJSRkSFJSk9PV11dnaZNmybp42%2Bar6%2BvV25urpKSkhQXF6e6ujoNGTJEktTQ0KDOzk7Z7XY5nU6dPn1aLpfLc2nw8OHDGjp0qFcgu5i8vLwL/s3G%2BPh4nTvXLre7N2enAvcMVneAf6VFa2u7LucMVmxspA/9RSChv8GN/ga3kBDrRY/LfcmngJWfn3/B8VdffVXbt2/X9OnTTSkqJCREubm52rRpk0aPHq2oqCht3LhRU6dO1bRp07Rx40ZVVVUpJydHNTU1OnjwoCorKz01lpSUaMqUKRoxYoS2bNmi8PBwZWVlyWq1Kjc3V%2BXl5UpPT1d4eLjWrVunSZMmyWazyWazyW63a%2B3atVq0aJGcTqcqKipUUFDQ69oTEhI%2B85RjS8sH6urqzQ4cwCElgEuXpK4uQ5cbcN3u7l72F4GI/gY3%2Bhu8LnZc7kuXdy3k79x88836/ve/b8aqPIqLi/Xhhx9qxowZ6urq0h133KElS5YoMjJSmzZt0ooVK/TYY48pMTFRq1ev1o033ihJGj9%2BvObPn6/i4mI1NzfLbrdr8%2BbNCgsLk/Tx91y1tbVp6tSpcrvdmjBhgpYtW%2BbZ7vr161VaWqpx48YpOjpa%2Bfn5nxksAQAALsRimPA15f/2b/%2BmJUuW6D/%2B4z/MqClo%2BXIG6wfb3lLDmQ/6vCazLbjjBr34ljMgax9%2BTZTW35shX%2B/UDw21auDAKB/6i0BCf4Mb/Q1un/TXL9v2ZeFx48b1GPvwww/1wQcfcJYHAADg//gUsPLy8np8ijA8PFxDhw694A1kAAAAX0Q%2BBay%2B/DgjAABAsPApYF3oeyQuxGKxaO7cuZdVEAAAQKDzKWDt2rVLTU1N%2BuijjxQXF6fu7m61trYqIiLC6%2B/3SSJgAQCALyyfAtb8%2BfO1b98%2BPfzww55vTj9z5oxWrlypb3zjG7rrrrv6pEgAAIBA4tNXVq9fv16PPvqoJ1xJH3/r%2BtKlS/Xkk0%2BaXhwAAEAg8ilgnT59WiEhIT3Gr7rqKr3//vumFQUAABDIfApYN954oxYtWqS6ujqdO3dO58%2Bf19GjR7V48WKNGDGir2oEAAAIKD7dg/X444%2BrpKRE//RP/%2BT5PizDMHTttddq48aNfVIgAABAoPEpYI0cOVJ//OMfVVtbq9OnT8swDF1zzTVKT0%2BX1erTyTAAAICgdVl/7Dk2Nlatra3KzMw0ux4AAICA59Npp%2BbmZt17772aNGmSHnjgAUlSU1OTpkyZotOnT/dJgQAAAIHGp4C1cuVKRUREaMeOHZ5LgjExMRo5cqR%2B%2BtOf9kmBAAAAgcanS4QHDhzQCy%2B8oMGDB3tuco%2BIiNAjjzyib3zjG31SIAAAQKDx6QxWZ2enEhISeoxHRESos7PTtKIAAAACmU8Ba%2BjQodqzZ0%2BP8e3bt%2BuGG24wrSgAAIBA5tMlwvvvv18LFy7UH/7wB7ndbj3%2B%2BOOqq6vT4cOH9bOf/ayvagQAAAgoPp3Bmjx5sp5%2B%2Bmm53W79wz/8g958800lJiZq27ZtmjRpUl/VCAAAEFB6fQaru7tbtbW1yszM5PuvAAAALqLXZ7CsVqu%2B%2B93vyu1292U9AAAAAc%2BnS4RTp05VRUWFDMPoq3oAAAACnk83uZ85c0asyS5qAAAXSUlEQVR79%2B7Vz3/%2Bc1177bUKCwvzmt%2B2bZupxQEAAAQinwLWwIEDNX78%2BL6qBQAAICj0KmAVFRXpqaee0k9%2B8hPP2FNPPaWioqI%2BKwwAACBQ9eoerP379/cY%2B8UvfmF6MQAAAMHAp5vcP40b3QEAAC7ssgPWJ3/sGQAAAN4uO2ABAADgwghYAAAAJuvVpwg7OztVUlJyybG1a9eaVxkAAECA6lXAGjVqlBobGy85BgAAgF4GrGeffbav6wAAAAga3IMFAABgMgIWAACAyQhYAAAAJiNgAQAAmIyABQAAYDICFgAAgMkIWAAAACYjYAEAAJiMgAUAAGCyfh%2BwfvzjHyslJcXz70OHDmnGjBkaNWqU7r77bu3atctr%2BYqKCk2ePFmjR4/WzJkz5XA4PHMdHR0qLS1VVlaWMjMzVVRUpObmZs/8yZMnNXv2bI0ZM0bZ2dlatWqVDMPo%2BycJAACCSr8OWEeOHNELL7wgi8UiSXI6nSosLNR9992nmpoaLVmyRMuXL1dtba0kae/evSovL9fq1av1yiuvKDs7W3PmzFF7e7skac2aNTp69KgqKyu1Z88eWSwWLV682LO9oqIiDRkyRNXV1dq6dauqq6tVUVHxuT9vAAAQ2PptwDIMQ8uXL9f999/vGdu9e7eSk5M1ffp0hYWFaezYsZo4caKqqqokSVVVVbrnnntkt9sVFhamgoICWa1W7du3T263Wzt37tTcuXM1ePBgxcTEqLi4WPv371dTU5McDocaGhq0cOFCRUVFKSkpSbNmzdKOHTv89RIAAIAA1W8D1m9/%2B1tFRkZqypQpnrH6%2BnqlpaV5LZeamuq5DFhbW6uRI0d6zaekpMjhcOjEiRNqbW1VamqqZy45OVkRERGqq6tTfX29EhMTFR0d7bXu48ePq62trS%2BeIgAACFKh/i7gQt577z1t3LhRv/71r73GXS6XrrnmGq%2BxuLg4tbS0eOZjY2N7zLtcLrlcLlksFsXFxXnNx8bGqqWl5YKPHTBggCSppaVFV199tSnPDQAABL9%2BGbBWrlype%2B%2B9V1/%2B8pf17rvves1d6U3nF3u8GTe0NzY2qqmpqcd4fHy8IiJiermW7iuuw28s/i7gyoSGWuTrid2QEKvXTwQX%2Bhvc6G9wCwmxXvS4nJCQ0Gfb7ncBq6amRrW1tfrxj38syTv0DBw4UC6Xy2t5l8ulQYMGSZJsNpvnbNan54cPHy6bzSbDMORyuRQZGemZP3v2rGw2m7q6ui64bovFIpvN1uv6t2/frrKysh7jhYWFmjdvXq/W0dXV1evt9TdWS2AnrJiYSIWGXt5uERsbeemFELDob3Cjv8Fr69YtV3xcvhz9LmC9%2BOKLcjqd%2BvrXvy7p44BlGIYyMzM1a9Ys7d6922t5h8OhjIwMSVJ6errq6uo0bdo0SVJ3d7fq6%2BuVm5urpKQkxcXFqa6uTkOGDJEkNTQ0qLOzU3a7XU6nU6dPn5bL5fJcGjx8%2BLCGDh3qFcguJS8vT9nZ2T3G4%2BPjde5cu9zu3pydCtwzWN0B/rUWra3tupwzWLGxkT70F4GE/gY3%2BhvcQkKsFz0u96V%2BF7AWL16s4uJiz7/PnDmjvLw8vfDCC3K73dq8ebOqqqqUk5OjmpoaHTx4UJWVlZKk/Px8lZSUaMqUKRoxYoS2bNmi8PBwZWVlyWq1Kjc3V%2BXl5UpPT1d4eLjWrVunSZMmyWazyWazyW63a%2B3atVq0aJGcTqcqKipUUFDgU/0JCQmfecqxpeUDdXX1ZgcO4JASwKWHWC3/1x9fn0S3urq65HZ3qavLny9AYJ897O/c7u5e7r8IRPQ3eF3suNyX%2Bl3AiomJUUzM/79XqaurSxaLxfPibNq0SStWrNBjjz2mxMRErV69WjfeeKMkafz48Zo/f76Ki4vV3Nwsu92uzZs3KywsTNLH33PV1tamqVOnyu12a8KECVq2bJlnW%2BvXr1dpaanGjRun6Oho5efnKz8//3N89vCnxIERevLlv%2Bqd99v9XYpPrh8UqR9%2BY7i/ywAAfIrF4KvKPze%2BnMH6wba31HDmgz6vyWwL7rhBL77lDMjab0/7kk683x5wtQ%2B/Jkrr780QZ7D6RmioVQMHRvmw/yKQ0N/g9kl//YGPTQAAAJiMgAUAAGAyAhYAAIDJCFgAAAAmI2ABAACYjIAFAABgMgIWAACAyQhYAAAAJiNgAQAAmIyABQAAYDICFgAAgMkIWAAAACYjYAEAAJiMgAUAAGAyAhYAAIDJCFgAAAAmI2ABAACYjIAFAABgMgIWAACAyQhYAAAAJiNgAQAAmIyABQAAYDICFgAAgMkIWAAAACYjYAEAAJiMgAUAAGAyAhYAAIDJCFgAAAAmI2ABAACYjIAFAABgMgIWAACAyQhYAAAAJiNgAQAAmIyABQAAYDICFgAAgMkIWAAAACYjYAEAAJiMgAUAAGAyAhYAAIDJCFgAAAAmI2ABAACYjIAFAABgMgIWAACAyfptwDp16pQKCws1ZswY3XLLLVq0aJHOnz8vSTp06JBmzJihUaNG6e6779auXbu8HltRUaHJkydr9OjRmjlzphwOh2euo6NDpaWlysrKUmZmpoqKitTc3OyZP3nypGbPnq0xY8YoOztbq1atkmEYn8%2BTBgAAQaHfBqzvf//7io2N1f79%2B/W73/1Ox44d009/%2BlM1NjaqsLBQ9913n2pqarRkyRItX75ctbW1kqS9e/eqvLxcq1ev1iuvvKLs7GzNmTNH7e3tkqQ1a9bo6NGjqqys1J49e2SxWLR48WLPdouKijRkyBBVV1dr69atqq6uVkVFhT9eAgAAEKD6ZcA6f/680tLStGDBAkVERGjQoEGaNm2aXnvtNe3evVvJycmaPn26wsLCNHbsWE2cOFFVVVWSpKqqKt1zzz2y2%2B0KCwtTQUGBrFar9u3bJ7fbrZ07d2ru3LkaPHiwYmJiVFxcrP3796upqUkOh0MNDQ1auHChoqKilJSUpFmzZmnHjh1%2BfkUAAEAg6ZcBKzo6Wk888YRsNptn7NSpUxo8eLDq6uqUlpbmtXxqaqrnMmBtba1GjhzpNZ%2BSkiKHw6ETJ06otbVVqampnrnk5GRFRESorq5O9fX1SkxMVHR0tNe6jx8/rra2tr54qgAAIAj1y4D19xwOh37zm9/ooYceksvlUmxsrNd8XFycWlpaJOkz510ul1wulywWi%2BLi4rzmY2Nj1dLScsHHDhgwQJI86wcAALiUUH8XcCl/%2Bctf9P3vf18LFixQZmamtmzZcsU3nV/s8Ve67sbGRjU1NfUYj4%2BPV0RETC/X0n1FNfiVxd8FfDGFhloUIL8vBZyQEKvXTwQX%2BhvcQkKsFz0uJyQk9Nm2%2B3XAqq6u1r/8y79o6dKlysnJkSQNHDhQLpfLazmXy6VBgwZJkmw2W4%2BzTS6XS8OHD5fNZpNhGHK5XIqMjPTMnz17VjabTV1dXRdct8Vi8bpceTHbt29XWVlZj/HCwkLNmzevV%2Bvo6urq1XL9kdVCwvKHmJhIhYb269054MXGRl56IQQs%2Bhu8tm7dcsXH5cvRb/%2BP/MYbb%2BiRRx7Rhg0blJmZ6RlPT0/Xzp07vZZ1OBzKyMjwzNfV1WnatGmSpO7ubtXX1ys3N1dJSUmKi4tTXV2dhgwZIklqaGhQZ2en7Ha7nE6nTp8%2BLZfL5bk0ePjwYQ0dOtQrkF1MXl6esrOze4zHx8fr3Ll2ud29OTsVuGewuvlKC79obW0XZ7D6RkiIVbGxkT7svwgk9De4hYRYL3pc7kv9MmC53W6VlpZ6Lgt%2BWk5OjsrKylRVVaWcnBzV1NTo4MGDqqyslCTl5%2BerpKREU6ZM0YgRI7RlyxaFh4crKytLVqtVubm5Ki8vV3p6usLDw7Vu3TpNmjRJNptNNptNdrtda9eu1aJFi%2BR0OlVRUaGCgoJe156QkPCZpxxbWj5QV1dvduAADikBXHog6%2BoyFMjBPBC43d293H8RiOhv8LrYcbkv9cuA9eabb%2BrYsWNasWKFHn/8cVksFhmGIYvFoj/96U/atGmTVqxYoccee0yJiYlavXq1brzxRknS%2BPHjNX/%2BfBUXF6u5uVl2u12bN29WWFiYpI%2B/56qtrU1Tp06V2%2B3WhAkTtGzZMs%2B2169fr9LSUo0bN07R0dHKz89Xfn6%2BX14HAAAQmCwGX1P%2BufHlDNYPtr2lhjMf9HlNZltwxw168S1nQNZ%2Be9qXdOL99oCrffg1UVp/b4b4hEHfCA21auDAKB/2XwQS%2BhvcPumvP3DTBgAAgMkIWAAAACYjYAEAAJiMgAUAAGAyAhYAAIDJCFgAAAAmI2ABAACYjIAFAABgMgIWAACAyQhYAAAAJiNgAQAAmIyABQAAYDICFgAAgMkIWAAAACYjYAEAAJiMgAUAAGCyUH8XAODKhFgtkgx/l3GFLP4uAABMRcACAlziwAg9%2BfJf9c777f4uxWfXD4rUD78x3N9lAIDpCFhAEHjn/XY1nPnA32UAAP4P92ABAACYjIAFAABgMgIWAACAyQhYAAAAJiNgAQAAmIyABQAAYDICFgAAgMkIWAAAACYjYAEAAJiMgAUAAGAyAhYAAIDJCFgAAAAmI2ABAACYjIAFAABgslB/FwDgiyvEapFk%2BLuMS%2BhWV1eXpG5duFbL51wPgEBAwALgN4kDI/Tky3/VO%2B%2B3%2B7sUn10/KFI//MZwf5cBoJ8iYAHwq3feb1fDmQ/8XQYAmIp7sAAAAExGwAIAADAZAQsAAMBkBCwAAACTEbAAAABMRsACAAAwGQHr75w8eVKzZ8/WmDFjlJ2drVWrVskw%2BvsXIQIAgP6EgPV3ioqKNGTIEFVXV2vr1q2qrq5WRUWFv8sCAAABhID1KQ6HQw0NDVq4cKGioqKUlJSkWbNmaceOHf4uDQAABBAC1qfU19crMTFR0dHRnrHU1FQdP35cbW1tfqwMAAAEEgLWp7hcLsXGxnqNDRgwQJLU0tLij5IAAEAA4m8R/p0rvaG9sbFRTU1NPcbj4%2BMVERHTy7V06/pBkVdUh7/EXX1VwNZ%2BbVx4QP7GEah1S4Fd%2B/WDIhXK/0EDntUqdXV1yWoV/QxCVuvFj8sJCQl9tm3eTp9is9nkcrm8xlwulywWi2w2W6/WsX37dpWVlfUYv/nmm7Vu3bpeN/PH943u1XL90Z2jk/1dwueqsbFR27dvV15eXp/urPAP%2BhvcGhsb9atf/ZL%2BBqnGxkbNnz9fr732Wo%2B5wsJCzZs3r8%2B2TcD6lPT0dJ0%2BfVoul8tzafDw4cMaOnSoIiN7d1YmLy9P2dnZXmNvv/22Fi5cqKamJnbgINTU1KSysjJlZ2fT3yBEf4Mb/Q1uTU1Neu2117R69WoNHTrUay4%2BPr5Pt03A%2BpTU1FTZ7XatXbtWixYtktPpVEVFhQoKCnq9joSEBHZSAAD6kaFDhyotLe1z3Wag3v7QZ9avXy%2Bn06lx48bpu9/9rqZPn678/Hx/lwUAAAIIZ7D%2BzuDBg7V582Z/lwEAAAIYZ7AAAABMFrJ8%2BfLl/i7iiyAqKkpf%2B9rXFBUV5e9S0Afob3Cjv8GN/gY3f/XXYvCXjAEAAEzFJUIAAACTEbAAAABMRsACAAAwGQELAADAZAQsAAAAkxGwAAAATEbAAgAAMBkBCwAAwGQErD528uRJzZ49W2PGjFF2drZWrVolvtu1/0hJSdFNN92kjIwMz88VK1ZIkg4dOqQZM2Zo1KhRuvvuu7Vr1y6vx1ZUVGjy5MkaPXq0Zs6cKYfD4Znr6OhQaWmpsrKylJmZqaKiIjU3N3vmeV/0nQMHDujWW29VSUlJjzl/9vRS20bvfFZ/X331VaWkpCgjI8Nrf37ppZc8y9Df/u/UqVMqLCzUmDFjdMstt2jRokU6f/68pADcfw30qenTpxtLly41zp8/b5w4ccK44447jF/%2B8pf%2BLgv/JyUlxTh16lSPcafTaXzlK18xnn/%2BeeOjjz4yampqjIyMDMPhcBiGYRgvv/yy8bWvfc04fPiw8dFHHxlbtmwxbr31VqOtrc0wDMN44oknjG9961vGmTNnjHPnzhlFRUXGgw8%2B6Fk/74u%2B8fTTTxtTpkwxvv3tbxvz58/3mvNnT8%2BcOXPRbaN3Ltbf//zP/zSys7M/87H0NzBMnTrVeOSRR4z29nbjvffeM771rW8Zjz76aEDuvwSsPnT48GEjLS3NaG1t9Yxt27bNuPPOO/1YFT5txIgRxrvvvttj/Be/%2BIUxffp0r7H58%2Bcby5YtMwzDMB588EFj5cqVXvPjx483fv/73xtdXV3G6NGjjX379nnmjh07ZqSkpBiNjY28L/rQ9u3bjfb2duPhhx/ucQD2Z0%2B3bNly0W2jdy7W30sFLPrb/7W2thqLFy823n//fc/Yc889Z9xxxx0Buf9yibAP1dfXKzExUdHR0Z6x1NRUHT9%2BXG1tbX6sDJ%2B2Zs0aTZgwQTfffLOWLl2qtrY21dXVKS0tzWu51NRUzynn2tpajRw50ms%2BJSVFDodDJ06cUGtrq1JTUz1zycnJioiIUF1dHe%2BLPpSbm6uIiIgLzvmzp/X19RfdNnrnYv2VpPPnz6uwsFBjx45VVlaWKioqPHP0t/%2BLjo7WE088IZvN5hk7deqUBg8eHJD7LwGrD7lcLsXGxnqNDRgwQJLU0tLij5Lwd%2Bx2u8aOHauXXnpJv/3tb/Xmm29q%2BfLlF%2BxdXFycp2%2BfNe9yueRyuWSxWBQXF%2Bc1Hxsbq5aWFt4XfuLPnl5q27hyUVFRGjZsmL7zne/o4MGDevzxx7Vhwwb967/%2BqyT6G4gcDod%2B85vf6KGHHgrI/ZeA1ccMblzu13bs2KHc3FyFhYVp2LBhWrBggX7/%2B9%2Brq6vrint3scfzvvAPf/aUnvettLQ0/frXv9aYMWN01VVX6etf/7ruvfdePf/8871eB/3tP/7yl7/oe9/7nhYsWKDMzExJgbf/ErD6kM1mk8vl8hr7JEl/%2BhQo%2Bo/rrrtObrdbVqv1gr0bNGiQpI97%2B/e/vbhcLtlsNtlsNhmG0ePxZ8%2Be9czzvvj8DRw40G89vdS20Teuu%2B46NTU1SaK/gaS6uloPPviglixZopkzZ0oKzP2XgNWH0tPTdfr0aa/GHD58WEOHDlVkZKQfK4MkHT16VOvWrfMae/vttxUeHq6srCzV1tZ6zTkcDmVkZEj6uLd1dXWeue7ubtXX1%2BsrX/mKkpKSFBcX5zXf0NCgzs5O2e123hd%2B8vc9kz6/nl5q27hyL730kqqqqrzG3n77bSUlJUmiv4HijTfe0COPPKINGzYoJyfHMx6I%2By8Bqw%2BlpqbKbrdr7dq1On/%2BvN5%2B%2B21VVFTovvvu83dp0Me/ET333HN67rnn1NHRoWPHjmnDhg3Kz89XTk6OTp06paqqKnV0dGj//v06ePCg8vLyJEn5%2Bfl64YUX9NZbb%2BnDDz/Uxo0bPcHMarUqNzdX5eXlOnPmjFpaWrRu3TpNmjRJNpuN90UfcjqdOnPmjNrb2/Xhhx/K6XTK6XRKknJycvTuu%2B/6paeX2jZ652L9DQ0N1U9%2B8hO9%2BuqrcrvdOnTokHbu3Ok5A0J/%2Bz%2B3263S0lKvy4KfCMj996KfMcQVO3PmjPHAAw8YGRkZxq233mqUlZX5uyR8ymuvvWbk5eUZX/3qV43MzExjzZo1RkdHh2du6tSpht1uNyZPnmy8/PLLXo/97W9/a9x2223GTTfdZMycOdP461//6pnr6OgwHnvsMeNrX/uaMWrUKGPBggVeHwHmfdE3RowYYaSkpHj%2B%2B%2BTfn/BnTy%2B1bVzapfpbWVlp3HHHHUZGRoYxceJEY%2BfOnV6Pp7/922uvvWakpKQYN910k2G3271%2Bnjp1KuD2X4thcGceAACAmbhECAAAYDICFgAAgMkIWAAAACYjYAEAAJiMgAUAAGAyAhYAAIDJCFgAAAAmI2ABAACYjIAFAABgMgIWAACAyQhYAAAAJiNgAQAAmIyABQAAYLL/Bwy133c34V2zAAAAAElFTkSuQmCC\">\n",
       "             </div>\n",
       "      </div>\n",
       "    </div><div class=\"row variablerow\">\n",
       "        <div class=\"col-md-3 namecol\">\n",
       "            <p class=\"h4\">SourceName<br/><small>Categorical</small></p>\n",
       "        </div>\n",
       "\n",
       "       <div class=\"col-md-3\">\n",
       "\n",
       "            <table class=\"stats \">\n",
       "                <tr class=\"alert\"><th>Distinct count</th>\n",
       "                <td>168</td></tr>\n",
       "                <tr><th>Unique (%)</th>\n",
       "                <td>0.1%</td></tr>\n",
       "                <tr class=\"ignore\"><th>Missing (%)</th>\n",
       "                <td>0.0%</td></tr>\n",
       "                <tr class=\"ignore\"><th>Missing (n)</th>\n",
       "                <td>1</td></tr>\n",
       "            </table>\n",
       "\n",
       "\n",
       "\n",
       "        </div>\n",
       "         \n",
       "        <div class=\"col-md-6 collapse in\"  id=\"minifreqtable-3739990500490728152\">\n",
       "            <table class=\"mini freq\">\n",
       "                <tr class=\"\">\n",
       "                    <th>totaljobs.com</th>\n",
       "                     <td>\n",
       "                          <div class=\"bar\" style=\"width:34%\" data-toggle=\"tooltip\" data-placement=\"right\" data-html=\"true\" data-delay=500 title=\"Percentage: 19.7%\">\n",
       "48149\n",
       "                          </div>\n",
       "                   </td>\n",
       "                </tr>\n",
       "<tr class=\"\">\n",
       "                    <th>cv-library.co.uk</th>\n",
       "                     <td>\n",
       "                          <div class=\"bar\" style=\"width:24%\" data-toggle=\"tooltip\" data-placement=\"right\" data-html=\"true\" data-delay=500 title=\"Percentage: 14.0%\">\n",
       "34279\n",
       "                          </div>\n",
       "                   </td>\n",
       "                </tr>\n",
       "<tr class=\"\">\n",
       "                    <th>Jobcentre Plus</th>\n",
       "                     <td>\n",
       "                          <div class=\"bar\" style=\"width:13%\" data-toggle=\"tooltip\" data-placement=\"right\" data-html=\"true\" data-delay=500 title=\"Percentage: 7.3%\">\n",
       "&nbsp;\n",
       "                          </div>17929\n",
       "                   </td>\n",
       "                </tr>\n",
       "<tr class=\"other\">\n",
       "                    <th>Other values (164)</th>\n",
       "                     <td>\n",
       "                          <div class=\"bar\" style=\"width:100%\" data-toggle=\"tooltip\" data-placement=\"right\" data-html=\"true\" data-delay=500 title=\"Percentage: 59.0%\">\n",
       "144410\n",
       "                          </div>\n",
       "                   </td>\n",
       "                </tr>\n",
       "\n",
       "            </table>\n",
       "        </div>\n",
       "\n",
       "\n",
       "        <div class=\"col-md-12 text-right\">\n",
       "                <a role=\"button\" data-toggle=\"collapse\" data-target=\"#freqtable-3739990500490728152, #minifreqtable-3739990500490728152\" aria-expanded=\"true\" aria-controls=\"collapseExample\">\n",
       "                    Toggle details\n",
       "                </a>\n",
       "        </div>\n",
       "         \n",
       "\n",
       "         <div class=\"col-md-12 collapse extrapadding\" id=\"freqtable-3739990500490728152\">\n",
       "            <table class=\"freq table table-hover\">\n",
       "                <thead><tr>\n",
       "                    <td class=\"fillremaining\">Value</td>\n",
       "                    <td class=\"number\">Count</td>\n",
       "                     <td class=\"number\">Frequency (%)</td>\n",
       "                    <td style=\"min-width:200px\">&nbsp;</td>\n",
       "                </tr></thead>\n",
       "\n",
       "                \n",
       "<tr class=\"\">\n",
       "        <td class=\"fillremaining\">totaljobs.com</td>\n",
       "        <td class=\"number\">48149</td>\n",
       "        <td class=\"number\">19.7%</td>\n",
       "        <td>\n",
       "            <div class=\"bar\" style=\"width:75%\">&nbsp;</div>\n",
       "        </td>\n",
       "</tr>\n",
       "\n",
       "<tr class=\"\">\n",
       "        <td class=\"fillremaining\">cv-library.co.uk</td>\n",
       "        <td class=\"number\">34279</td>\n",
       "        <td class=\"number\">14.0%</td>\n",
       "        <td>\n",
       "            <div class=\"bar\" style=\"width:53%\">&nbsp;</div>\n",
       "        </td>\n",
       "</tr>\n",
       "\n",
       "<tr class=\"\">\n",
       "        <td class=\"fillremaining\">Jobcentre Plus</td>\n",
       "        <td class=\"number\">17929</td>\n",
       "        <td class=\"number\">7.3%</td>\n",
       "        <td>\n",
       "            <div class=\"bar\" style=\"width:28%\">&nbsp;</div>\n",
       "        </td>\n",
       "</tr>\n",
       "\n",
       "<tr class=\"\">\n",
       "        <td class=\"fillremaining\">jobsite.co.uk</td>\n",
       "        <td class=\"number\">12225</td>\n",
       "        <td class=\"number\">5.0%</td>\n",
       "        <td>\n",
       "            <div class=\"bar\" style=\"width:19%\">&nbsp;</div>\n",
       "        </td>\n",
       "</tr>\n",
       "\n",
       "<tr class=\"\">\n",
       "        <td class=\"fillremaining\">cwjobs.co.uk</td>\n",
       "        <td class=\"number\">7011</td>\n",
       "        <td class=\"number\">2.9%</td>\n",
       "        <td>\n",
       "            <div class=\"bar\" style=\"width:11%\">&nbsp;</div>\n",
       "        </td>\n",
       "</tr>\n",
       "\n",
       "<tr class=\"\">\n",
       "        <td class=\"fillremaining\">fish4.co.uk</td>\n",
       "        <td class=\"number\">6016</td>\n",
       "        <td class=\"number\">2.5%</td>\n",
       "        <td>\n",
       "            <div class=\"bar\" style=\"width:10%\">&nbsp;</div>\n",
       "        </td>\n",
       "</tr>\n",
       "\n",
       "<tr class=\"\">\n",
       "        <td class=\"fillremaining\">MyUkJobs</td>\n",
       "        <td class=\"number\">5522</td>\n",
       "        <td class=\"number\">2.3%</td>\n",
       "        <td>\n",
       "            <div class=\"bar\" style=\"width:9%\">&nbsp;</div>\n",
       "        </td>\n",
       "</tr>\n",
       "\n",
       "<tr class=\"\">\n",
       "        <td class=\"fillremaining\">ukstaffsearch.com</td>\n",
       "        <td class=\"number\">4997</td>\n",
       "        <td class=\"number\">2.0%</td>\n",
       "        <td>\n",
       "            <div class=\"bar\" style=\"width:8%\">&nbsp;</div>\n",
       "        </td>\n",
       "</tr>\n",
       "\n",
       "<tr class=\"\">\n",
       "        <td class=\"fillremaining\">jobs.guardian.co.uk</td>\n",
       "        <td class=\"number\">4965</td>\n",
       "        <td class=\"number\">2.0%</td>\n",
       "        <td>\n",
       "            <div class=\"bar\" style=\"width:8%\">&nbsp;</div>\n",
       "        </td>\n",
       "</tr>\n",
       "\n",
       "<tr class=\"\">\n",
       "        <td class=\"fillremaining\">technojobs.co.uk</td>\n",
       "        <td class=\"number\">4638</td>\n",
       "        <td class=\"number\">1.9%</td>\n",
       "        <td>\n",
       "            <div class=\"bar\" style=\"width:8%\">&nbsp;</div>\n",
       "        </td>\n",
       "</tr>\n",
       "\n",
       "<tr class=\"\">\n",
       "        <td class=\"fillremaining\">staffnurse.com</td>\n",
       "        <td class=\"number\">4472</td>\n",
       "        <td class=\"number\">1.8%</td>\n",
       "        <td>\n",
       "            <div class=\"bar\" style=\"width:7%\">&nbsp;</div>\n",
       "        </td>\n",
       "</tr>\n",
       "\n",
       "<tr class=\"\">\n",
       "        <td class=\"fillremaining\">caterer.com</td>\n",
       "        <td class=\"number\">4256</td>\n",
       "        <td class=\"number\">1.7%</td>\n",
       "        <td>\n",
       "            <div class=\"bar\" style=\"width:7%\">&nbsp;</div>\n",
       "        </td>\n",
       "</tr>\n",
       "\n",
       "<tr class=\"\">\n",
       "        <td class=\"fillremaining\">careworx.co.uk</td>\n",
       "        <td class=\"number\">4228</td>\n",
       "        <td class=\"number\">1.7%</td>\n",
       "        <td>\n",
       "            <div class=\"bar\" style=\"width:7%\">&nbsp;</div>\n",
       "        </td>\n",
       "</tr>\n",
       "\n",
       "<tr class=\"\">\n",
       "        <td class=\"fillremaining\">jobserve.com</td>\n",
       "        <td class=\"number\">4176</td>\n",
       "        <td class=\"number\">1.7%</td>\n",
       "        <td>\n",
       "            <div class=\"bar\" style=\"width:7%\">&nbsp;</div>\n",
       "        </td>\n",
       "</tr>\n",
       "\n",
       "<tr class=\"\">\n",
       "        <td class=\"fillremaining\">jobs.catererandhotelkeeper.com</td>\n",
       "        <td class=\"number\">3691</td>\n",
       "        <td class=\"number\">1.5%</td>\n",
       "        <td>\n",
       "            <div class=\"bar\" style=\"width:6%\">&nbsp;</div>\n",
       "        </td>\n",
       "</tr>\n",
       "\n",
       "<tr class=\"\">\n",
       "        <td class=\"fillremaining\">hays.co.uk</td>\n",
       "        <td class=\"number\">3187</td>\n",
       "        <td class=\"number\">1.3%</td>\n",
       "        <td>\n",
       "            <div class=\"bar\" style=\"width:5%\">&nbsp;</div>\n",
       "        </td>\n",
       "</tr>\n",
       "\n",
       "<tr class=\"\">\n",
       "        <td class=\"fillremaining\">cvbrowser.com</td>\n",
       "        <td class=\"number\">2977</td>\n",
       "        <td class=\"number\">1.2%</td>\n",
       "        <td>\n",
       "            <div class=\"bar\" style=\"width:5%\">&nbsp;</div>\n",
       "        </td>\n",
       "</tr>\n",
       "\n",
       "<tr class=\"\">\n",
       "        <td class=\"fillremaining\">gojobsearch.co.uk</td>\n",
       "        <td class=\"number\">2871</td>\n",
       "        <td class=\"number\">1.2%</td>\n",
       "        <td>\n",
       "            <div class=\"bar\" style=\"width:5%\">&nbsp;</div>\n",
       "        </td>\n",
       "</tr>\n",
       "\n",
       "<tr class=\"\">\n",
       "        <td class=\"fillremaining\">retailchoice.com</td>\n",
       "        <td class=\"number\">2515</td>\n",
       "        <td class=\"number\">1.0%</td>\n",
       "        <td>\n",
       "            <div class=\"bar\" style=\"width:4%\">&nbsp;</div>\n",
       "        </td>\n",
       "</tr>\n",
       "\n",
       "<tr class=\"\">\n",
       "        <td class=\"fillremaining\">theitjobboard.co.uk</td>\n",
       "        <td class=\"number\">2496</td>\n",
       "        <td class=\"number\">1.0%</td>\n",
       "        <td>\n",
       "            <div class=\"bar\" style=\"width:4%\">&nbsp;</div>\n",
       "        </td>\n",
       "</tr>\n",
       "\n",
       "<tr class=\"other\">\n",
       "        <td class=\"fillremaining\">Other values (147)</td>\n",
       "        <td class=\"number\">64167</td>\n",
       "        <td class=\"number\">26.2%</td>\n",
       "        <td>\n",
       "            <div class=\"bar\" style=\"width:100%\">&nbsp;</div>\n",
       "        </td>\n",
       "</tr>\n",
       "\n",
       "            </table>\n",
       "\n",
       "        </div>\n",
       "\n",
       "\n",
       "    </div><div class=\"row variablerow\">\n",
       "        <div class=\"col-md-3 namecol\">\n",
       "            <p class=\"h4\">Title<br/><small>Categorical</small></p>\n",
       "        </div>\n",
       "\n",
       "       <div class=\"col-md-3\">\n",
       "\n",
       "            <table class=\"stats \">\n",
       "                <tr class=\"alert\"><th>Distinct count</th>\n",
       "                <td>135436</td></tr>\n",
       "                <tr><th>Unique (%)</th>\n",
       "                <td>55.3%</td></tr>\n",
       "                <tr class=\"ignore\"><th>Missing (%)</th>\n",
       "                <td>0.0%</td></tr>\n",
       "                <tr class=\"ignore\"><th>Missing (n)</th>\n",
       "                <td>1</td></tr>\n",
       "            </table>\n",
       "\n",
       "\n",
       "\n",
       "        </div>\n",
       "         \n",
       "        <div class=\"col-md-6 collapse in\"  id=\"minifreqtable8981624332926773255\">\n",
       "            <table class=\"mini freq\">\n",
       "                <tr class=\"\">\n",
       "                    <th>Business Development Manager</th>\n",
       "                     <td>\n",
       "                          <div class=\"bar\" style=\"width:1%\" data-toggle=\"tooltip\" data-placement=\"right\" data-html=\"true\" data-delay=500 title=\"Percentage: 0.4%\">\n",
       "&nbsp;\n",
       "                          </div>921\n",
       "                   </td>\n",
       "                </tr>\n",
       "<tr class=\"\">\n",
       "                    <th>Project Manager</th>\n",
       "                     <td>\n",
       "                          <div class=\"bar\" style=\"width:1%\" data-toggle=\"tooltip\" data-placement=\"right\" data-html=\"true\" data-delay=500 title=\"Percentage: 0.3%\">\n",
       "&nbsp;\n",
       "                          </div>749\n",
       "                   </td>\n",
       "                </tr>\n",
       "<tr class=\"\">\n",
       "                    <th>Management Accountant</th>\n",
       "                     <td>\n",
       "                          <div class=\"bar\" style=\"width:1%\" data-toggle=\"tooltip\" data-placement=\"right\" data-html=\"true\" data-delay=500 title=\"Percentage: 0.3%\">\n",
       "&nbsp;\n",
       "                          </div>661\n",
       "                   </td>\n",
       "                </tr>\n",
       "<tr class=\"other\">\n",
       "                    <th>Other values (135432)</th>\n",
       "                     <td>\n",
       "                          <div class=\"bar\" style=\"width:100%\" data-toggle=\"tooltip\" data-placement=\"right\" data-html=\"true\" data-delay=500 title=\"Percentage: 99.0%\">\n",
       "242436\n",
       "                          </div>\n",
       "                   </td>\n",
       "                </tr>\n",
       "\n",
       "            </table>\n",
       "        </div>\n",
       "\n",
       "\n",
       "        <div class=\"col-md-12 text-right\">\n",
       "                <a role=\"button\" data-toggle=\"collapse\" data-target=\"#freqtable8981624332926773255, #minifreqtable8981624332926773255\" aria-expanded=\"true\" aria-controls=\"collapseExample\">\n",
       "                    Toggle details\n",
       "                </a>\n",
       "        </div>\n",
       "         \n",
       "\n",
       "         <div class=\"col-md-12 collapse extrapadding\" id=\"freqtable8981624332926773255\">\n",
       "            <table class=\"freq table table-hover\">\n",
       "                <thead><tr>\n",
       "                    <td class=\"fillremaining\">Value</td>\n",
       "                    <td class=\"number\">Count</td>\n",
       "                     <td class=\"number\">Frequency (%)</td>\n",
       "                    <td style=\"min-width:200px\">&nbsp;</td>\n",
       "                </tr></thead>\n",
       "\n",
       "                \n",
       "<tr class=\"\">\n",
       "        <td class=\"fillremaining\">Business Development Manager</td>\n",
       "        <td class=\"number\">921</td>\n",
       "        <td class=\"number\">0.4%</td>\n",
       "        <td>\n",
       "            <div class=\"bar\" style=\"width:1%\">&nbsp;</div>\n",
       "        </td>\n",
       "</tr>\n",
       "\n",
       "<tr class=\"\">\n",
       "        <td class=\"fillremaining\">Project Manager</td>\n",
       "        <td class=\"number\">749</td>\n",
       "        <td class=\"number\">0.3%</td>\n",
       "        <td>\n",
       "            <div class=\"bar\" style=\"width:1%\">&nbsp;</div>\n",
       "        </td>\n",
       "</tr>\n",
       "\n",
       "<tr class=\"\">\n",
       "        <td class=\"fillremaining\">Management Accountant</td>\n",
       "        <td class=\"number\">661</td>\n",
       "        <td class=\"number\">0.3%</td>\n",
       "        <td>\n",
       "            <div class=\"bar\" style=\"width:1%\">&nbsp;</div>\n",
       "        </td>\n",
       "</tr>\n",
       "\n",
       "<tr class=\"\">\n",
       "        <td class=\"fillremaining\">Sales Executive</td>\n",
       "        <td class=\"number\">603</td>\n",
       "        <td class=\"number\">0.2%</td>\n",
       "        <td>\n",
       "            <div class=\"bar\" style=\"width:1%\">&nbsp;</div>\n",
       "        </td>\n",
       "</tr>\n",
       "\n",
       "<tr class=\"\">\n",
       "        <td class=\"fillremaining\">Account Manager</td>\n",
       "        <td class=\"number\">540</td>\n",
       "        <td class=\"number\">0.2%</td>\n",
       "        <td>\n",
       "            <div class=\"bar\" style=\"width:1%\">&nbsp;</div>\n",
       "        </td>\n",
       "</tr>\n",
       "\n",
       "<tr class=\"\">\n",
       "        <td class=\"fillremaining\">Mechanical Design Engineer</td>\n",
       "        <td class=\"number\">459</td>\n",
       "        <td class=\"number\">0.2%</td>\n",
       "        <td>\n",
       "            <div class=\"bar\" style=\"width:1%\">&nbsp;</div>\n",
       "        </td>\n",
       "</tr>\n",
       "\n",
       "<tr class=\"\">\n",
       "        <td class=\"fillremaining\">Finance Manager</td>\n",
       "        <td class=\"number\">458</td>\n",
       "        <td class=\"number\">0.2%</td>\n",
       "        <td>\n",
       "            <div class=\"bar\" style=\"width:1%\">&nbsp;</div>\n",
       "        </td>\n",
       "</tr>\n",
       "\n",
       "<tr class=\"\">\n",
       "        <td class=\"fillremaining\">Credit Controller</td>\n",
       "        <td class=\"number\">439</td>\n",
       "        <td class=\"number\">0.2%</td>\n",
       "        <td>\n",
       "            <div class=\"bar\" style=\"width:1%\">&nbsp;</div>\n",
       "        </td>\n",
       "</tr>\n",
       "\n",
       "<tr class=\"\">\n",
       "        <td class=\"fillremaining\">Cleaner</td>\n",
       "        <td class=\"number\">439</td>\n",
       "        <td class=\"number\">0.2%</td>\n",
       "        <td>\n",
       "            <div class=\"bar\" style=\"width:1%\">&nbsp;</div>\n",
       "        </td>\n",
       "</tr>\n",
       "\n",
       "<tr class=\"\">\n",
       "        <td class=\"fillremaining\">Accounts Assistant</td>\n",
       "        <td class=\"number\">435</td>\n",
       "        <td class=\"number\">0.2%</td>\n",
       "        <td>\n",
       "            <div class=\"bar\" style=\"width:1%\">&nbsp;</div>\n",
       "        </td>\n",
       "</tr>\n",
       "\n",
       "<tr class=\"\">\n",
       "        <td class=\"fillremaining\">Administrator</td>\n",
       "        <td class=\"number\">428</td>\n",
       "        <td class=\"number\">0.2%</td>\n",
       "        <td>\n",
       "            <div class=\"bar\" style=\"width:1%\">&nbsp;</div>\n",
       "        </td>\n",
       "</tr>\n",
       "\n",
       "<tr class=\"\">\n",
       "        <td class=\"fillremaining\">Recruitment Consultant</td>\n",
       "        <td class=\"number\">423</td>\n",
       "        <td class=\"number\">0.2%</td>\n",
       "        <td>\n",
       "            <div class=\"bar\" style=\"width:1%\">&nbsp;</div>\n",
       "        </td>\n",
       "</tr>\n",
       "\n",
       "<tr class=\"\">\n",
       "        <td class=\"fillremaining\">Assistant Manager</td>\n",
       "        <td class=\"number\">398</td>\n",
       "        <td class=\"number\">0.2%</td>\n",
       "        <td>\n",
       "            <div class=\"bar\" style=\"width:1%\">&nbsp;</div>\n",
       "        </td>\n",
       "</tr>\n",
       "\n",
       "<tr class=\"\">\n",
       "        <td class=\"fillremaining\">Financial Controller</td>\n",
       "        <td class=\"number\">387</td>\n",
       "        <td class=\"number\">0.2%</td>\n",
       "        <td>\n",
       "            <div class=\"bar\" style=\"width:1%\">&nbsp;</div>\n",
       "        </td>\n",
       "</tr>\n",
       "\n",
       "<tr class=\"\">\n",
       "        <td class=\"fillremaining\">Sales Manager</td>\n",
       "        <td class=\"number\">361</td>\n",
       "        <td class=\"number\">0.1%</td>\n",
       "        <td>\n",
       "            <div class=\"bar\" style=\"width:1%\">&nbsp;</div>\n",
       "        </td>\n",
       "</tr>\n",
       "\n",
       "<tr class=\"\">\n",
       "        <td class=\"fillremaining\">Business Analyst</td>\n",
       "        <td class=\"number\">354</td>\n",
       "        <td class=\"number\">0.1%</td>\n",
       "        <td>\n",
       "            <div class=\"bar\" style=\"width:1%\">&nbsp;</div>\n",
       "        </td>\n",
       "</tr>\n",
       "\n",
       "<tr class=\"\">\n",
       "        <td class=\"fillremaining\">Quality Engineer</td>\n",
       "        <td class=\"number\">311</td>\n",
       "        <td class=\"number\">0.1%</td>\n",
       "        <td>\n",
       "            <div class=\"bar\" style=\"width:1%\">&nbsp;</div>\n",
       "        </td>\n",
       "</tr>\n",
       "\n",
       "<tr class=\"\">\n",
       "        <td class=\"fillremaining\">Marketing Manager</td>\n",
       "        <td class=\"number\">288</td>\n",
       "        <td class=\"number\">0.1%</td>\n",
       "        <td>\n",
       "            <div class=\"bar\" style=\"width:1%\">&nbsp;</div>\n",
       "        </td>\n",
       "</tr>\n",
       "\n",
       "<tr class=\"\">\n",
       "        <td class=\"fillremaining\">Quantity Surveyor</td>\n",
       "        <td class=\"number\">280</td>\n",
       "        <td class=\"number\">0.1%</td>\n",
       "        <td>\n",
       "            <div class=\"bar\" style=\"width:1%\">&nbsp;</div>\n",
       "        </td>\n",
       "</tr>\n",
       "\n",
       "<tr class=\"\">\n",
       "        <td class=\"fillremaining\">Project Engineer</td>\n",
       "        <td class=\"number\">279</td>\n",
       "        <td class=\"number\">0.1%</td>\n",
       "        <td>\n",
       "            <div class=\"bar\" style=\"width:1%\">&nbsp;</div>\n",
       "        </td>\n",
       "</tr>\n",
       "\n",
       "<tr class=\"other\">\n",
       "        <td class=\"fillremaining\">Other values (135415)</td>\n",
       "        <td class=\"number\">235554</td>\n",
       "        <td class=\"number\">96.2%</td>\n",
       "        <td>\n",
       "            <div class=\"bar\" style=\"width:100%\">&nbsp;</div>\n",
       "        </td>\n",
       "</tr>\n",
       "\n",
       "            </table>\n",
       "\n",
       "        </div>\n",
       "\n",
       "\n",
       "    </div>\n",
       "\n",
       "    <div class=\"row headerrow highlight\">\n",
       "            <h1>Sample</h1>\n",
       "    </div>\n",
       "\n",
       "    \n",
       "    <div class=\"row variablerow\">\n",
       "        <div class=\"col-md-12\" style=\"overflow:scroll; width: 100%%; overflow-y: hidden;\">\n",
       "                <table border=\"1\" class=\"dataframe sample\">\n",
       "  <thead>\n",
       "    <tr style=\"text-align: right;\">\n",
       "      <th></th>\n",
       "      <th>Id</th>\n",
       "      <th>Title</th>\n",
       "      <th>LocationNormalized</th>\n",
       "      <th>ContractType</th>\n",
       "      <th>ContractTime</th>\n",
       "      <th>Company</th>\n",
       "      <th>Category</th>\n",
       "      <th>SalaryNormalized</th>\n",
       "      <th>SourceName</th>\n",
       "    </tr>\n",
       "  </thead>\n",
       "  <tbody>\n",
       "    <tr>\n",
       "      <th>0</th>\n",
       "      <td>12612628</td>\n",
       "      <td>Engineering Systems Analyst</td>\n",
       "      <td>Dorking</td>\n",
       "      <td>NaN</td>\n",
       "      <td>permanent</td>\n",
       "      <td>Gregory Martin International</td>\n",
       "      <td>Engineering Jobs</td>\n",
       "      <td>25000</td>\n",
       "      <td>cv-library.co.uk</td>\n",
       "    </tr>\n",
       "    <tr>\n",
       "      <th>1</th>\n",
       "      <td>12612830</td>\n",
       "      <td>Stress Engineer Glasgow</td>\n",
       "      <td>Glasgow</td>\n",
       "      <td>NaN</td>\n",
       "      <td>permanent</td>\n",
       "      <td>Gregory Martin International</td>\n",
       "      <td>Engineering Jobs</td>\n",
       "      <td>30000</td>\n",
       "      <td>cv-library.co.uk</td>\n",
       "    </tr>\n",
       "    <tr>\n",
       "      <th>2</th>\n",
       "      <td>12612844</td>\n",
       "      <td>Modelling and simulation analyst</td>\n",
       "      <td>Hampshire</td>\n",
       "      <td>NaN</td>\n",
       "      <td>permanent</td>\n",
       "      <td>Gregory Martin International</td>\n",
       "      <td>Engineering Jobs</td>\n",
       "      <td>30000</td>\n",
       "      <td>cv-library.co.uk</td>\n",
       "    </tr>\n",
       "    <tr>\n",
       "      <th>3</th>\n",
       "      <td>12613049</td>\n",
       "      <td>Engineering Systems Analyst / Mathematical Mod...</td>\n",
       "      <td>Surrey</td>\n",
       "      <td>NaN</td>\n",
       "      <td>permanent</td>\n",
       "      <td>Gregory Martin International</td>\n",
       "      <td>Engineering Jobs</td>\n",
       "      <td>27500</td>\n",
       "      <td>cv-library.co.uk</td>\n",
       "    </tr>\n",
       "    <tr>\n",
       "      <th>4</th>\n",
       "      <td>12613647</td>\n",
       "      <td>Pioneer, Miser Engineering Systems Analyst</td>\n",
       "      <td>Surrey</td>\n",
       "      <td>NaN</td>\n",
       "      <td>permanent</td>\n",
       "      <td>Gregory Martin International</td>\n",
       "      <td>Engineering Jobs</td>\n",
       "      <td>25000</td>\n",
       "      <td>cv-library.co.uk</td>\n",
       "    </tr>\n",
       "  </tbody>\n",
       "</table>\n",
       "        </div>\n",
       "    </div>\n",
       "\n",
       "</div>\n",
       "\n"
      ],
      "text/plain": [
       "<pandas_profiling.ProfileReport at 0x7f4d62db84d0>"
      ]
     },
     "execution_count": 12,
     "metadata": {},
     "output_type": "execute_result"
    }
   ],
   "source": [
    "pandas_profiling.ProfileReport(data[[u'Id', u'Title',\n",
    "       u'LocationNormalized', u'ContractType', u'ContractTime', u'Company',\n",
    "       u'Category', u'SalaryNormalized', u'SourceName']])"
   ]
  },
  {
   "cell_type": "code",
   "execution_count": null,
   "metadata": {
    "collapsed": true
   },
   "outputs": [],
   "source": []
  }
 ],
 "metadata": {
  "kernelspec": {
   "display_name": "Python 2",
   "language": "python",
   "name": "python2"
  },
  "language_info": {
   "codemirror_mode": {
    "name": "ipython",
    "version": 2
   },
   "file_extension": ".py",
   "mimetype": "text/x-python",
   "name": "python",
   "nbconvert_exporter": "python",
   "pygments_lexer": "ipython2",
   "version": "2.7.6"
  }
 },
 "nbformat": 4,
 "nbformat_minor": 0
}
