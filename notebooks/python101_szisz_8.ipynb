{
 "metadata": {
  "kernelspec": {
   "display_name": "Python 2",
   "language": "python",
   "name": "python2"
  },
  "language_info": {
   "codemirror_mode": {
    "name": "ipython",
    "version": 2
   },
   "file_extension": ".py",
   "mimetype": "text/x-python",
   "name": "python",
   "nbconvert_exporter": "python",
   "pygments_lexer": "ipython2",
   "version": "2.7.6"
  },
  "name": ""
 },
 "nbformat": 3,
 "nbformat_minor": 0,
 "worksheets": [
  {
   "cells": [
    {
     "cell_type": "markdown",
     "metadata": {},
     "source": [
      "#Python 101 @ SzISz VIII.\n",
      "---\n",
      "##Today: Dataframes, and visualization\n"
     ]
    },
    {
     "cell_type": "heading",
     "level": 3,
     "metadata": {},
     "source": [
      "Act I: Get the data!"
     ]
    },
    {
     "cell_type": "code",
     "collapsed": false,
     "input": [
      "from IPython.display import Image\n",
      "Image(url='http://www.london24.com/polopoly_fs/1.3024317.1385128334!/image/4183113330.jpg_gen/derivatives/landscape_630/4183113330.jpg')"
     ],
     "language": "python",
     "metadata": {},
     "outputs": [],
     "prompt_number": null
    },
    {
     "cell_type": "markdown",
     "metadata": {},
     "source": [
      "Scrape the 2014 hungarian voting results"
     ]
    },
    {
     "cell_type": "code",
     "collapsed": false,
     "input": [
      "import requests\n",
      "from bs4 import BeautifulSoup"
     ],
     "language": "python",
     "metadata": {},
     "outputs": [],
     "prompt_number": null
    },
    {
     "cell_type": "code",
     "collapsed": false,
     "input": [
      "VOTE_BASE = 'http://valasztas.hu/dyn/pv14/szavossz/hu/'\n",
      "OVERALL = 'oevker.html'"
     ],
     "language": "python",
     "metadata": {},
     "outputs": [],
     "prompt_number": null
    },
    {
     "cell_type": "code",
     "collapsed": false,
     "input": [
      "vote_response = requests.get(VOTE_BASE + OVERALL)\n",
      "print vote_response.status_code"
     ],
     "language": "python",
     "metadata": {},
     "outputs": [],
     "prompt_number": null
    },
    {
     "cell_type": "code",
     "collapsed": false,
     "input": [
      "vote_soup = BeautifulSoup(vote_response.content)\n",
      "containers = vote_soup.find('table', {'border': '1'}).findAll('tr')\n",
      "print containers"
     ],
     "language": "python",
     "metadata": {},
     "outputs": [],
     "prompt_number": null
    },
    {
     "cell_type": "code",
     "collapsed": false,
     "input": [
      "# get the items out of the tablerows\n",
      "rows = [row.findAll('td') for row in containers]\n",
      "print rows"
     ],
     "language": "python",
     "metadata": {},
     "outputs": [],
     "prompt_number": null
    },
    {
     "cell_type": "code",
     "collapsed": false,
     "input": [
      "# we've got an unneeded first row, remove it!\n",
      "rows = rows[1:]\n",
      "print rows"
     ],
     "language": "python",
     "metadata": {},
     "outputs": [],
     "prompt_number": null
    },
    {
     "cell_type": "code",
     "collapsed": false,
     "input": [
      "# see the data in a table-like format\n",
      "for row in rows:\n",
      "    print [r.getText() for r in row]"
     ],
     "language": "python",
     "metadata": {},
     "outputs": [],
     "prompt_number": null
    },
    {
     "cell_type": "code",
     "collapsed": false,
     "input": [
      "# we need the region, the subregion and the links\n",
      "REGIONS = []\n",
      "for row in rows:\n",
      "    REGIONS.append([row[0].getText(), row[2].getText(), row[1].find('a').get('href')])\n",
      "print REGIONS\n",
      "print '-' * 79\n",
      "print 'Number of regions:', len(REGIONS)"
     ],
     "language": "python",
     "metadata": {},
     "outputs": [],
     "prompt_number": null
    },
    {
     "cell_type": "code",
     "collapsed": false,
     "input": [
      "results = []\n",
      "# get the detailed informations\n",
      "for region in REGIONS:\n",
      "    region_response = requests.get(VOTE_BASE + region[2])\n",
      "    region_soup = BeautifulSoup(region_response.content)\n",
      "    region_container = region_soup.find(text='A szavazatok sz\u00e1ma jel\u00f6ltenk\u00e9nt').findNext('table').findAll('tr')\n",
      "    region_rows = [row.findAll('td') for row in region_container]\n",
      "    # every candidate will go to a new row\n",
      "    for row in region_rows[1:]:\n",
      "        results.append([region[0], region[1]] + [r.getText() for r in row][:-1]) # remove the last 'tick column'"
     ],
     "language": "python",
     "metadata": {},
     "outputs": [],
     "prompt_number": null
    },
    {
     "cell_type": "code",
     "collapsed": false,
     "input": [
      "# let's look at the detailed information\n",
      "print results\n",
      "print '-' * 79\n",
      "print 'Number of candidates:', len(results)"
     ],
     "language": "python",
     "metadata": {},
     "outputs": [],
     "prompt_number": null
    },
    {
     "cell_type": "code",
     "collapsed": false,
     "input": [
      "cleaned_results =[]\n",
      "# We have to transform the items\n",
      "for row in results:\n",
      "    cleaned_results.append(\n",
      "        [item.replace(u'\\xa0', u'').replace(u'%', u'').strip() # replace the unneeded characters\n",
      "         for item in row]\n",
      "    )"
     ],
     "language": "python",
     "metadata": {},
     "outputs": [],
     "prompt_number": null
    },
    {
     "cell_type": "code",
     "collapsed": false,
     "input": [
      "print cleaned_results"
     ],
     "language": "python",
     "metadata": {},
     "outputs": [],
     "prompt_number": null
    },
    {
     "cell_type": "markdown",
     "metadata": {},
     "source": [
      "Now we can finally save it!"
     ]
    },
    {
     "cell_type": "code",
     "collapsed": false,
     "input": [
      "import codecs\n",
      "header = [u'region', u'subregion', u'subid', u'name', u'party', u'votes', u'votes %']\n",
      "filename = 'vote2014.csv'\n",
      "with codecs.open(filename, 'w', 'utf-8') as csv:\n",
      "    csv.write(u';'.join([u'\"' + item + u'\"' for item in header]) + u'\\n')\n",
      "    for row in cleaned_results:\n",
      "        csv.write(u';'.join([u'\"' + item + u'\"' for item in row]) + u'\\n')\n",
      "\n",
      "# check if it is successfully created\n",
      "import os\n",
      "os.path.isfile('./' + filename)"
     ],
     "language": "python",
     "metadata": {},
     "outputs": [],
     "prompt_number": null
    },
    {
     "cell_type": "markdown",
     "metadata": {},
     "source": [
      "---\n",
      "###Act II: Use the pandas, Luke!"
     ]
    },
    {
     "cell_type": "code",
     "collapsed": false,
     "input": [
      "# import pandas! \n",
      "import pandas as pd"
     ],
     "language": "python",
     "metadata": {},
     "outputs": [],
     "prompt_number": null
    },
    {
     "cell_type": "code",
     "collapsed": false,
     "input": [
      "Image(url='http://bconnelly.net/wp-content/uploads/2013/10/pandas1.png')"
     ],
     "language": "python",
     "metadata": {},
     "outputs": [],
     "prompt_number": null
    },
    {
     "cell_type": "code",
     "collapsed": false,
     "input": [
      "#read in the data into a dataframe\n",
      "data = pd.read_csv(filename, quotechar='\"', delimiter=';', encoding='utf-8')"
     ],
     "language": "python",
     "metadata": {},
     "outputs": [],
     "prompt_number": null
    },
    {
     "cell_type": "code",
     "collapsed": false,
     "input": [
      "# show the first 5 rows\n",
      "data[:5]"
     ],
     "language": "python",
     "metadata": {},
     "outputs": [],
     "prompt_number": null
    },
    {
     "cell_type": "code",
     "collapsed": false,
     "input": [
      "# we don't need the subid\n",
      "del data['subid']"
     ],
     "language": "python",
     "metadata": {},
     "outputs": [],
     "prompt_number": null
    },
    {
     "cell_type": "code",
     "collapsed": false,
     "input": [
      "# check the results\n",
      "data[:5]"
     ],
     "language": "python",
     "metadata": {},
     "outputs": [],
     "prompt_number": null
    },
    {
     "cell_type": "code",
     "collapsed": false,
     "input": [
      "# How many people voted?\n",
      "data['votes'].sum()"
     ],
     "language": "python",
     "metadata": {},
     "outputs": [],
     "prompt_number": null
    },
    {
     "cell_type": "code",
     "collapsed": false,
     "input": [
      "# let's get the sum of the votes for each party!\n",
      "data.groupby('party').sum()"
     ],
     "language": "python",
     "metadata": {},
     "outputs": [],
     "prompt_number": null
    },
    {
     "cell_type": "code",
     "collapsed": false,
     "input": [
      "# Cool! Order it by the number of votes!\n",
      "party_votes = data[['party', 'votes']].groupby('party').sum().sort('votes', ascending=False)\n",
      "party_votes"
     ],
     "language": "python",
     "metadata": {},
     "outputs": [],
     "prompt_number": null
    },
    {
     "cell_type": "code",
     "collapsed": false,
     "input": [
      "# Cooler! Draw a histogram!\n",
      "# use this `ipython magic` to draw the plots into the notebook\n",
      "%matplotlib inline\n",
      "party_votes.plot(kind='bar')"
     ],
     "language": "python",
     "metadata": {},
     "outputs": [],
     "prompt_number": null
    },
    {
     "cell_type": "code",
     "collapsed": false,
     "input": [
      "# Allright, let's get the ones with at least 10000 votes4\n",
      "%matplotlib inline\n",
      "vote10k = party_votes[(party_votes['votes'] > 10000)]\n",
      "vote10k.plot(kind='bar')"
     ],
     "language": "python",
     "metadata": {},
     "outputs": [],
     "prompt_number": null
    },
    {
     "cell_type": "code",
     "collapsed": false,
     "input": [
      "# Let's get the top 6!\n",
      "%matplotlib inline\n",
      "top6 = party_votes.head(6)\n",
      "top6.plot(kind='bar')"
     ],
     "language": "python",
     "metadata": {},
     "outputs": [],
     "prompt_number": null
    },
    {
     "cell_type": "markdown",
     "metadata": {},
     "source": [
      "---\n",
      "###Act III: The devil lies in the details!"
     ]
    },
    {
     "cell_type": "code",
     "collapsed": false,
     "input": [
      "Image(url='http://searchenginewatch.com/IMG/892/265892/panda-devil.png', width=300, height=300)"
     ],
     "language": "python",
     "metadata": {},
     "outputs": [],
     "prompt_number": null
    },
    {
     "cell_type": "code",
     "collapsed": false,
     "input": [
      "# Let's use the regional data too!\n",
      "regional = data[['party', 'region', 'votes']].groupby(['region', 'party']).sum()\n",
      "regional"
     ],
     "language": "python",
     "metadata": {},
     "outputs": [],
     "prompt_number": null
    },
    {
     "cell_type": "code",
     "collapsed": false,
     "input": [
      "# Let's only have the ones with more than 5000 votes!\n",
      "regional5k = regional[regional['votes'] > 5000]\n",
      "regional5k"
     ],
     "language": "python",
     "metadata": {},
     "outputs": [],
     "prompt_number": null
    },
    {
     "cell_type": "code",
     "collapsed": false,
     "input": [
      "# We need to convert it into a plottable format\n",
      "# pivot table\n",
      "regional5k.stack()"
     ],
     "language": "python",
     "metadata": {},
     "outputs": [],
     "prompt_number": null
    },
    {
     "cell_type": "code",
     "collapsed": false,
     "input": [
      "# then unpivot subtable\n",
      "regional5k.stack().unstack('party')"
     ],
     "language": "python",
     "metadata": {},
     "outputs": [],
     "prompt_number": null
    },
    {
     "cell_type": "code",
     "collapsed": false,
     "input": [
      "# that looks like something plottable!\n",
      "regional5k.stack().unstack('party').plot(kind='barh')"
     ],
     "language": "python",
     "metadata": {},
     "outputs": [],
     "prompt_number": null
    },
    {
     "cell_type": "markdown",
     "metadata": {},
     "source": [
      "---\n",
      "###Final Act: The pandas is strong with this one! "
     ]
    },
    {
     "cell_type": "code",
     "collapsed": false,
     "input": [
      "Image(url='http://2.bp.blogspot.com/-pgK8KdMmSn8/TsFTOwrGk9I/AAAAAAAABAk/5ondVGyw6w8/s320/Darth+Panda.jpg')"
     ],
     "language": "python",
     "metadata": {},
     "outputs": [],
     "prompt_number": null
    },
    {
     "cell_type": "code",
     "collapsed": false,
     "input": [
      "# Plot the number of voters in each region!\n"
     ],
     "language": "python",
     "metadata": {},
     "outputs": [],
     "prompt_number": null
    },
    {
     "cell_type": "code",
     "collapsed": false,
     "input": [
      "# Who would win, if Fidesz doesn't participate in the election?\n"
     ],
     "language": "python",
     "metadata": {},
     "outputs": [],
     "prompt_number": null
    },
    {
     "cell_type": "code",
     "collapsed": false,
     "input": [
      "# Who would win by regions, if Fidesz doesn't participate in the election?\n"
     ],
     "language": "python",
     "metadata": {},
     "outputs": [],
     "prompt_number": null
    },
    {
     "cell_type": "code",
     "collapsed": false,
     "input": [],
     "language": "python",
     "metadata": {},
     "outputs": [],
     "prompt_number": null
    }
   ],
   "metadata": {}
  }
 ]
}