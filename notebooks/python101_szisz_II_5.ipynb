{
 "cells": [
  {
   "cell_type": "markdown",
   "metadata": {},
   "source": [
    "# Python 101 @ SzISz IV.\n",
    "\n",
    "---\n",
    "\n",
    "## Previously on Python 101"
   ]
  },
  {
   "cell_type": "code",
   "execution_count": null,
   "metadata": {
    "collapsed": false
   },
   "outputs": [],
   "source": [
    "class MyClass:\n",
    "    def __init__(self, attribute):\n",
    "        self.attribute = attribute\n",
    "        \n",
    "    def get(self):\n",
    "        return self.attribute\n",
    "    \n",
    "    def set(self, attribute):\n",
    "        self.attribute = attribute\n",
    "        \n",
    "myclass = MyClass('my attribute')\n",
    "print myclass.get()\n",
    "myclass.set('new value')\n",
    "print myclass.attribute\n",
    "print myclass.get()"
   ]
  },
  {
   "cell_type": "markdown",
   "metadata": {},
   "source": [
    "## Today on Python 101: Exceptions\n",
    "\n",
    "### Errors\n",
    "\n",
    "If the code is syntactically incorrect the interpreter won't be able to execute it. -> You'll get a syntax error."
   ]
  },
  {
   "cell_type": "code",
   "execution_count": null,
   "metadata": {
    "collapsed": false
   },
   "outputs": [],
   "source": [
    "while True print 'Hello world'"
   ]
  },
  {
   "cell_type": "markdown",
   "metadata": {},
   "source": [
    "### Exceptions\n",
    "\n",
    "If the code is syntactically correct unexpected events can still happen during execution, and the program will terminate like this:"
   ]
  },
  {
   "cell_type": "code",
   "execution_count": null,
   "metadata": {
    "collapsed": false
   },
   "outputs": [],
   "source": [
    "class Divider:\n",
    "    # the call method is called, if we call the object itself\n",
    "    def __call__(self, num1, num2):\n",
    "        return num1/num2\n",
    "    \n",
    "divide = Divider()\n",
    "print divide(2, 1)\n",
    "print divide(1, 0)\n",
    "print divide(3, 2)"
   ]
  },
  {
   "cell_type": "markdown",
   "metadata": {},
   "source": [
    "As we can see, dividing by zero is not possible, so a ZeroDivisionError emerged and our program stopped. Our program shouldn't stop running, so we have to handle these cases! -> Let's use Exceptions!"
   ]
  },
  {
   "cell_type": "code",
   "execution_count": null,
   "metadata": {
    "collapsed": false
   },
   "outputs": [],
   "source": [
    "class Divider:\n",
    "    def __call__(self, num1, num2):\n",
    "        # in order to catch the errors, we need to use the try except structure:\n",
    "        try:\n",
    "            # we try to do something\n",
    "            return num1/num2\n",
    "        # in case an exception happened, handle it!\n",
    "        except ZeroDivisionError:\n",
    "            print 'Dividing by zero is not possible!'\n",
    "            return 0\n",
    "            \n",
    "divide = Divider()\n",
    "print divide(2, 1)\n",
    "print divide(1, 0)\n",
    "print divide(3, 2)"
   ]
  },
  {
   "cell_type": "markdown",
   "metadata": {},
   "source": [
    "ZeroDivisionError is a subclass of the Exception class. There are many different type of Exceptions."
   ]
  },
  {
   "cell_type": "code",
   "execution_count": null,
   "metadata": {
    "collapsed": false
   },
   "outputs": [],
   "source": [
    "class Divider:\n",
    "    def __call__(self, num1, num2):\n",
    "        try:\n",
    "            return num1/num2\n",
    "        except ZeroDivisionError:\n",
    "            print 'Dividing by zero is not possible!'\n",
    "            return 0\n",
    "            \n",
    "divide = Divider()\n",
    "print divide(1, 0)\n",
    "# for example this will cause a different type of exception:\n",
    "print divide(3, '2')"
   ]
  },
  {
   "cell_type": "markdown",
   "metadata": {},
   "source": [
    "Like the TypeError. We cannot divide a number with a string. Let's fix it!"
   ]
  },
  {
   "cell_type": "code",
   "execution_count": null,
   "metadata": {
    "collapsed": false
   },
   "outputs": [],
   "source": [
    "class Divider:\n",
    "    def __call__(self, num1, num2):\n",
    "        try:\n",
    "            return num1/num2\n",
    "        except ZeroDivisionError:\n",
    "            print 'Dividing by zero is not possible!'\n",
    "            return 0\n",
    "        # we can have as many except branch as many we want!\n",
    "        except TypeError:\n",
    "            print 'Numbers can only be divided by numbers!'\n",
    "            return 0\n",
    "            \n",
    "divide = Divider()\n",
    "print divide(1, 0)\n",
    "print divide(3, '2')"
   ]
  },
  {
   "cell_type": "markdown",
   "metadata": {},
   "source": [
    "We can also merge multiple exceptions into one:"
   ]
  },
  {
   "cell_type": "code",
   "execution_count": null,
   "metadata": {
    "collapsed": false
   },
   "outputs": [],
   "source": [
    "class Divider:\n",
    "    def __call__(self, num1, num2):\n",
    "        try:\n",
    "            return num1/num2\n",
    "        except (ZeroDivisionError, TypeError):\n",
    "            print 'ERROR!'\n",
    "            return 0\n",
    "            \n",
    "divide = Divider()\n",
    "print divide(1, 0)\n",
    "print divide(3, '2')"
   ]
  },
  {
   "cell_type": "markdown",
   "metadata": {},
   "source": [
    "Other exception types:"
   ]
  },
  {
   "cell_type": "code",
   "execution_count": null,
   "metadata": {
    "collapsed": false
   },
   "outputs": [],
   "source": [
    "# we don't need classes to handle errors.\n",
    "\n",
    "# ValueError\n",
    "try:\n",
    "    print int('string')\n",
    "except ValueError:\n",
    "    print 'This string is not a number!'\n",
    "\n",
    "# NameError    \n",
    "try:\n",
    "    print spam\n",
    "except NameError:\n",
    "    print 'There is no such thing as \\'spam\\'!'\n",
    "    \n",
    "# IndexError\n",
    "try:\n",
    "    mylist = [1, 2, 3]\n",
    "    print mylist[len(mylist)]\n",
    "except IndexError:\n",
    "    print 'Index is larger then the length of the list!'\n",
    "    \n",
    "# KeyError\n",
    "try:\n",
    "    mydict = {'a': 1, 'b': 2}\n",
    "    print mydict['c']\n",
    "except KeyError:\n",
    "    print 'Key not exists!'\n",
    "    \n",
    "# IOError\n",
    "try:\n",
    "    not_existing_filename = 'a_file_that_is_not_exists.txt'\n",
    "    myfile = open(not_existing_filename, 'r')\n",
    "    myfile.readlines()\n",
    "except IOError:\n",
    "    print 'The specified file does not exist!'"
   ]
  },
  {
   "cell_type": "markdown",
   "metadata": {},
   "source": [
    "BAD PRACTICE: we can catch every exception, if we're not specifically tell the program which one we want to handle:"
   ]
  },
  {
   "cell_type": "code",
   "execution_count": null,
   "metadata": {
    "collapsed": false
   },
   "outputs": [],
   "source": [
    "class Divider:\n",
    "    def __call__(self, num1, num2):\n",
    "        try:\n",
    "            return num1/num2\n",
    "        except:\n",
    "            print 'ERROR!'\n",
    "            return 0\n",
    "            \n",
    "divide = Divider()\n",
    "print divide(1, 0)\n",
    "print divide(3, '2')"
   ]
  },
  {
   "cell_type": "markdown",
   "metadata": {},
   "source": [
    "It's really bad, because we don't know what caused the problem. But at least we can get the details:"
   ]
  },
  {
   "cell_type": "code",
   "execution_count": null,
   "metadata": {
    "collapsed": false
   },
   "outputs": [],
   "source": [
    "class Divider:\n",
    "    def __call__(self, num1, num2):\n",
    "        try:\n",
    "            return num1/num2\n",
    "        except Exception as e:\n",
    "            print 'ERROR!', type(e)\n",
    "            return 0\n",
    "            \n",
    "divide = Divider()\n",
    "print divide(1, 0)\n",
    "print divide(3, '2')"
   ]
  },
  {
   "cell_type": "markdown",
   "metadata": {},
   "source": [
    "We can even invoke Exceptions:"
   ]
  },
  {
   "cell_type": "code",
   "execution_count": null,
   "metadata": {
    "collapsed": false
   },
   "outputs": [],
   "source": [
    "class MyClass:\n",
    "    def awesome_method(self):\n",
    "        # you can invoke an Exception with the raise keyword\n",
    "        # use this Exception if you havent implemented a function/method yet\n",
    "        raise NotImplementedError(\"You've got to wait buddy!\")\n",
    "    \n",
    "    def method(self, number):\n",
    "        if number != 2:\n",
    "            # general exception\n",
    "            raise Exception('This number is not 2!')\n",
    "            \n",
    "        \n",
    "myclass = MyClass()\n",
    "try:\n",
    "    myclass.awesome_method()\n",
    "except NotImplementedError:\n",
    "    print 'This method is not yet implemented!'\n",
    "    \n",
    "try:\n",
    "    myclass.method(3)\n",
    "except Exception as e:\n",
    "    # print the \n",
    "    # - type of the Exception\n",
    "    print type(e)\n",
    "    # - arguments of the Exception\n",
    "    print e.args\n",
    "    # - arguments of the Exception as string\n",
    "    print e\n",
    "    arg = e.args\n",
    "    # - arguments of the Exception saved in a variable\n",
    "    print arg"
   ]
  },
  {
   "cell_type": "markdown",
   "metadata": {},
   "source": [
    "If we want to execute something only if no Exceptions were raised, we can use the else statement."
   ]
  },
  {
   "cell_type": "code",
   "execution_count": null,
   "metadata": {
    "collapsed": false
   },
   "outputs": [],
   "source": [
    "class Divider:\n",
    "    def __call__(self, num1, num2):\n",
    "        try:\n",
    "            result = num1 / num2\n",
    "        except ZeroDivisionError:\n",
    "            print 'Cannot divide by Zero!'\n",
    "        else:\n",
    "            print num1, '/', num2, '=' , result\n",
    "            \n",
    "divide = Divider()\n",
    "divide(2, 0)\n",
    "divide(2, 1)"
   ]
  },
  {
   "cell_type": "markdown",
   "metadata": {},
   "source": [
    "We can also add a cleanup method as well:"
   ]
  },
  {
   "cell_type": "code",
   "execution_count": null,
   "metadata": {
    "collapsed": false
   },
   "outputs": [],
   "source": [
    "class Divider:\n",
    "    def __call__(self, num1, num2):\n",
    "        try:\n",
    "            result = num1 / num2\n",
    "        except ZeroDivisionError:\n",
    "            print 'Cannot divide by Zero!'\n",
    "        else:\n",
    "            print num1, '/', num2, '=' , result\n",
    "        finally:\n",
    "            print 'finished running'\n",
    "            \n",
    "divide = Divider()\n",
    "divide(2, 0)\n",
    "divide(2, 1)"
   ]
  },
  {
   "cell_type": "markdown",
   "metadata": {},
   "source": [
    "We can define our own Exceptions!"
   ]
  },
  {
   "cell_type": "code",
   "execution_count": null,
   "metadata": {
    "collapsed": false
   },
   "outputs": [],
   "source": [
    "class MyError(Exception):\n",
    "    def __init__(self, value):\n",
    "        self.value = value\n",
    "    \n",
    "    def __str__(self):\n",
    "        # repr returns the string representation of the object.\n",
    "        return repr(self.value)\n",
    "\n",
    "try:\n",
    "    raise MyError(2*2)\n",
    "except MyError as e:\n",
    "    print 'My exception occurred, value:', e.value"
   ]
  },
  {
   "cell_type": "markdown",
   "metadata": {},
   "source": [
    "In the previous example, the default __init__() of Exception has been overridden. Instead of args, this new Exception has value attribute.   \n",
    "When creating a module that can raise several distinct errors, a common practice is to create a base class for exceptions defined by that module, and subclass that to create specific exception classes for different error conditions."
   ]
  },
  {
   "cell_type": "code",
   "execution_count": null,
   "metadata": {
    "collapsed": false
   },
   "outputs": [],
   "source": [
    "class FuliError(Exception):\n",
    "    \"\"\"Base class for our exceptions.\"\"\"\n",
    "    pass\n",
    "\n",
    "\n",
    "class NumberError(FuliError):\n",
    "    \"\"\"Exception raised when a not wanted number entered.\"\"\"\n",
    "\n",
    "    def __init__(self, number, explanation):\n",
    "        self.number = number\n",
    "        self.exp = explanation\n",
    "\n",
    "        \n",
    "class CharacterError(FuliError):\n",
    "    \"\"\"Exception raised when a not wanted character entered.\"\"\"\n",
    "\n",
    "    def __init__(self, character):\n",
    "        self.character = character\n",
    "        self.exp = \"You messed with the wrong character, buddy!\""
   ]
  },
  {
   "cell_type": "markdown",
   "metadata": {},
   "source": [
    "### Your turn:\n",
    "\n",
    "Write a \"Guess the number\" game class which handle erroneous inputs!\n",
    "\n",
    "Hints:\n",
    "\n",
    "- import random module\n",
    "- create a class with the name GuessANumber\n",
    "- init method:\n",
    "    - with a maximum value parameter (called limit) which has a default value\n",
    "    - if limit is not an int, unform user and set it to default value\n",
    "    - initialize a random number as target number\n",
    "- guess method:\n",
    "    - with a guess parameter (which will be the user's guess)\n",
    "    - method returns 'Win', 'Lower', 'Higher' words as response\n",
    "    - in case of user errors, informs the user\n"
   ]
  },
  {
   "cell_type": "code",
   "execution_count": null,
   "metadata": {
    "collapsed": false
   },
   "outputs": [],
   "source": [
    "            "
   ]
  },
  {
   "cell_type": "code",
   "execution_count": null,
   "metadata": {
    "collapsed": false
   },
   "outputs": [],
   "source": [
    "inputs = ['valami', 0.3, 5, 'a']\n",
    "for inp in inputs:\n",
    "    print 'game init...',\n",
    "    game = GuessANumber(inp)\n",
    "    print 'done. Target:', game.number\n",
    "    for guess in inputs:\n",
    "        print '- guess:', guess\n",
    "        game.guess(guess)\n",
    "    print '-'*30"
   ]
  }
 ],
 "metadata": {
  "kernelspec": {
   "display_name": "Python 2",
   "language": "python",
   "name": "python2"
  },
  "language_info": {
   "codemirror_mode": {
    "name": "ipython",
    "version": 2
   },
   "file_extension": ".py",
   "mimetype": "text/x-python",
   "name": "python",
   "nbconvert_exporter": "python",
   "pygments_lexer": "ipython2",
   "version": "2.7.10"
  }
 },
 "nbformat": 4,
 "nbformat_minor": 0
}
