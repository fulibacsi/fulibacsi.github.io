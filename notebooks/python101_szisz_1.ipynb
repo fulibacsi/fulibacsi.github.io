{
 "metadata": {
  "name": "",
  "signature": "sha256:692a851f2a05ea59a1195c584346a8be14700b9fcb618715380b234bade01116"
 },
 "nbformat": 3,
 "nbformat_minor": 0,
 "worksheets": [
  {
   "cells": [
    {
     "cell_type": "heading",
     "level": 1,
     "metadata": {},
     "source": [
      "Python 101 @ SzISz I."
     ]
    },
    {
     "cell_type": "markdown",
     "metadata": {},
     "source": [
      "---"
     ]
    },
    {
     "cell_type": "code",
     "collapsed": false,
     "input": [
      "import random\n",
      "import IPython.display as idisp\n",
      "def print_image(source, _type='img', width=None, height=None):\n",
      "    \"\"\"Display an image.\"\"\"\n",
      "    if _type == 'net':\n",
      "        idisp.display(idisp.Image(url=source, width=width, height=height))\n",
      "    elif _type == 'img':\n",
      "        idisp.display(idisp.Image(filename=source, width=width, height=height))\n",
      "    elif _type == 'svg':\n",
      "        idisp.display(idisp.SVG(source, width, height))\n",
      "\n",
      "print_image('http://westmarch.sjsoft.com/wp-content/uploads/2012/11/zen-of-python-poster-a3.png', 'net')"
     ],
     "language": "python",
     "metadata": {
      "slideshow": {
       "slide_type": "-"
      }
     },
     "outputs": []
    },
    {
     "cell_type": "markdown",
     "metadata": {},
     "source": [
      "----"
     ]
    },
    {
     "cell_type": "heading",
     "level": 2,
     "metadata": {},
     "source": [
      "Before we start"
     ]
    },
    {
     "cell_type": "heading",
     "level": 3,
     "metadata": {},
     "source": [
      "Who am I?"
     ]
    },
    {
     "cell_type": "markdown",
     "metadata": {},
     "source": [
      "* ex-PhD student (absolutorium achieved)\n",
      "* ex-teaching assistant @ Unideb\n",
      "* ex-python developer @ HigherClick\n",
      "* r&d engineer @ Lensa\n",
      "* programmer (<a href=\"github.com/fulibacsi\">github</a>)\n",
      "* geek (<a href=\"twitter.com/fulibacsi\">twitter</a>)"
     ]
    },
    {
     "cell_type": "heading",
     "level": 3,
     "metadata": {},
     "source": [
      "What are we gonna do?"
     ]
    },
    {
     "cell_type": "markdown",
     "metadata": {},
     "source": [
      "1. Have fun!\n",
      "2. Learn something useful.\n",
      "3. Create something awesome.\n",
      "4. Rule the world!"
     ]
    },
    {
     "cell_type": "heading",
     "level": 3,
     "metadata": {},
     "source": [
      "Requirements?"
     ]
    },
    {
     "cell_type": "markdown",
     "metadata": {},
     "source": [
      "* Solve the weekly challenges (at least half of them).\n",
      "* Solve one of your problem with the skills you'll get.\n",
      "* Write some docs about it.\n",
      "* Free your mind!"
     ]
    },
    {
     "cell_type": "markdown",
     "metadata": {},
     "source": [
      "---"
     ]
    },
    {
     "cell_type": "heading",
     "level": 2,
     "metadata": {},
     "source": [
      "Computer Science in 5 min:"
     ]
    },
    {
     "cell_type": "raw",
     "metadata": {},
     "source": [
      "To get everyone to the same pace."
     ]
    },
    {
     "cell_type": "code",
     "collapsed": false,
     "input": [
      "BASE = '../pics/'"
     ],
     "language": "python",
     "metadata": {},
     "outputs": []
    },
    {
     "cell_type": "code",
     "collapsed": false,
     "input": [
      "print_image(BASE + 'NAND.png', 'img', 200, 200)\n",
      "print_image(BASE + 'NAND_Gates.png', 'img', 300, 200)"
     ],
     "language": "python",
     "metadata": {},
     "outputs": []
    },
    {
     "cell_type": "code",
     "collapsed": false,
     "input": [
      "print_image(BASE + 'relays.jpg', 'img', 400, 400)"
     ],
     "language": "python",
     "metadata": {},
     "outputs": []
    },
    {
     "cell_type": "code",
     "collapsed": false,
     "input": [
      "print_image(BASE + 'vacuum_tubes.jpg', 'img', 600, 300)"
     ],
     "language": "python",
     "metadata": {},
     "outputs": []
    },
    {
     "cell_type": "code",
     "collapsed": false,
     "input": [
      "print_image(BASE + 'transistor.jpg', 'img', 200, 200)\n",
      "print_image(BASE + 'intel-p3.jpg')"
     ],
     "language": "python",
     "metadata": {},
     "outputs": []
    },
    {
     "cell_type": "code",
     "collapsed": false,
     "input": [
      "print_image(BASE + 'lowlevel.png')"
     ],
     "language": "python",
     "metadata": {},
     "outputs": []
    },
    {
     "cell_type": "heading",
     "level": 3,
     "metadata": {},
     "source": [
      "Compiled languages"
     ]
    },
    {
     "cell_type": "code",
     "collapsed": false,
     "input": [
      "print_image(BASE + 'Compiled_Code_Flow_Diagram.svg', 'svg')"
     ],
     "language": "python",
     "metadata": {},
     "outputs": []
    },
    {
     "cell_type": "markdown",
     "metadata": {},
     "source": [
      "* BASIC\n",
      "* C, C++\n",
      "* Pascal\n"
     ]
    },
    {
     "cell_type": "heading",
     "level": 3,
     "metadata": {},
     "source": [
      "Interpreted languages"
     ]
    },
    {
     "cell_type": "code",
     "collapsed": false,
     "input": [
      "print_image(BASE + 'Interpreted_Code_Flow_Diagram.svg', 'svg')"
     ],
     "language": "python",
     "metadata": {},
     "outputs": []
    },
    {
     "cell_type": "markdown",
     "metadata": {},
     "source": [
      "* Javascript\n",
      "* PHP"
     ]
    },
    {
     "cell_type": "heading",
     "level": 3,
     "metadata": {},
     "source": [
      "Python"
     ]
    },
    {
     "cell_type": "markdown",
     "metadata": {},
     "source": [
      "Something from both worlds:"
     ]
    },
    {
     "cell_type": "code",
     "collapsed": false,
     "input": [
      "print_image(BASE + 'Pre_Compiled_and_Interpreted_Code_Flow_Diagram.svg', 'svg')"
     ],
     "language": "python",
     "metadata": {},
     "outputs": []
    },
    {
     "cell_type": "code",
     "collapsed": false,
     "input": [
      "print \"The Designer: Guido van Rossum\"\n",
      "print_image('http://upload.wikimedia.org/wikipedia/commons/6/66/Guido_van_Rossum_OSCON_2006.jpg', 'net', 300, 600)"
     ],
     "language": "python",
     "metadata": {},
     "outputs": []
    },
    {
     "cell_type": "code",
     "collapsed": false,
     "input": [
      "print \"Its name came from:\"\n",
      "print_image('http://athenacinema.com/wp-content/uploads/2013/09/HolyGrail034.jpg', 'net', 600, 400)"
     ],
     "language": "python",
     "metadata": {},
     "outputs": []
    },
    {
     "cell_type": "markdown",
     "metadata": {},
     "source": [
      "---"
     ]
    },
    {
     "cell_type": "heading",
     "level": 2,
     "metadata": {},
     "source": [
      "Everyone's first lines"
     ]
    },
    {
     "cell_type": "raw",
     "metadata": {},
     "source": [
      "I don't want to ruin the moment and do it for you, so follow the instructions below:"
     ]
    },
    {
     "cell_type": "code",
     "collapsed": false,
     "input": [
      "# Before we start: \n",
      "# This line is a comment. It is useful for others to understand your code,\n",
      "# so use it often. Every text after the # character is comment.\n",
      "# type print then a text inside simple or double apostrophe (' or \")\n",
      "# then press [Ctrl] + [Enter]\n"
     ],
     "language": "python",
     "metadata": {},
     "outputs": []
    },
    {
     "cell_type": "raw",
     "metadata": {},
     "source": [
      "Let's do some math too!"
     ]
    },
    {
     "cell_type": "code",
     "collapsed": false,
     "input": [
      "1 + 1"
     ],
     "language": "python",
     "metadata": {},
     "outputs": []
    },
    {
     "cell_type": "code",
     "collapsed": false,
     "input": [
      "5 - 5"
     ],
     "language": "python",
     "metadata": {},
     "outputs": []
    },
    {
     "cell_type": "code",
     "collapsed": false,
     "input": [
      "2 * 2"
     ],
     "language": "python",
     "metadata": {},
     "outputs": []
    },
    {
     "cell_type": "code",
     "collapsed": false,
     "input": [
      "6 / 3"
     ],
     "language": "python",
     "metadata": {},
     "outputs": []
    },
    {
     "cell_type": "code",
     "collapsed": false,
     "input": [
      "5 % 2"
     ],
     "language": "python",
     "metadata": {},
     "outputs": []
    },
    {
     "cell_type": "code",
     "collapsed": false,
     "input": [
      "2 ** 10"
     ],
     "language": "python",
     "metadata": {},
     "outputs": []
    },
    {
     "cell_type": "code",
     "collapsed": false,
     "input": [
      "not True"
     ],
     "language": "python",
     "metadata": {},
     "outputs": []
    },
    {
     "cell_type": "code",
     "collapsed": false,
     "input": [
      "True and False == False"
     ],
     "language": "python",
     "metadata": {},
     "outputs": []
    },
    {
     "cell_type": "code",
     "collapsed": false,
     "input": [
      "True or False == True"
     ],
     "language": "python",
     "metadata": {},
     "outputs": []
    },
    {
     "cell_type": "code",
     "collapsed": false,
     "input": [
      "3 > 4"
     ],
     "language": "python",
     "metadata": {},
     "outputs": []
    },
    {
     "cell_type": "code",
     "collapsed": false,
     "input": [
      "4 < 5"
     ],
     "language": "python",
     "metadata": {},
     "outputs": []
    },
    {
     "cell_type": "code",
     "collapsed": false,
     "input": [
      "4 <= 6"
     ],
     "language": "python",
     "metadata": {},
     "outputs": []
    },
    {
     "cell_type": "code",
     "collapsed": false,
     "input": [
      "5 >= 3"
     ],
     "language": "python",
     "metadata": {},
     "outputs": []
    },
    {
     "cell_type": "code",
     "collapsed": false,
     "input": [
      "4 < 6 and not 2 > 4"
     ],
     "language": "python",
     "metadata": {},
     "outputs": []
    },
    {
     "cell_type": "heading",
     "level": 2,
     "metadata": {},
     "source": [
      "Variables"
     ]
    },
    {
     "cell_type": "raw",
     "metadata": {},
     "source": [
      "What if we want to store some values? We use the assignment (=) operator!"
     ]
    },
    {
     "cell_type": "code",
     "collapsed": false,
     "input": [
      "# a number\n",
      "a = 3\n",
      "print a"
     ],
     "language": "python",
     "metadata": {},
     "outputs": []
    },
    {
     "cell_type": "code",
     "collapsed": false,
     "input": [
      "# a floating point number\n",
      "a = 3.14\n",
      "print a"
     ],
     "language": "python",
     "metadata": {},
     "outputs": []
    },
    {
     "cell_type": "code",
     "collapsed": false,
     "input": [
      "# a character\n",
      "a = 'a'\n",
      "print a"
     ],
     "language": "python",
     "metadata": {},
     "outputs": []
    },
    {
     "cell_type": "code",
     "collapsed": false,
     "input": [
      "# a string\n",
      "a = 'spam'\n",
      "print a\n",
      "# or\n",
      "a = \"spam and eggs\"\n",
      "print a\n",
      "# or\n",
      "a = '''spam\n",
      "spam\n",
      "sausage'''\n",
      "print a\n",
      "# or\n",
      "a = \"\"\"spam\n",
      "spam\n",
      "eggs\n",
      "and spam\"\"\"\n",
      "print a"
     ],
     "language": "python",
     "metadata": {},
     "outputs": []
    },
    {
     "cell_type": "markdown",
     "metadata": {},
     "source": [
      "According to strings:<br>\n",
      " There are some so called escape character. They always starts with a <b><code>\\</code></b> following by an another character"
     ]
    },
    {
     "cell_type": "code",
     "collapsed": false,
     "input": [
      "# like:\n",
      "# \\n\n",
      "a = 'sp\\nam'\n",
      "print a\n",
      "# \\t\n",
      "a = 'sp\\tam'\n",
      "print a\n",
      "# \\r\n",
      "a = 'sp\\ram'\n",
      "print a\n",
      "# \\', \\\"\n",
      "a = '\\'sp' + \"am\\\"\""
     ],
     "language": "python",
     "metadata": {},
     "outputs": []
    },
    {
     "cell_type": "heading",
     "level": 4,
     "metadata": {},
     "source": [
      "Naming conventions"
     ]
    },
    {
     "cell_type": "markdown",
     "metadata": {},
     "source": [
      "* starts with a letter\n",
      "* available characters:\n",
      "    * a-z\n",
      "    * A-Z\n",
      "    * 0-9\n",
      "    * _"
     ]
    },
    {
     "cell_type": "code",
     "collapsed": false,
     "input": [
      "spam_is_a_valid_variable_name = True"
     ],
     "language": "python",
     "metadata": {},
     "outputs": []
    },
    {
     "cell_type": "code",
     "collapsed": false,
     "input": [
      "9spam_is_not = True"
     ],
     "language": "python",
     "metadata": {},
     "outputs": []
    },
    {
     "cell_type": "heading",
     "level": 2,
     "metadata": {},
     "source": [
      "Let try it out..."
     ]
    },
    {
     "cell_type": "markdown",
     "metadata": {},
     "source": [
      "And make something (almost) useful!"
     ]
    },
    {
     "cell_type": "code",
     "collapsed": false,
     "input": [
      "your_name = '' # please specify your name\n",
      "print 'Hello', your_name, '!'\n",
      "\n",
      "year_of_birth = 2000 # please specify your year of birth\n",
      "print 'You are', 2015 - year_of_birth, 'years old.'"
     ],
     "language": "python",
     "metadata": {},
     "outputs": []
    },
    {
     "cell_type": "markdown",
     "metadata": {},
     "source": [
      "Now it's your turn! Write the missing code snippets!"
     ]
    },
    {
     "cell_type": "code",
     "collapsed": false,
     "input": [
      "# print the \"your_name\" variable \"repeat\" times!\n",
      "your_name = ''\n",
      "repeat = random.randint(1, 5)\n",
      "# hint: you can multiply strings too. \n"
     ],
     "language": "python",
     "metadata": {},
     "outputs": []
    },
    {
     "cell_type": "code",
     "collapsed": false,
     "input": [
      "cost = random.randint(1000, 2000)\n",
      "tax = random.randint(20, 50) / 100.0\n",
      "profit = random.randint(0, 100) / 100.0\n",
      "# calculate the price for the profit \n",
      "price = \n",
      "print 'If I bought the product for', cost,\n",
      "print 'and I would like to achieve', profit * 100,\n",
      "print 'percent profit and the tax I have to pay after my income is', tax * 100,\n",
      "print 'percent, then I have to set the price to:', price, '.' "
     ],
     "language": "python",
     "metadata": {},
     "outputs": []
    },
    {
     "cell_type": "code",
     "collapsed": false,
     "input": [
      "# now let the geek side of the force shine!\n",
      "# a warrior has to choose from a weapon \n",
      "# a sword\n",
      "sword_damage = random.randint(5, 10)\n",
      "sword_damage_type = random.randint(1, 5)\n",
      "# or an axe\n",
      "axe_damage = random.randint(5, 10)\n",
      "axe_damage_type = random.randint(1, 5)\n",
      "# each weapon deal different type of damage\n",
      "# and the evil wizard lizard is resistant to one of them.\n",
      "evil_wizard_lizard_resist_type = random.randint(1, 5)\n",
      "evil_wizard_lizard_damage_reduction = random.randint(0, 75) / 100.0\n",
      "\n",
      "# which weapon should the warrior choose?\n",
      "sword_actual_damage = # compute sword and axe damage  \n",
      "axe_actual_damage = # hint: True is 1, False is 0\n",
      "# should the warrior choose the sword?\n",
      "answer = \n",
      "# True or False?\n",
      "print answer,\n",
      "print 'because sword does', sword_actual_damage,\n",
      "print 'damage and axe does', axe_actual_damage,\n",
      "print 'damage to the enemy.'"
     ],
     "language": "python",
     "metadata": {},
     "outputs": []
    },
    {
     "cell_type": "code",
     "collapsed": false,
     "input": [
      "# how much time I need to I get home?\n",
      "distance = random.randint(30, 230) * 1.0 # because of the division\n",
      "average_speed = random.randint(30, 90)\n",
      "# if I hit the traffic jam, my trip takes traffic_jam_penalty\n",
      "# minutes more then without it.\n",
      "traffic_jam = random.randint(0, 1)\n",
      "traffic_jam_penalty = random.randint(30, 60)\n",
      "\n",
      "trip_time =  # compute in mins\n",
      "hours = # hint: use the int(value) function to get an integer number\n",
      "minutes = \n",
      "seconds = \n",
      "\n",
      "print 'I need', trip_time, 'minutes',\n",
      "print 'or', hours, 'hours,', \n",
      "print minutes, 'minutes,',\n",
      "print seconds, 'seconds to get home',\n",
      "print 'if I live', distance, 'kms away',\n",
      "print 'and I usually drive', average_speed, 'km/hs.'\n",
      "print 'Do I have to wait', traffic_jam_penalty,\n",
      "print ' minutes because of a traffic jam?', # create an appropriate condition"
     ],
     "language": "python",
     "metadata": {},
     "outputs": []
    },
    {
     "cell_type": "code",
     "collapsed": false,
     "input": [
      "# another variant\n",
      "# from real life measurements:\n",
      "hungarian_coach_average_speed = 60\n",
      "distance_till_home = random.randint(30, 300)\n",
      "\n",
      "time_left = # in mins\n",
      "print 'I only have to survive', time_left, 'minutes, and I\\'m home!'"
     ],
     "language": "python",
     "metadata": {},
     "outputs": []
    },
    {
     "cell_type": "code",
     "collapsed": false,
     "input": [
      "# Rock-Paper-Scissors\n",
      "your_choice = 'r'# 'r', 'p' or 's'\n",
      "comp_choice = random.choice('rps')\n",
      "\n",
      "your_score = # compute a score value\n",
      "print 'Are you a winner?', # condition based on your_score "
     ],
     "language": "python",
     "metadata": {},
     "outputs": []
    },
    {
     "cell_type": "code",
     "collapsed": false,
     "input": [
      "# the good-old quadratic equation\n",
      "a = random.randint(1, 10)\n",
      "b = random.randint(1, 10)\n",
      "c = random.randint(1, 10)\n",
      "\n",
      "x_1 = \n",
      "x_2 = \n",
      "print 'The solutions to the', \n",
      "print str(a) + 'x^2+' + str(b) + 'x + ' + str(c) + '= 0',\n",
      "print 'is:', x_1, 'and', x_2"
     ],
     "language": "python",
     "metadata": {},
     "outputs": []
    }
   ],
   "metadata": {}
  }
 ]
}